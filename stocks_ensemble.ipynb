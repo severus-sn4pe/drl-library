{
 "cells": [
  {
   "cell_type": "code",
   "execution_count": null,
   "id": "506bca5d",
   "metadata": {
    "collapsed": false,
    "jupyter": {
     "outputs_hidden": false
    },
    "pycharm": {
     "name": "#%%\n"
    }
   },
   "outputs": [],
   "source": [
    "import datetime\n",
    "\n",
    "import pandas as pd\n",
    "\n",
    "from config import stocks\n",
    "from config import general as config\n",
    "from finrl.agents.stablebaselines3.drl_ensemble_agent import DRLEnsembleAgent\n",
    "from finrl.plot import backtest_stats, backtest_plot, get_baseline\n",
    "from lib.drl import load_dataset\n",
    "from lib.support import check_directory_structure\n",
    "\n",
    "check_directory_structure()"
   ]
  },
  {
   "cell_type": "code",
   "execution_count": null,
   "id": "fdcd5188",
   "metadata": {
    "collapsed": false,
    "jupyter": {
     "outputs_hidden": false
    },
    "pycharm": {
     "name": "#%%\n"
    }
   },
   "outputs": [],
   "source": [
    "FILE_PREFIX = \"stocks\"\n",
    "ROOT_DIR = '.'\n",
    "processed_full = load_dataset(f'{ROOT_DIR}/datasets/stocks/DOW30.csv', stocks.INDICATORS_LIGHT, use_turbulence=True, use_vix=False)\n",
    "\n",
    "stock_dimension = len(processed_full.tic.unique())\n",
    "tech_indicators = stocks.INDICATORS_LIGHT\n",
    "\n",
    "state_space = 1 + 2 * stock_dimension + len(tech_indicators) * stock_dimension\n",
    "print(f\"Stock Dimension: {stock_dimension}, State Space: {state_space}\")\n",
    "\n",
    "env_kwargs = {\n",
    "    \"hmax\": 100,\n",
    "    \"initial_amount\": 1000000,\n",
    "    \"buy_cost_pct\": 0.001,\n",
    "    \"sell_cost_pct\": 0.001,\n",
    "    \"state_space\": state_space,\n",
    "    \"stock_dim\": stock_dimension,\n",
    "    \"tech_indicator_list\": tech_indicators,\n",
    "    \"action_space\": stock_dimension,\n",
    "    \"reward_scaling\": 1e-4,\n",
    "    \"print_verbosity\": 5\n",
    "\n",
    "}"
   ]
  },
  {
   "cell_type": "code",
   "execution_count": null,
   "id": "673cb98f",
   "metadata": {
    "collapsed": false,
    "jupyter": {
     "outputs_hidden": false
    },
    "pycharm": {
     "name": "#%%\n"
    }
   },
   "outputs": [],
   "source": [
    "# processed_full[(processed_full.date > val_test_start) & (processed_full.date <= val_test_end)].date.unique().shape"
   ]
  },
  {
   "cell_type": "code",
   "execution_count": null,
   "id": "9a3d627b",
   "metadata": {
    "collapsed": false,
    "jupyter": {
     "outputs_hidden": false
    },
    "pycharm": {
     "name": "#%%\n"
    }
   },
   "outputs": [],
   "source": [
    "# rebalance_window is the number of days to retrain the model\n",
    "rebalance_window = 63\n",
    "\n",
    "# validation_window is the number of days to do validation and trading (e.g. if validation_window=63,\n",
    "# then both validation and trading period will be 63 days)\n",
    "validation_window = 63\n",
    "\n",
    "train_start = '2014-01-01'\n",
    "# train_start = '2018-04-01'\n",
    "# train_end = '2021-04-01'\n",
    "train_end = '2020-01-01'\n",
    "# val_test_start = '2021-04-01'\n",
    "val_test_start = '2020-01-01'\n",
    "val_test_end = '2022-06-01'"
   ]
  },
  {
   "cell_type": "code",
   "execution_count": null,
   "id": "315afcd1",
   "metadata": {
    "collapsed": false,
    "jupyter": {
     "outputs_hidden": false
    },
    "pycharm": {
     "name": "#%%\n"
    }
   },
   "outputs": [],
   "source": [
    "A2C_model_kwargs = {'n_steps': 5, 'ent_coef': 0.01, 'learning_rate': 0.0005}\n",
    "PPO_model_kwargs = {\"ent_coef\": 0.01, \"n_steps\": 2048, \"learning_rate\": 0.00025, \"batch_size\": 64}\n",
    "DDPG_model_kwargs = {\"buffer_size\": 10_000, \"learning_rate\": 0.0005, \"batch_size\": 64}\n",
    "timesteps_dict = {'A2C': 25, 'PPO': 25, 'DDPG': 25}"
   ]
  },
  {
   "cell_type": "code",
   "execution_count": null,
   "id": "d329af09",
   "metadata": {
    "collapsed": false,
    "jupyter": {
     "outputs_hidden": false
    },
    "pycharm": {
     "name": "#%%\n"
    }
   },
   "outputs": [],
   "source": []
  },
  {
   "cell_type": "code",
   "execution_count": null,
   "id": "b3dd0132",
   "metadata": {
    "collapsed": false,
    "jupyter": {
     "outputs_hidden": false
    },
    "pycharm": {
     "name": "#%%\n"
    }
   },
   "outputs": [],
   "source": [
    "ensemble_agent = DRLEnsembleAgent(df=processed_full,\n",
    "                                  train_period=(train_start, train_end),\n",
    "                                  val_test_period=(val_test_start, val_test_end),\n",
    "                                  rebalance_window=rebalance_window,\n",
    "                                  validation_window=validation_window,\n",
    "                                  root_dir=ROOT_DIR,\n",
    "                                  trained_model_dir=config.TRAINED_MODEL_DIR,\n",
    "                                  results_dir=config.RESULTS_DIR,\n",
    "                                  tensorboard_log_dir=config.TENSORBOARD_LOG_DIR,\n",
    "                                  **env_kwargs)"
   ]
  },
  {
   "cell_type": "code",
   "execution_count": null,
   "id": "6675f920-3c73-4773-b06c-51423526e567",
   "metadata": {
    "pycharm": {
     "name": "#%%\n"
    },
    "tags": []
   },
   "outputs": [],
   "source": [
    "df_summary = ensemble_agent.run_ensemble_strategy(A2C_model_kwargs, PPO_model_kwargs, DDPG_model_kwargs, timesteps_dict)"
   ]
  },
  {
   "cell_type": "code",
   "execution_count": null,
   "id": "d48a608f-e685-4bff-8f16-499aec34a2f4",
   "metadata": {
    "pycharm": {
     "name": "#%%\n"
    }
   },
   "outputs": [],
   "source": [
    "df_summary"
   ]
  },
  {
   "cell_type": "code",
   "execution_count": null,
   "id": "b31d0748-3196-4988-8c17-e2014397c3b3",
   "metadata": {
    "pycharm": {
     "name": "#%%\n"
    }
   },
   "outputs": [],
   "source": [
    "# Part 7 - backtest strategy\n",
    "\n",
    "unique_trade_date = processed_full[\n",
    "    (processed_full.date > val_test_start) & (processed_full.date <= val_test_end)].date.unique()\n",
    "\n",
    "df_trade_date = pd.DataFrame({'datadate': unique_trade_date})\n",
    "\n",
    "df_account_value = pd.DataFrame()\n",
    "for i in range(rebalance_window + validation_window, len(unique_trade_date) + 1, rebalance_window):\n",
    "    temp = pd.read_csv('results/account_value_trade_{}_{}.csv'.format('ensemble', i))\n",
    "    df_account_value = df_account_value.append(temp, ignore_index=True)\n",
    "sharpe = (252 ** 0.5) * df_account_value.account_value.pct_change(1).mean() / df_account_value.account_value.pct_change(1).std()\n",
    "print('Sharpe Ratio: ', sharpe)\n",
    "df_account_value = df_account_value.join(df_trade_date[validation_window:].reset_index(drop=True))"
   ]
  },
  {
   "cell_type": "code",
   "execution_count": null,
   "id": "59dd5cf5-b155-4dcc-b2cc-e71f39e3a2b1",
   "metadata": {
    "pycharm": {
     "name": "#%%\n"
    }
   },
   "outputs": [],
   "source": [
    "df_account_value.head()"
   ]
  },
  {
   "cell_type": "code",
   "execution_count": null,
   "id": "a7017d1f-d6c8-43d4-bb82-a73fba69925e",
   "metadata": {
    "pycharm": {
     "name": "#%%\n"
    }
   },
   "outputs": [],
   "source": [
    "%matplotlib inline\n",
    "df_account_value.account_value.plot()"
   ]
  },
  {
   "cell_type": "code",
   "execution_count": null,
   "id": "4961875c-5c14-443a-8f38-e39e45025b37",
   "metadata": {
    "pycharm": {
     "name": "#%%\n"
    }
   },
   "outputs": [],
   "source": [
    "print(\"==============Get Backtest Results===========\")\n",
    "now = datetime.datetime.now().strftime('%Y%m%d-%Hh%M')\n",
    "\n",
    "perf_stats_all = backtest_stats(account_value=df_account_value)\n",
    "perf_stats_all = pd.DataFrame(perf_stats_all)"
   ]
  },
  {
   "cell_type": "code",
   "execution_count": null,
   "id": "a3f7ef2b-c92f-4086-9cfb-120536857445",
   "metadata": {
    "pycharm": {
     "name": "#%%\n"
    }
   },
   "outputs": [],
   "source": [
    "# baseline stats\n",
    "print(\"==============Get Baseline Stats===========\")\n",
    "baseline_df = get_baseline(\n",
    "    ticker=\"^DJI\",\n",
    "    start=df_account_value.loc[0, 'date'],\n",
    "    end=df_account_value.loc[len(df_account_value) - 1, 'date'])\n",
    "\n",
    "stats = backtest_stats(baseline_df, value_col_name='close')"
   ]
  },
  {
   "cell_type": "code",
   "execution_count": null,
   "id": "6429333c-91e2-4db7-ae3f-8b71f6a01004",
   "metadata": {
    "pycharm": {
     "name": "#%%\n"
    }
   },
   "outputs": [],
   "source": [
    "print(\"==============Compare to DJIA===========\")\n",
    "# %matplotlib inline\n",
    "# S&P 500: ^GSPC\n",
    "# Dow Jones Index: ^DJI\n",
    "# NASDAQ 100: ^NDX\n",
    "backtest_plot(df_account_value,\n",
    "              baseline_ticker='^DJI',\n",
    "              baseline_start=df_account_value.loc[0, 'date'],\n",
    "              baseline_end=df_account_value.loc[len(df_account_value) - 1, 'date'])"
   ]
  },
  {
   "cell_type": "code",
   "execution_count": null,
   "id": "8e8321be-fcef-48b1-8c61-3af435f33be9",
   "metadata": {
    "pycharm": {
     "name": "#%%\n"
    }
   },
   "outputs": [],
   "source": [
    "print(\"done\")"
   ]
  }
 ],
 "metadata": {
  "kernelspec": {
   "display_name": "Python 3 (ipykernel)",
   "language": "python",
   "name": "python3"
  },
  "language_info": {
   "codemirror_mode": {
    "name": "ipython",
    "version": 3
   },
   "file_extension": ".py",
   "mimetype": "text/x-python",
   "name": "python",
   "nbconvert_exporter": "python",
   "pygments_lexer": "ipython3",
   "version": "3.7.13"
  }
 },
 "nbformat": 4,
 "nbformat_minor": 5
}