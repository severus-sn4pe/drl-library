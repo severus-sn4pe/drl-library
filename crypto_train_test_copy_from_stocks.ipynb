{
 "cells": [
  {
   "cell_type": "markdown",
   "metadata": {},
   "source": [
    "# Multi Crypto Strategy with multiple algorithms\n"
   ]
  },
  {
   "cell_type": "code",
   "execution_count": null,
   "metadata": {
    "collapsed": false,
    "jupyter": {
     "outputs_hidden": false
    },
    "pycharm": {
     "name": "#%%\n"
    }
   },
   "outputs": [],
   "source": [
    "from config import crypto\n",
    "from config import general as config\n",
    "from finrl.meta.env_stock_trading.env_stocktrading import StockTradingEnv\n",
    "from lib.drl import load_dataset, data_split\n",
    "from lib.stocks_strategy import StocksStrategy\n",
    "from lib.support import check_directory_structure, get_time, get_duration, log_duration\n",
    "import pandas as pd\n",
    "import time\n",
    "\n",
    "ROOT_DIR = '.'\n",
    "check_directory_structure(ROOT_DIR)\n",
    "\n",
    "FILE_PREFIX = \"crypto10\""
   ]
  },
  {
   "cell_type": "code",
   "execution_count": null,
   "metadata": {},
   "outputs": [],
   "source": [
    "# df = load_dataset(f'{ROOT_DIR}/datasets/crypto/crypto10_5min.csv', crypto.INDICATORS, use_turbulence=True, use_vix=False, time_interval='5min')\n",
    "# df.to_csv(f'{ROOT_DIR}/datasets/crypto/crypto10_5min_parsed.csv')"
   ]
  },
  {
   "cell_type": "code",
   "execution_count": null,
   "metadata": {},
   "outputs": [],
   "source": [
    "df = pd.read_csv(f\"{config.DATA_SAVE_DIR}/crypto/{FILE_PREFIX}_1h_parsed.csv\", index_col=0)\n",
    "train_df = data_split(df, crypto.TRAIN_START_DATE, crypto.TRAIN_END_DATE)\n",
    "test_df = data_split(df, crypto.TEST_START_DATE, crypto.TEST_END_DATE)\n",
    "print(f\"train {train_df.shape} start: {crypto.TRAIN_START_DATE} end: {crypto.TRAIN_END_DATE}\")\n",
    "print(f\"test  {test_df.shape} start: {crypto.TEST_START_DATE} end: {crypto.TEST_END_DATE}\")"
   ]
  },
  {
   "cell_type": "code",
   "execution_count": null,
   "metadata": {
    "collapsed": false,
    "jupyter": {
     "outputs_hidden": false
    },
    "pycharm": {
     "name": "#%%\n"
    }
   },
   "outputs": [],
   "source": [
    "stock_dimension = len(train_df.tic.unique())\n",
    "state_space = 1 + 2 * stock_dimension + len(crypto.INDICATORS) * stock_dimension\n",
    "print(f\"Stock Dimension: {stock_dimension}, State Space: {state_space}\")\n",
    "\n",
    "buy_cost_list = sell_cost_list = [0.001] * stock_dimension\n",
    "num_stock_shares = [0] * stock_dimension"
   ]
  },
  {
   "cell_type": "markdown",
   "metadata": {
    "pycharm": {
     "name": "#%% md\n"
    }
   },
   "source": [
    "## Train and Testing a single algorithm"
   ]
  },
  {
   "cell_type": "code",
   "execution_count": null,
   "metadata": {
    "collapsed": false,
    "jupyter": {
     "outputs_hidden": false
    },
    "pycharm": {
     "name": "#%%\n"
    }
   },
   "outputs": [],
   "source": [
    "def get_train_env():\n",
    "    env_kwargs = {\n",
    "      \"hmax\": 100,\n",
    "      \"initial_amount\": 1000000,\n",
    "      \"num_stock_shares\": num_stock_shares,\n",
    "      \"buy_cost_pct\": buy_cost_list,\n",
    "      \"sell_cost_pct\": sell_cost_list,\n",
    "      \"state_space\": state_space,\n",
    "      \"stock_dim\": stock_dimension,\n",
    "      \"tech_indicator_list\": crypto.INDICATORS,\n",
    "      \"action_space\": stock_dimension,\n",
    "      \"reward_scaling\": 1e-4\n",
    "    }\n",
    "    e_train_gym = StockTradingEnv(df=train_df, **env_kwargs)\n",
    "    env_train, _ = e_train_gym.get_sb_env()\n",
    "    return env_train"
   ]
  },
  {
   "cell_type": "code",
   "execution_count": null,
   "metadata": {},
   "outputs": [],
   "source": [
    "stockStrategy = StocksStrategy(model_name=\"SAC\", root_dir=ROOT_DIR, results_dir=config.RESULTS_DIR, trained_model_dir=config.TRAINED_MODEL_DIR, prefix='crypto10')"
   ]
  },
  {
   "cell_type": "code",
   "execution_count": null,
   "metadata": {
    "collapsed": false,
    "jupyter": {
     "outputs_hidden": false
    },
    "pycharm": {
     "name": "#%%\n"
    }
   },
   "outputs": [],
   "source": [
    "# # TRAIN\n",
    "start = time.time()\n",
    "total_timesteps = 50000\n",
    "stockStrategy.train(get_train_env(), total_timesteps, use_existing=False)\n",
    "log_duration(start)"
   ]
  },
  {
   "cell_type": "code",
   "execution_count": null,
   "metadata": {},
   "outputs": [],
   "source": [
    "# # test\n",
    "start = time.time()\n",
    "e_trade_gym = StockTradingEnv(df=test_df, turbulence_threshold=70, **env_kwargs)\n",
    "stockStrategy.test(e_trade_gym)\n",
    "log_duration(start)"
   ]
  },
  {
   "cell_type": "markdown",
   "metadata": {},
   "source": [
    "## Training and Testing multiple algorithms at once"
   ]
  },
  {
   "cell_type": "code",
   "execution_count": null,
   "metadata": {},
   "outputs": [],
   "source": [
    "model_list = [ \"DDPG\", \"A2C\", \"PPO\", \"TD3\"] #\"SAC\","
   ]
  },
  {
   "cell_type": "code",
   "execution_count": null,
   "metadata": {},
   "outputs": [],
   "source": [
    "main_start = time.time()\n",
    "for model_name in model_list:\n",
    "    start = time.time()\n",
    "    stockStrategy = StocksStrategy(model_name, root_dir=ROOT_DIR, results_dir=config.RESULTS_DIR, trained_model_dir=config.TRAINED_MODEL_DIR, prefix='crypto10')\n",
    "    print(model_name)\n",
    "    total_timesteps = 50000 # 500\n",
    "    stockStrategy.train(env_train, total_timesteps, use_existing=True)\n",
    "    log_duration(start)\n",
    "log_duration(main_start)"
   ]
  },
  {
   "cell_type": "code",
   "execution_count": null,
   "metadata": {},
   "outputs": [],
   "source": [
    "main_start = time.time()\n",
    "for model_name in model_list:\n",
    "    start = time.time()\n",
    "    e_trade_gym = StockTradingEnv(df=trade_df, turbulence_threshold=70, risk_indicator_col='vix', **env_kwargs)\n",
    "    stockStrategy = StocksStrategy(model_name, root_dir=ROOT_DIR, results_dir=config.RESULTS_DIR, trained_model_dir=config.TRAINED_MODEL_DIR)\n",
    "    stockStrategy.test(e_trade_gym)\n",
    "    log_duration(start)\n",
    "log_duration(main_start)"
   ]
  }
 ],
 "metadata": {
  "kernelspec": {
   "display_name": "Python 3 (ipykernel)",
   "language": "python",
   "name": "python3"
  },
  "language_info": {
   "codemirror_mode": {
    "name": "ipython",
    "version": 3
   },
   "file_extension": ".py",
   "mimetype": "text/x-python",
   "name": "python",
   "nbconvert_exporter": "python",
   "pygments_lexer": "ipython3",
   "version": "3.8.15"
  }
 },
 "nbformat": 4,
 "nbformat_minor": 4
}
