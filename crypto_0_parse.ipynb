{
 "cells": [
  {
   "cell_type": "markdown",
   "metadata": {
    "pycharm": {
     "name": "#%% md\n"
    }
   },
   "source": [
    "# Multi Crypto Strategy with multiple algorithms\n"
   ]
  },
  {
   "cell_type": "code",
   "execution_count": null,
   "metadata": {
    "collapsed": false,
    "jupyter": {
     "outputs_hidden": false
    },
    "pycharm": {
     "name": "#%%\n"
    }
   },
   "outputs": [],
   "source": [
    "from config import crypto\n",
    "from config import general as config\n",
    "from finrl.meta.env_stock_trading.env_stocktrading import StockTradingEnv\n",
    "from lib.drl import load_dataset, data_split\n",
    "from lib.stocks_strategy import StocksStrategy\n",
    "from lib.support import check_directory_structure\n",
    "import pandas as pd\n",
    "from datetime import datetime\n",
    "import time\n",
    "\n",
    "ROOT_DIR = '.'\n",
    "check_directory_structure(ROOT_DIR)\n",
    "\n",
    "FILE_PREFIX = \"crypto\""
   ]
  },
  {
   "cell_type": "code",
   "execution_count": null,
   "metadata": {
    "pycharm": {
     "name": "#%%\n"
    }
   },
   "outputs": [],
   "source": [
    "print(f\"Started at {str(datetime.now())}\")\n",
    "start_time = time.time()\n",
    "\n",
    "res = '5min'\n",
    "df = load_dataset(f'{ROOT_DIR}/datasets/thesis/{res}/all_{res}.csv', crypto.INDICATORS, use_turbulence=True, use_vix=False, time_interval=res)\n",
    "\n",
    "end_time = time.time()\n",
    "print(f\"done in {(end_time-start_time):.2f}s at {str(datetime.now())}\")"
   ]
  },
  {
   "cell_type": "code",
   "execution_count": null,
   "metadata": {},
   "outputs": [],
   "source": []
  },
  {
   "cell_type": "code",
   "execution_count": null,
   "metadata": {
    "pycharm": {
     "name": "#%%\n"
    }
   },
   "outputs": [],
   "source": [
    "df.to_csv(f'{ROOT_DIR}/datasets/thesis/crypto_{res}_parsed.csv')"
   ]
  }
 ],
 "metadata": {
  "kernelspec": {
   "display_name": "Python 3 (ipykernel)",
   "language": "python",
   "name": "python3"
  },
  "language_info": {
   "codemirror_mode": {
    "name": "ipython",
    "version": 3
   },
   "file_extension": ".py",
   "mimetype": "text/x-python",
   "name": "python",
   "nbconvert_exporter": "python",
   "pygments_lexer": "ipython3",
   "version": "3.7.13"
  }
 },
 "nbformat": 4,
 "nbformat_minor": 4
}
