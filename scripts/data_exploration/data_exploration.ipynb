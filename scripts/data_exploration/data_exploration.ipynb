{
 "cells": [
  {
   "cell_type": "code",
   "execution_count": null,
   "id": "0810aac5-85a6-43b5-a643-5cd263cf1001",
   "metadata": {
    "pycharm": {
     "name": "#%%\n"
    }
   },
   "outputs": [],
   "source": [
    "import pandas as pd\n",
    "import time\n",
    "import numpy as np\n",
    "from helper import *\n",
    "import plotly.graph_objects as go\n",
    "from plotly.subplots import make_subplots\n",
    "from datetime import timedelta, date, datetime"
   ]
  },
  {
   "cell_type": "code",
   "execution_count": null,
   "id": "0ceafc47-cef1-43cc-8115-a38fa2315963",
   "metadata": {
    "pycharm": {
     "name": "#%%\n"
    }
   },
   "outputs": [],
   "source": [
    "def get_market(df, tic):\n",
    "    df_res = df[df['tic'] == tic].copy()\n",
    "    df_res['ratio'] = convert_prices(df_res[[\"close\"]])\n",
    "    df_res['diff'] = df_res['close'] - df_res['open']\n",
    "    df_res.loc[df_res['diff']>=0, 'color'] = 'green'\n",
    "    df_res.loc[df_res['diff']<0, 'color'] = 'red'\n",
    "    return df_res\n",
    "    \n",
    "def plot_line(df, title, split_dates=[]):\n",
    "    fig = make_subplots(specs=[[{\"secondary_y\": True}]])\n",
    "    fig.add_trace(go.Scatter(x=df['date'],y=df['open'],name='Price'),secondary_y=False)\n",
    "    for i, split in enumerate(split_dates):\n",
    "        color = 'black' if i == 0 else 'red' if i == 1 else 'blue'\n",
    "        fig.add_vline(x=split, line_width=2, line_color=color, opacity=0.5)\n",
    "    # fig.add_trace(go.Scatter(x=df['date'],y=df['ratio'],name='Ratio'),secondary_y=True)\n",
    "    fig.add_trace(go.Bar(x=df['date'],y=df['volume'],opacity=0.5, name='volume'),secondary_y=True)\n",
    "    # fig.update_yaxes(visible=False, secondary_y=True)\n",
    "    fig.update_layout(title_text=title, height=600)\n",
    "    fig.show()\n",
    "    fig.write_html(f\"plots/{title.replace(' ','_')}.html\")\n",
    "    # fig.savefig(f\"data_exploration/{title.replace(' ', '_')}.png\")\n",
    "\n",
    "def plot_candle(df, title):\n",
    "    fig3 = make_subplots(specs=[[{\"secondary_y\": True}]])\n",
    "    fig3.add_trace(go.Candlestick(x=df['date'], open=df['open'], high=df['high'], low=df['low'], close=df['close'], name='price'))\n",
    "    fig3.add_trace(go.Scatter(x=df['date'],y=df['close'].rolling(window=20).mean(),marker_color='blue',name='20 Day MA'))\n",
    "    fig3.add_trace(go.Bar(x=df['date'], y=df['volume'], name='Volume', opacity=0.5, marker={'color':df['color']}),secondary_y=True)\n",
    "    # fig3.update_yaxes(range=[0,25000000000],secondary_y=True)\n",
    "    fig3.update_layout(xaxis_rangeslider_visible=False, title_text=title, height=600)\n",
    "    fig3.show()\n",
    "# fig.update_layout(height=600, width=800, )\n",
    "\n"
   ]
  },
  {
   "cell_type": "code",
   "execution_count": null,
   "id": "68379be6-2708-48a0-9486-ccb1dcfcede6",
   "metadata": {
    "pycharm": {
     "name": "#%%\n"
    }
   },
   "outputs": [],
   "source": [
    "df = get_data('1d')"
   ]
  },
  {
   "cell_type": "code",
   "execution_count": null,
   "id": "d7fdcde9-031c-479a-a359-67f35ab55849",
   "metadata": {
    "pycharm": {
     "name": "#%%\n"
    }
   },
   "outputs": [],
   "source": [
    "start_train = datetime.strptime(\"11.05.2021\", \"%d.%m.%Y\") \n",
    "end_train = start_train + timedelta(days=378, hours=23, minutes=59, seconds=59)\n",
    "split_dates = []\n",
    "for i in range(7):\n",
    "    split_dates.append(end_train)\n",
    "    end_train += timedelta(days=28)"
   ]
  },
  {
   "cell_type": "code",
   "execution_count": null,
   "id": "83c81b24-387f-4b59-9850-8d2d609d64b3",
   "metadata": {
    "pycharm": {
     "name": "#%%\n"
    },
    "tags": []
   },
   "outputs": [],
   "source": [
    "# ticker = 'BTCUSDT'\n",
    "# btc = get_market(df, ticker)\n",
    "# plot_line(btc, ticker, split_dates)"
   ]
  },
  {
   "cell_type": "code",
   "execution_count": null,
   "id": "ea846744-2b53-471b-823f-088a26ee7a75",
   "metadata": {
    "pycharm": {
     "name": "#%%\n"
    }
   },
   "outputs": [],
   "source": [
    "split_dates"
   ]
  },
  {
   "cell_type": "code",
   "execution_count": null,
   "id": "b63da37b-2acc-4a35-bc64-0827c9fd4087",
   "metadata": {
    "pycharm": {
     "name": "#%%\n"
    }
   },
   "outputs": [],
   "source": []
  },
  {
   "cell_type": "code",
   "execution_count": null,
   "id": "ff1a869a-2fc7-489b-8263-8a4d40f445a0",
   "metadata": {
    "pycharm": {
     "is_executing": true,
     "name": "#%%\n"
    }
   },
   "outputs": [],
   "source": [
    "for ticker in get_ticker_name_list(df):\n",
    "    market_data = get_market(df, ticker)\n",
    "    plot_line(market_data, f\"{ticker} 7d\", split_dates)"
   ]
  },
  {
   "cell_type": "code",
   "execution_count": null,
   "id": "c71760ae-4335-44d7-9639-c74f08469e3b",
   "metadata": {
    "pycharm": {
     "name": "#%%\n"
    }
   },
   "outputs": [],
   "source": [
    "len(split_dates)"
   ]
  },
  {
   "cell_type": "code",
   "execution_count": null,
   "id": "f4452822-3b90-45a2-a970-2a3c2cb5c092",
   "metadata": {
    "pycharm": {
     "name": "#%%\n"
    }
   },
   "outputs": [],
   "source": [
    "# df1 = df[df['tic']=='BTCUSDT']\n",
    "# df2 = df[df['tic']=='DOGEUSDT']"
   ]
  },
  {
   "cell_type": "code",
   "execution_count": null,
   "id": "8e3f0a52-8e7d-43ff-ac25-9d93d5da96d0",
   "metadata": {
    "pycharm": {
     "name": "#%%\n"
    }
   },
   "outputs": [],
   "source": [
    "colors = [\"#FF0000\", \"#18E3FF\", \"#FFA90C\", \"#D9E501\", \"#0A2DC2\", \"#05A41B\", \"#878787\", \"#935948\", \"#b372fa\", \"#FC12DD\"]\n",
    "\n",
    "def plot_performance(df, split_dates=[], title='Complete'):\n",
    "    ratios = convert_prices(get_close_list(df))\n",
    "    ratios = ratios.cumprod()\n",
    "    datex = ratios.index\n",
    "\n",
    "    fig = make_subplots(specs=[[{\"secondary_y\": True}]])\n",
    "    for idx, ticker in enumerate(ratios.columns):\n",
    "        fig.add_trace(go.Scatter(x=datex,y=ratios[ticker],name=ticker, marker_color=colors[idx]),secondary_y=False)\n",
    "\n",
    "    for i, split in enumerate(split_dates):\n",
    "        if len(split_dates) > 10:\n",
    "            color = 'black' if  i == 0 else 'red' if i == 1 else 'blue'\n",
    "        else:\n",
    "            color = 'black'\n",
    "        fig.add_vline(x=split, line_width=1, line_color=color, opacity=1)\n",
    "        \n",
    "    fig.update_layout(height=600) # title_text=f'{title} Dataset', \n",
    "    fig.update_yaxes(type=\"log\")\n",
    "    fig.show()\n",
    "    fig.write_html(f\"plots_performance/{title.replace(' ','_')}.html\")\n",
    "    fig.write_image(f\"plots_performance/{title.replace(' ','_')}.png\", width=1200)"
   ]
  },
  {
   "cell_type": "code",
   "execution_count": null,
   "id": "01d1248b-d638-41ad-8ea5-d0e8136a968a",
   "metadata": {},
   "outputs": [],
   "source": [
    "train_set = df[(df['date'] <= split_dates[0])]"
   ]
  },
  {
   "cell_type": "code",
   "execution_count": null,
   "id": "0eeba618-dbe5-495d-9e70-647ec8db9242",
   "metadata": {},
   "outputs": [],
   "source": [
    "closetrain = get_close_list(train_set)\n",
    "ctrain = convert_prices(closetrain).cumprod()\n",
    "closeall = get_close_list(df)\n",
    "call = convert_prices(closeall).cumprod()\n",
    "closetest = get_close_list(df_test)\n",
    "ctest = convert_prices(closetest).cumprod()"
   ]
  },
  {
   "cell_type": "code",
   "execution_count": null,
   "id": "24c83be6-24a4-4779-b97d-b24579b43d8f",
   "metadata": {},
   "outputs": [],
   "source": [
    "print(\"train\")\n",
    "closetrain.describe()"
   ]
  },
  {
   "cell_type": "code",
   "execution_count": null,
   "id": "8ed43026-dd30-4933-9bfb-21ed114d36fd",
   "metadata": {},
   "outputs": [],
   "source": [
    "closetrain"
   ]
  },
  {
   "cell_type": "code",
   "execution_count": null,
   "id": "7c86c53b-3cde-49f2-8509-a57ed3dcd545",
   "metadata": {},
   "outputs": [],
   "source": [
    "train_set[train_set['tic'] == \"AXSUSDT\"]"
   ]
  },
  {
   "cell_type": "code",
   "execution_count": null,
   "id": "19d96a05-42f6-4193-8bc1-f920f767290d",
   "metadata": {},
   "outputs": [],
   "source": [
    "len(split_dates)"
   ]
  },
  {
   "cell_type": "code",
   "execution_count": null,
   "id": "2649257f-9382-4ca0-a530-159bb33ddf6d",
   "metadata": {
    "pycharm": {
     "is_executing": true,
     "name": "#%%\n"
    }
   },
   "outputs": [],
   "source": [
    "plot_performance(df, split_dates)"
   ]
  },
  {
   "cell_type": "code",
   "execution_count": null,
   "id": "463617eb-31fe-4ca0-acbd-e202d866ac6f",
   "metadata": {
    "pycharm": {
     "is_executing": true,
     "name": "#%%\n"
    }
   },
   "outputs": [],
   "source": [
    "df_test = df[df['date'] >= str(split_dates[0])].copy()\n",
    "plot_performance(df_test, split_dates[1:], 'Trading (Test)')"
   ]
  }
 ],
 "metadata": {
  "kernelspec": {
   "display_name": "Python 3 (ipykernel)",
   "language": "python",
   "name": "python3"
  },
  "language_info": {
   "codemirror_mode": {
    "name": "ipython",
    "version": 3
   },
   "file_extension": ".py",
   "mimetype": "text/x-python",
   "name": "python",
   "nbconvert_exporter": "python",
   "pygments_lexer": "ipython3",
   "version": "3.8.15"
  }
 },
 "nbformat": 4,
 "nbformat_minor": 5
}
