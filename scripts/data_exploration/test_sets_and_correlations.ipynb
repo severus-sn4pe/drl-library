{
 "cells": [
  {
   "cell_type": "code",
   "execution_count": null,
   "id": "c76eb7bb-6483-40a2-919d-2824c917ce61",
   "metadata": {
    "pycharm": {
     "name": "#%%\n"
    }
   },
   "outputs": [],
   "source": [
    "import pandas as pd\n",
    "import numpy as np\n",
    "import time\n",
    "from helper import *\n",
    "from datetime import timedelta, date, datetime\n",
    "\n",
    "import warnings\n",
    "warnings.simplefilter(action='ignore', category=FutureWarning)\n",
    "\n",
    "import plotly.graph_objects as go\n",
    "from plotly.subplots import make_subplots\n",
    "\n",
    "import seaborn as sns\n",
    "import datetime as dt\n",
    "import matplotlib.pyplot as plt\n",
    "\n",
    "colors = [\"#FF0000\", \"#18E3FF\", \"#FFA90C\", \"#D9E501\", \"#0A2DC2\", \"#05A41B\", \"#878787\", \"#935948\", \"#b372fa\", \"#FC12DD\"]\n",
    "bench_colors = [\"#000000\", \"#18E3FF\", \"#FFA90C\", \"#05A41B\"]\n",
    "\n",
    "sns.set_context(\"notebook\")\n",
    "plt.rcParams[\"figure.figsize\"] = (16, 8)"
   ]
  },
  {
   "cell_type": "code",
   "execution_count": null,
   "id": "f7dca9d4-4e63-4e3e-9235-2d936a3fed9e",
   "metadata": {
    "pycharm": {
     "name": "#%%\n"
    }
   },
   "outputs": [],
   "source": [
    "df = get_data('1d')\n",
    "df_close = get_close_list(df)\n",
    "df_ratio = convert_prices(df_close)"
   ]
  },
  {
   "cell_type": "markdown",
   "id": "88f0ee0f-3701-493b-bc21-46d9b2129626",
   "metadata": {
    "pycharm": {
     "name": "#%% md\n"
    }
   },
   "source": [
    "## Split Dataset into Train and Test Periods\n",
    "\n",
    "Training Dataset consists of `379 days (9096 hours)`. \n",
    "\n",
    "Validation and Test Datasets consists of `28 day (672 hours)` period. \n",
    "First Trading Period is the **Validation Period** used for parameter tuning. Next 6 months is split into 6 additional 4-week trading periods.\n",
    "Training window is held of constant size but moved by 28 days for each consecutive trading window.\n"
   ]
  },
  {
   "cell_type": "code",
   "execution_count": null,
   "id": "f442014f-036b-4408-9283-4661655948e9",
   "metadata": {
    "pycharm": {
     "name": "#%%\n"
    }
   },
   "outputs": [],
   "source": [
    "start_train = datetime.strptime(\"11.05.2021\", \"%d.%m.%Y\") \n",
    "start_date = datetime.strptime(\"25.05.2022\", \"%d.%m.%Y\")\n",
    "iterations = []\n",
    "for i in range(7):\n",
    "    end_date = start_date + timedelta(days=27, hours=23, minutes=59, seconds=59)\n",
    "    end_train = start_train + timedelta(days=378, hours=23, minutes=59, seconds=59)\n",
    "    iterations.append({'train_start': start_train, 'train_end': end_train, 'test_start': start_date, 'test_end': end_date})\n",
    "    # print(f\"{i:02} | train: {start_train} - {end_train}  | trade: start: {start_date} end: {end_date}\")\n",
    "    start_date = start_date + timedelta(days=28)\n",
    "    start_train = start_train + timedelta(days=28)\n",
    "iterations = pd.DataFrame(iterations)\n",
    "iterations.iloc[6]['test_end'] = '2022-12-01 23:59:59'\n",
    "iterations"
   ]
  },
  {
   "cell_type": "code",
   "execution_count": null,
   "id": "70849da1-85e3-48f4-b369-ba118a9f1579",
   "metadata": {},
   "outputs": [],
   "source": [
    "iterations.to_csv('dataset_split.csv')"
   ]
  },
  {
   "cell_type": "markdown",
   "id": "d39f6909-3165-4e0a-979f-26fb3c3c7f96",
   "metadata": {
    "pycharm": {
     "name": "#%% md\n"
    }
   },
   "source": [
    "## Crypto Dataset for Thesis\n",
    "\n",
    "```\n",
    "Start          : 2021-05-11\n",
    "End            : 2022-12-01\n",
    "Total          : 570 days (13680 hours)\n",
    "\n",
    "Train Set      : 9096 hours (379 days)\n",
    "Start          : 2021-05-11\n",
    "End            : 2022-05-24\n",
    "\n",
    "Validation set : 672 hours (28 days)\n",
    "Start          : 2022-05-25\n",
    "End            : 2022-06-21\n",
    "\n",
    "Trading set:\n",
    "Start          : 2022-06-22\n",
    "End            : 2022-12-01 (163 days - 5x28 + 1x23)\n",
    "\n",
    "ratio total data\n",
    "train            : 0.665\n",
    "test + val total : 0.335\n",
    "\n",
    "```"
   ]
  },
  {
   "cell_type": "markdown",
   "id": "bc95a186-84de-46f7-b461-84d9711b6b85",
   "metadata": {
    "pycharm": {
     "name": "#%% md\n"
    }
   },
   "source": [
    "## Original Dataset from Paper\n",
    "\n",
    "```\n",
    "Train Start: 2009-01-01\n",
    "Train End  : 2015-09-30\n",
    "Days       : 1692 trading days (2463 total)\n",
    "\n",
    "Validation Start: 2015-10-01\n",
    "Validation End  : 2015-12-31\n",
    "Days (US)       : 61 trading days (91 total)\n",
    "\n",
    "Trading windows: 2016-01-01\n",
    "End            : 2020-03-30 (roughly)\n",
    "days           : 1071           \n",
    "\n",
    "17 trading windows, each 63 days \n",
    "\n",
    "total days for training: 1753\n",
    "days training + 1 trading: 1816\n",
    "ratio trading vs train : 0.03469\n",
    "```"
   ]
  },
  {
   "cell_type": "code",
   "execution_count": null,
   "id": "1f8bc2a0-256e-4514-8f76-a3e67bdd29b4",
   "metadata": {
    "pycharm": {
     "name": "#%%\n"
    }
   },
   "outputs": [],
   "source": [
    "def plot_performance(df, title='Period 1', log_scale=False):\n",
    "    ratios = convert_prices(get_close_list(df))\n",
    "    ratios = ratios.cumprod()\n",
    "    datex = ratios.index\n",
    "\n",
    "    fig = make_subplots(specs=[[{\"secondary_y\": True}]])\n",
    "    for idx, ticker in enumerate(ratios.columns):\n",
    "        fig.add_trace(go.Scatter(x=datex,y=ratios[ticker],name=ticker, marker_color=colors[idx]),secondary_y=False)\n",
    "       \n",
    "    fig.update_layout(title_text=f'{title} Market Performances', height=600)\n",
    "    log_str = ''\n",
    "    if log_scale:\n",
    "        fig.update_yaxes(type=\"log\")    \n",
    "        log_str = '_logscale'\n",
    "    fig.show()\n",
    "    fig.write_html(f\"plots/{title.replace(' ','_')}{log_str}.html\")\n",
    "    fig.write_image(f\"plots/{title.replace(' ','_')}{log_str}.png\", width=1200)\n",
    "    \n",
    "def plot_correlation(df, filename=''):\n",
    "    df_close = get_close_list(df)\n",
    "    df_corr = df_close.corr()\n",
    "    fig, axs = plt.subplots(ncols=2, gridspec_kw=dict(width_ratios=[6,0.5]), figsize=(9, 7 ))\n",
    "    sns.heatmap(df_corr, annot=True, cbar=False, ax=axs[0], vmin=-1, vmax=1, square=True)\n",
    "    fig.colorbar(axs[0].collections[0], cax=axs[1])\n",
    "    fig.suptitle(filename, fontsize='large')\n",
    "    if filename != '':\n",
    "        fig.savefig(f\"plots/{filename.replace(' ','_')}_correlations.png\")        \n",
    "    plt.show()\n",
    "    \n",
    "    "
   ]
  },
  {
   "cell_type": "code",
   "execution_count": null,
   "id": "5fff2c1a-a842-4ad8-8cb9-5f0787e23e26",
   "metadata": {
    "pycharm": {
     "is_executing": true,
     "name": "#%%\n"
    }
   },
   "outputs": [],
   "source": [
    "train_start = str(iterations.iloc[0]['train_start'])\n",
    "train_end = str(iterations.iloc[0]['train_end'])\n",
    "train_set = df[(df['date'] >= train_start) & (df['date'] <= train_end)]\n",
    "set_name = f'Training Dataset'\n",
    "plot_performance(train_set, set_name, log_scale=True)"
   ]
  },
  {
   "cell_type": "code",
   "execution_count": null,
   "id": "8f5b32e4-524e-431d-9d34-00d6c3e6c246",
   "metadata": {
    "pycharm": {
     "is_executing": true,
     "name": "#%%\n"
    }
   },
   "outputs": [],
   "source": [
    "plot_correlation(train_set, set_name)"
   ]
  },
  {
   "cell_type": "markdown",
   "id": "80a8b764-8179-44e0-91ab-39c969025fb9",
   "metadata": {
    "pycharm": {
     "name": "#%% md\n"
    }
   },
   "source": [
    "# Test Dataset"
   ]
  },
  {
   "cell_type": "code",
   "execution_count": null,
   "id": "b465a6f5-39bd-4116-ac9e-17789d170924",
   "metadata": {
    "pycharm": {
     "is_executing": true,
     "name": "#%%\n"
    }
   },
   "outputs": [],
   "source": [
    "complete_test_start = str(iterations.iloc[0]['test_start'])\n",
    "complete_test_set = df[(df['date'] >= complete_test_start)]\n",
    "set_name = f'Test Dataset (complete)'\n",
    "plot_performance(complete_test_set, set_name, log_scale=False)"
   ]
  },
  {
   "cell_type": "code",
   "execution_count": null,
   "id": "0445d81b-70a2-40c8-8540-5e0b752e79fa",
   "metadata": {
    "pycharm": {
     "is_executing": true,
     "name": "#%%\n"
    }
   },
   "outputs": [],
   "source": [
    "sns.set(font_scale=1)\n",
    "plot_correlation(complete_test_set, set_name)"
   ]
  },
  {
   "cell_type": "markdown",
   "id": "a7b6ec8b-d845-4355-8ef0-c51205a890d3",
   "metadata": {
    "pycharm": {
     "name": "#%% md\n"
    }
   },
   "source": [
    "### Individual Test datasets"
   ]
  },
  {
   "cell_type": "code",
   "execution_count": null,
   "id": "1908b9cf-5919-4995-b828-7621ba55cb16",
   "metadata": {
    "tags": []
   },
   "outputs": [],
   "source": [
    "sns.set(font_scale=1)\n",
    "items = iterations.shape[0]\n",
    "for i in range(items):\n",
    "    test_start = str(iterations.iloc[i]['test_start'])\n",
    "    test_end = str(iterations.iloc[i]['test_end'])\n",
    "    test_set = df[(df['date'] >= test_start) & (df['date'] <= test_end)]\n",
    "    \n",
    "    set_name = f'Test Dataset Period {i}'    \n",
    "    plot_correlation(test_set, set_name)    "
   ]
  },
  {
   "cell_type": "code",
   "execution_count": null,
   "id": "89a2a1af-a8f9-40e3-85c2-ab6eaa94f56c",
   "metadata": {
    "pycharm": {
     "is_executing": true,
     "name": "#%%\n"
    }
   },
   "outputs": [],
   "source": [
    "items = iterations.shape[0]\n",
    "col_per_row = 3\n",
    "rows = int(np.ceil(items / col_per_row))\n",
    "\n",
    "# fig = plt.figure(constrained_layout=True, figsize=(12, 28 ))  ## for 3col plot\n",
    "fig = plt.figure(constrained_layout=True, figsize=(12, 12 ))\n",
    "subfigs = fig.subfigures(1, 2, wspace=0.01, width_ratios=[14, 1])\n",
    "\n",
    "axsLeft = subfigs[0].subplots(rows, col_per_row)\n",
    "# subfigs[0].set_facecolor('0.75')\n",
    "sns.set(font_scale=0.6)\n",
    "\n",
    "for i in range(items):\n",
    "    row = int(np.floor(i / col_per_row))\n",
    "    col = i % col_per_row\n",
    "    ax = axsLeft[row][col]\n",
    "    \n",
    "    test_start = str(iterations.iloc[i]['test_start'])\n",
    "    test_end = str(iterations.iloc[i]['test_end'])\n",
    "    test_set = df[(df['date'] >= test_start) & (df['date'] <= test_end)]\n",
    "    test_corr = get_close_list(test_set).corr()\n",
    "    test_corr.columns = [x.replace('USDT', '') for x in list(test_corr.columns)]\n",
    "    test_corr.index = [x.replace('USDT', '') for x in list(test_corr.index)]\n",
    "    ax.set_title(f\"Test Period {i}\", fontsize=8)\n",
    "    h = sns.heatmap(test_corr, annot=True, cbar=False, ax=ax, vmin=-1, vmax=1, square=True)\n",
    "    h.set_yticklabels(h.get_yticklabels(), rotation = 0, fontsize = 7)\n",
    "    h.set_xticklabels(h.get_xticklabels(), rotation = 90, fontsize = 7)\n",
    "\n",
    "# hide empty subplots in grid\n",
    "missing = col_per_row - (items % col_per_row)\n",
    "for i in range(missing):\n",
    "    axsLeft[rows-1, col_per_row-i-1].axis('off')\n",
    "    # pass\n",
    "# subfigs[0].colorbar(axsLeft[0][0].collections[0], cax=axsLeft[5][3])\n",
    "\n",
    "axsRight = subfigs[1].subplots(1, 1, sharex=True)\n",
    "\n",
    "# subfigs[1].set_facecolor('0.85')\n",
    "subfigs[1].colorbar(axsLeft[0][0].collections[0], cax=axsRight)\n",
    "\n",
    "fig.suptitle('Asset correlations per 28d test data set', fontsize='xx-large')\n",
    "\n",
    "plt.show()\n",
    "fig.savefig('plots/asset_correlations_28d.png')"
   ]
  },
  {
   "cell_type": "code",
   "execution_count": null,
   "id": "4277733a-0566-46e1-a555-a41689135073",
   "metadata": {},
   "outputs": [],
   "source": [
    "# items = iterations.shape[0]\n",
    "# col_per_row = 3\n",
    "# rows = int(np.ceil(items / col_per_row))\n",
    "\n",
    "# # fig = plt.figure(constrained_layout=True, figsize=(12, 28 ))  ## for 3col plot\n",
    "# fig = plt.figure(constrained_layout=True, figsize=(9, 9 ))\n",
    "# subfigs = fig.subfigures(1, 2, wspace=0.01, width_ratios=[15, 1])\n",
    "\n",
    "# axsLeft = subfigs[0].subplots(rows, col_per_row)\n",
    "# # subfigs[0].set_facecolor('0.75')\n",
    "# sns.set(font_scale=0.6)\n",
    "\n",
    "\n",
    "\n",
    "# for i in range(items):\n",
    "#     row = int(np.floor(i / col_per_row))\n",
    "#     col = i % col_per_row\n",
    "#     ax = axsLeft[row][col]\n",
    "#     print(ax)\n",
    "#     test_start = str(iterations.iloc[i]['test_start'])\n",
    "#     test_end = str(iterations.iloc[i]['test_end'])\n",
    "#     test_set = df[(df['date'] >= test_start) & (df['date'] <= test_end)]\n",
    "#     test_corr = get_close_list(test_set).corr()\n",
    "#     test_corr.columns = [x.replace('USDT', '') for x in list(test_corr.columns)]\n",
    "#     test_corr.index = [x.replace('USDT', '') for x in list(test_corr.index)]\n",
    "#     ax.set_title(f\"Test Period {i}\", fontsize=8)\n",
    "#     ax.tick_params(right=False, labelright=False, labelleft=True, labelrotation=0)\n",
    "#     plt.xticks(rotation = 90)\n",
    "#     plt.yticks(rotation= 90)\n",
    "#     h = sns.heatmap(test_corr, annot=True, cbar=False, ax=ax, vmin=-1, vmax=1, square=True)\n",
    "#     h.set_yticklabels(h.get_yticklabels(), rotation = 0, fontsize = 7)\n",
    "#     h.set_xticklabels(h.get_xticklabels(), rotation = 90, fontsize = 7)\n",
    "\n",
    "# # hide empty subplots in grid\n",
    "# missing = col_per_row - (items % col_per_row)\n",
    "# for i in range(missing):\n",
    "#     axsLeft[rows-1, col_per_row-i-1].axis('off')\n",
    "#     # pass\n",
    "# # subfigs[0].colorbar(axsLeft[0][0].collections[0], cax=axsLeft[5][3])\n",
    "\n",
    "# axsRight = subfigs[1].subplots(4, 1, sharex=True)\n",
    "# # axsRightFirst = axsRight[0]\n",
    "# # subfigs[1].set_facecolor('0.85')\n",
    "# subfigs[1].colorbar(axsLeft[0][0].collections[0], cax=axsRight)\n",
    "\n",
    "# fig.suptitle('Asset correlations per 28d test data set', fontsize='xx-large')\n",
    "# # plt.xticks(rotation = 0)\n",
    "# plt.show()\n",
    "# # fig.savefig('plots/asset_correlations_28d.png')"
   ]
  },
  {
   "cell_type": "code",
   "execution_count": null,
   "id": "f872ca65-d4dd-41ad-a0fd-e50785138559",
   "metadata": {
    "pycharm": {
     "name": "#%%\n"
    }
   },
   "outputs": [],
   "source": []
  },
  {
   "cell_type": "code",
   "execution_count": null,
   "id": "4674203d-cc49-4520-a5a3-2b0bce1f204d",
   "metadata": {
    "pycharm": {
     "is_executing": true,
     "name": "#%%\n"
    }
   },
   "outputs": [],
   "source": [
    "for i in range(iterations.shape[0]):\n",
    "    # train_start = str(iterations.iloc[i]['train_start'])\n",
    "    # train_end = str(iterations.iloc[i]['train_end'])\n",
    "    test_start = str(iterations.iloc[i]['test_start'])\n",
    "    test_end = str(iterations.iloc[i]['test_end'])\n",
    "\n",
    "    # train_set = df[(df['date'] >= train_start) & (df['date'] <= train_end)]\n",
    "    test_set = df[(df['date'] >= test_start) & (df['date'] <= test_end)]\n",
    "    set_name = f'Test Dataset Period {i}' # if i > 0 else 'Validation Dataset'\n",
    "    plot_performance(test_set, set_name)"
   ]
  },
  {
   "cell_type": "code",
   "execution_count": null,
   "id": "c4cfb72b-3f3f-4d6f-bef9-80a56f393dd5",
   "metadata": {
    "pycharm": {
     "name": "#%%\n"
    }
   },
   "outputs": [],
   "source": []
  },
  {
   "cell_type": "code",
   "execution_count": null,
   "id": "e094323b-8e20-484e-a79a-3c6d634c90b2",
   "metadata": {},
   "outputs": [],
   "source": [
    "items = iterations.shape[0]\n",
    "col_per_row = 3\n",
    "rows = int(np.ceil(items / col_per_row))\n",
    "\n",
    "# fig = plt.figure(constrained_layout=True, figsize=(12, 28 ))  ## for 3col plot\n",
    "fig = plt.figure(constrained_layout=True, figsize=(12, 12 ))\n",
    "subfigs = fig.subfigures(1, 2, wspace=0.01, width_ratios=[18, 1])\n",
    "\n",
    "axsLeft = subfigs[0].subplots(rows, col_per_row)\n",
    "# subfigs[0].set_facecolor('0.75')\n",
    "sns.set(font_scale=0.6)\n",
    "\n",
    "for i in range(items):\n",
    "    row = int(np.floor(i / col_per_row))\n",
    "    col = i % col_per_row\n",
    "    ax = axsLeft[row][col]\n",
    "    \n",
    "    test_start = str(iterations.iloc[i]['test_start'])\n",
    "    test_end = str(iterations.iloc[i]['test_end'])\n",
    "    test_set = df[(df['date'] >= test_start) & (df['date'] <= test_end)]\n",
    "    test_corr = get_close_list(test_set).corr()\n",
    "    test_corr.columns = [x.replace('USDT', '') for x in list(test_corr.columns)]\n",
    "    test_corr.index = [x.replace('USDT', '') for x in list(test_corr.index)]\n",
    "    ax.set_title(f\"Test Period {i}\", fontsize=8)\n",
    "    sns.heatmap(test_corr, annot=True, cbar=False, ax=ax, vmin=-1, vmax=1, square=True)\n",
    "\n",
    "# hide empty subplots in grid\n",
    "missing = col_per_row - (items % col_per_row)\n",
    "for i in range(missing):\n",
    "    axsLeft[rows-1, col_per_row-i-1].axis('off')\n",
    "    # pass\n",
    "# subfigs[0].colorbar(axsLeft[0][0].collections[0], cax=axsLeft[5][3])\n",
    "\n",
    "axsRight = subfigs[1].subplots(1, 1, sharex=True)\n",
    "\n",
    "# subfigs[1].set_facecolor('0.85')\n",
    "subfigs[1].colorbar(axsLeft[0][0].collections[0], cax=axsRight)\n",
    "\n",
    "fig.suptitle('Asset correlations per 28d test data set', fontsize='xx-large')\n",
    "\n",
    "plt.show()\n",
    "fig.savefig('plots/asset_correlations_28d.png')"
   ]
  },
  {
   "cell_type": "code",
   "execution_count": null,
   "id": "bad0cf98-4c93-4bdc-88cd-18b959a8c346",
   "metadata": {},
   "outputs": [],
   "source": [
    "# plot_correlation(train_set, set_name)\n",
    "# plot_correlation(complete_test_set, set_name)"
   ]
  },
  {
   "cell_type": "code",
   "execution_count": null,
   "id": "1b6794a0-73e0-41f5-8b58-a34c792893f1",
   "metadata": {},
   "outputs": [],
   "source": [
    "my_train_corr = get_close_list(train_set).corr()\n",
    "my_test_corr = get_close_list(complete_test_set).corr()\n",
    "\n",
    "fig = plt.figure(constrained_layout=True, figsize=(9, 4 ))\n",
    "subfigs = fig.subfigures(1, 3, wspace=0.01, width_ratios=[8,1,8])\n",
    "\n",
    "axsLeft = subfigs[0].subplots(1, 1)\n",
    "axsLeft.set_title(f\"Correlation Training Dataset\", fontsize=8)\n",
    "sns.heatmap(my_train_corr, annot=True, cbar=False, ax=axsLeft, vmin=-1, vmax=1, square=True)\n",
    "\n",
    "axsMiddle = subfigs[1].subplots(1, 1, sharex=True)\n",
    "subfigs[1].colorbar(axsLeft.collections[0], cax=axsMiddle)\n",
    "\n",
    "axsRight = subfigs[2].subplots(1, 1)\n",
    "axsRight.set_title(f\"Correlation Test Dataset\", fontsize=8)\n",
    "sns.heatmap(my_test_corr, annot=True, cbar=False, ax=axsRight, vmin=-1, vmax=1, square=True)\n",
    "axsRight.tick_params(right=True, labelright=True, labelleft=False, labelrotation=0)\n",
    "plt.xticks(rotation = 90)\n",
    "\n",
    "plt.show()\n",
    "fig.savefig(f\"plots/correlations_overview_all.png\", dpi=300)    "
   ]
  },
  {
   "cell_type": "code",
   "execution_count": null,
   "id": "eb4925a7-e6c0-489f-8f04-9f773ecd65ee",
   "metadata": {},
   "outputs": [],
   "source": []
  },
  {
   "cell_type": "code",
   "execution_count": null,
   "id": "88811013-c097-4db6-96be-143c23449192",
   "metadata": {},
   "outputs": [],
   "source": []
  },
  {
   "cell_type": "code",
   "execution_count": null,
   "id": "5178839c-e0a1-464b-8470-0c52a4dcce5a",
   "metadata": {},
   "outputs": [],
   "source": [
    "train_set"
   ]
  },
  {
   "cell_type": "code",
   "execution_count": null,
   "id": "aa59fd78-9eb5-4fbe-a9f6-82508d61bf13",
   "metadata": {},
   "outputs": [],
   "source": [
    "train_close = get_close_list(train_set)\n",
    "data = []\n",
    "columns = [\"first\", \"high\", \"low\", \"last\", \"peak\", \"max.dd\",\"end\" ]\n",
    "data.append(train_close.iloc[0].tolist())\n",
    "data.append(train_close.max().tolist())\n",
    "data.append(train_close.min().tolist())\n",
    "data.append(train_close.iloc[-1].tolist())\n",
    "data.append((((train_close.max() / train_close.iloc[0]) -1) * 100).round().tolist())\n",
    "data.append((((train_close.min() / train_close.iloc[0]) -1) * 100).round().tolist())\n",
    "data.append((((train_close.iloc[-1] / train_close.iloc[0]) -1) * 100).round().tolist())\n",
    "res = pd.DataFrame(data, columns=train_close.columns).T\n",
    "res.columns = columns\n",
    "print(\"training stats\")\n",
    "res"
   ]
  },
  {
   "cell_type": "code",
   "execution_count": null,
   "id": "59088c32-8019-4808-b723-046972363e3a",
   "metadata": {},
   "outputs": [],
   "source": [
    "test_close = get_close_list(complete_test_set)\n",
    "data = []\n",
    "columns = [\"first\", \"high\", \"low\", \"last\", \"peak\", \"max.dd\",\"end\" ]\n",
    "data.append(test_close.iloc[0].tolist())\n",
    "data.append(test_close.max().tolist())\n",
    "data.append(test_close.min().tolist())\n",
    "data.append(test_close.iloc[-1].tolist())\n",
    "data.append((((test_close.max() / test_close.iloc[0]) -1) * 100).round().tolist())\n",
    "data.append((((test_close.min() / test_close.iloc[0]) -1) * 100).round().tolist())\n",
    "data.append((((test_close.iloc[-1] / test_close.iloc[0]) -1) * 100).round().tolist())\n",
    "res = pd.DataFrame(data, columns=test_close.columns).T\n",
    "res.columns = columns\n",
    "print(\"validation stats\")\n",
    "res"
   ]
  },
  {
   "cell_type": "code",
   "execution_count": null,
   "id": "04c9e337-8a8f-4c0c-bba0-a06bc5f7dfbd",
   "metadata": {},
   "outputs": [],
   "source": [
    "complete_test_set"
   ]
  },
  {
   "cell_type": "code",
   "execution_count": null,
   "id": "2dca2a2a-cd4c-4bbb-857d-372da81d3c88",
   "metadata": {},
   "outputs": [],
   "source": [
    "complete_test_set"
   ]
  },
  {
   "cell_type": "code",
   "execution_count": null,
   "id": "e190cc47-74ca-4f12-904b-9c3984bffaaf",
   "metadata": {},
   "outputs": [],
   "source": [
    "complete_test_start = str(iterations.iloc[1]['test_start'])\n",
    "complete_test_set = df[(df['date'] >= complete_test_start)]\n",
    "set_name = f'Test Dataset (complete)'"
   ]
  },
  {
   "cell_type": "code",
   "execution_count": null,
   "id": "b388e36f-4b29-4d63-9d7d-1b99a6b979d8",
   "metadata": {},
   "outputs": [],
   "source": [
    "iterations"
   ]
  }
 ],
 "metadata": {
  "kernelspec": {
   "display_name": "Python 3 (ipykernel)",
   "language": "python",
   "name": "python3"
  },
  "language_info": {
   "codemirror_mode": {
    "name": "ipython",
    "version": 3
   },
   "file_extension": ".py",
   "mimetype": "text/x-python",
   "name": "python",
   "nbconvert_exporter": "python",
   "pygments_lexer": "ipython3",
   "version": "3.8.15"
  }
 },
 "nbformat": 4,
 "nbformat_minor": 5
}
