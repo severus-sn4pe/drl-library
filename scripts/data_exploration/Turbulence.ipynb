{
 "cells": [
  {
   "cell_type": "code",
   "execution_count": null,
   "id": "0ead5374-3691-45c9-b4bf-73ce69fa465e",
   "metadata": {},
   "outputs": [],
   "source": [
    "import pandas as pd\n",
    "import time\n",
    "import numpy as np\n",
    "from helper import *\n",
    "import random\n",
    "import matplotlib.pyplot as plt\n",
    "%matplotlib inline\n",
    "import sys\n",
    "sys.path.append('../../')\n",
    "from finrl.meta.data_processor import DataProcessor, FileProcessor\n",
    "\n",
    "import plotly.graph_objects as go\n",
    "from plotly.subplots import make_subplots\n",
    "\n",
    "\n",
    "SYMBOLS = ['AVAXUSDT', 'AXSUSDT', 'BTCUSDT', 'DOGEUSDT', 'ETHUSDT', 'LINKUSDT', 'LTCUSDT', 'SHIBUSDT', 'TLMUSDT', 'UNIUSDT']\n",
    "\n",
    "def get_market(df, tic):\n",
    "    df_res = df[df['tic'] == tic].copy()\n",
    "    df_res['ratio'] = convert_prices(df_res[[\"close\"]])\n",
    "    df_res['diff'] = df_res['close'] - df_res['open']\n",
    "    df_res.loc[df_res['diff']>=0, 'color'] = 'green'\n",
    "    df_res.loc[df_res['diff']<0, 'color'] = 'red'\n",
    "    return df_res\n"
   ]
  },
  {
   "cell_type": "code",
   "execution_count": null,
   "id": "788c6f63-ca9e-49cc-8771-564e01955df0",
   "metadata": {},
   "outputs": [],
   "source": []
  },
  {
   "cell_type": "code",
   "execution_count": null,
   "id": "218b2280-efc4-48de-9919-cc683e17c0f8",
   "metadata": {},
   "outputs": [],
   "source": [
    "df = get_parsed_data('1d')"
   ]
  },
  {
   "cell_type": "code",
   "execution_count": null,
   "id": "15212b0a-8191-4918-93e2-7e7913a1a3ec",
   "metadata": {},
   "outputs": [],
   "source": [
    "def plot_symbol(symbol, df, indi_names=[]):\n",
    "    \n",
    "    symbol_data = get_market(df, symbol)\n",
    "    \n",
    "    fig = make_subplots(specs=[[{\"secondary_y\": True}]])\n",
    "    fig.add_trace(go.Scatter(x=symbol_data['date'],y=symbol_data['close'],name='Price'),secondary_y=False)\n",
    "    for x in indi_names:\n",
    "        fig.add_trace(go.Scatter(x=symbol_data['date'],y=symbol_data[x],name=x),secondary_y=True)\n",
    "\n",
    "    # fig.add_trace(go.Scatter(x=df['date'],y=df['ratio'],name='Ratio'),secondary_y=True)\n",
    "    # fig.add_trace(go.Bar(x=df['date'],y=df['volume'],opacity=0.5, name='volume'),secondary_y=True)\n",
    "    # fig.update_yaxes(visible=False, secondary_y=True)\n",
    "    fig.update_layout(title_text=symbol, height=600)\n",
    "    fig.show()"
   ]
  },
  {
   "cell_type": "code",
   "execution_count": null,
   "id": "96890cbc-45ad-462f-80d3-694f6a428a46",
   "metadata": {},
   "outputs": [],
   "source": [
    "plot_symbol(\"BTCUSDT\", df)"
   ]
  },
  {
   "cell_type": "code",
   "execution_count": null,
   "id": "f8fb6245-f6a6-4b92-9b90-be57a7ec16ad",
   "metadata": {},
   "outputs": [],
   "source": [
    "btc = get_market(df, 'BTCUSDT')\n",
    "btc"
   ]
  },
  {
   "cell_type": "code",
   "execution_count": null,
   "id": "a9ce2ca7-aa8a-4c3e-a8fb-878187412892",
   "metadata": {},
   "outputs": [],
   "source": []
  },
  {
   "cell_type": "code",
   "execution_count": null,
   "id": "13dd7a6c-f23e-42c8-a296-3cd10e6239f0",
   "metadata": {},
   "outputs": [],
   "source": [
    "plt.plot(btc.date, btc.close)"
   ]
  },
  {
   "cell_type": "code",
   "execution_count": null,
   "id": "d4f83d32-96ea-4b5d-8059-6b69321066e4",
   "metadata": {},
   "outputs": [],
   "source": []
  },
  {
   "cell_type": "code",
   "execution_count": null,
   "id": "cfce3851-4cdd-4b30-8eff-e90ebdf7540e",
   "metadata": {},
   "outputs": [],
   "source": [
    "def create_turb(filename, use_turbulence=False, time_interval='1d', turb_lookback=60):\n",
    "    dp = FileProcessor(filename)\n",
    "    df = dp.download_data([], '', '', time_interval)\n",
    "    # dp.time_interval = time_interval\n",
    "    df = dp.clean_data(df)    \n",
    "    if use_turbulence:\n",
    "        df = dp.add_turbulence(df, turb_lookback)    \n",
    "    return df\n",
    "\n",
    "res = '1d'\n",
    "fn = f'../../datasets/thesis/{res}/all_{res}.csv'\n"
   ]
  },
  {
   "cell_type": "code",
   "execution_count": null,
   "id": "c50a4943-0cd7-4fb2-a4dc-bba9720ad4a1",
   "metadata": {},
   "outputs": [],
   "source": [
    "res"
   ]
  },
  {
   "cell_type": "code",
   "execution_count": null,
   "id": "35daedf8-eab1-4a17-a4e5-048529444104",
   "metadata": {},
   "outputs": [],
   "source": [
    "turb2 = create_turb(fn, True, res, 60)\n",
    "plot_symbol('BTCUSDT',turb2, 'turbulence2')"
   ]
  },
  {
   "cell_type": "code",
   "execution_count": null,
   "id": "6317ff70-5ba0-4e15-a884-807f8e331cda",
   "metadata": {},
   "outputs": [],
   "source": [
    "turb3 = create_turb(fn, True, res, 180)\n",
    "plot_symbol('BTCUSDT',turb3, 'turbulence2')"
   ]
  },
  {
   "cell_type": "code",
   "execution_count": null,
   "id": "0fc0a57c-264c-4ccb-9c6a-ce317ed3079d",
   "metadata": {},
   "outputs": [],
   "source": [
    "turb2 = create_turb(fn, True, res)"
   ]
  },
  {
   "cell_type": "code",
   "execution_count": null,
   "id": "6b698fcf-2251-4174-b9c4-15790b0e1d2f",
   "metadata": {},
   "outputs": [],
   "source": [
    "plot_symbol('BTCUSDT',turb2, 'turbulence2')"
   ]
  },
  {
   "cell_type": "code",
   "execution_count": null,
   "id": "5f941515-c76f-4a55-8d73-7a42f23f4b16",
   "metadata": {},
   "outputs": [],
   "source": [
    "def plot_performance(df, split_dates=[], title='Complete', use_turb=False, turb=None):\n",
    "    ratios = convert_prices(get_close_list(df))\n",
    "    ratios = ratios.cumprod()\n",
    "    datex = ratios.index\n",
    "\n",
    "    fig = make_subplots(specs=[[{\"secondary_y\": True}]])\n",
    "    for ticker in ratios.columns:\n",
    "        fig.add_trace(go.Scatter(x=datex,y=ratios[ticker],name=ticker),secondary_y=False)\n",
    "\n",
    "    if use_turb:\n",
    "        fig.add_trace(go.Scatter(x=datex,y=turb,name='Turbulence'),secondary_y=True)\n",
    "        \n",
    "    for i, split in enumerate(split_dates):\n",
    "        if len(split_dates) > 22:\n",
    "            color = 'black' if  i == 0 else 'red' if i == 1 else 'blue'\n",
    "        else:\n",
    "            color = 'blue'\n",
    "        fig.add_vline(x=split, line_width=2, line_color=color, opacity=0.5)\n",
    "        \n",
    "    fig.update_layout(title_text=f'{title} Dataset', height=600)\n",
    "    # fig.update_yaxes(type=\"log\")\n",
    "    fig.show()"
   ]
  },
  {
   "cell_type": "code",
   "execution_count": null,
   "id": "1768566c-6581-46cc-9d64-41732b37e6f8",
   "metadata": {},
   "outputs": [],
   "source": [
    "\"X\" if turb2['turbulence2'] else None"
   ]
  },
  {
   "cell_type": "code",
   "execution_count": null,
   "id": "f18259cf-c489-41a2-a72b-d09dbb38f073",
   "metadata": {},
   "outputs": [],
   "source": []
  },
  {
   "cell_type": "code",
   "execution_count": null,
   "id": "ab2913fb-4ff1-437c-a7f6-8bd2382f5cae",
   "metadata": {},
   "outputs": [],
   "source": [
    "turb = create_turb(fn, True, res, 180)\n",
    "# plot_symbol('BTCUSDT',turb, 'turbulence2')\n",
    "plot_performance(df, title=\"All\", use_turb=True, turb=turb[turb['tic']=='BTCUSDT']['turbulence2'])"
   ]
  },
  {
   "cell_type": "code",
   "execution_count": null,
   "id": "8ce1fe6f-beaa-4729-956e-ff7e6f4f5e43",
   "metadata": {},
   "outputs": [],
   "source": [
    "turbval = turb[turb['tic'] == 'BTCUSDT']['turbulence2']"
   ]
  },
  {
   "cell_type": "code",
   "execution_count": null,
   "id": "cb619a4e-6866-4f52-90e6-0ffc496f5eb4",
   "metadata": {},
   "outputs": [],
   "source": [
    "q = np.quantile(turbval, 0.99)\n",
    "q"
   ]
  },
  {
   "cell_type": "code",
   "execution_count": null,
   "id": "17108815-ce9e-4919-8027-37da33da1d95",
   "metadata": {},
   "outputs": [],
   "source": [
    "def get_indi(filename, indicators, time_interval='1d'):\n",
    "    dp = FileProcessor(filename)\n",
    "    df = dp.download_data([], '', '', time_interval)\n",
    "    # dp.time_interval = time_interval\n",
    "    df = dp.clean_data(df)    \n",
    "    if len(indicators) > 0:\n",
    "        df = dp.add_technical_indicator(df, indicators)     \n",
    "    return df\n",
    "\n"
   ]
  },
  {
   "cell_type": "code",
   "execution_count": null,
   "id": "50723a8a-709b-4a75-8c30-c98e8ca06eae",
   "metadata": {},
   "outputs": [],
   "source": [
    "res = '1d'\n",
    "fn = f'../../datasets/thesis/{res}/all_{res}.csv'\n",
    "indis = ['kdjk_60', 'kdjd_60', 'kdjj_60']\n",
    "# indis = ['dx_30']\n",
    "\n",
    "x = get_indi(fn, indis, res)\n",
    "\n",
    "plot_symbol('BTCUSDT', x, indis)"
   ]
  },
  {
   "cell_type": "code",
   "execution_count": null,
   "id": "3af5111f-4ebc-4f00-ac93-0d27ad93854f",
   "metadata": {},
   "outputs": [],
   "source": [
    "x"
   ]
  },
  {
   "cell_type": "code",
   "execution_count": null,
   "id": "6d886278-d562-495e-aa66-ccde53f83123",
   "metadata": {},
   "outputs": [],
   "source": []
  },
  {
   "cell_type": "code",
   "execution_count": null,
   "id": "7e707204-e5df-4e40-9309-fb1f40f546de",
   "metadata": {},
   "outputs": [],
   "source": [
    "x['diff'] = x['kdjk_60'] - x['kdjd_60']"
   ]
  },
  {
   "cell_type": "code",
   "execution_count": null,
   "id": "e7821941-b854-477f-87ba-6f48eae60a0d",
   "metadata": {},
   "outputs": [],
   "source": [
    "plt.plot(get_market(x, 'BTCUSDT')['diff'])"
   ]
  },
  {
   "cell_type": "code",
   "execution_count": null,
   "id": "0a21ca92-14d9-48db-ad4c-70c6d81d64eb",
   "metadata": {},
   "outputs": [],
   "source": [
    "x['kdjk_60']"
   ]
  },
  {
   "cell_type": "code",
   "execution_count": null,
   "id": "76d54d61-21f9-4a51-949e-587d1cb68bab",
   "metadata": {},
   "outputs": [],
   "source": [
    "x['kdjd_60']"
   ]
  },
  {
   "cell_type": "code",
   "execution_count": null,
   "id": "d41a0085-31e6-4cd1-91e4-4a6a76553a7e",
   "metadata": {},
   "outputs": [],
   "source": [
    "x['kdjk_60'] - x['kdjd_60']"
   ]
  },
  {
   "cell_type": "code",
   "execution_count": null,
   "id": "d61397b9-9bfb-4f01-ab9e-bd1910c8eeab",
   "metadata": {},
   "outputs": [],
   "source": [
    "y = x.reset_index(drop=True)\n",
    "y = get_market(y, 'BTCUSDT').reset_index(drop=True)"
   ]
  },
  {
   "cell_type": "code",
   "execution_count": null,
   "id": "95bca30c-4e57-4e45-9081-77fa0640e61a",
   "metadata": {},
   "outputs": [],
   "source": [
    "y['kdjk_60']"
   ]
  },
  {
   "cell_type": "code",
   "execution_count": null,
   "id": "89c75da3-e85d-4f99-b9d4-f5edaa47d5b3",
   "metadata": {},
   "outputs": [],
   "source": [
    "y['kdjd_60']"
   ]
  },
  {
   "cell_type": "code",
   "execution_count": null,
   "id": "57b578b3-f4ba-48b0-b763-4e803e8926d9",
   "metadata": {},
   "outputs": [],
   "source": [
    "y['kdjd_60'] - y['kdjd_60']"
   ]
  },
  {
   "cell_type": "code",
   "execution_count": null,
   "id": "a1646323-b364-4dc6-aeaf-f0f69724d00c",
   "metadata": {},
   "outputs": [],
   "source": [
    "y.dtypes"
   ]
  },
  {
   "cell_type": "code",
   "execution_count": null,
   "id": "098f8f95-ea6d-4aa1-b5e0-8d97d5e1751c",
   "metadata": {},
   "outputs": [],
   "source": []
  },
  {
   "cell_type": "code",
   "execution_count": null,
   "id": "3efb4eb8-79a8-465b-b3de-c89b0de29674",
   "metadata": {},
   "outputs": [],
   "source": [
    "\n",
    "d"
   ]
  },
  {
   "cell_type": "code",
   "execution_count": null,
   "id": "4c958fec-197b-4a9c-9338-c47654bb3465",
   "metadata": {},
   "outputs": [],
   "source": [
    "np.delete(d, 0)"
   ]
  },
  {
   "cell_type": "code",
   "execution_count": null,
   "id": "d13dd380-e78a-4d09-be68-ae41cc2ee64f",
   "metadata": {},
   "outputs": [],
   "source": [
    "d / d.sum()"
   ]
  },
  {
   "cell_type": "code",
   "execution_count": null,
   "id": "5d662820-4a6b-497d-94ab-879946d5a4f4",
   "metadata": {},
   "outputs": [],
   "source": [
    "df2 = df.copy()\n",
    "df2.index = df2['date'].factorize()[0]\n",
    "close_start = df2.loc[0]['close']\n",
    "names = df2['tic'].unique()"
   ]
  },
  {
   "cell_type": "code",
   "execution_count": null,
   "id": "26f4bf6c-72a0-4bfe-b2e6-5e7b9b2be11f",
   "metadata": {},
   "outputs": [],
   "source": []
  },
  {
   "cell_type": "code",
   "execution_count": null,
   "id": "91b43cd4-e9fc-4a1c-bf05-b344b64d5c43",
   "metadata": {},
   "outputs": [],
   "source": [
    "\n",
    "\n",
    "\n",
    "\n",
    "\n",
    "\n",
    "total = 0\n",
    "for idx, x in enumerate(ratio):\n",
    "    money = money_asset * x\n",
    "    amount = np.around(money / close_start.iloc[idx], 6)\n",
    "    total += money\n",
    "    print(f\"{names[idx]:8s} : {x:.4f}: {money:15_.6f}  - {amount:24_.6f}\")\n",
    "\n",
    "print(f\"money            : {money_start:15_.6f}\")\n",
    "print(f\"money asset      : {money_asset:15_.6f}\")\n",
    "print(\"money total\", money_start + money_asset)"
   ]
  },
  {
   "cell_type": "code",
   "execution_count": null,
   "id": "201346f5-faf2-489f-8d6b-41d01fa9190d",
   "metadata": {},
   "outputs": [],
   "source": []
  },
  {
   "cell_type": "code",
   "execution_count": null,
   "id": "838dccc2-1479-44fd-9dd2-53178365bfab",
   "metadata": {},
   "outputs": [],
   "source": [
    "\n",
    "print(money)\n",
    "\n",
    "print(amount.tolist())"
   ]
  },
  {
   "cell_type": "code",
   "execution_count": null,
   "id": "89d853d9-8821-4fb0-aa47-e3d247d4917f",
   "metadata": {},
   "outputs": [],
   "source": [
    "np.around(12321.14349834985, 2)"
   ]
  },
  {
   "cell_type": "code",
   "execution_count": null,
   "id": "42bb0356-6842-436b-973d-47e53ce8f067",
   "metadata": {},
   "outputs": [],
   "source": []
  },
  {
   "cell_type": "code",
   "execution_count": null,
   "id": "e9f1240c-b1d5-447d-8261-712e95c724e7",
   "metadata": {},
   "outputs": [],
   "source": []
  },
  {
   "cell_type": "code",
   "execution_count": null,
   "id": "ab589f15-517a-4edd-862c-5821c6b1ba90",
   "metadata": {},
   "outputs": [],
   "source": []
  }
 ],
 "metadata": {
  "kernelspec": {
   "display_name": "Python 3 (ipykernel)",
   "language": "python",
   "name": "python3"
  },
  "language_info": {
   "codemirror_mode": {
    "name": "ipython",
    "version": 3
   },
   "file_extension": ".py",
   "mimetype": "text/x-python",
   "name": "python",
   "nbconvert_exporter": "python",
   "pygments_lexer": "ipython3",
   "version": "3.7.15"
  }
 },
 "nbformat": 4,
 "nbformat_minor": 5
}
