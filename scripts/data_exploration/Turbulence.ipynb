{
 "cells": [
  {
   "cell_type": "code",
   "execution_count": null,
   "id": "0ead5374-3691-45c9-b4bf-73ce69fa465e",
   "metadata": {},
   "outputs": [],
   "source": [
    "import pandas as pd\n",
    "import time\n",
    "import numpy as np\n",
    "import matplotlib.pyplot as plt\n",
    "%matplotlib inline\n",
    "SYMBOLS = ['BTCUSDT', 'ETHUSDT', 'LTCUSDT', 'AVAXUSDT', 'LINKUSDT', 'UNIUSDT', 'DOGEUSDT', 'SHIBUSDT', 'TLMUSDT', 'AXSUSDT']\n",
    "\n",
    "ROOT = '../../datasets/thesis'\n",
    "\n",
    "def load_data(filename):\n",
    "    df = pd.read_csv(filename,names=['date', 'tic', 'open', 'high', 'low', 'close', 'volume', 'day'], header=0)\n",
    "    # df['diff'] = df['close'] - df['open']\n",
    "    # df.loc[df['diff']>=0, 'color'] = 'green'\n",
    "    # df.loc[df['diff']<0, 'color'] = 'red'\n",
    "    return df\n",
    "\n",
    "dfs = {}\n",
    "alldf = None\n",
    "for symbol in SYMBOLS:\n",
    "    # symbol = SYMBOLS[0]\n",
    "    df = load_data(f\"{ROOT}/1h/{symbol}_1h.csv\")\n",
    "    if alldf is None:\n",
    "        alldf = df\n",
    "    else:\n",
    "        alldf = alldf.append(df)\n",
    "    dfs[symbol] = df\n",
    "    \n",
    "df = dfs[SYMBOLS[0]]\n",
    "df['return'] = df['close'].pct_change()"
   ]
  },
  {
   "cell_type": "code",
   "execution_count": null,
   "id": "218b2280-efc4-48de-9919-cc683e17c0f8",
   "metadata": {},
   "outputs": [],
   "source": [
    "df"
   ]
  },
  {
   "cell_type": "code",
   "execution_count": null,
   "id": "45d6ac92-963d-4c35-aa4a-a64965844974",
   "metadata": {},
   "outputs": [],
   "source": [
    "df2 = dfs[SYMBOLS[1]]\n",
    "df2.shape"
   ]
  },
  {
   "cell_type": "code",
   "execution_count": null,
   "id": "6624ce50-29fd-4eda-b60e-474a8435f774",
   "metadata": {},
   "outputs": [],
   "source": [
    "alldf.shape"
   ]
  },
  {
   "cell_type": "code",
   "execution_count": null,
   "id": "1938aa63-0f5c-463b-a231-f91d8ed283db",
   "metadata": {},
   "outputs": [],
   "source": [
    "allchange = alldf.pivot(index=\"date\", columns=\"tic\", values=\"close\").pct_change()\n",
    "allchange"
   ]
  },
  {
   "cell_type": "code",
   "execution_count": null,
   "id": "6d2bea99-a79d-46e2-bb84-033e22c1b684",
   "metadata": {},
   "outputs": [],
   "source": [
    "unique_date = allchange.index.unique()\n",
    "time_period = 180\n",
    "start = time_period\n",
    "turbulence_index = [0] * start"
   ]
  },
  {
   "cell_type": "code",
   "execution_count": null,
   "id": "13dd7a6c-f23e-42c8-a296-3cd10e6239f0",
   "metadata": {},
   "outputs": [],
   "source": []
  },
  {
   "cell_type": "code",
   "execution_count": null,
   "id": "d4f83d32-96ea-4b5d-8059-6b69321066e4",
   "metadata": {},
   "outputs": [],
   "source": []
  },
  {
   "cell_type": "code",
   "execution_count": null,
   "id": "729515d5-5df3-40b2-b3cf-135e25b903d9",
   "metadata": {},
   "outputs": [],
   "source": [
    "count = 0\n",
    "for i in range(start, len(unique_date)):\n",
    "    current_price = allchange[allchange.index == unique_date[i]]\n",
    "    # use one year rolling window to calcualte covariance\n",
    "    hist_price = allchange[(allchange.index < unique_date[i]) & (allchange.index >= unique_date[i - time_period])]\n",
    "    # Drop tickers which has number missing values more than the \"oldest\" ticker\n",
    "    filtered_hist_price = hist_price.iloc[hist_price.isna().sum().min():].dropna(axis=1)\n",
    "\n",
    "    cov_temp = filtered_hist_price.cov()\n",
    "    current_temp = current_price[[x for x in filtered_hist_price]] - np.mean(filtered_hist_price, axis=0)\n",
    "    # cov_temp = hist_price.cov()\n",
    "    # current_temp=(current_price - np.mean(hist_price,axis=0))\n",
    "\n",
    "    temp = current_temp.values.dot(np.linalg.pinv(cov_temp)).dot(current_temp.values.T)\n",
    "    if temp > 0:\n",
    "        count += 1\n",
    "        if count > 2:\n",
    "            turbulence_temp = temp[0][0]\n",
    "        else:\n",
    "            # avoid large outlier because of the calculation just begins\n",
    "            turbulence_temp = 0\n",
    "    else:\n",
    "        turbulence_temp = 0\n",
    "    turbulence_index.append(turbulence_temp)"
   ]
  },
  {
   "cell_type": "code",
   "execution_count": null,
   "id": "d2d610fc-abec-45b7-a1e5-c801c0777f50",
   "metadata": {
    "tags": []
   },
   "outputs": [],
   "source": [
    "turbulence_index"
   ]
  },
  {
   "cell_type": "code",
   "execution_count": null,
   "id": "679d4b1b-0ded-4ef8-a467-947c16c0981e",
   "metadata": {},
   "outputs": [],
   "source": [
    "a = df.loc[2]"
   ]
  },
  {
   "cell_type": "code",
   "execution_count": null,
   "id": "7d927d04-bd99-4d23-84b9-e708eda0af63",
   "metadata": {},
   "outputs": [],
   "source": [
    "f, (ax1, ax2) = plt.subplots(2, 1, sharex=True, figsize=(10, 8), layout='tight')\n",
    "ax1.plot(df['date'], df['close'])\n",
    "ax2.plot(df['date'], turbulence_index)"
   ]
  },
  {
   "cell_type": "code",
   "execution_count": null,
   "id": "a7ab9d2a-27f4-448c-8acf-05b8611f155f",
   "metadata": {},
   "outputs": [],
   "source": [
    "plt.plot(df['date'], df['close'])"
   ]
  }
 ],
 "metadata": {
  "kernelspec": {
   "display_name": "Python 3 (ipykernel)",
   "language": "python",
   "name": "python3"
  },
  "language_info": {
   "codemirror_mode": {
    "name": "ipython",
    "version": 3
   },
   "file_extension": ".py",
   "mimetype": "text/x-python",
   "name": "python",
   "nbconvert_exporter": "python",
   "pygments_lexer": "ipython3",
   "version": "3.7.13"
  }
 },
 "nbformat": 4,
 "nbformat_minor": 5
}
