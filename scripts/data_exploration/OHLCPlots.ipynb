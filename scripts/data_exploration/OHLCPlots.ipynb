{
 "cells": [
  {
   "cell_type": "code",
   "execution_count": null,
   "id": "956fcacb-9aef-4746-b409-036029124cf6",
   "metadata": {
    "pycharm": {
     "name": "#%%\n"
    }
   },
   "outputs": [],
   "source": [
    "import pandas as pd\n",
    "import time\n",
    "import numpy as np\n",
    "import plotly.graph_objects as go\n",
    "from plotly.subplots import make_subplots\n",
    "\n",
    "ROOT = '../../datasets/thesis'"
   ]
  },
  {
   "cell_type": "code",
   "execution_count": null,
   "id": "25e8a064-3b93-4544-b9a5-765f0687aeb0",
   "metadata": {
    "pycharm": {
     "name": "#%%\n"
    }
   },
   "outputs": [],
   "source": [
    "# df = pd.read_csv(f\"{ROOT}/DOGEUSDT_1d.csv\",names=['date', 'tic', 'open', 'high', 'low', 'close', 'volume', 'day'], header=0)"
   ]
  },
  {
   "cell_type": "code",
   "execution_count": null,
   "id": "70f7c956-2dc7-4b13-a922-d98de6f51606",
   "metadata": {
    "pycharm": {
     "name": "#%%\n"
    }
   },
   "outputs": [],
   "source": []
  },
  {
   "cell_type": "code",
   "execution_count": null,
   "id": "6e73ca95-2265-4bd0-be98-060fac4903a6",
   "metadata": {
    "pycharm": {
     "name": "#%%\n"
    }
   },
   "outputs": [],
   "source": [
    "def load_data(filename):\n",
    "    df = pd.read_csv(filename,names=['date', 'tic', 'open', 'high', 'low', 'close', 'volume', 'day'], header=0)\n",
    "    df['diff'] = df['close'] - df['open']\n",
    "    df.loc[df['diff']>=0, 'color'] = 'green'\n",
    "    df.loc[df['diff']<0, 'color'] = 'red'\n",
    "    return df\n",
    "    \n",
    "def plot_line(df, title):\n",
    "    fig = make_subplots(specs=[[{\"secondary_y\": True}]])\n",
    "    fig.add_trace(go.Scatter(x=df['date'],y=df['open'],name='Price'),secondary_y=False)\n",
    "    fig.add_trace(go.Bar(x=df['date'],y=df['volume'],opacity=0.5, name='volume'),secondary_y=True)\n",
    "    fig.update_yaxes(visible=False, secondary_y=True)\n",
    "    fig.update_layout(title_text=title, height=600)\n",
    "    fig.show()\n",
    "\n",
    "def plot_candle(df, title):\n",
    "    fig3 = make_subplots(specs=[[{\"secondary_y\": True}]])\n",
    "    fig3.add_trace(go.Candlestick(x=df['date'], open=df['open'], high=df['high'], low=df['low'], close=df['close'], name='price'))\n",
    "    fig3.add_trace(go.Scatter(x=df['date'],y=df['close'].rolling(window=20).mean(),marker_color='blue',name='20 Day MA'))\n",
    "    fig3.add_trace(go.Bar(x=df['date'], y=df['volume'], name='Volume', opacity=0.5, marker={'color':df['color']}),secondary_y=True)\n",
    "    # fig3.update_yaxes(range=[0,25000000000],secondary_y=True)\n",
    "    fig3.update_layout(xaxis_rangeslider_visible=False, title_text=title, height=600)\n",
    "    fig3.show()\n",
    "# fig.update_layout(height=600, width=800, )"
   ]
  },
  {
   "cell_type": "code",
   "execution_count": null,
   "id": "7c325a7b-9cd1-464d-b633-d73411b6b6b7",
   "metadata": {
    "pycharm": {
     "name": "#%%\n"
    }
   },
   "outputs": [],
   "source": [
    "SYMBOLS = ['BTCUSDT', 'ETHUSDT', 'LTCUSDT', 'AVAXUSDT', 'LINKUSDT', 'UNIUSDT', 'DOGEUSDT', 'SHIBUSDT', 'TLMUSDT', 'AXSUSDT']"
   ]
  },
  {
   "cell_type": "code",
   "execution_count": null,
   "id": "e5a71ff7-4ce8-46aa-912c-70ed33d76a1f",
   "metadata": {
    "pycharm": {
     "name": "#%%\n"
    }
   },
   "outputs": [],
   "source": [
    "for symbol in SYMBOLS:\n",
    "    # symbol = SYMBOLS[0]\n",
    "    df = load_data(f\"{ROOT}/1d/{symbol}_1d.csv\")\n",
    "    plot_candle(df, symbol)"
   ]
  }
 ],
 "metadata": {
  "kernelspec": {
   "display_name": "Python 3 (ipykernel)",
   "language": "python",
   "name": "python3"
  },
  "language_info": {
   "codemirror_mode": {
    "name": "ipython",
    "version": 3
   },
   "file_extension": ".py",
   "mimetype": "text/x-python",
   "name": "python",
   "nbconvert_exporter": "python",
   "pygments_lexer": "ipython3",
   "version": "3.7.13"
  }
 },
 "nbformat": 4,
 "nbformat_minor": 5
}
