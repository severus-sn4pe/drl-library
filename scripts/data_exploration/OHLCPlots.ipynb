{
 "cells": [
  {
   "cell_type": "code",
   "execution_count": null,
   "id": "956fcacb-9aef-4746-b409-036029124cf6",
   "metadata": {
    "pycharm": {
     "name": "#%%\n"
    }
   },
   "outputs": [],
   "source": [
    "import pandas as pd\n",
    "import time\n",
    "import numpy as np\n",
    "import plotly.graph_objects as go\n",
    "from plotly.subplots import make_subplots\n",
    "import mplfinance as mpf\n",
    "import matplotlib.pyplot as plt\n",
    "\n",
    "\n",
    "\n",
    "%matplotlib inline\n",
    "ROOT = '../../datasets/thesis'"
   ]
  },
  {
   "cell_type": "code",
   "execution_count": null,
   "id": "25e8a064-3b93-4544-b9a5-765f0687aeb0",
   "metadata": {
    "pycharm": {
     "name": "#%%\n"
    }
   },
   "outputs": [],
   "source": [
    "# df = pd.read_csv(f\"{ROOT}/DOGEUSDT_1d.csv\",names=['date', 'tic', 'open', 'high', 'low', 'close', 'volume', 'day'], header=0)"
   ]
  },
  {
   "cell_type": "code",
   "execution_count": null,
   "id": "70f7c956-2dc7-4b13-a922-d98de6f51606",
   "metadata": {
    "pycharm": {
     "name": "#%%\n"
    }
   },
   "outputs": [],
   "source": []
  },
  {
   "cell_type": "code",
   "execution_count": null,
   "id": "6e73ca95-2265-4bd0-be98-060fac4903a6",
   "metadata": {
    "pycharm": {
     "name": "#%%\n"
    }
   },
   "outputs": [],
   "source": [
    "def get_symbol(df, symbol):\n",
    "    return df[df['tic'] == symbol].copy()\n",
    "\n",
    "def load_data(filename, names = ['date', 'tic', 'open', 'high', 'low', 'close', 'volume', 'day']):\n",
    "    df = pd.read_csv(filename,names=names, header=0)\n",
    "    df = df.rename(columns={'open':'Open', 'high':'High', 'low': 'Low', 'close':'Close', 'volume':'Volume', 'date': 'Date'})\n",
    "    df.index = pd.to_datetime(df['Date'])\n",
    "    df['diff'] = df['Close'] - df['Open']\n",
    "    df.loc[df['diff']>=0, 'color'] = 'green'\n",
    "    df.loc[df['diff']<0, 'color'] = 'red'\n",
    "    return df\n",
    "    \n",
    "# def plot_line(df, title):\n",
    "#     fig = make_subplots(specs=[[{\"secondary_y\": True}]])\n",
    "#     fig.add_trace(go.Scatter(x=df['date'],y=df['open'],name='Price'),secondary_y=False)\n",
    "#     fig.add_trace(go.Bar(x=df['date'],y=df['volume'],opacity=0.5, name='volume'),secondary_y=True)\n",
    "#     fig.update_yaxes(visible=False, secondary_y=True)\n",
    "#     fig.update_layout(title_text=title, height=600)\n",
    "#     fig.show()\n",
    "\n",
    "# def plot_candle(df, title):\n",
    "#     fig3 = make_subplots(specs=[[{\"secondary_y\": True}]])\n",
    "#     fig3.add_trace(go.Candlestick(x=df['date'], open=df['open'], high=df['high'], low=df['low'], close=df['close'], name='price'))\n",
    "#     fig3.add_trace(go.Scatter(x=df['date'],y=df['close'].rolling(window=20).mean(),marker_color='blue',name='20 Day MA'))\n",
    "#     fig3.add_trace(go.Bar(x=df['date'], y=df['volume'], name='Volume', opacity=0.5, marker={'color':df['color']}),secondary_y=True)\n",
    "#     # fig3.update_yaxes(range=[0,25000000000],secondary_y=True)\n",
    "#     fig3.update_layout(xaxis_rangeslider_visible=False, title_text=title, height=600)\n",
    "#     fig3.show()\n",
    "# # fig.update_layout(height=600, width=800, )"
   ]
  },
  {
   "cell_type": "code",
   "execution_count": null,
   "id": "7c325a7b-9cd1-464d-b633-d73411b6b6b7",
   "metadata": {
    "pycharm": {
     "name": "#%%\n"
    }
   },
   "outputs": [],
   "source": [
    "SYMBOLS = ['BTCUSDT', 'ETHUSDT', 'LTCUSDT', 'AVAXUSDT', 'LINKUSDT', 'UNIUSDT', 'DOGEUSDT', 'SHIBUSDT', 'TLMUSDT', 'AXSUSDT']"
   ]
  },
  {
   "cell_type": "code",
   "execution_count": null,
   "id": "bb78ffba-e68b-4a9a-a0f4-0cb018e30349",
   "metadata": {},
   "outputs": [],
   "source": [
    "all_data = load_data(f\"{ROOT}/crypto_1d_plus.csv\", names=['date','tic','open','high','low','close','volume','day',\n",
    "                                                          'macd','boll_ub','boll_lb', 'rsi_30','cci_30','dx_30',\n",
    "                                                          'close_7_sma','close_30_sma','turbulence'])"
   ]
  },
  {
   "cell_type": "code",
   "execution_count": null,
   "id": "f5f4e7e2-2789-4cf2-b996-5194af67c6b8",
   "metadata": {},
   "outputs": [],
   "source": [
    "symbol = 'BTCUSDT'\n",
    "df = load_data(f\"{ROOT}/1d/{symbol}_1d.csv\")"
   ]
  },
  {
   "cell_type": "code",
   "execution_count": null,
   "id": "9166bbec-0349-4a04-92a6-b9496164a596",
   "metadata": {},
   "outputs": [],
   "source": [
    "symbols = ['AVAXUSDT', 'AXSUSDT', 'BTCUSDT', 'DOGEUSDT', 'ETHUSDT', 'LINKUSDT', 'LTCUSDT', 'SHIBUSDT', 'TLMUSDT', 'UNIUSDT']"
   ]
  },
  {
   "cell_type": "code",
   "execution_count": null,
   "id": "3b421c91-d749-4648-b0b5-76d1be496538",
   "metadata": {},
   "outputs": [],
   "source": [
    "btc = get_symbol(all_data, 'BTCUSDT')"
   ]
  },
  {
   "cell_type": "code",
   "execution_count": null,
   "id": "41a26e0b-57e5-425d-b498-580077b931a8",
   "metadata": {},
   "outputs": [],
   "source": []
  },
  {
   "cell_type": "code",
   "execution_count": null,
   "id": "c0abe006-f854-4180-9d85-1fbd434278b0",
   "metadata": {},
   "outputs": [],
   "source": [
    "def plot_overview(df, title):\n",
    "    # plt_1 = mpf.figure(figsize=(8, 1))\n",
    "    additional_data = [\n",
    "        mpf.make_addplot(df[['close_7_sma','close_30_sma' ]], linestyle='dashdot'),\n",
    "        # mpf.make_addplot(df[['turbulence']],color='red', alpha=0.5),\n",
    "        mpf.make_addplot((df[['rsi_30']]),panel=1,color='g')\n",
    "    ]\n",
    "\n",
    "    mpf.plot(df, type='line', figratio=(12,6),xrotation=90,datetime_format='%d-%m-%Y', volume=True,style='charles', tight_layout=True,\n",
    "            fill_between=dict(y1=df['boll_lb'].values,y2=df['boll_ub'].values,alpha=0.1,color='g'),addplot=additional_data, title=title)\n"
   ]
  },
  {
   "cell_type": "code",
   "execution_count": null,
   "id": "c4c4abd5-4f27-4f3f-b7db-eea002900e82",
   "metadata": {},
   "outputs": [],
   "source": [
    "plot_overview(btc, 'BTC')"
   ]
  },
  {
   "cell_type": "code",
   "execution_count": null,
   "id": "22161b2a-0ace-48d2-b29d-e6a1fa09ad31",
   "metadata": {
    "tags": []
   },
   "outputs": [],
   "source": [
    "for symbol in symbols:\n",
    "    print(symbol)\n",
    "    symbol_data = get_symbol(all_data, symbol)\n",
    "    plot_overview(symbol_data, symbol)"
   ]
  }
 ],
 "metadata": {
  "kernelspec": {
   "display_name": "Python 3 (ipykernel)",
   "language": "python",
   "name": "python3"
  },
  "language_info": {
   "codemirror_mode": {
    "name": "ipython",
    "version": 3
   },
   "file_extension": ".py",
   "mimetype": "text/x-python",
   "name": "python",
   "nbconvert_exporter": "python",
   "pygments_lexer": "ipython3",
   "version": "3.7.15"
  }
 },
 "nbformat": 4,
 "nbformat_minor": 5
}
