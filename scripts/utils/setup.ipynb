{
 "cells": [
  {
   "cell_type": "code",
   "execution_count": null,
   "id": "09dbbf33",
   "metadata": {
    "collapsed": false,
    "jupyter": {
     "outputs_hidden": false
    }
   },
   "outputs": [],
   "source": [
    "import os\n",
    "import requests"
   ]
  },
  {
   "cell_type": "code",
   "execution_count": null,
   "id": "86bc8927-41e7-4697-97b8-59e5b5bd28df",
   "metadata": {},
   "outputs": [],
   "source": [
    "!pip install git+https://github.com/severus-sn4pe/drl-library.git@dev"
   ]
  },
  {
   "cell_type": "code",
   "execution_count": null,
   "id": "e41399a7-6742-4928-8824-77049abc8f16",
   "metadata": {},
   "outputs": [],
   "source": [
    "!git clone --branch fix-empty-dd-plot https://github.com/severus-sn4pe/pyfolio-reloaded"
   ]
  },
  {
   "cell_type": "code",
   "execution_count": null,
   "id": "84585d9b-de56-4287-88dd-0b84ac393e8d",
   "metadata": {},
   "outputs": [],
   "source": [
    "os.chdir('pyfolio-reloaded')"
   ]
  },
  {
   "cell_type": "code",
   "execution_count": null,
   "id": "38dcbba7-2620-4c67-97f3-1941302a1ff3",
   "metadata": {},
   "outputs": [],
   "source": [
    "!pip install ."
   ]
  },
  {
   "cell_type": "code",
   "execution_count": null,
   "id": "5ef1b52b-b811-4003-b04f-95d3ff719abc",
   "metadata": {},
   "outputs": [],
   "source": [
    "os.chdir('..')"
   ]
  },
  {
   "cell_type": "code",
   "execution_count": null,
   "id": "b3017f8f-93f0-4409-89ed-354b5b3af528",
   "metadata": {},
   "outputs": [],
   "source": [
    "!git clone --branch dev https://github.com/severus-sn4pe/drl-library"
   ]
  },
  {
   "cell_type": "code",
   "execution_count": null,
   "id": "a68324f3-118c-4c84-9077-11090149f67a",
   "metadata": {},
   "outputs": [],
   "source": [
    "os.chdir('drl-library')"
   ]
  },
  {
   "cell_type": "code",
   "execution_count": null,
   "id": "d7d7875e-9826-47b6-b83f-c32d0eab06db",
   "metadata": {},
   "outputs": [],
   "source": [
    "pip install -r requirements.txt"
   ]
  },
  {
   "cell_type": "code",
   "execution_count": null,
   "id": "a7d786ff-4eab-4fa9-97e6-ed66995430ff",
   "metadata": {},
   "outputs": [],
   "source": [
    "!pwd"
   ]
  },
  {
   "cell_type": "code",
   "execution_count": null,
   "id": "ed42a079-6dcb-44bf-b220-80f504938d93",
   "metadata": {},
   "outputs": [],
   "source": [
    "os.chdir('datasets/thesis')"
   ]
  },
  {
   "cell_type": "code",
   "execution_count": null,
   "id": "971438c3-66c3-460c-8a6f-26c5ed94a9ea",
   "metadata": {
    "tags": []
   },
   "outputs": [],
   "source": [
    "sets = ['1d', '12h', '6h', '1h']\n",
    "for x in sets:\n",
    "    print(x)\n",
    "    response = requests.get(f'https://data.renold.xyz/drl/thesis/crypto_{x}_parsed.csv')\n",
    "    open(f'crypto_{x}_parsed.csv', \"wb\").write(response.content)\n",
    "    response = requests.get(f'https://data.renold.xyz/drl/thesis/crypto_{x}_plus.csv')\n",
    "    open(f'crypto_{x}_plus.csv', \"wb\").write(response.content)"
   ]
  }
 ],
 "metadata": {
  "kernelspec": {
   "display_name": "Python 3 (ipykernel)",
   "language": "python",
   "name": "python3"
  },
  "language_info": {
   "codemirror_mode": {
    "name": "ipython",
    "version": 3
   },
   "file_extension": ".py",
   "mimetype": "text/x-python",
   "name": "python",
   "nbconvert_exporter": "python",
   "pygments_lexer": "ipython3",
   "version": "3.7.15"
  }
 },
 "nbformat": 4,
 "nbformat_minor": 5
}
