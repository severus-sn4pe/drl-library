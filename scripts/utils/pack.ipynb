{
 "cells": [
  {
   "cell_type": "code",
   "execution_count": null,
   "id": "74f4ce56-7f6c-4e18-b519-6764b9e321da",
   "metadata": {},
   "outputs": [],
   "source": [
    "import zipfile\n",
    "import os\n",
    "\n",
    "def zipdir(path, ziph):\n",
    "    # ziph is zipfile handle\n",
    "    for root, dirs, files in os.walk(path):\n",
    "        for file in files:\n",
    "            ziph.write(os.path.join(root, file), \n",
    "                       os.path.relpath(os.path.join(root, file), \n",
    "                                       os.path.join(path, '..')))\n",
    "\n",
    "\n",
    "input_root = '../..'\n",
    "output_root = 'data'"
   ]
  },
  {
   "cell_type": "code",
   "execution_count": null,
   "id": "c181fc28-c6b6-4b4a-a485-5a13e339653a",
   "metadata": {},
   "outputs": [],
   "source": [
    "with zipfile.ZipFile(f'{output_root}/results.zip', 'w', zipfile.ZIP_DEFLATED) as zipf:\n",
    "    zipdir(f'{input_root}/results/', zipf)"
   ]
  },
  {
   "cell_type": "code",
   "execution_count": null,
   "id": "13d58836-9b74-4600-896c-90fd27291fc0",
   "metadata": {},
   "outputs": [],
   "source": [
    "with zipfile.ZipFile(f'{output_root}/tensorboard_log.zip', 'w', zipfile.ZIP_DEFLATED) as zipf:\n",
    "    zipdir(f'{input_root}/tensorboard_log/', zipf)"
   ]
  },
  {
   "cell_type": "code",
   "execution_count": null,
   "id": "adfda34e-28e9-4358-91ad-323c538efc32",
   "metadata": {},
   "outputs": [],
   "source": [
    "with zipfile.ZipFile(f'{output_root}/trained_models.zip', 'w', zipfile.ZIP_DEFLATED) as zipf:\n",
    "    zipdir(f'{input_root}/trained_models/', zipf)"
   ]
  },
  {
   "cell_type": "code",
   "execution_count": null,
   "id": "187799a2-08eb-4269-b5c8-68e35b8e4a1e",
   "metadata": {},
   "outputs": [],
   "source": [
    "with zipfile.ZipFile(f'{output_root}/eval_log.zip', 'w', zipfile.ZIP_DEFLATED) as zipf:\n",
    "    zipdir(f'{input_root}/eval_log/', zipf)"
   ]
  },
  {
   "cell_type": "code",
   "execution_count": null,
   "id": "a65539ed-f131-4768-ad63-aecd4deed16f",
   "metadata": {},
   "outputs": [],
   "source": [
    "print(\"done\")"
   ]
  }
 ],
 "metadata": {
  "kernelspec": {
   "display_name": "Python 3 (ipykernel)",
   "language": "python",
   "name": "python3"
  },
  "language_info": {
   "codemirror_mode": {
    "name": "ipython",
    "version": 3
   },
   "file_extension": ".py",
   "mimetype": "text/x-python",
   "name": "python",
   "nbconvert_exporter": "python",
   "pygments_lexer": "ipython3",
   "version": "3.7.15"
  }
 },
 "nbformat": 4,
 "nbformat_minor": 5
}
