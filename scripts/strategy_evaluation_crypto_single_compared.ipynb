{
 "cells": [
  {
   "cell_type": "code",
   "execution_count": null,
   "id": "9a4c2f3e-76e9-4ad0-be96-9f86c9598d8a",
   "metadata": {},
   "outputs": [],
   "source": [
    "import pandas as pd\n",
    "import numpy as np\n",
    "import time\n",
    "import matplotlib.pyplot as plt\n",
    "from datetime import timedelta\n",
    "\n",
    "from pylab import rcParams\n",
    "rcParams['figure.figsize'] = 15, 10\n",
    "\n",
    "import plotly.graph_objects as go\n",
    "from plotly.subplots import make_subplots\n",
    "from generate_results_utils import *\n",
    "from datetime import timedelta, date, datetime\n",
    "\n",
    "colors = ['#0080ff', '#009900', \"#ff9933\", \"#911eb4\", \"#46f0f0\", \"#f032e6\", \"#d2f53c\", \"#fabebe\", \"#008080\", \n",
    "          \"#e6beff\", \"#aa6e28\", \"#fffac8\", \"#800000\", \"#aaffc3\", \"#808000\", \"#ffd8b1\", \"#000080\", \"#808080\", \"#ffffff\", \"#000000\", \"#e6194b\", \"#3cb44b\", \"#ffe119\", \"#0082c8\", \"#f58231\"]\n",
    "ensemble_colors = ['#000000', '#0080ff', '#009900', \"#ff9933\", \"#911eb4\", \"#46f0f0\", \"#f032e6\", \"#d2f53c\", \"#fabebe\", \"#008080\", \n",
    "          \"#e6beff\", \"#aa6e28\", \"#fffac8\", \"#800000\", \"#aaffc3\", \"#808000\", \"#ffd8b1\", \"#000080\", \"#808080\", \"#ffffff\", \"#000000\", \"#e6194b\", \"#3cb44b\", \"#ffe119\", \"#0082c8\", \"#f58231\"]\n",
    "\n",
    "start_train = datetime.strptime(\"22.06.2022\", \"%d.%m.%Y\") \n",
    "end_train = start_train + timedelta(days=27) # , hours=23, minutes=59, seconds=59)\n",
    "split_dates = []\n",
    "for i in range(5):\n",
    "    split_dates.append(end_train)\n",
    "    end_train += timedelta(days=28)"
   ]
  },
  {
   "cell_type": "code",
   "execution_count": null,
   "id": "62d03282-4da2-42e9-b79c-0e66d98b8736",
   "metadata": {},
   "outputs": [],
   "source": [
    "split_dates"
   ]
  },
  {
   "cell_type": "code",
   "execution_count": null,
   "id": "c284c826-3265-4a0b-bc4c-e305caabf422",
   "metadata": {},
   "outputs": [],
   "source": [
    "actions_suffix = '_actions.csv'\n",
    "value_suffix = '_state.csv'"
   ]
  },
  {
   "cell_type": "code",
   "execution_count": null,
   "id": "a48d1162-0b63-4f5f-b857-ca5663308299",
   "metadata": {},
   "outputs": [],
   "source": [
    "def get_dfs(names, model, stat_files):\n",
    "    dfs = []\n",
    "    for idx, name in enumerate(names):\n",
    "        strategy_name = f'{model}/{stat_files[idx]}/all'\n",
    "        portfolio_prefix = f'../results/cs_eval/{strategy_name}'\n",
    "\n",
    "        df = pd.read_csv(f\"{portfolio_prefix}{value_suffix}\")  # , index_col=0\n",
    "        df = df.rename(columns={df.columns[0]: 'date'})\n",
    "        df.loc[0, 'date'] = pd.to_datetime(df.loc[1]['date']) - timedelta(days=1)\n",
    "        df['date'] = pd.to_datetime(df['date'])\n",
    "        df['return'] = df['account_value'].pct_change() + 1\n",
    "        df['equity'] = (df['return']).cumprod()\n",
    "        df.loc[0, 'return'] = 1\n",
    "        df.loc[0, 'equity'] = 1\n",
    "        df.index = df['date']\n",
    "        df = df.drop('date', axis=1)\n",
    "\n",
    "        df2 = pd.read_csv(f\"{portfolio_prefix}{actions_suffix}\", index_col=0)\n",
    "        df2.index = pd.to_datetime(df2.index)\n",
    "\n",
    "        df['strategy'] = df['return']\n",
    "        df_strategy = df[['strategy']]         \n",
    "        df_returns = df_strategy.cumprod()\n",
    "        dfs.append(df_returns)\n",
    "    return dfs\n",
    "\n",
    "def get_ensemble(stat_files):\n",
    "    dfs = []\n",
    "    for fname in stat_files:\n",
    "        portfolio_prefix = f'../results/ce/{fname}/all'\n",
    "\n",
    "        df = pd.read_csv(f\"{portfolio_prefix}{value_suffix}\")  # , index_col=0\n",
    "        df = df.rename(columns={df.columns[0]: 'date'})\n",
    "        df.loc[0, 'date'] = pd.to_datetime(df.loc[1]['date']) - timedelta(days=1)\n",
    "        df['date'] = pd.to_datetime(df['date'])\n",
    "        df['return'] = df['account_value'].pct_change() + 1\n",
    "        df['equity'] = (df['return']).cumprod()\n",
    "        df.loc[0, 'return'] = 1\n",
    "        df.loc[0, 'equity'] = 1\n",
    "        df.index = df['date']\n",
    "        df = df.drop('date', axis=1)\n",
    "\n",
    "        # df2 = pd.read_csv(f\"{portfolio_prefix}{actions_suffix}\", index_col=0)\n",
    "        # df2.index = pd.to_datetime(df2.index)\n",
    "\n",
    "        df['strategy'] = df['return']\n",
    "        df_strategy = df[['strategy']]         \n",
    "        df_returns = df_strategy.cumprod()\n",
    "        dfs.append(df_returns)\n",
    "    return dfs\n",
    "\n",
    "def get_benchmark(dfs):\n",
    "    benchmark_returns_1d = '../datasets/thesis/benchmark/1d_benchmark_returns.csv'\n",
    "    df_benchmark = pd.read_csv(f\"{benchmark_returns_1d}\")\n",
    "    df_benchmark.index = pd.to_datetime(df_benchmark['date'])\n",
    "    df_benchmark = df_benchmark.drop('date', axis=1)\n",
    "    df_benchmark = df_benchmark[(df_benchmark.index >= dfs[0].index[0]) & (df_benchmark.index <= dfs[0].index[-1])]\n",
    "    df_benchmark = df_benchmark.cumprod()\n",
    "    return df_benchmark\n",
    "\n",
    "def get_prices(sample_strat):\n",
    "    stock_prices = '../datasets/thesis/1d/all_1d.csv'\n",
    "    df3 = pd.read_csv(stock_prices)\n",
    "    df3['date'] = pd.to_datetime(df3['date'])\n",
    "    # get or column with close price for each stock per tick\n",
    "    df3 = df3.pivot(index=\"date\", columns=\"tic\", values=\"close\")\n",
    "    # limit dataset to portfolio range\n",
    "    df3 = df3[(df3.index >= sample_strat.index[0]) & (df3.index <= sample_strat.index[-1])]\n",
    "    # get relative change from price\n",
    "    df3 = df3.pct_change()\n",
    "    # set first row to 0\n",
    "    df3.loc[df3.iloc[0].name] = 0\n",
    "    # get cumulative return for each stock\n",
    "    df3 = (df3 + 1).cumprod()\n",
    "    return df3\n",
    "\n",
    "def plot_performance(model, names, strats, benchmarks, prices, plot_folder, show_prices=True, save=True, split_dates=[], with_ensemble=False, colors=colors, show=True):    \n",
    "    fig = make_subplots(specs=[[{\"secondary_y\": True}]])\n",
    "        \n",
    "    if show_prices:\n",
    "        for idx, name in enumerate(prices.columns):\n",
    "            fig.add_trace(go.Scatter(x=prices.index,y=prices[name],name=name, showlegend=False, marker={'color':\"#e0e0e0\", 'dash':'dot'}, opacity=0.8),secondary_y=False)\n",
    "\n",
    "    for idx, name in enumerate(names):\n",
    "        cdf = strats[idx]\n",
    "        fig.add_trace(go.Scatter(x=cdf.index,y=cdf['strategy'],name=name, marker_color=colors[idx]),secondary_y=False)\n",
    "\n",
    "    for i, split in enumerate(split_dates):\n",
    "        fig.add_vline(x=split, line_width=2, line_color='#ccc', opacity=0.7)\n",
    "        fig.update_xaxes(showgrid=False)\n",
    "        \n",
    "    # benchmarks = dfs[0][[\"CRP\", \"BAH\", \"MPT\"]]\n",
    "    cs = ['#ff0000', '#8A9A5B', '#36454F', '#A9A9A9']\n",
    "    # for idx, name in enumerate(benchmarks.columns):\n",
    "    fig.add_trace(go.Scatter(x=benchmarks.index,y=benchmarks['BAH'],name='BAH', marker={'color':cs[0]}, line={'dash':'dashdot'}),secondary_y=False)\n",
    "   \n",
    "    fig.update_layout(height=400, template='plotly_white') # title_text=f'{model} Strategy Performance compared to benchmarks', \n",
    "    if show:\n",
    "        fig.show()\n",
    "    if save:\n",
    "        filename_prefix = f\"{plot_folder}/performance_compare_{model}\"\n",
    "        fig.write_html(f\"{filename_prefix}.html\")\n",
    "        fig.write_image(f\"{filename_prefix}.png\", width=1200, scale=2)            "
   ]
  },
  {
   "cell_type": "markdown",
   "id": "307973b3-0910-430c-a0c3-ade26bcf0f9e",
   "metadata": {
    "jp-MarkdownHeadingCollapsed": true,
    "tags": []
   },
   "source": [
    "## Old Plots"
   ]
  },
  {
   "cell_type": "code",
   "execution_count": null,
   "id": "8f0e2d76-bba5-4674-8c1f-993fbb312f19",
   "metadata": {},
   "outputs": [],
   "source": [
    "# names = [\"V213\", \"V219\", \"V221\"]\n",
    "# model = \"A2C\"\n",
    "# stat_files = [\"EVAL_A2C_V213_12201326_200M\", \"EVAL_A2C_V219_12201317_200M\", \"EVAL_A2C_V221_12200914_200M\"]\n",
    "\n",
    "# dfs_a2c = get_dfs(names, model, stat_files)\n",
    "# df_benchmark = get_benchmark(dfs_a2c)\n",
    "# df_prices = get_prices(dfs_a2c[0])\n",
    "\n",
    "# plot_folder = f'../results/cs_eval/{model}'\n",
    "# plot_performance(model, names, dfs_a2c, df_benchmark, df_prices, plot_folder)"
   ]
  },
  {
   "cell_type": "code",
   "execution_count": null,
   "id": "e8d7651f-2bf2-4655-8dea-df018acbcd96",
   "metadata": {},
   "outputs": [],
   "source": []
  },
  {
   "cell_type": "code",
   "execution_count": null,
   "id": "37a22450-dbae-4722-acda-3b57d9de6f7a",
   "metadata": {},
   "outputs": [],
   "source": [
    "# names = [\"V205\", \"V207\", \"V208\"]\n",
    "# model = \"PPO\"\n",
    "# stat_files = [\"EVAL_PPO_V205_12201259_120M\", \"EVAL_PPO_V207_12200935_120M\", \"EVAL_PPO_V208_12200925_120M\"]\n",
    "\n",
    "# dfs_ppo = get_dfs(names, model, stat_files)\n",
    "# df_benchmark = get_benchmark(dfs_ppo)\n",
    "# df_prices = get_prices(dfs_ppo[0])\n",
    "\n",
    "# plot_folder = f'../results/cs_eval/{model}'\n",
    "# plot_performance(model, names, dfs_ppo, df_benchmark, df_prices, plot_folder)"
   ]
  },
  {
   "cell_type": "code",
   "execution_count": null,
   "id": "7f60f378-0322-4c89-aaf6-d3e865383e4a",
   "metadata": {},
   "outputs": [],
   "source": []
  },
  {
   "cell_type": "code",
   "execution_count": null,
   "id": "4fa2e1a5-5b00-4852-a1f4-dcc1c1ad2f47",
   "metadata": {},
   "outputs": [],
   "source": [
    "# names = [\"V203\", \"V213\", \"V214\"]\n",
    "# model = \"TD3\"\n",
    "# stat_files = [\"EVAL_TD3_V203_12201307_12M\", \"EVAL_TD3_V213_12201319_12M\", \"EVAL_TD3_V214_12201313_12M\"]\n",
    "\n",
    "# dfs_td3 = get_dfs(names, model, stat_files)\n",
    "# df_benchmark = get_benchmark(dfs_td3)\n",
    "# df_prices = get_prices(dfs_td3[0])\n",
    "\n",
    "# plot_folder = f'../results/cs_eval/{model}'\n",
    "# plot_performance(model, names, dfs_td3, df_benchmark, df_prices, plot_folder)"
   ]
  },
  {
   "cell_type": "code",
   "execution_count": null,
   "id": "93b6b1c8-afef-453c-ac9f-d1817f87a917",
   "metadata": {},
   "outputs": [],
   "source": [
    "# best = [\"EVAL_A2C_V221_12200914_200M\", \"EVAL_PPO_V208_12200925_120M\", \"EVAL_TD3_V214_12201313_12M\"]\n",
    "# dfs2 = []\n",
    "# dfs2.append(dfs_a2c[2])\n",
    "# dfs2.append(dfs_ppo[2])\n",
    "# dfs2.append(dfs_td3[2])\n",
    "# names = [\"A2C\", \"PPO\", \"TD3\"]\n",
    "# df_benchmark = get_benchmark(dfs2)\n",
    "# df_prices = get_prices(dfs2[0])\n",
    "\n",
    "# plot_folder = f'../results/cs_eval/'\n",
    "# model = \"1D\"\n",
    "# plot_performance(model, names, dfs2, df_benchmark, df_prices, plot_folder, show_prices=False)\n"
   ]
  },
  {
   "cell_type": "code",
   "execution_count": null,
   "id": "65aa29ce-1a52-4760-b013-1f2445f70c95",
   "metadata": {},
   "outputs": [],
   "source": [
    "# cfg = {\n",
    "#     \"A2C\": [\"EVAL_A2C_V221_12200914_200M\"],\n",
    "#     \"PPO\": [\"EVAL_PPO_V208_01121911_1D_180M\"],\n",
    "#     \"TD3\": [\"EVAL_TD3_V214_12201313_12M\"],    \n",
    "# }\n",
    "\n",
    "# dfs2 = []\n",
    "# dfs_a2c = get_dfs([\"A2C\"], \"A2C\", cfg[\"A2C\"])\n",
    "# dfs_ppo = get_dfs([\"PPO\"], \"PPO\", cfg[\"PPO\"])\n",
    "# dfs_td3 = get_dfs([\"TD3\"], \"TD3\", cfg[\"TD3\"])\n",
    "\n",
    "\n",
    "# dfs2.append(dfs_a2c[0])\n",
    "# dfs2.append(dfs_ppo[0])\n",
    "# dfs2.append(dfs_td3[0])\n",
    "# names = [\"A2C\", \"PPO\", \"TD3\"]\n",
    "# df_benchmark = get_benchmark(dfs2)\n",
    "# df_prices = get_prices(dfs2[0])\n",
    "\n",
    "# plot_folder = f'../results/cs_eval/'\n",
    "# model = \"1D\"\n",
    "# plot_performance(model, names, dfs2, df_benchmark, df_prices, plot_folder, show_prices=False, save=True)\n"
   ]
  },
  {
   "cell_type": "code",
   "execution_count": null,
   "id": "c9b9eb07-9d11-4fbc-9e32-ec43480a0af8",
   "metadata": {},
   "outputs": [],
   "source": [
    "# cfg = {\n",
    "#     \"A2C\": [\"EVAL_A2C_V221_01121916_12H_600M\"],\n",
    "#     \"PPO\": [\"EVAL_PPO_V208_01121435_12H_600M\"],\n",
    "#     \"TD3\": [\"EVAL_TD3_V214_01130958_12H_54M\"],    \n",
    "# }\n",
    "\n",
    "# dfs2 = []\n",
    "# dfs_a2c = get_dfs([\"A2C\"], \"A2C\", cfg[\"A2C\"])\n",
    "# dfs_ppo = get_dfs([\"PPO\"], \"PPO\", cfg[\"PPO\"])\n",
    "# dfs_td3 = get_dfs([\"TD3\"], \"TD3\", cfg[\"TD3\"])\n",
    "\n",
    "\n",
    "# dfs2.append(dfs_a2c[0])\n",
    "# dfs2.append(dfs_ppo[0])\n",
    "# dfs2.append(dfs_td3[0])\n",
    "# names = [\"A2C\", \"PPO\", \"TD3\"]\n",
    "# df_benchmark = get_benchmark(dfs2)\n",
    "# df_prices = get_prices(dfs2[0])\n",
    "\n",
    "# plot_folder = f'../results/cs_eval/'\n",
    "# model = \"12H\"\n",
    "# plot_performance(model, names, dfs2, df_benchmark, df_prices, plot_folder, show_prices=False, save=True)\n"
   ]
  },
  {
   "cell_type": "code",
   "execution_count": null,
   "id": "b4057e11-6521-4f5a-8614-800e58acdd24",
   "metadata": {},
   "outputs": [],
   "source": [
    "# cfg = {\n",
    "#     \"A2C\": [\"EVAL_A2C_V221_01121914_6H_550M\"],\n",
    "#     \"PPO\": [\"EVAL_PPO_V208_01121514_6H_550M\"],\n",
    "#     \"TD3\": [\"EVAL_TD3_V214_01130933_6H_54M\"],    \n",
    "# }\n",
    "\n",
    "# dfs2 = []\n",
    "# dfs_a2c = get_dfs([\"A2C\"], \"A2C\", cfg[\"A2C\"])\n",
    "# dfs_ppo = get_dfs([\"PPO\"], \"PPO\", cfg[\"PPO\"])\n",
    "# dfs_td3 = get_dfs([\"TD3\"], \"TD3\", cfg[\"TD3\"])\n",
    "\n",
    "\n",
    "# dfs2.append(dfs_a2c[0])\n",
    "# dfs2.append(dfs_ppo[0])\n",
    "# dfs2.append(dfs_td3[0])\n",
    "# names = [\"A2C\", \"PPO\", \"TD3\"]\n",
    "# df_benchmark = get_benchmark(dfs2)\n",
    "# df_prices = get_prices(dfs2[0])\n",
    "\n",
    "# plot_folder = f'../results/cs_eval/'\n",
    "# model = \"6H\"\n",
    "# plot_performance(model, names, dfs2, df_benchmark, df_prices, plot_folder, show_prices=False, save=True)\n"
   ]
  },
  {
   "cell_type": "code",
   "execution_count": null,
   "id": "5e6fd97f-36f9-4e17-8b93-37da6875f463",
   "metadata": {},
   "outputs": [],
   "source": [
    "# cfg = {\n",
    "#     \"A2C\": [\"EVAL_A2C_V221_01122308_1H_240M\"],\n",
    "#     \"PPO\": [\"EVAL_PPO_V208_01121518_1H_200M\"],\n",
    "#     \"TD3\": [\"EVAL_TD3_V214_01122319_1H_42M\"],    \n",
    "# }\n",
    "\n",
    "# dfs2 = []\n",
    "# dfs_a2c = get_dfs([\"A2C\"], \"A2C\", cfg[\"A2C\"])\n",
    "# dfs_ppo = get_dfs([\"PPO\"], \"PPO\", cfg[\"PPO\"])\n",
    "# dfs_td3 = get_dfs([\"TD3\"], \"TD3\", cfg[\"TD3\"])\n",
    "\n",
    "\n",
    "# dfs2.append(dfs_a2c[0])\n",
    "# dfs2.append(dfs_ppo[0])\n",
    "# dfs2.append(dfs_td3[0])\n",
    "# names = [\"A2C\", \"PPO\", \"TD3\"]\n",
    "# df_benchmark = get_benchmark(dfs2)\n",
    "# df_prices = get_prices(dfs2[0])\n",
    "\n",
    "# plot_folder = f'../results/cs_eval/'\n",
    "# model = \"1H\"\n",
    "# plot_performance(model, names, dfs2, df_benchmark, df_prices, plot_folder, show_prices=False, save=True)\n"
   ]
  },
  {
   "cell_type": "code",
   "execution_count": null,
   "id": "88422d31-81c1-48b8-a758-b4265185088e",
   "metadata": {},
   "outputs": [],
   "source": [
    "# cfg = {\n",
    "#     \"A2C\": [\"EVAL_A2C_V221_01122308_1H_240M\", \"EVAL_A2C_V221_01121914_6H_550M\", \"EVAL_A2C_V221_01121916_12H_600M\", \"EVAL_A2C_V221_12200914_200M\"]\n",
    "# }\n",
    "\n",
    "# names = [\"1H\", \"6H\", \"12H\", \"1D\"]\n",
    "# dfs = get_dfs(names, \"A2C\", cfg[\"A2C\"])\n",
    "\n",
    "\n",
    "# df_benchmark = get_benchmark(dfs)\n",
    "# df_prices = get_prices(dfs[0])\n",
    "\n",
    "# plot_folder = f'../results/cs_eval/'\n",
    "# model = \"All A2C\"\n",
    "# plot_performance(model, names, dfs, df_benchmark, df_prices, plot_folder, show_prices=False, save=True)\n"
   ]
  },
  {
   "cell_type": "code",
   "execution_count": null,
   "id": "c52a9bb7-f9cf-4f96-b616-4180c0622a5b",
   "metadata": {},
   "outputs": [],
   "source": [
    "# cfg = {\n",
    "#     \"PPO\": [\"EVAL_PPO_V208_01121518_1H_200M\", \"EVAL_PPO_V208_01121514_6H_550M\", \"EVAL_PPO_V208_01121435_12H_600M\", \"EVAL_PPO_V208_01121911_1D_180M\"]\n",
    "# }\n",
    "\n",
    "# names = [\"1H\", \"6H\", \"12H\", \"1D\"]\n",
    "# dfs = get_dfs(names, \"PPO\", cfg[\"PPO\"])\n",
    "\n",
    "\n",
    "# df_benchmark = get_benchmark(dfs)\n",
    "# df_prices = get_prices(dfs[0])\n",
    "\n",
    "# plot_folder = f'../results/cs_eval/'\n",
    "# model = \"All PPO\"\n",
    "# plot_performance(model, names, dfs, df_benchmark, df_prices, plot_folder, show_prices=False, save=True)"
   ]
  },
  {
   "cell_type": "code",
   "execution_count": null,
   "id": "3484c7b5-6ca9-47c3-a71b-0089b3bca3e2",
   "metadata": {},
   "outputs": [],
   "source": [
    "# cfg = {\n",
    "#     \"TD3\": [\"EVAL_TD3_V214_01122319_1H_42M\", \"EVAL_TD3_V214_01130933_6H_54M\", \"EVAL_TD3_V214_01130958_12H_54M\", \"EVAL_TD3_V214_12201313_12M\"]\n",
    "# }\n",
    "\n",
    "# names = [\"1H\", \"6H\", \"12H\", \"1D\"]\n",
    "# dfs = get_dfs(names, \"TD3\", cfg[\"TD3\"])\n",
    "\n",
    "\n",
    "# df_benchmark = get_benchmark(dfs)\n",
    "# df_prices = get_prices(dfs[0])\n",
    "\n",
    "# plot_folder = f'../results/cs_eval/'\n",
    "# model = \"All TD3\"\n",
    "# plot_performance(model, names, dfs, df_benchmark, df_prices, plot_folder, show_prices=False, save=True)"
   ]
  },
  {
   "cell_type": "markdown",
   "id": "f77353e4-2c7e-43d9-9f94-c61b98b6ef90",
   "metadata": {},
   "source": [
    "## New Plots"
   ]
  },
  {
   "cell_type": "markdown",
   "id": "21345774-3e52-4cce-ba6b-d05fa2d966a3",
   "metadata": {
    "jp-MarkdownHeadingCollapsed": true,
    "tags": []
   },
   "source": [
    "# Split by Time Res"
   ]
  },
  {
   "cell_type": "code",
   "execution_count": null,
   "id": "39f627d1-3d65-4b4b-b25f-b2c880debcfa",
   "metadata": {},
   "outputs": [],
   "source": [
    "cfg = {\n",
    "    \"A2C\": [\"EVAL_A2C_V221_2301221555_1D_mini_200\"],\n",
    "    \"PPO\": [\"EVAL_PPO_V208_2301180901_1D_short\"],\n",
    "    \"TD3\": [\"EVAL_TD3_V214_2301180652_1D_short\"],    \n",
    "}\n",
    "\n",
    "dfs2 = []\n",
    "dfs_a2c = get_dfs([\"A2C\"], \"A2C\", cfg[\"A2C\"])\n",
    "dfs_ppo = get_dfs([\"PPO\"], \"PPO\", cfg[\"PPO\"])\n",
    "dfs_td3 = get_dfs([\"TD3\"], \"TD3\", cfg[\"TD3\"])\n",
    "\n",
    "\n",
    "dfs2.append(dfs_a2c[0])\n",
    "dfs2.append(dfs_ppo[0])\n",
    "dfs2.append(dfs_td3[0])\n",
    "names = [\"A2C (24h)\", \"PPO (24h)\", \"TD3 (24h)\"]\n",
    "df_benchmark = get_benchmark(dfs2)\n",
    "df_prices = get_prices(dfs2[0])\n",
    "\n",
    "plot_folder = f'../results/cs_eval/'\n",
    "model = \"1D\"\n",
    "plot_performance(model, names, dfs2, df_benchmark, df_prices, plot_folder, show_prices=False, save=True, split_dates=split_dates)\n",
    "\n"
   ]
  },
  {
   "cell_type": "code",
   "execution_count": null,
   "id": "cb86c4a4-a4af-4118-9640-2a885630bbb7",
   "metadata": {},
   "outputs": [],
   "source": [
    "cfg = {\n",
    "    \"A2C\": [\"EVAL_A2C_V221_2301171652_12H_short\"],\n",
    "    \"PPO\": [\"EVAL_PPO_V208_2301171700_12H_short\"],\n",
    "    \"TD3\": [\"EVAL_TD3_V214_2301171757_12H_short\"],    \n",
    "}\n",
    "\n",
    "dfs2 = []\n",
    "dfs_a2c = get_dfs([\"A2C\"], \"A2C\", cfg[\"A2C\"])\n",
    "dfs_ppo = get_dfs([\"PPO\"], \"PPO\", cfg[\"PPO\"])\n",
    "dfs_td3 = get_dfs([\"TD3\"], \"TD3\", cfg[\"TD3\"])\n",
    "\n",
    "\n",
    "dfs2.append(dfs_a2c[0])\n",
    "dfs2.append(dfs_ppo[0])\n",
    "dfs2.append(dfs_td3[0])\n",
    "names = [\"A2C (12h)\", \"PPO (12h)\", \"TD3 (12h)\"]\n",
    "df_benchmark = get_benchmark(dfs2)\n",
    "df_prices = get_prices(dfs2[0])\n",
    "\n",
    "plot_folder = f'../results/cs_eval/'\n",
    "model = \"12H\"\n",
    "plot_performance(model, names, dfs2, df_benchmark, df_prices, plot_folder, show_prices=False, save=True, split_dates=split_dates)\n"
   ]
  },
  {
   "cell_type": "code",
   "execution_count": null,
   "id": "996a7fc0-a0d7-4d7b-9887-bae90b11a135",
   "metadata": {},
   "outputs": [],
   "source": [
    "cfg = {\n",
    "    \"A2C\": [\"EVAL_A2C_V221_2301172001_6H_short\"],\n",
    "    \"PPO\": [\"EVAL_PPO_V208_2301171958_6H_short\"],\n",
    "    \"TD3\": [\"EVAL_TD3_V214_2301172004_6H_short\"],    \n",
    "}\n",
    "\n",
    "dfs2 = []\n",
    "dfs_a2c = get_dfs([\"A2C\"], \"A2C\", cfg[\"A2C\"])\n",
    "dfs_ppo = get_dfs([\"PPO\"], \"PPO\", cfg[\"PPO\"])\n",
    "dfs_td3 = get_dfs([\"TD3\"], \"TD3\", cfg[\"TD3\"])\n",
    "\n",
    "\n",
    "dfs2.append(dfs_a2c[0])\n",
    "dfs2.append(dfs_ppo[0])\n",
    "dfs2.append(dfs_td3[0])\n",
    "names = [\"A2C (6h)\", \"PPO (6h)\", \"TD3 (6h)\"]\n",
    "df_benchmark = get_benchmark(dfs2)\n",
    "df_prices = get_prices(dfs2[0])\n",
    "\n",
    "plot_folder = f'../results/cs_eval/'\n",
    "model = \"6H\"\n",
    "plot_performance(model, names, dfs2, df_benchmark, df_prices, plot_folder, show_prices=False, save=True, split_dates=split_dates)\n"
   ]
  },
  {
   "cell_type": "code",
   "execution_count": null,
   "id": "39b42655-131d-4131-b2c8-d4ea4ec01518",
   "metadata": {},
   "outputs": [],
   "source": [
    "cfg = {\n",
    "    \"A2C\": [\"EVAL_A2C_V221_2301172318_1H_short\"],\n",
    "    \"PPO\": [\"EVAL_PPO_V208_2301172325_1H_short\"],\n",
    "    \"TD3\": [\"EVAL_TD3_V214_2301172224_1H_short\"],    \n",
    "}\n",
    "\n",
    "dfs2 = []\n",
    "dfs_a2c = get_dfs([\"A2C\"], \"A2C\", cfg[\"A2C\"])\n",
    "dfs_ppo = get_dfs([\"PPO\"], \"PPO\", cfg[\"PPO\"])\n",
    "dfs_td3 = get_dfs([\"TD3\"], \"TD3\", cfg[\"TD3\"])\n",
    "\n",
    "\n",
    "dfs2.append(dfs_a2c[0])\n",
    "dfs2.append(dfs_ppo[0])\n",
    "dfs2.append(dfs_td3[0])\n",
    "names = [\"A2C (1h)\", \"PPO (1h)\", \"TD3 (1h)\"]\n",
    "df_benchmark = get_benchmark(dfs2)\n",
    "df_prices = get_prices(dfs2[0])\n",
    "\n",
    "plot_folder = f'../results/cs_eval/'\n",
    "model = \"1H\"\n",
    "plot_performance(model, names, dfs2, df_benchmark, df_prices, plot_folder, show_prices=False, save=True, split_dates=split_dates)\n"
   ]
  },
  {
   "cell_type": "code",
   "execution_count": null,
   "id": "7d58941f-fb92-45e2-9603-018f77dd3dd7",
   "metadata": {},
   "outputs": [],
   "source": [
    "# plot_performance(\"Benchmarks\", [], [], df_benchmark, df_prices, plot_folder, show_prices=False, save=True)"
   ]
  },
  {
   "cell_type": "code",
   "execution_count": null,
   "id": "82320a94-e715-4fb1-8dd9-c25dc3c48633",
   "metadata": {},
   "outputs": [],
   "source": []
  },
  {
   "cell_type": "markdown",
   "id": "8d490e02-9518-4db9-9cc3-c10ddadb7079",
   "metadata": {
    "tags": []
   },
   "source": [
    "# Split By Algorithm"
   ]
  },
  {
   "cell_type": "code",
   "execution_count": null,
   "id": "dafa2b14-1c76-46a4-a322-01fa3c07c855",
   "metadata": {},
   "outputs": [],
   "source": [
    "cfg = {\n",
    "    \"TD3\": [\"EVAL_TD3_V214_2301172224_1H_short\", \"EVAL_TD3_V214_2301172004_6H_short\", \"EVAL_TD3_V214_2301171757_12H_short\", \"EVAL_TD3_V214_2301180652_1D_short\"],\n",
    "    \"PPO\": [\"EVAL_PPO_V208_2301172325_1H_short\", \"EVAL_PPO_V208_2301171958_6H_short\", \"EVAL_PPO_V208_2301171700_12H_short\", \"EVAL_PPO_V208_2301180901_1D_short\"],\n",
    "    \"A2C\": [\"EVAL_A2C_V221_2301172318_1H_short\", \"EVAL_A2C_V221_2301172001_6H_short\", \"EVAL_A2C_V221_2301171652_12H_short\", \"EVAL_A2C_V221_2301221555_1D_mini_200\"],\n",
    "    \"res\": [\"1h\", \"6h\", \"12h\", \"1d\"]\n",
    "}"
   ]
  },
  {
   "cell_type": "code",
   "execution_count": null,
   "id": "b65f351a-8fad-40cb-9856-67fad97859ab",
   "metadata": {},
   "outputs": [],
   "source": [
    "names = [\"TD3 (1h)\", \"TD3 (6h)\", \"TD3 (12h)\", \"TD3 (24h)\"]\n",
    "dfs = get_dfs(names, \"TD3\", cfg[\"TD3\"])\n",
    "\n",
    "df_benchmark = get_benchmark(dfs)\n",
    "df_prices = get_prices(dfs[0])\n",
    "\n",
    "plot_folder = f'../results/cs_eval/'\n",
    "model = \"TD3\"\n",
    "plot_performance(model, names, dfs, df_benchmark, df_prices, plot_folder, show_prices=False, save=True, split_dates=split_dates)"
   ]
  },
  {
   "cell_type": "code",
   "execution_count": null,
   "id": "718f9e48-4603-440c-909b-a3718bd0ca3f",
   "metadata": {},
   "outputs": [],
   "source": [
    "names = [\"PPO (1h)\", \"PPO (6h)\", \"PPO (12h)\", \"PPO (24h)\"]\n",
    "dfs = get_dfs(names, \"PPO\", cfg[\"PPO\"])\n",
    "\n",
    "df_benchmark = get_benchmark(dfs)\n",
    "df_prices = get_prices(dfs[0])\n",
    "\n",
    "plot_folder = f'../results/cs_eval/'\n",
    "model = \"PPO\"\n",
    "plot_performance(model, names, dfs, df_benchmark, df_prices, plot_folder, show_prices=False, save=True, split_dates=split_dates)"
   ]
  },
  {
   "cell_type": "code",
   "execution_count": null,
   "id": "375b2702-6cdb-4bab-a426-0b6b365630dc",
   "metadata": {},
   "outputs": [],
   "source": [
    "names = [\"A2C (1h)\", \"A2C (6h)\", \"A2C (12h)\", \"A2C (24h)\"]\n",
    "dfs = get_dfs(names, \"A2C\", cfg[\"A2C\"])\n",
    "\n",
    "df_benchmark = get_benchmark(dfs)\n",
    "df_prices = get_prices(dfs[0])\n",
    "\n",
    "plot_folder = f'../results/cs_eval/'\n",
    "model = \"A2C\"\n",
    "plot_performance(model, names, dfs, df_benchmark, df_prices, plot_folder, show_prices=False, save=True, split_dates=split_dates)"
   ]
  },
  {
   "cell_type": "markdown",
   "id": "decdd160-5e92-4e58-a86b-0439f53ddb76",
   "metadata": {
    "jp-MarkdownHeadingCollapsed": true,
    "tags": []
   },
   "source": [
    "# Individual Plots"
   ]
  },
  {
   "cell_type": "code",
   "execution_count": null,
   "id": "71b0ccad-5d79-4171-bcd7-e37f503f4d57",
   "metadata": {},
   "outputs": [],
   "source": [
    "cfg = {\n",
    "    \"TD3\": [\"EVAL_TD3_V214_2301172224_1H_short\", \"EVAL_TD3_V214_2301172004_6H_short\", \"EVAL_TD3_V214_2301171757_12H_short\", \"EVAL_TD3_V214_2301180652_1D_short\"],\n",
    "    \"PPO\": [\"EVAL_PPO_V208_2301172325_1H_short\", \"EVAL_PPO_V208_2301171958_6H_short\", \"EVAL_PPO_V208_2301171700_12H_short\", \"EVAL_PPO_V208_2301180901_1D_short\"],\n",
    "    \"A2C\": [\"EVAL_A2C_V221_2301172318_1H_short\", \"EVAL_A2C_V221_2301172001_6H_short\", \"EVAL_A2C_V221_2301171652_12H_short\", \"EVAL_A2C_V221_2301221555_1D_mini_200\"],\n",
    "    \"res\": [\"1h\", \"6h\", \"12h\", \"1d\"]\n",
    "}"
   ]
  },
  {
   "cell_type": "code",
   "execution_count": null,
   "id": "89f2e5c7-35e4-4c16-8f50-556c5a77a6ee",
   "metadata": {},
   "outputs": [],
   "source": [
    "algs = [\"A2C\", \"PPO\", \"TD3\"]\n",
    "plot_folder = f'../results/cs_eval/'\n",
    "for alg in algs:\n",
    "    for idx, res in enumerate(cfg['res']):\n",
    "        my_cfg = [cfg[alg][idx]]\n",
    "        names = [f'{alg} ({res})']\n",
    "        model = f\"single_{alg}_{res}\"     \n",
    "        print(alg, res, cfg[alg][idx], names, my_cfg, model)   \n",
    "        dfs = get_dfs(names, alg, my_cfg)\n",
    "        df_benchmark = get_benchmark(dfs)\n",
    "        df_prices = get_prices(dfs[0])\n",
    "        plot_performance(model, names, dfs, df_benchmark, df_prices, plot_folder, show_prices=False, save=True, split_dates=split_dates, colors=ensemble_colors, show=False)"
   ]
  },
  {
   "cell_type": "code",
   "execution_count": null,
   "id": "6db0bb91-cbc7-47b5-83c1-62ab14a35f00",
   "metadata": {},
   "outputs": [],
   "source": []
  },
  {
   "cell_type": "markdown",
   "id": "3e25ad3e-3b9b-49d1-beb2-3590b81bbe9b",
   "metadata": {
    "jp-MarkdownHeadingCollapsed": true,
    "tags": []
   },
   "source": [
    "# Weights"
   ]
  },
  {
   "cell_type": "code",
   "execution_count": null,
   "id": "22a41d7b-657c-47d3-810c-3c47f1dfc56d",
   "metadata": {},
   "outputs": [],
   "source": []
  },
  {
   "cell_type": "code",
   "execution_count": null,
   "id": "3e13469f-d449-4d66-88fe-58a8c8472b4c",
   "metadata": {},
   "outputs": [],
   "source": []
  },
  {
   "cell_type": "code",
   "execution_count": null,
   "id": "cc69d6e2-89da-48b7-b7d0-5fc8ff2e8de1",
   "metadata": {},
   "outputs": [],
   "source": [
    "def get_weights(run_dir, run_name, res, root_dir='..', file_prefix='all'):\n",
    "    results_dir = f\"{root_dir}/results/{run_dir}/{run_name}\"\n",
    "    results_file_prefix = f\"{results_dir}/{file_prefix}\"\n",
    "    filename = f\"{results_file_prefix}_state.csv\"\n",
    "    \n",
    "    results_account_value = pd.read_csv(filename)\n",
    "    ratios = get_asset_ratios(results_account_value, res)\n",
    "    ratio_values = convert_ratios_to_value(ratios, results_account_value)\n",
    "    \n",
    "    return ratios, ratio_values\n",
    "\n",
    "def generate_weights_for_run(run_dir, run_name, res, root_dir='..', file_prefix='all', save=True, show=False, show_both=False):\n",
    "    \n",
    "    ratios, ratios_full = get_weights(run_dir, run_name, res, root_dir, file_prefix)    \n",
    "    \n",
    "    if save:\n",
    "        weights_norm_file = f\"{results_dir}/weights_normalized.png\"\n",
    "        weights_file = f\"{results_dir}/weights.png\"\n",
    "    else:\n",
    "        weights_norm_file, weights_file = \"\", \"\"\n",
    "    \n",
    "    print_weights(ratios, save_location=weights_norm_file, show=(show and show_both))\n",
    "    print_weights(ratios_full, save_location=weights_file, show=show)\n",
    "    \n",
    "def generate_weights_plot(ratio, names, colors, filename_prefix, show=False, split_dates=[]):\n",
    "    fig = go.Figure()\n",
    "    x = ratio['date']\n",
    "    for idx, name in enumerate(names):\n",
    "        y = ratio[name]\n",
    "        # fill = 'tonexty' if idx > 0 else 'tozeroy'\n",
    "        fig.add_trace(go.Scatter(x=x, y=y, hoverinfo='x+y', mode='lines', name=name.replace('USDT', ''), line=dict(width=0.5, color=colors[idx]), stackgroup='one', legendrank=10-idx))\n",
    "    fig.update_layout(height=400, template='plotly_white') # title_text=f'Weights', \n",
    "    for i, split in enumerate(split_dates):\n",
    "        fig.add_vline(x=split, line_width=2, line_color='#ccc', opacity=0.7)\n",
    "        fig.update_xaxes(showgrid=False)\n",
    "    if show:\n",
    "        fig.show()\n",
    "    if filename_prefix != \"\":\n",
    "        fig.write_html(f\"{filename_prefix}/weights.html\")\n",
    "        fig.write_image(f\"{filename_prefix}/weights.png\", width=1200, scale=1) "
   ]
  },
  {
   "cell_type": "code",
   "execution_count": null,
   "id": "c154d88e-b7e3-494e-bf79-ce35d61c9887",
   "metadata": {},
   "outputs": [],
   "source": [
    "# generate_weights_for_run('cs_eval', 'A2C/EVAL_A2C_V221_2301221555_1D_mini_200', '1d', show=True, save=False)"
   ]
  },
  {
   "cell_type": "code",
   "execution_count": null,
   "id": "8b1f7939-604d-45dd-b335-6a5b6e206200",
   "metadata": {},
   "outputs": [],
   "source": [
    "alg = 'A2C'\n",
    "for idx, run in enumerate(cfg[alg]):\n",
    "    print(run, cfg['res'][idx])\n",
    "    ratios, ratio_values = get_weights('cs_eval', f'{alg}/{run}', cfg['res'][idx])\n",
    "    generate_weights_plot(ratio_values, crypto_names, weight_colors, f\"../results/cs_eval/{alg}/{run}\", split_dates=split_dates)"
   ]
  },
  {
   "cell_type": "code",
   "execution_count": null,
   "id": "f2c8d8ce-d472-4a53-aa81-a76c0f91f716",
   "metadata": {},
   "outputs": [],
   "source": [
    "names"
   ]
  },
  {
   "cell_type": "code",
   "execution_count": null,
   "id": "cd1e0790-0d04-4b3a-b94b-dccfee449bf6",
   "metadata": {},
   "outputs": [],
   "source": [
    "alg = 'PPO'\n",
    "for idx, run in enumerate(cfg[alg]):\n",
    "    print(run, cfg['res'][idx])\n",
    "    ratios, ratio_values = get_weights('cs_eval', f'{alg}/{run}', cfg['res'][idx])\n",
    "    generate_weights_plot(ratio_values, crypto_names, weight_colors, f\"../results/cs_eval/{alg}/{run}\", split_dates=split_dates, show=False) "
   ]
  },
  {
   "cell_type": "code",
   "execution_count": null,
   "id": "ca43cecd-83dc-45ed-91ff-161749c3d35f",
   "metadata": {},
   "outputs": [],
   "source": [
    "alg = 'TD3'\n",
    "for idx, run in enumerate(cfg[alg]):\n",
    "    print(run, cfg['res'][idx])\n",
    "    ratios, ratio_values = get_weights('cs_eval', f'{alg}/{run}', cfg['res'][idx])\n",
    "    generate_weights_plot(ratio_values, crypto_names, weight_colors, f\"../results/cs_eval/{alg}/{run}\", split_dates=split_dates, show=False) "
   ]
  },
  {
   "cell_type": "code",
   "execution_count": null,
   "id": "0f5ac014-1dd4-4ba6-822d-003159a3678d",
   "metadata": {},
   "outputs": [],
   "source": [
    "generate_weights_plot(ratio_values, names, weight_colors, f\"../results/cs_eval/{alg}/{run}\")"
   ]
  },
  {
   "cell_type": "code",
   "execution_count": null,
   "id": "65591727-8e3d-4de8-b586-acb963cb6370",
   "metadata": {},
   "outputs": [],
   "source": []
  },
  {
   "cell_type": "markdown",
   "id": "8b5f138a-8c1d-4e86-a1b5-e9f90c82f917",
   "metadata": {
    "tags": []
   },
   "source": [
    "# Ensemble + Singles"
   ]
  },
  {
   "cell_type": "code",
   "execution_count": null,
   "id": "404052f7-ba01-4614-a64c-6c9b235b152e",
   "metadata": {},
   "outputs": [],
   "source": [
    "cfg = {\n",
    "    \"TD3\": [\"EVAL_TD3_V214_2301172224_1H_short\", \"EVAL_TD3_V214_2301172004_6H_short\", \"EVAL_TD3_V214_2301171757_12H_short\", \"EVAL_TD3_V214_2301180652_1D_short\"],\n",
    "    \"PPO\": [\"EVAL_PPO_V208_2301172325_1H_short\", \"EVAL_PPO_V208_2301171958_6H_short\", \"EVAL_PPO_V208_2301171700_12H_short\", \"EVAL_PPO_V208_2301180901_1D_short\"],\n",
    "    \"A2C\": [\"EVAL_A2C_V221_2301172318_1H_short\", \"EVAL_A2C_V221_2301172001_6H_short\", \"EVAL_A2C_V221_2301171652_12H_short\", \"EVAL_A2C_V221_2301221555_1D_mini_200\"],\n",
    "    \"ensemble\": [\"ce_1h_2301141443_1\", \"ce_6h_2301132259_1\", \"ce_12h_2301132144_1\", \"ce_1d_2301221639_fix\"],\n",
    "    \"res\": [\"1h\", \"6h\", \"12h\", \"1d\"]\n",
    "}"
   ]
  },
  {
   "cell_type": "code",
   "execution_count": null,
   "id": "38b3dc90-5661-4161-8c8d-2b1993c8e6f6",
   "metadata": {},
   "outputs": [],
   "source": [
    "my_cfg = {\n",
    "    \"A2C\": [cfg['A2C'][3]],\n",
    "    \"PPO\": [cfg['PPO'][3]],\n",
    "    \"TD3\": [cfg['TD3'][3]],\n",
    "    \"ensemble\": [cfg['ensemble'][3]],\n",
    "}\n",
    "\n",
    "dfs2 = []\n",
    "dfs_a2c = get_dfs([\"A2C\"], \"A2C\", my_cfg[\"A2C\"])\n",
    "dfs_ppo = get_dfs([\"PPO\"], \"PPO\", my_cfg[\"PPO\"])\n",
    "dfs_td3 = get_dfs([\"TD3\"], \"TD3\", my_cfg[\"TD3\"])\n",
    "dfs_ensemble = get_ensemble(my_cfg['ensemble'])\n",
    "\n",
    "dfs2.append(dfs_ensemble[0])\n",
    "dfs2.append(dfs_a2c[0])\n",
    "dfs2.append(dfs_ppo[0])\n",
    "dfs2.append(dfs_td3[0])\n",
    "\n",
    "names = [\"Ensemble (24h)\", \"A2C (24h)\", \"PPO (24h)\", \"TD3 (24h)\"]\n",
    "df_benchmark = get_benchmark(dfs2)\n",
    "df_prices = get_prices(dfs2[0])\n",
    "\n",
    "plot_folder = f'../results/ce/'\n",
    "model = \"ALL 1D\"\n",
    "plot_performance(model, names, dfs2, df_benchmark, df_prices, plot_folder, show_prices=False, save=True, split_dates=split_dates, colors=ensemble_colors)"
   ]
  },
  {
   "cell_type": "code",
   "execution_count": null,
   "id": "2784ce5f-3845-4913-a3fe-641ff1661b3d",
   "metadata": {},
   "outputs": [],
   "source": [
    "my_cfg = {\n",
    "    \"A2C\": [cfg['A2C'][2]],\n",
    "    \"PPO\": [cfg['PPO'][2]],\n",
    "    \"TD3\": [cfg['TD3'][2]],\n",
    "    \"ensemble\": [cfg['ensemble'][2]],\n",
    "}\n",
    "\n",
    "dfs2 = []\n",
    "dfs_a2c = get_dfs([\"A2C\"], \"A2C\", my_cfg[\"A2C\"])\n",
    "dfs_ppo = get_dfs([\"PPO\"], \"PPO\", my_cfg[\"PPO\"])\n",
    "dfs_td3 = get_dfs([\"TD3\"], \"TD3\", my_cfg[\"TD3\"])\n",
    "dfs_ensemble = get_ensemble(my_cfg['ensemble'])\n",
    "\n",
    "dfs2.append(dfs_ensemble[0])\n",
    "dfs2.append(dfs_a2c[0])\n",
    "dfs2.append(dfs_ppo[0])\n",
    "dfs2.append(dfs_td3[0])\n",
    "\n",
    "names = [\"Ensemble (12h)\", \"A2C (12h)\", \"PPO (12h)\", \"TD3 (12h)\"]\n",
    "df_benchmark = get_benchmark(dfs2)\n",
    "df_prices = get_prices(dfs2[0])\n",
    "\n",
    "plot_folder = f'../results/ce/'\n",
    "model = \"ALL 12H\"\n",
    "plot_performance(model, names, dfs2, df_benchmark, df_prices, plot_folder, show_prices=False, save=True, split_dates=split_dates, colors=ensemble_colors)"
   ]
  },
  {
   "cell_type": "code",
   "execution_count": null,
   "id": "ee985949-ea11-40a0-95ae-a0758456de1f",
   "metadata": {},
   "outputs": [],
   "source": [
    "my_cfg = {\n",
    "    \"A2C\": [cfg['A2C'][1]],\n",
    "    \"PPO\": [cfg['PPO'][1]],\n",
    "    \"TD3\": [cfg['TD3'][1]],\n",
    "    \"ensemble\": [cfg['ensemble'][1]],\n",
    "}\n",
    "\n",
    "dfs2 = []\n",
    "dfs_a2c = get_dfs([\"A2C\"], \"A2C\", my_cfg[\"A2C\"])\n",
    "dfs_ppo = get_dfs([\"PPO\"], \"PPO\", my_cfg[\"PPO\"])\n",
    "dfs_td3 = get_dfs([\"TD3\"], \"TD3\", my_cfg[\"TD3\"])\n",
    "dfs_ensemble = get_ensemble(my_cfg['ensemble'])\n",
    "\n",
    "dfs2.append(dfs_ensemble[0])\n",
    "dfs2.append(dfs_a2c[0])\n",
    "dfs2.append(dfs_ppo[0])\n",
    "dfs2.append(dfs_td3[0])\n",
    "\n",
    "names = [\"Ensemble (6h)\", \"A2C (6h)\", \"PPO (6h)\", \"TD3 (6h)\"]\n",
    "df_benchmark = get_benchmark(dfs2)\n",
    "df_prices = get_prices(dfs2[0])\n",
    "\n",
    "plot_folder = f'../results/ce/'\n",
    "model = \"ALL 6H\"\n",
    "plot_performance(model, names, dfs2, df_benchmark, df_prices, plot_folder, show_prices=False, save=True, split_dates=split_dates, colors=ensemble_colors)"
   ]
  },
  {
   "cell_type": "code",
   "execution_count": null,
   "id": "b5b8d201-2a13-46fa-8da7-f26bbffcc340",
   "metadata": {},
   "outputs": [],
   "source": [
    "my_cfg = {\n",
    "    \"A2C\": [cfg['A2C'][0]],\n",
    "    \"PPO\": [cfg['PPO'][0]],\n",
    "    \"TD3\": [cfg['TD3'][0]],\n",
    "    \"ensemble\": [cfg['ensemble'][0]],\n",
    "}\n",
    "\n",
    "dfs2 = []\n",
    "dfs_a2c = get_dfs([\"A2C\"], \"A2C\", my_cfg[\"A2C\"])\n",
    "dfs_ppo = get_dfs([\"PPO\"], \"PPO\", my_cfg[\"PPO\"])\n",
    "dfs_td3 = get_dfs([\"TD3\"], \"TD3\", my_cfg[\"TD3\"])\n",
    "dfs_ensemble = get_ensemble(my_cfg['ensemble'])\n",
    "\n",
    "dfs2.append(dfs_ensemble[0])\n",
    "dfs2.append(dfs_a2c[0])\n",
    "dfs2.append(dfs_ppo[0])\n",
    "dfs2.append(dfs_td3[0])\n",
    "\n",
    "names = [\"Ensemble (1h)\", \"A2C (1h)\", \"PPO (1h)\", \"TD3 (1h)\"]\n",
    "df_benchmark = get_benchmark(dfs2)\n",
    "df_prices = get_prices(dfs2[0])\n",
    "\n",
    "plot_folder = f'../results/ce/'\n",
    "model = \"ALL 1H\"\n",
    "plot_performance(model, names, dfs2, df_benchmark, df_prices, plot_folder, show_prices=False, save=True, split_dates=split_dates, colors=ensemble_colors)"
   ]
  },
  {
   "cell_type": "code",
   "execution_count": null,
   "id": "29558f03-9600-4285-93ff-d0b81f7c1a2b",
   "metadata": {},
   "outputs": [],
   "source": []
  },
  {
   "cell_type": "code",
   "execution_count": null,
   "id": "53a94175-95b3-4b2b-b71f-9583a415d1d6",
   "metadata": {},
   "outputs": [],
   "source": []
  },
  {
   "cell_type": "code",
   "execution_count": null,
   "id": "d6a18590-223f-4ca7-97f6-b9835d791305",
   "metadata": {},
   "outputs": [],
   "source": []
  },
  {
   "cell_type": "code",
   "execution_count": null,
   "id": "ba6b4bf5-47b4-4f23-bac0-2a7efbcee219",
   "metadata": {},
   "outputs": [],
   "source": []
  }
 ],
 "metadata": {
  "kernelspec": {
   "display_name": "Python 3 (ipykernel)",
   "language": "python",
   "name": "python3"
  },
  "language_info": {
   "codemirror_mode": {
    "name": "ipython",
    "version": 3
   },
   "file_extension": ".py",
   "mimetype": "text/x-python",
   "name": "python",
   "nbconvert_exporter": "python",
   "pygments_lexer": "ipython3",
   "version": "3.8.15"
  }
 },
 "nbformat": 4,
 "nbformat_minor": 5
}
