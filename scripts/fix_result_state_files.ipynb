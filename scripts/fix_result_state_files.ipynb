{
 "cells": [
  {
   "cell_type": "code",
   "execution_count": null,
   "id": "f9909429-a8e0-46c2-b2be-249ce8259756",
   "metadata": {},
   "outputs": [],
   "source": [
    "import pandas as pd\n",
    "from datetime import timedelta, datetime\n",
    "import os"
   ]
  },
  {
   "cell_type": "code",
   "execution_count": null,
   "id": "4cf37c4a-c6fc-4ff5-ad85-5262f5fb592c",
   "metadata": {},
   "outputs": [],
   "source": [
    "ITERATIONS = 6"
   ]
  },
  {
   "cell_type": "code",
   "execution_count": null,
   "id": "d86c5084-8520-49fd-b185-f577250ec834",
   "metadata": {},
   "outputs": [],
   "source": [
    "\n",
    "def get_immediate_subdirectories(a_dir):\n",
    "    return [name for name in os.listdir(a_dir)\n",
    "            if os.path.isdir(os.path.join(a_dir, name))]"
   ]
  },
  {
   "cell_type": "code",
   "execution_count": null,
   "id": "7307834e-37eb-4b43-a8c5-42e2f8918f47",
   "metadata": {},
   "outputs": [],
   "source": [
    "base_path = '../results/ce/ce_6h_2301132259_1'\n",
    "run_dir = 'ce_6h_2301132259_1'\n",
    "run_name = 'ce_6h_2301132259'"
   ]
  },
  {
   "cell_type": "code",
   "execution_count": null,
   "id": "5194bd7f-37d1-488c-997b-7a2bebe46822",
   "metadata": {},
   "outputs": [],
   "source": [
    "res = '6h'"
   ]
  },
  {
   "cell_type": "code",
   "execution_count": null,
   "id": "ef6ddcfc-866b-4712-9500-07923e8740c6",
   "metadata": {},
   "outputs": [],
   "source": [
    "x = 'ce_12h_2301142318_1'\n"
   ]
  },
  {
   "cell_type": "code",
   "execution_count": null,
   "id": "b321de03-148a-4afa-952b-4b0c60853e05",
   "metadata": {},
   "outputs": [],
   "source": [
    "winners = get_winner_list(base_path)"
   ]
  },
  {
   "cell_type": "code",
   "execution_count": null,
   "id": "94f42e8d-acb4-416c-81ce-d5ee2724a84a",
   "metadata": {},
   "outputs": [],
   "source": [
    "dirs = get_immediate_subdirectories('../results/ce/')\n",
    "for dir in dirs:\n",
    "    print(dir)\n",
    "    ds = dir.split('_')\n",
    "    res = ds[1]\n",
    "    run = dir[0:dir.rindex('_')]\n",
    "    base_path = f'../results/ce/{dir}'\n",
    "    winners = get_winner_list(base_path)\n",
    "    c_state = concat_state_files(winners, base_path, run, res)\n",
    "    c_actions = concat_actions_files(winners, base_path, run, res)"
   ]
  },
  {
   "cell_type": "code",
   "execution_count": null,
   "id": "6d89ff52-dab9-439d-8186-bebf6ed237b6",
   "metadata": {},
   "outputs": [],
   "source": [
    "c_state = concat_state_files(winners, base_path, run_name, res)\n",
    "c_actions = concat_actions_files(winners, base_path, run_name, res)"
   ]
  },
  {
   "cell_type": "code",
   "execution_count": null,
   "id": "0ef27ad6-29fc-4f3b-879b-202164c74bbc",
   "metadata": {},
   "outputs": [],
   "source": [
    "def get_delta_fix(negative=False):\n",
    "    hours = 24\n",
    "    if res == '6h':\n",
    "        hours = 6\n",
    "    if res == '12h':\n",
    "        hours = 12\n",
    "    if res == '1h':\n",
    "        hours = 1\n",
    "    if negative:\n",
    "        hours *= -1\n",
    "    return timedelta(hours=hours)\n",
    "\n",
    "def get_winner_list(base_folder):\n",
    "    return pd.read_csv(f\"{base_folder}/all_stats.csv\")['winner'].tolist()\n",
    "    \n",
    "def concat_state_files(winner_models, base_path, run, res, iterations=6):\n",
    "    # concat separate state files from each iteration into one file for the whole run\n",
    "    states = pd.DataFrame()\n",
    "    for iteration in range(iterations):\n",
    "        filename = f\"{base_path}/{run}_iter{iteration}_ensemble_state.csv\"\n",
    "        df_state_iter = pd.read_csv(filename, index_col=0)\n",
    "\n",
    "        df_state_iter['date'] = df_state_iter.index\n",
    "        df_state_iter = df_state_iter.reset_index(drop=True)\n",
    "        df_state_iter.loc[0, 'date'] = (pd.to_datetime(df_state_iter.loc[1]['date']) + get_delta_fix(negative=True)).strftime(\"%Y-%m-%d\" if res == '1d' else \"%Y-%m-%d %X\")\n",
    "        df_state_iter = df_state_iter.set_index('date', drop=True)\n",
    "        df_state_iter['iteration'] = iteration\n",
    "        df_state_iter['model'] = winner_models[iteration]\n",
    "\n",
    "        if states.empty:\n",
    "            states = df_state_iter\n",
    "        else:\n",
    "            states = pd.concat([states, df_state_iter])\n",
    "\n",
    "    # return states\n",
    "    states.to_csv(f\"{base_path}/all_state.csv\")\n",
    "    \n",
    "def concat_actions_files(winner_models, base_path, run, res, iterations=6, stock_dim=10):\n",
    "    # concat separate actions files from each iteration into one file for the whole run\n",
    "    actions = pd.DataFrame()\n",
    "    for iteration in range(iterations):\n",
    "\n",
    "        filename = f\"{base_path}/{run}_iter{iteration}_ensemble_actions.csv\"\n",
    "        df_actions_iter = pd.read_csv(f\"{filename}\")\n",
    "\n",
    "        # add last day for each iteration\n",
    "        last_date = (pd.to_datetime(df_actions_iter.iloc[-1]['date']) + get_delta_fix()).strftime(\"%Y-%m-%d\" if res == '1d' else \"%Y-%m-%d %X\")\n",
    "        last_row = pd.DataFrame([[last_date] + [0] * stock_dim + [-1] * stock_dim])\n",
    "        last_row.columns = df_actions_iter.columns\n",
    "        df_actions_iter = pd.concat([df_actions_iter, last_row])\n",
    "        df_actions_iter['iteration'] = iteration\n",
    "        df_actions_iter['model'] = winner_models[iteration]\n",
    "        if actions.empty:\n",
    "            actions = df_actions_iter\n",
    "        else:\n",
    "            actions = pd.concat([actions, df_actions_iter])\n",
    "        # print(results_base)\n",
    "\n",
    "    actions = actions.reset_index(drop=True)\n",
    "    target_filename = f\"{base_path}/all_actions.csv\"\n",
    "    actions.to_csv(target_filename, index=False)"
   ]
  }
 ],
 "metadata": {
  "kernelspec": {
   "display_name": "Python 3 (ipykernel)",
   "language": "python",
   "name": "python3"
  },
  "language_info": {
   "codemirror_mode": {
    "name": "ipython",
    "version": 3
   },
   "file_extension": ".py",
   "mimetype": "text/x-python",
   "name": "python",
   "nbconvert_exporter": "python",
   "pygments_lexer": "ipython3",
   "version": "3.8.15"
  }
 },
 "nbformat": 4,
 "nbformat_minor": 5
}
