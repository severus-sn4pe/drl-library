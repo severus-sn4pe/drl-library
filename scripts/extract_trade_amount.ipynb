{
 "cells": [
  {
   "cell_type": "code",
   "execution_count": null,
   "id": "31102c86-cbff-4419-a4c2-193d892abd08",
   "metadata": {},
   "outputs": [],
   "source": [
    "import pandas as pd\n",
    "import numpy as np\n"
   ]
  },
  {
   "cell_type": "code",
   "execution_count": null,
   "id": "0f5434c0-5386-449c-b10a-7b65392324b7",
   "metadata": {},
   "outputs": [],
   "source": []
  },
  {
   "cell_type": "code",
   "execution_count": null,
   "id": "125945a5-ca98-4060-98f0-f6d7c1f23e6d",
   "metadata": {},
   "outputs": [],
   "source": []
  },
  {
   "cell_type": "code",
   "execution_count": null,
   "id": "17661bff-cf55-441a-ad46-edbfb9b328da",
   "metadata": {},
   "outputs": [],
   "source": [
    "columns = [\"AVAXUSDT\", \"AXSUSDT\", \"BTCUSDT\", \"DOGEUSDT\", \"ETHUSDT\", \"LINKUSDT\", \"LTCUSDT\", \"SHIBUSDT\", \"TLMUSDT\", \"UNIUSDT\"]\t"
   ]
  },
  {
   "cell_type": "code",
   "execution_count": null,
   "id": "57cd504b-e084-4dcf-97bc-07f82b29b576",
   "metadata": {},
   "outputs": [],
   "source": [
    "df"
   ]
  },
  {
   "cell_type": "code",
   "execution_count": null,
   "id": "a87316a7-8d72-4d0f-9000-b7eeed6ef541",
   "metadata": {},
   "outputs": [],
   "source": []
  },
  {
   "cell_type": "code",
   "execution_count": null,
   "id": "7d6baf1e-c95c-402e-8ef0-65f2f28b110a",
   "metadata": {},
   "outputs": [],
   "source": [
    "np.count_nonzero(df, axis=0)"
   ]
  },
  {
   "cell_type": "code",
   "execution_count": null,
   "id": "9e49ec91-0bd7-45c5-8e6f-c4a10084908e",
   "metadata": {},
   "outputs": [],
   "source": [
    "cfg = {\n",
    "    \"TD3\": [\"EVAL_TD3_V214_2301172224_1H_short\", \"EVAL_TD3_V214_2301172004_6H_short\", \"EVAL_TD3_V214_2301171757_12H_short\", \"EVAL_TD3_V214_2301180652_1D_short\"],\n",
    "    \"PPO\": [\"EVAL_PPO_V208_2301172325_1H_short\", \"EVAL_PPO_V208_2301171958_6H_short\", \"EVAL_PPO_V208_2301171700_12H_short\", \"EVAL_PPO_V208_2301180901_1D_short\"],\n",
    "    \"A2C\": [\"EVAL_A2C_V221_2301172318_1H_short\", \"EVAL_A2C_V221_2301172001_6H_short\", \"EVAL_A2C_V221_2301171652_12H_short\", \"EVAL_A2C_V221_2301221555_1D_mini_200\"],\n",
    "    \"ensemble\": [\"ce_1h_2301141443_1\", \"ce_6h_2301132259_1\", \"ce_12h_2301132144_1\", \"ce_1d_2301221639_fix\"],\n",
    "    \"res\": [\"1h\", \"6h\", \"12h\", \"1d\"]\n",
    "}\n",
    "models = [\"A2C\", \"PPO\", \"TD3\"]"
   ]
  },
  {
   "cell_type": "code",
   "execution_count": null,
   "id": "396e88ba-7f10-4067-8d79-0abb4ece9112",
   "metadata": {},
   "outputs": [],
   "source": [
    "for m in models:\n",
    "    for run in cfg[m]:\n",
    "        df = pd.read_csv(f\"../results/cs_eval/{m}/{run}/all_actions.csv\", index_col=0)\n",
    "        df = df[columns].copy()\n",
    "        trades = np.count_nonzero(df, axis=0).sum()\n",
    "        print(f\"{m} | {run:40s} Trades: {trades:5}\")"
   ]
  },
  {
   "cell_type": "code",
   "execution_count": null,
   "id": "e314ba1b-1e40-47db-86bb-cd6f4aece1bb",
   "metadata": {},
   "outputs": [],
   "source": [
    "for run in cfg[\"ensemble\"]:\n",
    "    df = pd.read_csv(f\"../results/ce/{run}/all_actions.csv\", index_col=0)\n",
    "    df = df[columns].copy()\n",
    "    trades = np.count_nonzero(df, axis=0).sum()\n",
    "    print(f\"{run:40s} Trades: {trades:5}\")"
   ]
  },
  {
   "cell_type": "code",
   "execution_count": null,
   "id": "1348d875-77dc-4405-a9e0-d4616756e93a",
   "metadata": {},
   "outputs": [],
   "source": []
  },
  {
   "cell_type": "code",
   "execution_count": null,
   "id": "9e0fcf15-f105-4eca-8007-c21dc61aa278",
   "metadata": {},
   "outputs": [],
   "source": []
  },
  {
   "cell_type": "code",
   "execution_count": null,
   "id": "823ef4b2-3205-4719-9825-1aafd7d82f5c",
   "metadata": {},
   "outputs": [],
   "source": []
  }
 ],
 "metadata": {
  "kernelspec": {
   "display_name": "Python 3 (ipykernel)",
   "language": "python",
   "name": "python3"
  },
  "language_info": {
   "codemirror_mode": {
    "name": "ipython",
    "version": 3
   },
   "file_extension": ".py",
   "mimetype": "text/x-python",
   "name": "python",
   "nbconvert_exporter": "python",
   "pygments_lexer": "ipython3",
   "version": "3.8.15"
  }
 },
 "nbformat": 4,
 "nbformat_minor": 5
}
