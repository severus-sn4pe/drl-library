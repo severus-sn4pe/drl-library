{
 "cells": [
  {
   "cell_type": "code",
   "execution_count": null,
   "id": "9a4c2f3e-76e9-4ad0-be96-9f86c9598d8a",
   "metadata": {},
   "outputs": [],
   "source": [
    "import pandas as pd\n",
    "import numpy as np\n",
    "import time\n",
    "import matplotlib.pyplot as mpl\n",
    "\n",
    "from pylab import rcParams\n",
    "rcParams['figure.figsize'] = 15, 10\n",
    "\n",
    "import plotly.graph_objects as go\n",
    "from plotly.subplots import make_subplots"
   ]
  },
  {
   "cell_type": "code",
   "execution_count": null,
   "id": "b4e70d1d-28c3-4ad4-96eb-6d7e9785e505",
   "metadata": {},
   "outputs": [],
   "source": [
    "strategy_name = 'A2C_V111_12041115_25M'\n",
    "portfolio_prefix = f'../results/cs/A2C/{strategy_name}'\n",
    "actions_suffix = '_actions.csv'\n",
    "value_suffix = '_portfolio_value.csv'\n",
    "stock_prices = '../datasets/thesis/1d/all_1d.csv'\n",
    "benchmark_returns_1d = '../datasets/thesis/benchmark/1d_benchmark_returns.csv'\n",
    "benchmark_returns_1h = '../datasets/thesis/benchmark/1h_benchmark_returns.csv'\n"
   ]
  },
  {
   "cell_type": "code",
   "execution_count": null,
   "id": "5f43c15b-289a-4b0e-9035-67086d3a6ace",
   "metadata": {},
   "outputs": [],
   "source": [
    "df = pd.read_csv(f\"{portfolio_prefix}{value_suffix}\", index_col=0)\n",
    "df.index = pd.to_datetime(df['date'])\n",
    "df = df.drop('date', axis=1)\n",
    "df['return'] = df['account_value'].pct_change() + 1\n",
    "df['equity'] = (df['return']).cumprod()\n",
    "df.loc[df.iloc[0].name]['return'] = 1\n",
    "df.loc[df.iloc[0].name]['equity'] = 1"
   ]
  },
  {
   "cell_type": "code",
   "execution_count": null,
   "id": "b9d83c79-ecdb-4f73-a080-abba29268e4f",
   "metadata": {},
   "outputs": [],
   "source": [
    "df2 = pd.read_csv(f\"{portfolio_prefix}{actions_suffix}\", index_col=0)\n",
    "df2.index = pd.to_datetime(df2.index)"
   ]
  },
  {
   "cell_type": "code",
   "execution_count": null,
   "id": "e8d7651f-2bf2-4655-8dea-df018acbcd96",
   "metadata": {},
   "outputs": [],
   "source": [
    "df3 = pd.read_csv(stock_prices)\n",
    "df3['date'] = pd.to_datetime(df3['date'])\n",
    "# get or column with close price for each stock per tick\n",
    "df3 = df3.pivot(index=\"date\", columns=\"tic\", values=\"close\")\n",
    "# limit dataset to portfolio range\n",
    "df3 = df3[(df3.index >= df2.index[0]) & (df3.index <= df2.index[-1])]\n",
    "# get relative change from price\n",
    "df3 = df3.pct_change()\n",
    "# set first row to 0\n",
    "df3.loc[df3.iloc[0].name] = 0\n",
    "# get cumulative return for each stock\n",
    "df3 = (df3 + 1).cumprod()"
   ]
  },
  {
   "cell_type": "code",
   "execution_count": null,
   "id": "ed6867e7-9641-4162-8ffa-8bf8f41ca969",
   "metadata": {},
   "outputs": [],
   "source": [
    "names = df3.columns\n",
    "# names = ['AAPL', 'AMGN', 'MRK']\n",
    "# names = ['AAPL']\n",
    "\n",
    "fig = make_subplots(specs=[[{\"secondary_y\": True}]])\n",
    "\n",
    "for name in names:\n",
    "    fig.add_trace(go.Scatter(x=df3.index,y=df3[name],name=name),secondary_y=False)\n",
    "    sell_idx = df2[df2[name] < 0][name].index\n",
    "    buy_idx = df2[df2[name] > 0][name].index\n",
    "    fig.add_trace(go.Scatter(x=buy_idx,y=df3.loc[buy_idx][name],name='buy', mode = 'markers', marker_color='rgba(50, 205, 50, .9)',marker_size=5, showlegend=False),secondary_y=False)\n",
    "    fig.add_trace(go.Scatter(x=sell_idx,y=df3.loc[sell_idx][name],name=f'sell', mode = 'markers', marker_color='rgba(255, 0, 0, .9)',marker_size=5, showlegend=False),secondary_y=False)\n",
    "\n",
    "fig.update_layout(title_text='Buy / Sell Actions', height=800)\n",
    "fig.show()\n",
    "fig.write_html(f\"{portfolio_prefix}_actions_overview.html\")"
   ]
  },
  {
   "cell_type": "code",
   "execution_count": null,
   "id": "37a22450-dbae-4722-acda-3b57d9de6f7a",
   "metadata": {},
   "outputs": [],
   "source": [
    "df_benchmark = pd.read_csv(f\"{benchmark_returns_1h}\")\n",
    "df_benchmark.index = pd.to_datetime(df_benchmark['date'])\n",
    "df_benchmark = df_benchmark.drop('date', axis=1)\n",
    "df_benchmark = df_benchmark[(df_benchmark.index >= df_strategy.index[0]) & (df_benchmark.index <= df_strategy.index[-1])]\n",
    "# df_benchmark = df_benchmark.resample('1h').asfreq().fillna(1)"
   ]
  },
  {
   "cell_type": "code",
   "execution_count": null,
   "id": "f153be01-6fd3-49f8-b411-0ddc593734f0",
   "metadata": {},
   "outputs": [],
   "source": [
    "df['strategy'] = df['return']\n",
    "df_strategy = df[['strategy']] \n",
    "df_benchmark = df_benchmark[(df_benchmark.index >= df_strategy.index[0]) & (df_benchmark.index <= df_strategy.index[-1])]\n",
    "df_returns = df_strategy.merge(df_benchmark, how='left', left_index=True, right_index=True)\n",
    "df_returns = df_returns.cumprod()"
   ]
  },
  {
   "cell_type": "code",
   "execution_count": null,
   "id": "b9bfa206-5921-4e62-90ab-20ac793f9f71",
   "metadata": {},
   "outputs": [],
   "source": []
  },
  {
   "cell_type": "code",
   "execution_count": null,
   "id": "fc7224c3-8228-4c60-b982-306066a708ac",
   "metadata": {},
   "outputs": [],
   "source": [
    "fig = make_subplots(specs=[[{\"secondary_y\": True}]])\n",
    "\n",
    "for name in df_returns.columns:\n",
    "    fig.add_trace(go.Scatter(x=df_returns.index,y=df_returns[name],name=name),secondary_y=False)\n",
    "fig.update_layout(title_text='Strategy Performance compared to benchmarks', height=600)\n",
    "fig.show()\n",
    "fig.write_html(f\"{portfolio_prefix}_performance_compare.html\")"
   ]
  },
  {
   "cell_type": "code",
   "execution_count": null,
   "id": "7f60f378-0322-4c89-aaf6-d3e865383e4a",
   "metadata": {},
   "outputs": [],
   "source": []
  },
  {
   "cell_type": "code",
   "execution_count": null,
   "id": "b2bd05c3-9936-4a1a-87cb-d21a6cda32c4",
   "metadata": {},
   "outputs": [],
   "source": [
    "df_strategy"
   ]
  },
  {
   "cell_type": "code",
   "execution_count": null,
   "id": "4fa2e1a5-5b00-4852-a1f4-dcc1c1ad2f47",
   "metadata": {},
   "outputs": [],
   "source": []
  },
  {
   "cell_type": "code",
   "execution_count": null,
   "id": "93b6b1c8-afef-453c-ac9f-d1817f87a917",
   "metadata": {},
   "outputs": [],
   "source": []
  }
 ],
 "metadata": {
  "kernelspec": {
   "display_name": "Python 3 (ipykernel)",
   "language": "python",
   "name": "python3"
  },
  "language_info": {
   "codemirror_mode": {
    "name": "ipython",
    "version": 3
   },
   "file_extension": ".py",
   "mimetype": "text/x-python",
   "name": "python",
   "nbconvert_exporter": "python",
   "pygments_lexer": "ipython3",
   "version": "3.7.15"
  }
 },
 "nbformat": 4,
 "nbformat_minor": 5
}
