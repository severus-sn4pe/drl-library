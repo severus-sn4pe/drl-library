{
 "cells": [
  {
   "cell_type": "code",
   "execution_count": null,
   "id": "9a4c2f3e-76e9-4ad0-be96-9f86c9598d8a",
   "metadata": {},
   "outputs": [],
   "source": [
    "import pandas as pd\n",
    "import numpy as np\n",
    "import time\n",
    "import matplotlib.pyplot as mpl\n",
    "from datetime import timedelta\n",
    "\n",
    "from pylab import rcParams\n",
    "rcParams['figure.figsize'] = 15, 10\n",
    "\n",
    "import plotly.graph_objects as go\n",
    "from plotly.subplots import make_subplots\n",
    "from generate_results_utils import *\n",
    "\n",
    "colors = [\"#FF0000\", \"#18E3FF\", \"#FFA90C\", \"#D9E501\", \"#0A2DC2\", \"#05A41B\", \"#878787\", \"#935948\", \"#b372fa\", \"#FC12DD\"]\n",
    "bench_colors = [\"#000000\", \"#FF0000\", \"#18E3FF\", \"#FFA90C\", \"#05A41B\"]\n"
   ]
  },
  {
   "cell_type": "code",
   "execution_count": null,
   "id": "b4e70d1d-28c3-4ad4-96eb-6d7e9785e505",
   "metadata": {},
   "outputs": [],
   "source": [
    "# strategy_name = 'A2C/EVAL_A2C_V213_12201326_200M/all'\n",
    "# strategy_name = 'cs_eval/A2C/EVAL_A2C_V221_2301221555_1D_mini_200/all'\n",
    "strategy_name = 'ce/ce_12h_2301132144_1/all'\n",
    "\n",
    "strat_name_clean = 'Ensemble 12h'\n",
    "# strategy_name = 'A2C/A2C_V213_12181020_220M'\n",
    "# portfolio_prefix = f'../results/cs/{strategy_name}'\n",
    "# portfolio_prefix = f'../results/cs_eval/{strategy_name}'\n",
    "portfolio_prefix = f'../results/{strategy_name}'\n",
    "res = '12h'"
   ]
  },
  {
   "cell_type": "code",
   "execution_count": null,
   "id": "5f43c15b-289a-4b0e-9035-67086d3a6ace",
   "metadata": {},
   "outputs": [],
   "source": [
    "df_value = get_portfolio_value(portfolio_prefix)\n",
    "df_actions = get_actions(portfolio_prefix)\n",
    "df_prices = get_prices(df_actions.index[0], df_actions.index[-1], res)\n",
    "df_benchmark = get_benchmark(df_actions.index[0], df_actions.index[-1], res)\n",
    "df_benchmark = df_benchmark[[\"BAH\"]]\n",
    "\n",
    "df_returns = merge_strategy_and_benchmark_returns(df_value, df_benchmark)\n",
    "df_returns = get_cumulative_returns(df_returns)"
   ]
  },
  {
   "cell_type": "code",
   "execution_count": null,
   "id": "ed6867e7-9641-4162-8ffa-8bf8f41ca969",
   "metadata": {},
   "outputs": [],
   "source": [
    "names = df_prices.columns\n",
    "\n",
    "fig = make_subplots(specs=[[{\"secondary_y\": True}]])\n",
    "\n",
    "for idx, name in enumerate(names):\n",
    "    fig.add_trace(go.Scatter(x=df_prices.index,y=df_prices[name],name=name, marker_color=colors[idx]),secondary_y=False)  #\n",
    "    sell_idx = df_actions[df_actions[name] < 0][name].index\n",
    "    buy_idx = df_actions[df_actions[name] > 0][name].index\n",
    "    fig.add_trace(go.Scatter(x=buy_idx,y=df_prices.loc[buy_idx][name],\n",
    "                             name='buy', mode = 'markers', marker_color='rgba(50, 205, 50, .9)',\n",
    "                             marker_size=5, showlegend=False),\n",
    "                  secondary_y=False)\n",
    "    fig.add_trace(go.Scatter(x=sell_idx,y=df_prices.loc[sell_idx][name],\n",
    "                             name=f'sell', mode = 'markers', marker_color='rgba(255, 0, 0, .9)',\n",
    "                             marker_size=5, showlegend=False),\n",
    "                  secondary_y=False)\n",
    "\n",
    "fig.update_layout(title_text='Buy / Sell Actions', height=800, template='plotly_white')\n",
    "fig.write_html(f\"{portfolio_prefix}_actions_overview.html\")\n",
    "fig.show()"
   ]
  },
  {
   "cell_type": "code",
   "execution_count": null,
   "id": "fc7224c3-8228-4c60-b982-306066a708ac",
   "metadata": {},
   "outputs": [],
   "source": [
    "fig = make_subplots(specs=[[{\"secondary_y\": True}]])\n",
    "\n",
    "# for idx, name in enumerate(names):\n",
    "#     fig.add_trace(go.Scatter(x=df_prices.index,y=df_prices[name],name=name, marker_color=\"#ccc\"),secondary_y=False) \n",
    "    \n",
    "for idx, name in enumerate(df_returns.columns):\n",
    "    if idx == 0:\n",
    "        opacity = 1\n",
    "        legend_name = strat_name_clean\n",
    "    else:\n",
    "        opacity = 0.8\n",
    "        legend_name = name\n",
    "    fig.add_trace(go.Scatter(x=df_returns.index,y=df_returns[name],name=legend_name, marker_color=bench_colors[idx], opacity=opacity),secondary_y=False)\n",
    "    fig.update_traces(connectgaps=True)\n",
    "\n",
    "fig.update_layout(height=600, template='plotly_white')\n",
    "fig.show()\n",
    "filename = f\"{portfolio_prefix}_performance_compare\"\n",
    "fig.write_html(f\"{filename}.html\")\n",
    "fig.write_image(f\"{filename}.png\", width=1200, scale=2)"
   ]
  },
  {
   "cell_type": "code",
   "execution_count": null,
   "id": "93b6b1c8-afef-453c-ac9f-d1817f87a917",
   "metadata": {},
   "outputs": [],
   "source": []
  }
 ],
 "metadata": {
  "kernelspec": {
   "display_name": "Python 3 (ipykernel)",
   "language": "python",
   "name": "python3"
  },
  "language_info": {
   "codemirror_mode": {
    "name": "ipython",
    "version": 3
   },
   "file_extension": ".py",
   "mimetype": "text/x-python",
   "name": "python",
   "nbconvert_exporter": "python",
   "pygments_lexer": "ipython3",
   "version": "3.8.15"
  }
 },
 "nbformat": 4,
 "nbformat_minor": 5
}
