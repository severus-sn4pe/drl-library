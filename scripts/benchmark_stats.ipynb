{
 "cells": [
  {
   "cell_type": "markdown",
   "id": "7221cdd9-7804-4fa7-90f4-bd71d5907745",
   "metadata": {},
   "source": [
    "# Plotting Results of Crypto Strategy\n"
   ]
  },
  {
   "cell_type": "code",
   "execution_count": null,
   "id": "17d95839-fa51-42ed-9de8-f725f3230540",
   "metadata": {
    "pycharm": {
     "name": "#%%\n"
    }
   },
   "outputs": [],
   "source": [
    "# from config import general as config\n",
    "# from config import crypto\n",
    "import pandas as pd\n",
    "import numpy as np\n",
    "# matplotlib.use('Agg')\n",
    "%matplotlib inline\n",
    "import pyfolio\n",
    "import matplotlib.pyplot as plt\n",
    "from pyfolio import timeseries\n",
    "from datetime import datetime\n",
    "import empyrical as ep\n",
    "# from finrl.plot import backtest_stats, get_daily_return # , backtest_plot, get_daily_return, get_baseline\n",
    "\n",
    "import warnings\n",
    "warnings.simplefilter(action='ignore', category=FutureWarning)"
   ]
  },
  {
   "cell_type": "code",
   "execution_count": null,
   "id": "37b8a9d6-5e23-4140-9074-7b3b60bf7162",
   "metadata": {},
   "outputs": [],
   "source": [
    "def backtest_stats_intraday(daily_returns):\n",
    "    # pyfolio perf_stats() doesnt handle 365-day data for a year\n",
    "    # perf_stats_all = timeseries.perf_stats(returns=daily_returns, positions=None, transactions=None, turnover_denom=\"AGB\")   \n",
    "    stats = {}\n",
    "    stats['min_date'] = str(daily_returns.index[0].strftime(\"%Y-%m-%d %H:%M\"))\n",
    "    stats['max_date'] = str(daily_returns.index[-1].strftime(\"%Y-%m-%d %H:%M\"))\n",
    "    stats['cum_ret'] = (daily_returns + 1).prod() - 1\n",
    "    stats['ann_ret'] = ep.annual_return(daily_returns, annualization=365)    \n",
    "    stats['ann_vol'] = ep.annual_volatility(daily_returns, annualization=365)\n",
    "    stats['sharpe'] = ep.sharpe_ratio(daily_returns, risk_free=0, annualization=365)\n",
    "    stats['sortino'] = ep.sortino_ratio(daily_returns, annualization=365)    \n",
    "    stats['max_dd'] = ep.max_drawdown(daily_returns)    \n",
    "    return stats\n",
    "\n",
    "def print_baseline(name, stats):\n",
    "    print(\"============== Baseline Benchmark ===========\")\n",
    "    print(f\"Model:        {name}\")\n",
    "    print(f\"Date Range:   {stats['min_date']} - {stats['max_date']}\")\n",
    "    print(f\"-----------------------------------------------------\")    \n",
    "    print(f\"Cumulative Return :   {stats['cum_ret']:7.4f}\")\n",
    "    print(f\"Annual Return     :   {stats['ann_ret']:7.4f}\")\n",
    "    print(f\"Annual Volatility :   {stats['ann_vol']:7.4f}\")\n",
    "    print(f\"Sharpe ratio      :   {stats['sharpe']:7.4f}\")\n",
    "    print(f\"Sortino ratio     :   {stats['sortino']:7.4f}\")\n",
    "    print(f\"Max Drawdown      :   {stats['max_dd']:7.4f}\")\n",
    "    \n",
    "def generate_backtest_results_crypto(acc_val, strat_name, model_name, run_name, printstats=True):\n",
    "    \n",
    "    acc_val['date'] = pd.to_datetime(acc_val['date'])\n",
    "    time_res = get_time_resolution(acc_val.iloc[0]['date'], acc_val.iloc[1]['date'])\n",
    "    \n",
    "    print(\"============== Backtest Results ===========\")\n",
    "    daily_returns = get_daily_return_from_intraday(acc_val, value_col_name=\"account_value\")\n",
    "    stats = backtest_stats_intraday(daily_returns)\n",
    "    \n",
    "    parsed_stats = {}\n",
    "    parsed_stats['strategy'] = strat_name\n",
    "    parsed_stats['model'] = model_name\n",
    "    parsed_stats['run_name'] = run_name\n",
    "    parsed_stats['min_date'] = stats['min_date']\n",
    "    parsed_stats['max_date'] = stats['max_date']\n",
    "    parsed_stats['res'] = time_res\n",
    "    parsed_stats['cum_ret'] = stats['cum_ret']\n",
    "    parsed_stats['ann_ret'] = stats['ann_ret']\n",
    "    parsed_stats['ann_vol'] = stats['ann_vol']\n",
    "    parsed_stats['sharpe'] = stats['sharpe']\n",
    "    parsed_stats['sortino'] = stats['sortino']\n",
    "    parsed_stats['max_dd'] = stats['max_dd']\n",
    "    parsed_stats['created'] = datetime.now().strftime(\"%Y-%m-%d %H:%M\")\n",
    "\n",
    "    if printstats:\n",
    "        print_stats(parsed_stats)\n",
    "    # append_stats(parsed_stats)\n",
    "    # perf_stats_df = pd.DataFrame(perf_stats_intraday)\n",
    "    # perf_stats_df.to_csv(f\"{RESULTS_FILE_PREFIX}_perf_stats.csv\")\n",
    "    return stats, daily_returns, parsed_stats\n",
    "\n",
    "def get_baseline(names, return_idx=0):\n",
    "    single_baselines = []\n",
    "    start = '2022-06-22'\n",
    "    end = '2022-12-01'\n",
    "    selected_baseline = None\n",
    "\n",
    "    for i, baseline_name in enumerate(names):\n",
    "        baseline_returns = get_baseline_returns_crypto(baseline_name, start, end)\n",
    "        if i == return_idx:\n",
    "            selected_baseline = baseline_returns\n",
    "        x = pd.DataFrame(backtest_stats_intraday(baseline_returns), index=[baseline_name])\n",
    "        single_baselines.append(x)\n",
    "\n",
    "    baseline_stats = pd.concat(single_baselines)\n",
    "    return baseline_stats, selected_baseline\n",
    "\n",
    "def get_baseline_returns_crypto(baseline_strategy='MPT', start='2022-06-01 00:00:00', end='2022-11-01 23:59:59'):\n",
    "    df = pd.read_csv(f\"../datasets/thesis/benchmark/1d_benchmark_returns.csv\", index_col=0)\n",
    "    df.index = pd.to_datetime(df.index)\n",
    "    baseline = df[baseline_strategy]\n",
    "    baseline = baseline -1\n",
    "    baseline = baseline[(baseline.index >= start ) & (baseline.index <= end)]\n",
    "    return baseline"
   ]
  },
  {
   "cell_type": "code",
   "execution_count": null,
   "id": "627062c9-9971-4ddc-87a9-8aa618a2dc85",
   "metadata": {},
   "outputs": [],
   "source": [
    "RESULTS_PREFIX = '../results/benchmark/BAH'\n",
    "baseline_index = 1\n",
    "baseline_stats, baseline_returns = get_baseline(['MPT', 'BAH', 'CRP'], baseline_index)\n",
    "# baseline_stats.to_csv(f\"results/baseline.csv\")\n",
    "# pd.concat([pd.DataFrame(stats, index=['strategy']), baseline_stats]).T\n",
    "print_baseline(baseline_returns.name, baseline_stats.iloc[baseline_index])"
   ]
  },
  {
   "cell_type": "code",
   "execution_count": null,
   "id": "c0a0be77-ead7-4f76-bf53-50b4100f1e86",
   "metadata": {},
   "outputs": [],
   "source": [
    "baseline_stats.to_csv('../results/benchmark/benchmark_performance.csv')"
   ]
  },
  {
   "cell_type": "code",
   "execution_count": null,
   "id": "c761e6a7-78b4-4c39-989b-3de960504b76",
   "metadata": {},
   "outputs": [],
   "source": [
    "baseline_stats"
   ]
  },
  {
   "cell_type": "code",
   "execution_count": null,
   "id": "5ead6f64-0bc0-4190-9607-f258e79b7f45",
   "metadata": {},
   "outputs": [],
   "source": [
    "pyfolio.plotting.show_worst_drawdown_periods(baseline_returns)"
   ]
  },
  {
   "cell_type": "code",
   "execution_count": null,
   "id": "d58f564d-531e-4408-9ff6-30099b67d1e2",
   "metadata": {},
   "outputs": [],
   "source": [
    "pyfolio.tears.create_interesting_times_tear_sheet(baseline_returns, set_context=False)"
   ]
  },
  {
   "cell_type": "code",
   "execution_count": null,
   "id": "58838510-4d5e-48f7-b4ef-d9138661fb78",
   "metadata": {},
   "outputs": [],
   "source": [
    "fig, ax = plt.subplots(1, figsize=(15,5))\n",
    "pyfolio.plotting.plot_drawdown_periods(baseline_returns, top=5, ax=ax)\n",
    "plt.savefig(f\"{RESULTS_PREFIX}_stats_drawdown_periods.png\")"
   ]
  },
  {
   "cell_type": "code",
   "execution_count": null,
   "id": "2811f99e-e2cd-4f4f-8cf2-16ce81da6eca",
   "metadata": {},
   "outputs": [],
   "source": [
    "fig, ax = plt.subplots(1, figsize=(15,5))\n",
    "ax = pyfolio.plotting.plot_drawdown_underwater(returns=baseline_returns, ax=ax)\n",
    "plt.savefig(f\"{RESULTS_PREFIX}_stats_underwater.png\")"
   ]
  },
  {
   "cell_type": "code",
   "execution_count": null,
   "id": "c9939043-f87b-4fc7-abfd-145fef465b33",
   "metadata": {},
   "outputs": [],
   "source": [
    "fig, ax = plt.subplots(1, figsize=(5,5))\n",
    "ax = pyfolio.plotting.plot_monthly_returns_heatmap(baseline_returns, ax=ax)"
   ]
  },
  {
   "cell_type": "code",
   "execution_count": null,
   "id": "da84ead0-4486-4dba-a88c-26daa1d8e9e5",
   "metadata": {},
   "outputs": [],
   "source": []
  }
 ],
 "metadata": {
  "kernelspec": {
   "display_name": "Python 3 (ipykernel)",
   "language": "python",
   "name": "python3"
  },
  "language_info": {
   "codemirror_mode": {
    "name": "ipython",
    "version": 3
   },
   "file_extension": ".py",
   "mimetype": "text/x-python",
   "name": "python",
   "nbconvert_exporter": "python",
   "pygments_lexer": "ipython3",
   "version": "3.8.15"
  }
 },
 "nbformat": 4,
 "nbformat_minor": 5
}
