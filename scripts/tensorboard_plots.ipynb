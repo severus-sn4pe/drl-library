{
 "cells": [
  {
   "cell_type": "code",
   "execution_count": null,
   "id": "39ecf9f4-b941-49a5-9a2a-4771df8026ca",
   "metadata": {},
   "outputs": [],
   "source": [
    "import pandas as pd\n",
    "import matplotlib.pyplot as plt\n",
    "import matplotlib as mpl\n",
    "import numpy as np\n",
    "import seaborn as sns\n",
    "sns.set_theme(style=\"whitegrid\")\n"
   ]
  },
  {
   "cell_type": "code",
   "execution_count": null,
   "id": "33f0134e-b634-41fb-a419-4f8c15c78bf3",
   "metadata": {},
   "outputs": [],
   "source": [
    "base = '../logs_parsed'\n",
    "cfgs = ['V201', 'V202', 'V203', 'V204', 'V205', 'V206', 'V207', 'V208', 'V209', 'V210', 'V211']\n",
    "model = 'A2C'\n",
    "COLORS = ['#e6194B', '#3cb44b', '#ffe119', '#4363d8', '#f58231', '#911eb4', '#42d4f4', '#f032e6', '#bfef45', '#fabed4', '#469990', '#dcbeff', '#9A6324', '#fffac8', '#800000', '#aaffc3', '#808000', '#000075', '#a9a9a9', '#000000']"
   ]
  },
  {
   "cell_type": "code",
   "execution_count": null,
   "id": "d4481f26-3681-4426-b8d1-384136995aa3",
   "metadata": {},
   "outputs": [],
   "source": [
    "def smooth(col, factor=0.5):\n",
    "    return col.ewm(alpha=factor).mean()"
   ]
  },
  {
   "cell_type": "code",
   "execution_count": null,
   "id": "dee63ba1-df1f-4672-8ddb-bdd578d06d4c",
   "metadata": {},
   "outputs": [],
   "source": [
    "data = []\n",
    "for cfg in cfgs:\n",
    "    data.append(pd.read_csv(f\"{base}/{model}_{cfg}.csv\", index_col=0))"
   ]
  },
  {
   "cell_type": "code",
   "execution_count": null,
   "id": "3d6e0368-858b-4f02-9f1d-9800e45dd08d",
   "metadata": {},
   "outputs": [],
   "source": [
    "data[0].columns"
   ]
  },
  {
   "cell_type": "code",
   "execution_count": null,
   "id": "d52d0fd6-7809-4e5a-804b-82a6f4bc3b51",
   "metadata": {},
   "outputs": [],
   "source": []
  },
  {
   "cell_type": "code",
   "execution_count": null,
   "id": "626ccfbe-eb6a-4829-ac94-13f1ea814900",
   "metadata": {},
   "outputs": [],
   "source": [
    "cols = ['episode-reward', 'sharpe', 'sortino', 'missed_trades', 'trades', 'fps', \n",
    "        'entropy_loss', 'explained_variance', 'learning_rate', 'policy_loss', 'reward', 'std', 'value_loss']"
   ]
  },
  {
   "cell_type": "code",
   "execution_count": null,
   "id": "fbdc7cbe-dcec-4f89-a745-a89d9de329cc",
   "metadata": {},
   "outputs": [],
   "source": [
    "def plot_all(dfs, labels, column, xaxis='episode', smooth_factor=0.2, linewidth=1):\n",
    "    fig = plt.figure(figsize=(15, 4))\n",
    "    for idx, d in enumerate(dfs):\n",
    "        # d = data[0]\n",
    "        # plt.plot(d.index, d.missed_trades, label=cfgs[idx])\n",
    "        plt.plot(d[xaxis], smooth(d[column], factor=smooth_factor), label=labels[idx], alpha=0.9, color=COLORS[idx], linewidth=linewidth)\n",
    "        # plt.plot(d[xaxis], d[column], label=labels[idx], alpha=0.9, color=COLORS[idx], linewidth=1)\n",
    "        # plt.tight_layout(pad=0)\n",
    "        plt.legend(loc='upper right', ncol=int(np.ceil(len(cfgs)/2)))\n",
    "        plt.title(label=column)\n",
    "        plt.margins(x=0.01)\n"
   ]
  },
  {
   "cell_type": "code",
   "execution_count": null,
   "id": "785ee14c-2ba8-4a79-88df-e34961af57d1",
   "metadata": {},
   "outputs": [],
   "source": [
    "# plot_all(data, cfgs, 'missed_trades', smooth_factor=0.01, linewidth=2)"
   ]
  },
  {
   "cell_type": "code",
   "execution_count": null,
   "id": "2504f61b-50cb-4791-966b-165fb0a4efb9",
   "metadata": {},
   "outputs": [],
   "source": [
    "\n",
    "for col in cols:\n",
    "    plot_all(data, cfgs, col, smooth_factor=0.01, linewidth=1)"
   ]
  },
  {
   "cell_type": "code",
   "execution_count": null,
   "id": "da4a972b-1399-41ea-9609-f0434ad1e625",
   "metadata": {},
   "outputs": [],
   "source": [
    "COLORS[17]"
   ]
  },
  {
   "cell_type": "code",
   "execution_count": null,
   "id": "47d0abb4-a5e1-4205-af01-df268f913dbf",
   "metadata": {},
   "outputs": [],
   "source": []
  },
  {
   "cell_type": "code",
   "execution_count": null,
   "id": "3e455372-a389-42e8-bd3c-4b0893852bed",
   "metadata": {},
   "outputs": [],
   "source": []
  }
 ],
 "metadata": {
  "kernelspec": {
   "display_name": "Python 3 (ipykernel)",
   "language": "python",
   "name": "python3"
  },
  "language_info": {
   "codemirror_mode": {
    "name": "ipython",
    "version": 3
   },
   "file_extension": ".py",
   "mimetype": "text/x-python",
   "name": "python",
   "nbconvert_exporter": "python",
   "pygments_lexer": "ipython3",
   "version": "3.7.15"
  }
 },
 "nbformat": 4,
 "nbformat_minor": 5
}
