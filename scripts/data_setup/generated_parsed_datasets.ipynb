{
 "cells": [
  {
   "cell_type": "markdown",
   "metadata": {
    "pycharm": {
     "name": "#%% md\n"
    }
   },
   "source": [
    "# Parse Crypto Dataset\n",
    "\n",
    "generates dataset preloaded with indicators to speed up training / testing without having the need to recalculate all indicators each time"
   ]
  },
  {
   "cell_type": "code",
   "execution_count": null,
   "metadata": {},
   "outputs": [],
   "source": [
    "import sys\n",
    "sys.path.append('../../')"
   ]
  },
  {
   "cell_type": "code",
   "execution_count": null,
   "metadata": {},
   "outputs": [],
   "source": []
  },
  {
   "cell_type": "code",
   "execution_count": null,
   "metadata": {
    "collapsed": false,
    "jupyter": {
     "outputs_hidden": false
    },
    "pycharm": {
     "name": "#%%\n"
    }
   },
   "outputs": [],
   "source": [
    "from lib.drl import load_dataset\n",
    "import pandas as pd\n",
    "from datetime import datetime\n",
    "import time\n",
    "\n",
    "ROOT_DIR = '../..'"
   ]
  },
  {
   "cell_type": "code",
   "execution_count": null,
   "metadata": {},
   "outputs": [],
   "source": [
    "res = '1min'"
   ]
  },
  {
   "cell_type": "code",
   "execution_count": null,
   "metadata": {},
   "outputs": [],
   "source": [
    "INDICATORS = [\"macd\", \"rsi_30\", \"cci_30\", \"dx_30\"]\n",
    "print(f\"Started at {str(datetime.now())}\")\n",
    "start_time = time.time()\n",
    "\n",
    "df = load_dataset(f'{ROOT_DIR}/datasets/thesis/{res}/all_{res}.csv', INDICATORS, use_turbulence=True, use_vix=False, time_interval=res)\n",
    "\n",
    "end_time = time.time()\n",
    "print(f\"done in {(end_time-start_time):.2f}s at {str(datetime.now())}\")\n",
    "df.to_csv(f'{ROOT_DIR}/datasets/thesis/crypto_{res}_parsed.csv')"
   ]
  },
  {
   "cell_type": "code",
   "execution_count": null,
   "metadata": {},
   "outputs": [],
   "source": []
  },
  {
   "cell_type": "code",
   "execution_count": null,
   "metadata": {},
   "outputs": [],
   "source": []
  },
  {
   "cell_type": "code",
   "execution_count": null,
   "metadata": {
    "pycharm": {
     "name": "#%%\n"
    }
   },
   "outputs": [],
   "source": [
    "INDICATORS = ['macd', 'boll_ub', 'boll_lb', 'rsi_30', 'cci_30', 'dx_30', 'close_7_sma', 'close_30_sma']\n",
    "print(f\"Started at {str(datetime.now())}\")\n",
    "start_time = time.time()\n",
    "\n",
    "df = load_dataset(f'{ROOT_DIR}/datasets/thesis/{res}/all_{res}.csv', INDICATORS, use_turbulence=False, use_vix=False, time_interval=res)\n",
    "\n",
    "end_time = time.time()\n",
    "print(f\"done in {(end_time-start_time):.2f}s at {str(datetime.now())}\")\n",
    "df.to_csv(f'{ROOT_DIR}/datasets/thesis/crypto_{res}_plus.csv')"
   ]
  },
  {
   "cell_type": "code",
   "execution_count": null,
   "metadata": {
    "pycharm": {
     "name": "#%%\n"
    }
   },
   "outputs": [],
   "source": []
  }
 ],
 "metadata": {
  "kernelspec": {
   "display_name": "Python 3 (ipykernel)",
   "language": "python",
   "name": "python3"
  },
  "language_info": {
   "codemirror_mode": {
    "name": "ipython",
    "version": 3
   },
   "file_extension": ".py",
   "mimetype": "text/x-python",
   "name": "python",
   "nbconvert_exporter": "python",
   "pygments_lexer": "ipython3",
   "version": "3.7.13"
  }
 },
 "nbformat": 4,
 "nbformat_minor": 4
}
