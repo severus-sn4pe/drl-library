{
 "cells": [
  {
   "cell_type": "code",
   "execution_count": null,
   "id": "9f880ce1-82a3-4a35-99ac-765895dbe82c",
   "metadata": {},
   "outputs": [],
   "source": [
    "import pandas as pd\n",
    "import numpy as np\n",
    "from sklearn.preprocessing import *\n",
    "import matplotlib.pyplot as plt"
   ]
  },
  {
   "cell_type": "code",
   "execution_count": null,
   "id": "c2d00255-fa8c-4703-9aa0-9a59a1ae95c6",
   "metadata": {},
   "outputs": [],
   "source": [
    "def data_split(df, start, end, target_date_col=\"date\"):\n",
    "    \"\"\"\n",
    "    split the dataset into training or testing using date\n",
    "    :param target_date_col: target date column\n",
    "    :param end: end date (exclusive)\n",
    "    :param start: start date (inclusive)\n",
    "    :param df: (df) pandas dataframe\n",
    "    :return: (df) pandas dataframe\n",
    "    \"\"\"\n",
    "    data = df[(df[target_date_col] >= start) & (df[target_date_col] < end)]\n",
    "    data = data.sort_values([target_date_col, \"tic\"], ignore_index=True)\n",
    "    data.index = data[target_date_col].factorize()[0]\n",
    "    return data\n",
    "\n",
    "def get_pivot(df, value=\"close\"):\n",
    "    return df.pivot(index=\"date\", columns=\"tic\", values=value)\n",
    "\n",
    "\n",
    "def normalize(data, min_scale=0, max_scale=1):\n",
    "    return min_scale + (((data - data.min()) * (max_scale - min_scale)) / (data.max() - data.min()))\n",
    "\n",
    "def clip(value, min_value=0, max_value=1):\n",
    "    return max_value if value > max_value else min_value if value < min_value else value\n",
    "\n",
    "TRAIN_START = \"2021-05-11 00:00:00\"\n",
    "TRAIN_END = \"2022-05-24 23:59:59\"\n",
    "\n",
    "TEST_START = \"2022-05-25 00:00:00\"\n",
    "TEST_END = \"2022-11-01 23:59:59\""
   ]
  },
  {
   "cell_type": "code",
   "execution_count": null,
   "id": "a3a54ac6-9fad-4416-8789-9d98be0f5a77",
   "metadata": {},
   "outputs": [],
   "source": [
    "data_file = '../../datasets/thesis/crypto_1d_plus.csv'\n",
    "df = pd.read_csv(data_file, index_col=0)\n",
    "df2 = data_split(df, TRAIN_START, TEST_END)"
   ]
  },
  {
   "cell_type": "code",
   "execution_count": null,
   "id": "e4a42276-3623-44ff-a7d1-51e53cf79ebe",
   "metadata": {},
   "outputs": [],
   "source": [
    "# columns = ['open', 'high', 'low', 'close', 'volume', 'day', 'macd', 'boll_ub', 'boll_lb', 'rsi_30', 'cci_30', 'dx_30', 'close_7_sma', 'close_30_sma', 'turbulence']\n",
    "# columns = ['volume', 'day', 'macd', 'boll_ub', 'boll_lb', 'rsi_30', 'cci_30', 'dx_30', 'close_7_sma', 'close_30_sma', 'turbulence']"
   ]
  },
  {
   "cell_type": "code",
   "execution_count": null,
   "id": "daa8e0ae-282e-4e32-a1b4-c6b78777f058",
   "metadata": {},
   "outputs": [],
   "source": [
    "close = get_pivot(df2, 'close')\n",
    "high = get_pivot(df2, 'high')\n",
    "macd = get_pivot(df2, 'macd')\n",
    "bollub = get_pivot(df2, 'boll_ub')\n",
    "bolllb = get_pivot(df2, 'boll_lb')\n",
    "volume = get_pivot(df2, 'volume')\n",
    "rsi = get_pivot(df2, 'rsi_30')\n",
    "cci = get_pivot(df2, 'cci_30')\n",
    "dx = get_pivot(df2, 'dx_30')\n",
    "sma7 = get_pivot(df2, 'close_7_sma')\n",
    "sma30 = get_pivot(df2, 'close_30_sma')\n",
    "turbulence = get_pivot(df2, 'turbulence')"
   ]
  },
  {
   "cell_type": "markdown",
   "id": "f26f5bee-bfec-4dd7-abde-794855fcd51d",
   "metadata": {
    "jp-MarkdownHeadingCollapsed": true,
    "tags": []
   },
   "source": [
    "### MinMaxScaling\n",
    "uses `data.min()` and `data.max()` as limits to rescale to `[0, 1]`. \n",
    "\n",
    "Clipping: values outside of feature range are clipped to limits or not"
   ]
  },
  {
   "cell_type": "code",
   "execution_count": null,
   "id": "91bf9373-ab66-4166-b4cf-a9c4b9495d09",
   "metadata": {
    "tags": []
   },
   "outputs": [],
   "source": [
    "data = close[['BTCUSDT']]\n",
    "scaler = MinMaxScaler()\n",
    "scaler.fit(data.values)\n",
    "print('max', scaler.data_max_)\n",
    "print('min', scaler.data_min_)\n",
    "datas = scaler.transform(data.values) # transform to scaled range\n",
    "invdata = scaler.inverse_transform(datas) # transform back to original\n",
    "scaler.get_feature_names_out()\n",
    "scaler.get_params()"
   ]
  },
  {
   "cell_type": "code",
   "execution_count": null,
   "id": "bc95c31d-1d89-4534-8953-583c687f5bbd",
   "metadata": {},
   "outputs": [],
   "source": [
    "scaler.clip = True\n",
    "scaler.transform(np.array([10000]).reshape(-1,1))"
   ]
  },
  {
   "cell_type": "code",
   "execution_count": null,
   "id": "f2d52388-c958-4e49-bfe0-0f7faf434b8e",
   "metadata": {},
   "outputs": [],
   "source": [
    "scaler.clip = False\n",
    "scaler.transform(np.array([10000]).reshape(-1,1))"
   ]
  },
  {
   "cell_type": "code",
   "execution_count": null,
   "id": "82b6ac79-7f44-4752-9c88-89dbb6b042aa",
   "metadata": {},
   "outputs": [],
   "source": [
    "plt_1 = plt.figure(figsize=(8, 3))\n",
    "plt.plot(data)\n",
    "plt.title('original data')\n",
    "plt.show()\n",
    "\n",
    "plt_1 = plt.figure(figsize=(8, 3))\n",
    "plt.plot(datas)\n",
    "plt.title('min max scaled')\n",
    "plt.show()\n",
    "\n",
    "plt_1 = plt.figure(figsize=(8, 3))\n",
    "plt.plot(invdata)\n",
    "plt.title('inverse transformed back to original values')\n",
    "plt.show()"
   ]
  },
  {
   "cell_type": "markdown",
   "id": "029c23da-d157-4fe8-a844-2e11188efc7d",
   "metadata": {
    "tags": []
   },
   "source": [
    "### Defining MaxAbsScaler Limit for Price Values\n",
    "instead of scaling to max value of data set, we add 1 std to max value of `[high, boll_up]` and use that as max to account for possibly higher values in the future to a certain degree. If markets move outside of this boundary, models have to be rescaled/trained.\n",
    "\n",
    "used for `open,high,low,close,close_7_sma,close_30_sma`"
   ]
  },
  {
   "cell_type": "code",
   "execution_count": null,
   "id": "882fbda8-3e4e-400a-80fd-8c51cced4c3e",
   "metadata": {},
   "outputs": [],
   "source": [
    "max_value_candidates = pd.DataFrame([bollub.max(), high.max()])\n",
    "max_value_candidates"
   ]
  },
  {
   "cell_type": "code",
   "execution_count": null,
   "id": "b9e068e6-63b5-487d-9199-75ff20d614e0",
   "metadata": {},
   "outputs": [],
   "source": [
    "price_limits = pd.DataFrame(max_value_candidates.max() + 1 * high.std()).T\n",
    "price_limits = price_limits.append(price_limits.copy())\n",
    "price_limits.iloc[1] = 0\n",
    "price_limits.to_csv('price_normalization_limits.csv')\n",
    "price_limits"
   ]
  },
  {
   "cell_type": "markdown",
   "id": "6fa66d85-6b7d-4ab4-92b8-459a221f4219",
   "metadata": {},
   "source": [
    "cleaned price limits:"
   ]
  },
  {
   "cell_type": "code",
   "execution_count": null,
   "id": "10703ba6-08b5-4365-8c23-e11f00bbfe73",
   "metadata": {},
   "outputs": [],
   "source": [
    "price_max_norm = pd.read_csv('price_norm_clean.csv', index_col=0)\n",
    "price_max_norm"
   ]
  },
  {
   "cell_type": "markdown",
   "id": "d4afc7ee-00f7-4380-bdd4-75f9bb705d2e",
   "metadata": {
    "tags": []
   },
   "source": [
    "### MaxAbsScaler\n",
    "uses `0` and the max value of the calculated array above as limits to rescale to `[0, 1]`. \n"
   ]
  },
  {
   "cell_type": "code",
   "execution_count": null,
   "id": "83f0fbee-6544-49ab-9df8-b848155f69db",
   "metadata": {},
   "outputs": [],
   "source": [
    "# price_scaler = MaxAbsScaler()\n",
    "price_scaler = MinMaxScaler(clip=True)\n",
    "price_scaler.fit(price_max_norm)"
   ]
  },
  {
   "cell_type": "code",
   "execution_count": null,
   "id": "f04897e9-0734-459c-b9c1-12a7014107b8",
   "metadata": {},
   "outputs": [],
   "source": [
    "close_transformed = pd.DataFrame(price_scaler.transform(close), columns=price_max_norm.columns)\n",
    "sma7_transformed = pd.DataFrame(price_scaler.transform(sma7), columns=price_max_norm.columns)\n",
    "sma30_transformed = pd.DataFrame(price_scaler.transform(sma30), columns=price_max_norm.columns)\n",
    "bollub_transformed = pd.DataFrame(price_scaler.transform(bollub), columns=price_max_norm.columns)\n",
    "bolllb_transformed = pd.DataFrame(price_scaler.transform(bolllb), columns=price_max_norm.columns)"
   ]
  },
  {
   "cell_type": "markdown",
   "id": "f1116ce1-010d-415a-a030-564aa4c89210",
   "metadata": {},
   "source": [
    "clip test for values outside of bounds:"
   ]
  },
  {
   "cell_type": "code",
   "execution_count": null,
   "id": "be4447df-9032-4a9c-97d5-4f3e8f4f0647",
   "metadata": {},
   "outputs": [],
   "source": [
    "pd.DataFrame(price_scaler.transform(pd.DataFrame(np.array([12352] * 5 + [-22] * 5).reshape(1,-1), columns=price_max_norm.columns)), columns=price_max_norm.columns).clip(upper=1, lower=0)"
   ]
  },
  {
   "cell_type": "code",
   "execution_count": null,
   "id": "9c8506ec-6a12-44c8-ae07-62512b5a295d",
   "metadata": {},
   "outputs": [],
   "source": [
    "my_symbol = 'SHIBUSDT'\n",
    "plt_1 = plt.figure(figsize=(12, 5))\n",
    "plt.plot(close[my_symbol])\n",
    "plt.plot(sma30[my_symbol])\n",
    "plt.plot(sma7[my_symbol])\n",
    "plt.fill_between(bolllb.index, bolllb[my_symbol], bollub[my_symbol], alpha=0.1)\n",
    "plt.title('original data')\n",
    "plt.show()\n",
    "\n",
    "plt_1 = plt.figure(figsize=(12, 5))\n",
    "plt.plot(close_transformed[my_symbol])\n",
    "plt.plot(sma30_transformed[my_symbol])\n",
    "plt.plot(sma7_transformed[my_symbol])\n",
    "plt.fill_between(bolllb.index, bolllb_transformed[my_symbol], bollub_transformed[my_symbol], alpha=0.1)\n",
    "plt.title('transformed')\n",
    "plt.show()"
   ]
  },
  {
   "cell_type": "code",
   "execution_count": null,
   "id": "93ecf988-44aa-4d98-a375-289899c509a1",
   "metadata": {},
   "outputs": [],
   "source": []
  },
  {
   "cell_type": "markdown",
   "id": "a75d6e60-3b02-4fd4-ba79-cc561234e7c0",
   "metadata": {},
   "source": [
    "## Scaling Features [0, 100] to [0, 1]\n",
    "Features: `RSI, DX` - values outside of bounds get clipped"
   ]
  },
  {
   "cell_type": "code",
   "execution_count": null,
   "id": "9c0ec05d-15f3-445a-bca6-712a7b2c90ba",
   "metadata": {},
   "outputs": [],
   "source": [
    "normal_minmax = MinMaxScaler(clip=True)\n",
    "normal_minmax.fit(pd.DataFrame([np.array([100] * 10), np.array([0] * 10)], columns=price_max_norm.columns))\n",
    "dx_transformed = pd.DataFrame(normal_minmax.transform(dx), columns=price_max_norm.columns).clip(upper=1, lower=0)\n",
    "rsi_transformed = pd.DataFrame(normal_minmax.transform(rsi), columns=price_max_norm.columns).clip(upper=1, lower=0)"
   ]
  },
  {
   "cell_type": "code",
   "execution_count": null,
   "id": "16f7b3b1-a048-483a-854b-a5d46b322073",
   "metadata": {},
   "outputs": [],
   "source": [
    "pd.DataFrame(normal_minmax.transform(pd.DataFrame(np.array([i*20-50 for i in range(10)]).reshape(1,-1), columns=price_max_norm.columns)), columns=price_max_norm.columns).clip(upper=1, lower=0)"
   ]
  },
  {
   "cell_type": "code",
   "execution_count": null,
   "id": "c14c55c6-d9f4-447e-bd96-f306d3302cd8",
   "metadata": {},
   "outputs": [],
   "source": [
    "my_symbol = 'SHIBUSDT'\n",
    "plt_1 = plt.figure(figsize=(8, 3))\n",
    "plt.plot(dx[my_symbol])\n",
    "plt.plot(rsi[my_symbol])\n",
    "plt.title('original data')\n",
    "plt.show()\n",
    "\n",
    "plt_1 = plt.figure(figsize=(8, 3))\n",
    "plt.plot(dx_transformed[my_symbol])\n",
    "plt.plot(rsi_transformed[my_symbol])\n",
    "plt.title('transformed')\n",
    "plt.show()"
   ]
  },
  {
   "cell_type": "markdown",
   "id": "5262cdf3-c0cc-40f8-a13c-5485bf8bf265",
   "metadata": {},
   "source": [
    "### Feature Scaling with Quantile Bounds\n",
    "Clipping `CCI` and `MACD` within [0.05, 0.95] quantiles and rescale to [-1, 1]"
   ]
  },
  {
   "cell_type": "code",
   "execution_count": null,
   "id": "e236ee47-4938-46d7-b2af-14272b5a93be",
   "metadata": {},
   "outputs": [],
   "source": [
    "cci_upperbound = np.quantile(cci, .95, axis=0)\n",
    "cci_lowerbound = np.quantile(cci, .05, axis=0)\n",
    "cci_limits = pd.DataFrame([cci_lowerbound,cci_upperbound], columns=price_max_norm.columns)\n",
    "cci_limits.to_csv('cci_limits.csv')"
   ]
  },
  {
   "cell_type": "code",
   "execution_count": null,
   "id": "82650097-8aab-424b-9ff5-a455af05f0ea",
   "metadata": {},
   "outputs": [],
   "source": [
    "cci_limits_file = pd.read_csv('cci_limits.csv', index_col=0)\n",
    "cci_limits_file"
   ]
  },
  {
   "cell_type": "code",
   "execution_count": null,
   "id": "c3d077f0-4199-4756-96da-f6342df70e7a",
   "metadata": {},
   "outputs": [],
   "source": [
    "cci_scaler = MinMaxScaler(feature_range=(-1, 1), clip=True)\n",
    "cci_scaler.fit(cci_limits_file)\n",
    "cci_transformed = pd.DataFrame(cci_scaler.transform(cci), columns=price_max_norm.columns)"
   ]
  },
  {
   "cell_type": "code",
   "execution_count": null,
   "id": "d7c88a4b-1aba-497b-9070-808b2e225323",
   "metadata": {},
   "outputs": [],
   "source": [
    "my_symbol = 'SHIBUSDT'\n",
    "plt_1 = plt.figure(figsize=(8, 3))\n",
    "plt.plot(cci[my_symbol])\n",
    "plt.title('original data')\n",
    "plt.show()\n",
    "\n",
    "\n",
    "my_symbol = 'SHIBUSDT'\n",
    "plt_1 = plt.figure(figsize=(8, 3))\n",
    "plt.plot(cci_transformed[my_symbol])\n",
    "plt.title('original data')\n",
    "plt.show()"
   ]
  },
  {
   "cell_type": "code",
   "execution_count": null,
   "id": "4a28aa01-eb08-45e3-b152-3eb04db98d06",
   "metadata": {},
   "outputs": [],
   "source": [
    "macd_upperbound = np.quantile(macd, .95, axis=0)\n",
    "macd_lowerbound = np.quantile(macd, .05, axis=0)\n",
    "macd_limits = pd.DataFrame([macd_lowerbound,macd_upperbound], columns=price_max_norm.columns)\n",
    "macd_limits.to_csv('macd_limits.csv')"
   ]
  },
  {
   "cell_type": "code",
   "execution_count": null,
   "id": "05554ced-aec4-4efa-94c5-1c76e38e922f",
   "metadata": {},
   "outputs": [],
   "source": [
    "macd_limits_file = pd.read_csv('macd_limits.csv', index_col=0)\n",
    "macd_limits_file"
   ]
  },
  {
   "cell_type": "code",
   "execution_count": null,
   "id": "e8aa24ad-cf0b-4ea0-98ea-cfa5eac04421",
   "metadata": {},
   "outputs": [],
   "source": [
    "macd_scaler = MinMaxScaler(feature_range=(-1, 1), clip=True)\n",
    "macd_scaler.fit(macd_limits_file)\n",
    "macd_transformed = pd.DataFrame(macd_scaler.transform(macd), columns=price_max_norm.columns)"
   ]
  },
  {
   "cell_type": "code",
   "execution_count": null,
   "id": "14c4d4a9-0df1-4a1f-a66a-0238f286e11c",
   "metadata": {
    "tags": []
   },
   "outputs": [],
   "source": [
    "my_symbol = 'BTCUSDT'\n",
    "plt_1 = plt.figure(figsize=(8, 3))\n",
    "plt.plot(macd[my_symbol])\n",
    "plt.title('original data')\n",
    "plt.show()\n",
    "\n",
    "plt_1 = plt.figure(figsize=(8, 3))\n",
    "plt.plot(macd_transformed[my_symbol])\n",
    "plt.title('original data')\n",
    "plt.show()"
   ]
  },
  {
   "cell_type": "markdown",
   "id": "37fbbaa9-18cd-4714-93fe-88711938be89",
   "metadata": {
    "tags": []
   },
   "source": [
    "### Gym Observation Space"
   ]
  },
  {
   "cell_type": "code",
   "execution_count": null,
   "id": "b0fffc6c-577e-4c59-a34a-8ed24eecde8d",
   "metadata": {},
   "outputs": [],
   "source": [
    "INDICATORS = [\"macd\", \"rsi_30\", \"cci_30\", \"dx_30\"]\n",
    "INDICATORS_PLUS = ['macd', 'boll_ub', 'boll_lb', 'rsi_30', 'cci_30', 'dx_30', 'close_7_sma', 'close_30_sma']"
   ]
  },
  {
   "cell_type": "code",
   "execution_count": null,
   "id": "0b3bdb7b-4abd-4984-82e3-16640cb03fbc",
   "metadata": {},
   "outputs": [],
   "source": [
    "stock_dimension = 10\n",
    "state_space = 101\n",
    "balance_lower = np.array([0])\n",
    "price_lower = np.array([0] * stock_dimension)\n",
    "asset_balance_lower = np.array([0] * stock_dimension)\n",
    "macd_lower = np.array([-1] * 10)\n",
    "rsi_lower = np.array([0] * 10)\n",
    "cci_lower = np.array([-1] * 10)\n",
    "dx_lower = np.array([0] * 10)\n",
    "\n",
    "boll_ub_lower = np.array([0] * 10)\n",
    "boll_lb_lower = np.array([0] * 10)\n",
    "sma7_lower = np.array([0] * 10)\n",
    "sma30_lower = np.array([0] * 10)\n",
    "\n",
    "\n",
    "# small indicator list:\n",
    "lower_bounds = np.concatenate([balance_lower, price_lower, asset_balance_lower, macd_lower, rsi_lower, cci_lower, dx_lower])\n",
    "lower_bounds.shape"
   ]
  },
  {
   "cell_type": "code",
   "execution_count": null,
   "id": "a9c8c5a2-e7b2-469b-a82b-bf6ad945ac73",
   "metadata": {},
   "outputs": [],
   "source": [
    "# large indicator list:\n",
    "lower_bounds = np.concatenate([balance_lower, price_lower, asset_balance_lower, macd_lower, boll_ub_lower, boll_lb_lower, rsi_lower, cci_lower, dx_lower, sma7_lower, sma30_lower])\n",
    "lower_bounds.shape"
   ]
  },
  {
   "cell_type": "code",
   "execution_count": null,
   "id": "a09a23cf-08e5-4988-962a-ea3e716a220f",
   "metadata": {},
   "outputs": [],
   "source": [
    "balance_upper = np.array([np.inf])\n",
    "price_upper = np.array([1] * stock_dimension)\n",
    "asset_balance_upper = np.array([np.inf] * stock_dimension)\n",
    "macd_upper = np.array([1] * 10)\n",
    "rsi_upper = np.array([1] * 10)\n",
    "cci_upper = np.array([1] * 10)\n",
    "dx_upper = np.array([1] * 10)\n",
    "boll_ub_upper = np.array([1] * 10)\n",
    "boll_lb_upper = np.array([1] * 10)\n",
    "sma7_upper = np.array([1] * 10)\n",
    "sma30_upper = np.array([1] * 10)\n",
    "\n",
    "\n",
    "# small indicator list:\n",
    "upper_bounds = np.concatenate([balance_upper, price_upper, asset_balance_upper, macd_upper, rsi_upper, cci_upper, dx_upper])\n",
    "upper_bounds.shape"
   ]
  },
  {
   "cell_type": "code",
   "execution_count": null,
   "id": "4c397db5-edcf-49f5-a140-17775c27c4a1",
   "metadata": {},
   "outputs": [],
   "source": [
    "# large indicator list:\n",
    "upper_bounds = np.concatenate([balance_upper, price_upper, asset_balance_upper, macd_upper, boll_ub_upper, boll_lb_upper, rsi_upper, cci_upper, dx_upper, sma7_upper, sma30_upper])\n",
    "upper_bounds.shape"
   ]
  },
  {
   "cell_type": "code",
   "execution_count": null,
   "id": "5acad536-a800-4879-bce3-0b0f4a6bbc90",
   "metadata": {},
   "outputs": [],
   "source": [
    "lower_bounds.shape"
   ]
  },
  {
   "cell_type": "code",
   "execution_count": null,
   "id": "fd90eb4d-b3a1-44f2-b26e-ca09d1fe24e2",
   "metadata": {},
   "outputs": [],
   "source": [
    "from gym import spaces\n",
    "spaces.Box(low=lower_bounds, high=upper_bounds, shape=(state_space,), dtype=np.float32)"
   ]
  },
  {
   "cell_type": "markdown",
   "id": "8e3fa39c-30da-4036-9d25-a6bf1caf7c74",
   "metadata": {},
   "source": [
    "### Normalize Observation Space"
   ]
  },
  {
   "cell_type": "code",
   "execution_count": null,
   "id": "461fd2fb-0874-445f-b857-7f0aea93da50",
   "metadata": {},
   "outputs": [],
   "source": [
    "state = get_state(51)\n",
    "len(state)"
   ]
  },
  {
   "cell_type": "code",
   "execution_count": null,
   "id": "11232bff-ac92-4b06-b316-bff1f4c4fcaf",
   "metadata": {},
   "outputs": [],
   "source": [
    "state[1:stock_dimension + 1]"
   ]
  },
  {
   "cell_type": "code",
   "execution_count": null,
   "id": "311d3f9f-de63-4b86-b6c7-306cf80c7d54",
   "metadata": {},
   "outputs": [],
   "source": [
    "price_max_norm = pd.read_csv('price_norm_clean.csv', index_col=0)\n",
    "price_scaler = MinMaxScaler(clip=True)\n",
    "price_scaler.fit(price_max_norm)"
   ]
  },
  {
   "cell_type": "code",
   "execution_count": null,
   "id": "b668b84d-317e-4ca8-9cce-95284f9c0f8c",
   "metadata": {},
   "outputs": [],
   "source": [
    "close_transformed = pd.DataFrame(price_scaler.transform(close), columns=price_max_norm.columns)\n",
    "sma7_transformed = pd.DataFrame(price_scaler.transform(sma7), columns=price_max_norm.columns)\n",
    "sma30_transformed = pd.DataFrame(price_scaler.transform(sma30), columns=price_max_norm.columns)\n",
    "bollub_transformed = pd.DataFrame(price_scaler.transform(bollub), columns=price_max_norm.columns)\n",
    "bolllb_transformed = pd.DataFrame(price_scaler.transform(bolllb), columns=price_max_norm.columns)"
   ]
  },
  {
   "cell_type": "code",
   "execution_count": null,
   "id": "61b8bd03-bdbe-4929-952c-a1f1a6af76b0",
   "metadata": {},
   "outputs": [],
   "source": [
    "normal_minmax = MinMaxScaler(clip=True)\n",
    "normal_minmax.fit(pd.DataFrame([np.array([100] * 10), np.array([0] * 10)], columns=price_max_norm.columns))\n",
    "dx_transformed = pd.DataFrame(normal_minmax.transform(dx), columns=price_max_norm.columns).clip(upper=1, lower=0)\n",
    "rsi_transformed = pd.DataFrame(normal_minmax.transform(rsi), columns=price_max_norm.columns).clip(upper=1, lower=0)"
   ]
  },
  {
   "cell_type": "code",
   "execution_count": null,
   "id": "7b40f2c7-6e7a-4d17-aead-520c3157cea3",
   "metadata": {},
   "outputs": [],
   "source": [
    "cci_limits_file = pd.read_csv('cci_limits.csv', index_col=0)\n",
    "cci_scaler = MinMaxScaler(feature_range=(-1, 1), clip=True)\n",
    "cci_scaler.fit(cci_limits_file)\n",
    "cci_transformed = pd.DataFrame(cci_scaler.transform(cci), columns=price_max_norm.columns)"
   ]
  },
  {
   "cell_type": "code",
   "execution_count": null,
   "id": "215d3aad-f9df-4b57-a9a3-63010fe192db",
   "metadata": {},
   "outputs": [],
   "source": [
    "macd_limits_file = pd.read_csv('macd_limits.csv', index_col=0)\n",
    "macd_scaler = MinMaxScaler(feature_range=(-1, 1), clip=True)\n",
    "macd_scaler.fit(macd_limits_file)\n",
    "macd_transformed = pd.DataFrame(macd_scaler.transform(macd), columns=price_max_norm.columns)"
   ]
  },
  {
   "cell_type": "code",
   "execution_count": null,
   "id": "291d319f-3659-49ac-836d-3173a9e51d36",
   "metadata": {},
   "outputs": [],
   "source": [
    "class CryptoEnvNormalizer:\n",
    "\n",
    "    def __init__(self, stock_dimension, indicators, state_space, df):\n",
    "        self.stock_dim = stock_dimension\n",
    "        self.indicators = indicators\n",
    "        self.state_space = state_space\n",
    "        self.df = df\n",
    "\n",
    "        # used for close, sma7, sma30, bollub, bolllb\n",
    "        self.price_scaler = MinMaxScaler(clip=True)\n",
    "        self.price_scaler.fit(pd.read_csv('price_norm_clean.csv', index_col=0))\n",
    "        # used for dx, rsi\n",
    "        self.normal_minmax = MinMaxScaler(clip=True)\n",
    "        self.normal_minmax.fit(pd.DataFrame([np.array([100] * 10), np.array([0] * 10)], columns=price_max_norm.columns))\n",
    "        # used for cci\n",
    "        self.cci_scaler = MinMaxScaler(feature_range=(-1, 1), clip=True)\n",
    "        self.cci_scaler.fit(pd.read_csv('cci_limits.csv', index_col=0))\n",
    "        # used for macd\n",
    "        self.macd_scaler = MinMaxScaler(feature_range=(-1, 1), clip=True)\n",
    "        self.macd_scaler.fit(pd.read_csv('macd_limits.csv', index_col=0))\n",
    "\n",
    "        self.scalers = {\n",
    "            \"close\": self.price_scaler,\n",
    "            \"macd\": self.macd_scaler,\n",
    "            \"boll_ub\": self.price_scaler,\n",
    "            \"boll_lb\": self.price_scaler,\n",
    "            \"rsi_30\": self.normal_minmax,\n",
    "            \"cci_30\": self.cci_scaler,\n",
    "            \"dx_30\": self.normal_minmax,\n",
    "            \"close_7_sma\": self.price_scaler,\n",
    "            \"close_30_sma\": self.price_scaler\n",
    "        }\n",
    "        self.transformed_data = self._get_normalizations()\n",
    "\n",
    "    def get_observation_space(self):\n",
    "        lower_bounds = self._get_lower_bounds()\n",
    "        upper_bounds = self._get_upper_bounds()\n",
    "        return spaces.Box(low=lower_bounds, high=upper_bounds, dtype=np.float64) # shape=(self.state_space,), \n",
    "\n",
    "    def _get_lower_bounds(self):\n",
    "        balance_lower = np.array([0])\n",
    "        price_lower = np.array([0] * self.stock_dim)\n",
    "        asset_balance_lower = np.array([0] * self.stock_dim)\n",
    "        lower_list = [balance_lower, price_lower, asset_balance_lower]\n",
    "\n",
    "        indicators_zero_bounded = [\"boll_ub\", \"boll_lb\", \"rsi_30\", \"dx_30\", \"close_7_sma\", \"close_30_sma\"]\n",
    "        indicators_minus_one_bounded = [\"macd\", \"cci_30\"]\n",
    "\n",
    "        for indicator in self.indicators:\n",
    "            if indicator in indicators_zero_bounded:\n",
    "                lower_list.append(np.array([0] * self.stock_dim))\n",
    "            elif indicator in indicators_minus_one_bounded:\n",
    "                lower_list.append(np.array([-1] * self.stock_dim))\n",
    "            else:\n",
    "                raise ValueError(f\"Unsupported indicator {indicator}\")\n",
    "\n",
    "        observation_space_lower = np.concatenate(lower_list)\n",
    "\n",
    "        if len(observation_space_lower) != self.state_space:\n",
    "            raise ValueError(\n",
    "                f\"LowerObsSpace Bounds expected to be shape {self.state_space} but is {len(observation_space_lower)}\")\n",
    "        return observation_space_lower\n",
    "\n",
    "    def _get_upper_bounds(self):\n",
    "        balance_upper = np.array([np.inf])\n",
    "        price_upper = np.array([1] * self.stock_dim)\n",
    "        asset_balance_upper = np.array([np.inf] * self.stock_dim)\n",
    "\n",
    "        upper_list = [balance_upper, price_upper, asset_balance_upper]\n",
    "\n",
    "        normal_bounded_indicators = [\"macd\", \"boll_ub\", \"boll_lb\", \"rsi_30\", \"cci_30\", \"dx_30\", \"close_7_sma\",\n",
    "                                     \"close_30_sma\"]\n",
    "        for indicator in self.indicators:\n",
    "            if indicator in normal_bounded_indicators:\n",
    "                upper_list.append(np.array([1] * self.stock_dim))\n",
    "            else:\n",
    "                raise ValueError(f\"Unsupported indicator {indicator}\")\n",
    "\n",
    "        observation_space_upper = np.concatenate(upper_list)\n",
    "\n",
    "        if len(observation_space_upper) != self.state_space:\n",
    "            raise ValueError(\n",
    "                f\"UpperObsSpace Bounds expected to be shape {self.state_space} but is {len(observation_space_upper)}\")\n",
    "        return observation_space_upper\n",
    "\n",
    "    def _get_normalizations(self):\n",
    "        transformed_data = {}\n",
    "        # normalize close price + all indicators\n",
    "        norm_elements = [\"close\"] + self.indicators\n",
    "\n",
    "        for item in norm_elements:\n",
    "            data = self.df.pivot(index=\"date\", columns=\"tic\", values=item)\n",
    "            transformed = self.scalers[item].transform(data)\n",
    "            data_normalized = pd.DataFrame(transformed, columns=data.columns)\n",
    "            transformed_data[item] = data_normalized\n",
    "\n",
    "        return transformed_data\n",
    "    \n",
    "    def get_normalized_state(self, day, original_state):\n",
    "        balance = original_state[0]\n",
    "        asset_amounts = original_state[1 + self.stock_dim:1 + (self.stock_dim * 2)]\n",
    "        close_t = my_norm.transformed_data['close'].loc[day].tolist()\n",
    "        transformed_indicators = sum((my_norm.transformed_data[tech].loc[day].tolist() for tech in INDICATORS_PLUS), [])\n",
    "        normalized_state = ([balance] + close_t + asset_amounts + transformed_indicators)\n",
    "        return normalized_state"
   ]
  }
 ],
 "metadata": {
  "kernelspec": {
   "display_name": "Python 3 (ipykernel)",
   "language": "python",
   "name": "python3"
  },
  "language_info": {
   "codemirror_mode": {
    "name": "ipython",
    "version": 3
   },
   "file_extension": ".py",
   "mimetype": "text/x-python",
   "name": "python",
   "nbconvert_exporter": "python",
   "pygments_lexer": "ipython3",
   "version": "3.7.15"
  }
 },
 "nbformat": 4,
 "nbformat_minor": 5
}
