{
 "cells": [
  {
   "cell_type": "code",
   "execution_count": null,
   "id": "c0fb7026-18a5-4713-ade1-74e4f8d0444c",
   "metadata": {},
   "outputs": [],
   "source": [
    "import pandas as pd\n",
    "import numpy as np\n"
   ]
  },
  {
   "cell_type": "markdown",
   "id": "010ef063-53e2-46c3-b139-07ea36e67a13",
   "metadata": {},
   "source": [
    "# Buy and Hold"
   ]
  },
  {
   "cell_type": "code",
   "execution_count": null,
   "id": "e4c50f3c-a238-4322-a448-3912d4e8f2d8",
   "metadata": {},
   "outputs": [],
   "source": [
    "weights_file = '../../../portfolio-mgmt/stats/1d_BAH_0.1_weights.csv'\n",
    "prices_file = '../../datasets/thesis/1d/all_1d.csv'"
   ]
  },
  {
   "cell_type": "code",
   "execution_count": null,
   "id": "d1b084ac-c2aa-403f-a76d-03f3fb89d8c9",
   "metadata": {},
   "outputs": [],
   "source": [
    "# w = pd.read_csv(weights_file)\n",
    "# w.index = pd.to_datetime(w['date'])\n",
    "# w = w.drop('date', axis=1)\n",
    "# w"
   ]
  },
  {
   "cell_type": "code",
   "execution_count": null,
   "id": "fc3b3929-dd1d-4c14-9307-e0fadf14935d",
   "metadata": {},
   "outputs": [],
   "source": [
    "p = pd.read_csv(prices_file, index_col=0)\n",
    "# p.index = pd.to_datetime(p['date'])\n",
    "# p = p.drop('date', axis=1)\n",
    "p = p.pivot(index=\"date\", columns=\"tic\", values=\"close\")\n",
    "p = p[p.index >= '2022-06-21 23:00:00']\n",
    "p"
   ]
  },
  {
   "cell_type": "code",
   "execution_count": null,
   "id": "2c162ef5-9877-43e4-b6fa-6f0307a04f90",
   "metadata": {},
   "outputs": [],
   "source": [
    "# p0 = p.iloc[24]\n",
    "# px = p.iloc[24:49]\n",
    "# p1 = p.iloc[48]\n",
    "# p0, p1"
   ]
  },
  {
   "cell_type": "code",
   "execution_count": null,
   "id": "999b3a1c-71ef-4079-a441-8e88b2a4401c",
   "metadata": {},
   "outputs": [],
   "source": [
    "fee = 0.001\n",
    "p0 = p.iloc[0]\n",
    "amount = 1_000_000\n",
    "money_each = amount * 0.1\n",
    "amount_each = (money_each / p0) * (1 - fee)"
   ]
  },
  {
   "cell_type": "code",
   "execution_count": null,
   "id": "11e55a77-2f23-4a8c-9dd8-a88f46b2c465",
   "metadata": {},
   "outputs": [],
   "source": [
    "money_all = amount_each * p\n",
    "money_all['sum'] = money_all.sum(axis=1)\n",
    "money_all['return'] = money_all['sum'].pct_change() + 1\n",
    "money_all.loc[money_all.iloc[0].name]['return'] = 1 - fee\n",
    "money_all['equity'] = (money_all['return']).cumprod()\n",
    "bah_return = money_all[['return', 'equity']]\n",
    "bah_value = money_all[p.columns]"
   ]
  },
  {
   "cell_type": "code",
   "execution_count": null,
   "id": "e05b6a3a-cdfe-4a9a-a7eb-878f36c9530e",
   "metadata": {},
   "outputs": [],
   "source": [
    "bah_return.to_csv('benchmark/1d_BAH_equity.csv')\n",
    "bah_value.to_csv('benchmark/1d_BAH_value.csv')"
   ]
  },
  {
   "cell_type": "markdown",
   "id": "200719d3-1006-4eb3-9c34-af8de50a5ef7",
   "metadata": {},
   "source": [
    "# CRP"
   ]
  },
  {
   "cell_type": "code",
   "execution_count": null,
   "id": "30d74644-31ce-4c0e-92de-3648d807e83b",
   "metadata": {},
   "outputs": [],
   "source": [
    "crp_weights_file = '../../../portfolio-mgmt/stats/1d_CRP_0.1_weights.csv'\n",
    "crp_target_file = 'benchmark/1d_CRP_equity.csv'"
   ]
  },
  {
   "cell_type": "code",
   "execution_count": null,
   "id": "34e0c40b-8dad-465b-bd0f-0c5356385dd8",
   "metadata": {},
   "outputs": [],
   "source": [
    "w = pd.read_csv(crp_weights_file)\n",
    "w.index = pd.to_datetime(w['date'])\n",
    "w = w.drop('date', axis=1)\n",
    "w = w.drop('CASH', axis=1)"
   ]
  },
  {
   "cell_type": "code",
   "execution_count": null,
   "id": "94f4b5ce-bad9-4098-9ca4-fb68980426ef",
   "metadata": {},
   "outputs": [],
   "source": [
    "fee = 0.001\n",
    "p0 = p.iloc[0]\n",
    "amount = 1_000_000\n",
    "money_each = amount * w.iloc[0]\n",
    "amount_each = (money_each / p0) * (1 - fee)"
   ]
  },
  {
   "cell_type": "code",
   "execution_count": null,
   "id": "f216efab-4e67-424b-9601-0f3ec991daf9",
   "metadata": {},
   "outputs": [],
   "source": [
    "money_intraday = amount_each * p.iloc[0:1]\n",
    "money_total = money_intraday.sum(axis=1)\n",
    "# last_money_total = money_total.iloc[-1]\n",
    "returns = money_total.pct_change() + 1\n",
    "returns.loc[returns.index[0]] = 1 - fee # only for first iteration\n",
    "amount_previous = amount_each"
   ]
  },
  {
   "cell_type": "code",
   "execution_count": null,
   "id": "2817c9ee-2bf2-4d9f-be1d-7a2a6824a125",
   "metadata": {},
   "outputs": [],
   "source": [
    "returns.to_csv(f'{crp_target_file}', float_format='{:.12f}'.format, index=True, header=True)"
   ]
  },
  {
   "cell_type": "code",
   "execution_count": null,
   "id": "d9444d0b-a6b1-4456-bfad-ce61255c6cfc",
   "metadata": {},
   "outputs": [],
   "source": [
    "for i, x in enumerate(w.index):\n",
    "    # print(i, x)\n",
    "    last_total = money_total.iloc[-1]\n",
    "    start_idx = 0 + (1 * i)\n",
    "    end_idx = start_idx + 1\n",
    "    if start_idx >= p.shape[0]:\n",
    "        break\n",
    "    price_rebal = p.iloc[start_idx]\n",
    "    weight_target = w.iloc[i + 1]\n",
    "    \n",
    "    new_total_temp = (price_rebal * amount_previous).sum()\n",
    "    new_value = new_total_temp * weight_target\n",
    "    amount_target = new_value  / price_rebal\n",
    "    amount_change = amount_target - amount_previous\n",
    "    \n",
    "    amount_new = amount_target.copy()\n",
    "    amount_new[amount_change > 0] = np.NaN\n",
    "    increased_amount = amount_previous + ((amount_change[amount_change > 0] * price_rebal * (1 - fee) * (1 - fee)) / price_rebal)\n",
    "    amount_new[amount_new.isna()] = increased_amount[amount_new.isna()]\n",
    "    \n",
    "    money_intraday = amount_new * p.iloc[start_idx:end_idx]\n",
    "    money_total = money_intraday.sum(axis=1)\n",
    "    returns = money_total.pct_change() + 1\n",
    "    returns.iloc[0] = money_total.iloc[0] / last_total\n",
    "    returns.to_csv(f'{crp_target_file}', float_format='{:.12f}'.format, mode='a', index=True, header=False)\n",
    "    \n",
    "    amount_previous = amount_new\n",
    "    "
   ]
  },
  {
   "cell_type": "code",
   "execution_count": null,
   "id": "210b8114-e175-4563-a375-2e8e573ab391",
   "metadata": {},
   "outputs": [],
   "source": [
    "df = pd.read_csv(crp_target_file, index_col=0)\n",
    "df.columns = ['return']\n",
    "df['equity'] = df['return'].cumprod()\n",
    "df.to_csv(f'{crp_target_file}', float_format='{:.12f}'.format, index=True, header=True)"
   ]
  },
  {
   "cell_type": "markdown",
   "id": "a76a4f67-ec97-40de-b676-a91534d72fd5",
   "metadata": {},
   "source": [
    "# MPT "
   ]
  },
  {
   "cell_type": "code",
   "execution_count": null,
   "id": "2002dfd7-1afd-4e9d-8a62-f17182c8e000",
   "metadata": {},
   "outputs": [],
   "source": [
    "mpt_weights_file = '../../../portfolio-mgmt/stats/1d_MPT_0.1_weights.csv'\n",
    "mpt_target_file = 'benchmark/1d_MPT_equity.csv'"
   ]
  },
  {
   "cell_type": "code",
   "execution_count": null,
   "id": "a5ad98f9-ed90-4a76-9aa9-f70e5e98be03",
   "metadata": {},
   "outputs": [],
   "source": [
    "w = pd.read_csv(mpt_weights_file)\n",
    "w.index = pd.to_datetime(w['date'])\n",
    "w = w.drop('date', axis=1)\n",
    "# w = w.drop('CASH', axis=1)"
   ]
  },
  {
   "cell_type": "code",
   "execution_count": null,
   "id": "85651d30-7a49-4738-8762-38e5bd517689",
   "metadata": {},
   "outputs": [],
   "source": [
    "fee = 0.001\n",
    "p0 = p.iloc[0]\n",
    "amount = 1_000_000\n",
    "money_each = amount * w.iloc[0]\n",
    "amount_each = (money_each / p0) * (1 - fee)"
   ]
  },
  {
   "cell_type": "code",
   "execution_count": null,
   "id": "492dc30f-5960-4220-9b99-18ba79fdfaca",
   "metadata": {},
   "outputs": [],
   "source": [
    "money_intraday = amount_each * p.iloc[0:1]\n",
    "money_total = money_intraday.sum(axis=1)\n",
    "# last_money_total = money_total.iloc[-1]\n",
    "returns = money_total.pct_change() + 1\n",
    "returns.loc[returns.index[0]] = 1 - fee # only for first iteration\n",
    "amount_previous = amount_each"
   ]
  },
  {
   "cell_type": "code",
   "execution_count": null,
   "id": "4cc5fd7a-9f40-4d24-827a-4b5a98825ea7",
   "metadata": {},
   "outputs": [],
   "source": [
    "returns.to_csv(f'{mpt_target_file}', float_format='{:.12f}'.format, index=True, header=True)"
   ]
  },
  {
   "cell_type": "code",
   "execution_count": null,
   "id": "46d05638-82dc-4617-b625-c4271024d03f",
   "metadata": {},
   "outputs": [],
   "source": [
    "for i, x in enumerate(w.index):\n",
    "    # print(i, x)\n",
    "    last_total = money_total.iloc[-1]\n",
    "    start_idx = 0 + (1 * i)\n",
    "    end_idx = start_idx + 1\n",
    "    if start_idx >= p.shape[0]:\n",
    "        break\n",
    "        \n",
    "    price_rebal = p.iloc[start_idx]\n",
    "    weight_target = w.iloc[i + 1]\n",
    "    \n",
    "    new_total_temp = (price_rebal * amount_previous).sum()\n",
    "    new_value = new_total_temp * weight_target\n",
    "    amount_target = new_value  / price_rebal\n",
    "    amount_change = amount_target - amount_previous\n",
    "    \n",
    "    amount_new = amount_target.copy()\n",
    "    amount_new[amount_change > 0] = np.NaN\n",
    "    increased_amount = amount_previous + ((amount_change[amount_change > 0] * price_rebal * (1 - fee) * (1 - fee)) / price_rebal)\n",
    "    amount_new[amount_new.isna()] = increased_amount[amount_new.isna()]\n",
    "    \n",
    "    money_intraday = amount_new * p.iloc[start_idx:end_idx]\n",
    "    money_total = money_intraday.sum(axis=1)\n",
    "    returns = money_total.pct_change() + 1\n",
    "    returns.iloc[0] = money_total.iloc[0] / last_total\n",
    "    returns.to_csv(f'{mpt_target_file}', float_format='{:.12f}'.format, mode='a', index=True, header=False)\n",
    "    \n",
    "    amount_previous = amount_new\n",
    "    "
   ]
  },
  {
   "cell_type": "code",
   "execution_count": null,
   "id": "fa5187d1-c7b0-43a3-ab22-3272518dc428",
   "metadata": {},
   "outputs": [],
   "source": [
    "df = pd.read_csv(mpt_target_file, index_col=0)\n",
    "df.columns = ['return']\n",
    "df['equity'] = df['return'].cumprod()\n",
    "df.to_csv(f'{mpt_target_file}', float_format='{:.12f}'.format, index=True, header=True)"
   ]
  },
  {
   "cell_type": "markdown",
   "id": "1b216c2c-b7ca-48d7-a8b5-1c79d67e216e",
   "metadata": {},
   "source": [
    "# Generate Combined Results File"
   ]
  },
  {
   "cell_type": "code",
   "execution_count": null,
   "id": "6aafa868-fe2d-456a-acfb-f9fac47237e2",
   "metadata": {},
   "outputs": [],
   "source": [
    "names = ['CRP', 'BAH', 'MPT']\n",
    "files = ['benchmark/1d_CRP_equity.csv', 'benchmark/1d_BAH_equity.csv', 'benchmark/1d_MPT_equity.csv']"
   ]
  },
  {
   "cell_type": "code",
   "execution_count": null,
   "id": "2e1ef34f-a1fb-4b79-b3d3-b8fae68fbb39",
   "metadata": {},
   "outputs": [],
   "source": [
    "idx = 0\n",
    "df = pd.read_csv(files[idx], index_col=0)\n",
    "current_returns = df[['return']]\n",
    "current_returns = current_returns.rename(columns={'return': names[idx]})\n",
    "current_returns.shape"
   ]
  },
  {
   "cell_type": "code",
   "execution_count": null,
   "id": "6ba09f13-81bb-45c9-bf01-a1b0ef3d4fc6",
   "metadata": {},
   "outputs": [],
   "source": [
    "idx = 1\n",
    "df2 = pd.read_csv(files[idx], index_col=0)\n",
    "current_returns2 = df2[['return']]\n",
    "current_returns2 = current_returns2.rename(columns={'return': names[idx]})\n",
    "current_returns2.shape"
   ]
  },
  {
   "cell_type": "code",
   "execution_count": null,
   "id": "94f3615f-23d4-4924-bc9c-57e732a4290a",
   "metadata": {},
   "outputs": [],
   "source": [
    "idx = 2\n",
    "df3 = pd.read_csv(files[idx], index_col=0)\n",
    "current_returns3 = df3[['return']]\n",
    "current_returns3 = current_returns3.rename(columns={'return': names[idx]})\n",
    "current_returns3.shape"
   ]
  },
  {
   "cell_type": "code",
   "execution_count": null,
   "id": "b106d3d0-1f3f-4e35-8b92-621867ae142c",
   "metadata": {},
   "outputs": [],
   "source": [
    "res = current_returns[['CRP']]\n",
    "res['BAH'] = current_returns2[['BAH']]\n",
    "res['MPT'] = current_returns3[['MPT']]"
   ]
  },
  {
   "cell_type": "code",
   "execution_count": null,
   "id": "d0bca187-5fb6-42c2-bee0-48483b17a1ad",
   "metadata": {},
   "outputs": [],
   "source": [
    "res.to_csv('benchmark/1d_benchmark_returns.csv')"
   ]
  },
  {
   "cell_type": "code",
   "execution_count": null,
   "id": "79435b22-ab15-4358-badd-f2f152d2b628",
   "metadata": {},
   "outputs": [],
   "source": [
    "current_returns = df[['return']]"
   ]
  },
  {
   "cell_type": "code",
   "execution_count": null,
   "id": "8a0315de-4d75-4629-8ee5-5f63dbf831e4",
   "metadata": {},
   "outputs": [],
   "source": []
  },
  {
   "cell_type": "code",
   "execution_count": null,
   "id": "139fcbcd-7319-4bd2-9c79-6bb3be53b49b",
   "metadata": {},
   "outputs": [],
   "source": []
  }
 ],
 "metadata": {
  "kernelspec": {
   "display_name": "Python 3 (ipykernel)",
   "language": "python",
   "name": "python3"
  },
  "language_info": {
   "codemirror_mode": {
    "name": "ipython",
    "version": 3
   },
   "file_extension": ".py",
   "mimetype": "text/x-python",
   "name": "python",
   "nbconvert_exporter": "python",
   "pygments_lexer": "ipython3",
   "version": "3.8.15"
  }
 },
 "nbformat": 4,
 "nbformat_minor": 5
}
