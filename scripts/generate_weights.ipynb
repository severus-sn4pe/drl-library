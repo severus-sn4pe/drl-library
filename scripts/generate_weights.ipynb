{
 "cells": [
  {
   "cell_type": "code",
   "execution_count": null,
   "id": "b36cf161-0aad-4376-a157-850a040df467",
   "metadata": {},
   "outputs": [],
   "source": [
    "# from config import general as config\n",
    "# from config import crypto\n",
    "import pandas as pd\n",
    "import numpy as np\n",
    "# matplotlib.use('Agg')\n",
    "%matplotlib inline\n",
    "import pyfolio\n",
    "import matplotlib.pyplot as plt\n",
    "from pyfolio import timeseries\n",
    "from datetime import datetime\n",
    "import empyrical as ep\n",
    "import pandas as pd\n",
    "from generate_results_utils import *\n",
    "# from finrl.plot import backtest_stats, get_daily_return # , backtest_plot, get_daily_return, get_baseline\n",
    "\n",
    "colors = [\"#FF0000\", \"#18E3FF\", \"#FFA90C\", \"#D9E501\", \"#0A2DC2\", \"#05A41B\", \"#878787\", \"#935948\", \"#b372fa\", \"#FC12DD\", \"#CCCCCC\"]\n",
    "\n",
    "\n",
    "import warnings\n",
    "warnings.simplefilter(action='ignore', category=FutureWarning)"
   ]
  },
  {
   "cell_type": "code",
   "execution_count": null,
   "id": "a102885c-649d-413f-99e2-0909c895fc19",
   "metadata": {},
   "outputs": [],
   "source": [
    "\n",
    "        \n",
    "def generate_weights_for_run(run_dir, run_name, res, root_dir='..', file_prefix='all', save=True, show=False, show_both=False):\n",
    "    results_dir = f\"{root_dir}/results/{run_dir}/{run_name}\"\n",
    "    results_file_prefix = f\"{results_dir}/{file_prefix}\"\n",
    "    filename = f\"{results_file_prefix}_state.csv\"\n",
    "    \n",
    "    results_account_value = pd.read_csv(filename)\n",
    "    ratios = get_asset_ratios(results_account_value, res)\n",
    "    ratios_full = convert_ratios_to_value(ratios, results_account_value)\n",
    "    \n",
    "    if save:\n",
    "        weights_norm_file = f\"{results_dir}/weights_normalized.png\"\n",
    "        weights_file = f\"{results_dir}/weights.png\"\n",
    "    else:\n",
    "        weights_norm_file, weights_file = \"\", \"\"\n",
    "    \n",
    "    print_weights(ratios, save_location=weights_norm_file, show=(show and show_both))\n",
    "    print_weights(ratios_full, save_location=weights_file, show=show)\n",
    "    \n",
    "def get_res_from_ce_folder(foldername):\n",
    "    return foldername.split('_')[1]\n",
    "\n",
    "def get_res_from_cs_folder(foldername):\n",
    "    splits = foldername.split('_')\n",
    "    if len(splits) == 6:\n",
    "        return splits[4].lower()\n",
    "    return '1d'"
   ]
  },
  {
   "cell_type": "code",
   "execution_count": null,
   "id": "6b63dc09-e4de-48a2-be5f-758e6bf2652b",
   "metadata": {},
   "outputs": [],
   "source": [
    "# generate_weights_for_run(\"ce\", \"ce_12h_2301142119_1\", save=True)\n",
    "generate_weights_for_run(\"ce\", \"ce_12h_2301142119_1\", res='12h', save=False, show=True, show_both=True)"
   ]
  },
  {
   "cell_type": "code",
   "execution_count": null,
   "id": "0e5333dd-5320-477e-a274-0e4b29e43b08",
   "metadata": {},
   "outputs": [],
   "source": []
  },
  {
   "cell_type": "code",
   "execution_count": null,
   "id": "49d75078-8d16-4b5f-8361-dc6ff425ca95",
   "metadata": {},
   "outputs": [],
   "source": [
    "generate_weights_for_run(\"cs_eval/PPO\", \"EVAL_PPO_V208_2301180901_1D_short\", res='1d', save=True, show=False)"
   ]
  },
  {
   "cell_type": "code",
   "execution_count": null,
   "id": "16e6bcf5-60ad-4750-818a-d6a63109fbb2",
   "metadata": {},
   "outputs": [],
   "source": []
  },
  {
   "cell_type": "markdown",
   "id": "89dbff4f-772b-4ea5-874b-433fd35e8ae5",
   "metadata": {},
   "source": [
    "### generate all ensemble run weights"
   ]
  },
  {
   "cell_type": "code",
   "execution_count": null,
   "id": "9afbcb83-a28f-41d5-b20c-e5138180086b",
   "metadata": {},
   "outputs": [],
   "source": [
    "x = get_immediate_subdirectories('../results/ce')\n",
    "parent = f'../results/ce'\n",
    "for run in get_immediate_subdirectories(parent):\n",
    "    print(run)\n",
    "    res = get_res_from_cs_folder(run)\n",
    "    generate_weights_for_run(parent, run, res=res, save=True, show=False)\n",
    "        "
   ]
  },
  {
   "cell_type": "markdown",
   "id": "4f038cd8-a18a-4e30-a1b6-7bbb5269822e",
   "metadata": {},
   "source": [
    "### generate all single model run weights"
   ]
  },
  {
   "cell_type": "code",
   "execution_count": null,
   "id": "65d12a57-2680-4528-a09c-5ae0dd9e9a92",
   "metadata": {},
   "outputs": [],
   "source": [
    "models = ['A2C', 'PPO', 'TD3']\n",
    "for model in models:\n",
    "    parent = f'cs_eval/{model}'        \n",
    "    for run in get_immediate_subdirectories(f'../results/{parent}'):\n",
    "        print(run)\n",
    "        res = get_res_from_cs_folder(run)\n",
    "        generate_weights_for_run(parent, run, res=res, save=True, show=True)"
   ]
  },
  {
   "cell_type": "markdown",
   "id": "34f65a4c-b94e-4612-b30e-c9032b5045a9",
   "metadata": {},
   "source": [
    "## debug"
   ]
  },
  {
   "cell_type": "code",
   "execution_count": null,
   "id": "a0c1f65d-497f-4702-81e3-7319bcf6df81",
   "metadata": {},
   "outputs": [],
   "source": [
    "run_dir = \"cs_eval/PPO\"\n",
    "# run_name = \"EVAL_PPO_V208_2301172325_1H_short\"\n",
    "# run_name = \"EVAL_PPO_V208_2301172325_1H_short\"\n",
    "run_name = \"EVAL_PPO_V208_2301172325_1H_short\"\n",
    "# run_name = \"EVAL_PPO_V208_01121911_1D_180M\"\n",
    "res='1h'\n",
    "file_prefix='all'\n",
    "root_dir = '..'\n",
    "\n",
    "results_dir = f\"{root_dir}/results/{run_dir}/{run_name}\"\n",
    "results_file_prefix = f\"{results_dir}/{file_prefix}\"\n",
    "filename = f\"{results_file_prefix}_state.csv\"\n",
    "\n",
    "results_account_value = pd.read_csv(filename)\n",
    "ratios = get_asset_ratios(results_account_value, res)\n",
    "ratios_full = convert_ratios_to_value(ratios, results_account_value)"
   ]
  },
  {
   "cell_type": "code",
   "execution_count": null,
   "id": "67a44b8a-12e0-42c2-b9a7-3ff70d088720",
   "metadata": {},
   "outputs": [],
   "source": []
  },
  {
   "cell_type": "code",
   "execution_count": null,
   "id": "64960adb-525f-4412-b6c2-712bbfadf3b3",
   "metadata": {},
   "outputs": [],
   "source": [
    "results_account_value.iloc[0]['date']"
   ]
  },
  {
   "cell_type": "code",
   "execution_count": null,
   "id": "66a1ee40-deeb-43ee-83ba-b1e372cc484b",
   "metadata": {},
   "outputs": [],
   "source": [
    "res"
   ]
  },
  {
   "cell_type": "code",
   "execution_count": null,
   "id": "77951015-e356-4d70-98d6-eafe7b9d415d",
   "metadata": {},
   "outputs": [],
   "source": [
    "df = pd.read_csv(filename)\n",
    "df['date'] = pd.to_datetime(df['date'])\n",
    "# df['date'] = (pd.to_datetime(df['date']) + get_delta(res=res)).dt.strftime(\"%Y-%m-%d\" if res == '1d' else \"%Y-%m-%d %X\")\n",
    "# ratio_df['date'] = (pd.to_datetime(ratio_df['date']) + get_delta(res=res)).dt.strftime(\"%Y-%m-%d\")  # if res == '1d' else \"%Y-%m-%d %X\")"
   ]
  },
  {
   "cell_type": "code",
   "execution_count": null,
   "id": "1acac8a9-9886-4cf4-b720-0097c0e1783f",
   "metadata": {},
   "outputs": [],
   "source": []
  },
  {
   "cell_type": "code",
   "execution_count": null,
   "id": "04d7c6f4-71d2-4856-9996-9ad9b10b7ec7",
   "metadata": {},
   "outputs": [],
   "source": [
    "def get_res(df):\n",
    "    df_delta = df['date'].iloc[1] - df['date'].iloc[0]\n",
    "    if (df_delta) == timedelta(days=1):\n",
    "        return '1d'\n",
    "    else:\n",
    "        delta_hours = int(df_delta.seconds / 3600)\n",
    "        return f\"{delta_hours}h\"    "
   ]
  },
  {
   "cell_type": "code",
   "execution_count": null,
   "id": "4fc6f7f7-b483-44c9-8216-b145da4dca61",
   "metadata": {},
   "outputs": [],
   "source": [
    "get_res(df)"
   ]
  }
 ],
 "metadata": {
  "kernelspec": {
   "display_name": "Python 3 (ipykernel)",
   "language": "python",
   "name": "python3"
  },
  "language_info": {
   "codemirror_mode": {
    "name": "ipython",
    "version": 3
   },
   "file_extension": ".py",
   "mimetype": "text/x-python",
   "name": "python",
   "nbconvert_exporter": "python",
   "pygments_lexer": "ipython3",
   "version": "3.8.15"
  }
 },
 "nbformat": 4,
 "nbformat_minor": 5
}
