{
 "cells": [
  {
   "cell_type": "markdown",
   "id": "7221cdd9-7804-4fa7-90f4-bd71d5907745",
   "metadata": {},
   "source": [
    "# Plotting Results of Crypto Strategy\n"
   ]
  },
  {
   "cell_type": "code",
   "execution_count": null,
   "id": "17d95839-fa51-42ed-9de8-f725f3230540",
   "metadata": {
    "pycharm": {
     "name": "#%%\n"
    }
   },
   "outputs": [],
   "source": [
    "# from config import general as config\n",
    "# from config import crypto\n",
    "import pandas as pd\n",
    "import numpy as np\n",
    "# matplotlib.use('Agg')\n",
    "%matplotlib inline\n",
    "import pyfolio\n",
    "import matplotlib.pyplot as plt\n",
    "from pyfolio import timeseries\n",
    "import os\n",
    "from datetime import datetime\n",
    "import empyrical as ep\n",
    "# from finrl.plot import backtest_stats, get_daily_return # , backtest_plot, get_daily_return, get_baseline\n",
    "\n",
    "colors = [\"#e6194b\", \"#3cb44b\", \"#ffe119\", \"#0082c8\", \"#f58231\", \"#911eb4\", \"#46f0f0\", \"#f032e6\", \"#d2f53c\", \"#fabebe\", \"#008080\", \n",
    "          \"#e6beff\", \"#aa6e28\", \"#fffac8\", \"#800000\", \"#aaffc3\", \"#808000\", \"#ffd8b1\", \"#000080\", \"#808080\", \"#ffffff\", \"#000000\"]\n",
    "\n",
    "import warnings\n",
    "warnings.simplefilter(action='ignore', category=FutureWarning)"
   ]
  },
  {
   "cell_type": "code",
   "execution_count": null,
   "id": "37b8a9d6-5e23-4140-9074-7b3b60bf7162",
   "metadata": {},
   "outputs": [],
   "source": [
    "def get_daily_return_from_intraday(df, value_col_name=\"account_value\"):\n",
    "    df = df.copy()\n",
    "    df[\"date\"] = pd.to_datetime(df[\"date\"])\n",
    "    df[\"return\"] = df[value_col_name].pct_change(1) + 1\n",
    "    groupper = df.groupby(pd.Grouper(key='date', freq='1d'))\n",
    "    return groupper['return'].prod() -1\n",
    "\n",
    "def backtest_stats_intraday(daily_returns):\n",
    "    # pyfolio perf_stats() doesnt handle 365-day data for a year\n",
    "    # perf_stats_all = timeseries.perf_stats(returns=daily_returns, positions=None, transactions=None, turnover_denom=\"AGB\")   \n",
    "    stats = {}\n",
    "    stats['min_date'] = str(daily_returns.index[0].strftime(\"%Y-%m-%d %H:%M\"))\n",
    "    stats['max_date'] = str(daily_returns.index[-1].strftime(\"%Y-%m-%d %H:%M\"))\n",
    "    stats['cum_ret'] = (daily_returns + 1).prod() - 1\n",
    "    stats['ann_ret'] = ep.annual_return(daily_returns, annualization=365)    \n",
    "    stats['ann_vol'] = ep.annual_volatility(daily_returns, annualization=365)\n",
    "    stats['sharpe'] = ep.sharpe_ratio(daily_returns, risk_free=0, annualization=365)\n",
    "    stats['sortino'] = ep.sortino_ratio(daily_returns, annualization=365)    \n",
    "    stats['max_dd'] = ep.max_drawdown(daily_returns)    \n",
    "    return stats\n",
    "    \n",
    "def append_stats(stats, filename):\n",
    "    # print(f\"append to {RESULTS_DIR}/strategy_performance.csv\")\n",
    "    x = pd.DataFrame(stats, index=[0])    \n",
    "    x.to_csv(filename, float_format='{:.6f}'.format, mode='a', index=False, header=False)\n",
    "    \n",
    "def get_time_resolution(t1, t2):\n",
    "    delta = (t2-t1)\n",
    "    # print(delta)\n",
    "    if delta.days == 1:\n",
    "        return '1d'\n",
    "    if delta.seconds == 3600:\n",
    "        return '1h'\n",
    "    if delta.seconds == 43200:\n",
    "        return '12h'\n",
    "    if delta.seconds == 21600:\n",
    "        return '6h'\n",
    "    if delta.seconds == 1800:\n",
    "        return '30min'\n",
    "    if delta.seconds == 300:\n",
    "        return '5min'\n",
    "    return f\"{delta.seconds}s\"\n",
    "\n",
    "def print_stats(stats):    \n",
    "    print(f\"Strategy:     {stats['strategy']}\")\n",
    "    print(f\"Model:        {stats['model']}\")\n",
    "    print(f\"Date Range:   {stats['min_date']} - {stats['max_date']}\")\n",
    "    print(f\"Resolution:   {stats['res']}\")\n",
    "    print(f\"-----------------------------------------------------\")    \n",
    "    print(f\"Cumulative Return :   {stats['cum_ret']:7.4f}\")\n",
    "    print(f\"Annual Return     :   {stats['ann_ret']:7.4f}\")\n",
    "    print(f\"Annual Volatility :   {stats['ann_vol']:7.4f}\")\n",
    "    print(f\"Sharpe ratio      :   {stats['sharpe']:7.4f}\")\n",
    "    print(f\"Sortino ratio     :   {stats['sortino']:7.4f}\")\n",
    "    print(f\"Max Drawdown      :   {stats['max_dd']:7.4f}\")\n",
    "\n",
    "def print_baseline(name, stats):\n",
    "    print(\"============== Baseline Benchmark ===========\")\n",
    "    print(f\"Model:        {name}\")\n",
    "    print(f\"Date Range:   {stats['min_date']} - {stats['max_date']}\")\n",
    "    print(f\"-----------------------------------------------------\")    \n",
    "    print(f\"Cumulative Return :   {stats['cum_ret']:7.4f}\")\n",
    "    print(f\"Annual Return     :   {stats['ann_ret']:7.4f}\")\n",
    "    print(f\"Annual Volatility :   {stats['ann_vol']:7.4f}\")\n",
    "    print(f\"Sharpe ratio      :   {stats['sharpe']:7.4f}\")\n",
    "    print(f\"Sortino ratio     :   {stats['sortino']:7.4f}\")\n",
    "    print(f\"Max Drawdown      :   {stats['max_dd']:7.4f}\")\n",
    "    \n",
    "def generate_backtest_results_crypto(acc_val, strat_name, model_name, run_name, printstats=True):\n",
    "    \n",
    "    acc_val['date'] = pd.to_datetime(acc_val['date'])\n",
    "    time_res = get_time_resolution(acc_val.iloc[0]['date'], acc_val.iloc[1]['date'])\n",
    "    \n",
    "    print(\"============== Backtest Results ===========\")\n",
    "    daily_returns = get_daily_return_from_intraday(acc_val, value_col_name=\"account_value\")\n",
    "    stats = backtest_stats_intraday(daily_returns)\n",
    "    \n",
    "    parsed_stats = {}\n",
    "    parsed_stats['strategy'] = strat_name\n",
    "    parsed_stats['model'] = model_name\n",
    "    parsed_stats['run_name'] = run_name\n",
    "    parsed_stats['min_date'] = stats['min_date']\n",
    "    parsed_stats['max_date'] = stats['max_date']\n",
    "    parsed_stats['res'] = time_res\n",
    "    parsed_stats['cum_ret'] = stats['cum_ret']\n",
    "    parsed_stats['ann_ret'] = stats['ann_ret']\n",
    "    parsed_stats['ann_vol'] = stats['ann_vol']\n",
    "    parsed_stats['sharpe'] = stats['sharpe']\n",
    "    parsed_stats['sortino'] = stats['sortino']\n",
    "    parsed_stats['max_dd'] = stats['max_dd']\n",
    "    parsed_stats['created'] = datetime.now().strftime(\"%Y-%m-%d %H:%M\")\n",
    "\n",
    "    if printstats:\n",
    "        print_stats(parsed_stats)\n",
    "    # append_stats(parsed_stats)\n",
    "    # perf_stats_df = pd.DataFrame(perf_stats_intraday)\n",
    "    # perf_stats_df.to_csv(f\"{RESULTS_FILE_PREFIX}_perf_stats.csv\")\n",
    "    return stats, daily_returns, parsed_stats\n",
    "\n",
    "def get_baseline(names, acc_val, return_idx=0):\n",
    "    single_baselines = []\n",
    "    start = acc_val.loc[0, 'date']\n",
    "    end = acc_val.loc[len(acc_val) - 1, 'date']\n",
    "    selected_baseline = None\n",
    "\n",
    "    for i, baseline_name in enumerate(names):\n",
    "        baseline_returns = get_baseline_returns_crypto(baseline_name, start, end)\n",
    "        if i == return_idx:\n",
    "            selected_baseline = baseline_returns\n",
    "        x = pd.DataFrame(backtest_stats_intraday(baseline_returns), index=[baseline_name])\n",
    "        single_baselines.append(x)\n",
    "\n",
    "    baseline_stats = pd.concat(single_baselines)\n",
    "    return baseline_stats, selected_baseline\n",
    "\n",
    "def get_baseline_returns_crypto(baseline_strategy='MPT', start='2022-06-01 00:00:00', end='2022-11-01 23:59:59'):\n",
    "    df = pd.read_csv(f\"datasets/thesis/benchmark/1d_benchmark_returns.csv\", index_col=0)\n",
    "    df.index = pd.to_datetime(df.index)\n",
    "    baseline = df[baseline_strategy]\n",
    "    baseline = baseline -1\n",
    "    baseline = baseline[(baseline.index >= start ) & (baseline.index <= end)]\n",
    "    return baseline\n",
    "\n",
    "def backtest_plot_crypto(strategy_returns, baseline_returns, baseline_name='BTCUSDT'):\n",
    "    print(f\"==============Compare to {baseline_name}===========\")\n",
    "    with pyfolio.plotting.plotting_context(font_scale=1.1):\n",
    "        pyfolio.create_full_tear_sheet(returns=strategy_returns, benchmark_rets=baseline_returns, set_context=False)\n",
    "        \n",
    "def get_asset_ratios(acc_val):\n",
    "    names = ['AVAXUSDT', 'AXSUSDT', 'BTCUSDT', 'DOGEUSDT', 'ETHUSDT', 'LINKUSDT', 'LTCUSDT', 'SHIBUSDT', 'TLMUSDT', 'UNIUSDT']\n",
    "    ratio_df = acc_val[[\"date\", \"cash\"]].copy()\n",
    "    for n in names:\n",
    "        ratio_df[n] = acc_val[f\"{n}_price\"] * acc_val[f\"{n}_amount\"]\n",
    "        # ratio_df[n] = ratio_df[n].where(ratio_df[n] < 0, 0)\n",
    "    # ratio_df['all_assets_without_cash'] = ratio_df[[f\"{x}\" for x in names]].sum(axis=1)\n",
    "    ratio_df[names] = ratio_df[names].clip(lower=0)\n",
    "    for n in names:\n",
    "        ratio_df[n] = ratio_df[n] / acc_val[f\"account_value\"]\n",
    "        \n",
    "    ratio_df[\"cash\"] = ratio_df[\"cash\"] / acc_val[f\"account_value\"]\n",
    "    ratio_df[\"all_assets\"] = ratio_df[names].sum(axis=1)\n",
    "    return ratio_df"
   ]
  },
  {
   "cell_type": "code",
   "execution_count": null,
   "id": "089e3882-0c2a-4632-8da1-7600208b1dc1",
   "metadata": {},
   "outputs": [],
   "source": [
    "ROOT_DIR = '.'\n",
    "MODEL_NAME = \"TD3\"\n",
    "STRAT_NAME = \"cs_eval\"\n",
    "RUN_NAME = \"EVAL_TD3_V203_12201307_12M\"\n",
    "FILE_PREFIX = \"all\"\n",
    "# RUN_NAME = \"A2C_V221_12130953_5M\"\n",
    "RESULTS_DIR=f\"../results\"\n",
    "\n",
    "RESULTS_FILE_PREFIX = f\"{ROOT_DIR}/{RESULTS_DIR}/{STRAT_NAME}/{MODEL_NAME}/{RUN_NAME}/{FILE_PREFIX}\"\n",
    "RESULTS_DIR = f\"{ROOT_DIR}/{RESULTS_DIR}/{STRAT_NAME}/\""
   ]
  },
  {
   "cell_type": "code",
   "execution_count": null,
   "id": "2737ab43-73e1-4e73-a797-85c9ba2099b5",
   "metadata": {},
   "outputs": [],
   "source": [
    "filename = f\"{RESULTS_FILE_PREFIX}_state.csv\"\n",
    "results_account_value = pd.read_csv(filename)"
   ]
  },
  {
   "cell_type": "code",
   "execution_count": null,
   "id": "daa114c0-4a40-462c-a0dc-00b17a01e4c2",
   "metadata": {},
   "outputs": [],
   "source": [
    "ratios = get_asset_ratios(results_account_value)"
   ]
  },
  {
   "cell_type": "code",
   "execution_count": null,
   "id": "dbf95d85-1365-4190-9d42-3dbddc9fda27",
   "metadata": {},
   "outputs": [],
   "source": [
    "stats, strat_returns = generate_backtest_results_crypto(results_account_value, STRAT_NAME, MODEL_NAME, RUN_NAME)"
   ]
  },
  {
   "cell_type": "code",
   "execution_count": null,
   "id": "81bd5a2f-8b9d-4f6a-9837-3441d45012c7",
   "metadata": {},
   "outputs": [],
   "source": [
    "stats"
   ]
  },
  {
   "cell_type": "code",
   "execution_count": null,
   "id": "18d27fc4-3ad0-443c-be3e-c30b27b9dff5",
   "metadata": {},
   "outputs": [],
   "source": [
    "list(stats.keys())\n",
    "list(stats.values())"
   ]
  },
  {
   "cell_type": "code",
   "execution_count": null,
   "id": "82f689e1-0bff-4488-8d24-caea045c46c7",
   "metadata": {},
   "outputs": [],
   "source": [
    "x = pd.DataFrame(list(stats.values())).T\n",
    "x.columns = list(stats.keys())\n",
    "x"
   ]
  },
  {
   "cell_type": "code",
   "execution_count": null,
   "id": "d0563f2a-3e0c-4744-971c-429adbbdaea1",
   "metadata": {},
   "outputs": [],
   "source": [
    "baseline_index = 2\n",
    "baseline_stats, baseline_returns = get_baseline(['MPT', 'BAH', 'CRP'], results_account_value, baseline_index)\n",
    "# baseline_stats.to_csv(f\"results/baseline.csv\")\n",
    "# pd.concat([pd.DataFrame(stats, index=['strategy']), baseline_stats]).T\n",
    "print_baseline(baseline_returns.name, baseline_stats.iloc[baseline_index])"
   ]
  },
  {
   "cell_type": "code",
   "execution_count": null,
   "id": "2ef3b944-d9ee-4619-8caa-2902f9b75568",
   "metadata": {},
   "outputs": [],
   "source": [
    "names = ['AVAXUSDT', 'AXSUSDT', 'BTCUSDT', 'DOGEUSDT', 'ETHUSDT', 'LINKUSDT', 'LTCUSDT', 'SHIBUSDT', 'TLMUSDT', 'UNIUSDT', 'cash']\n",
    "fig = plt.figure(figsize=(12,4), tight_layout=True)\n",
    "plt.stackplot(ratios.date, *[ratios[col] for col in names], labels=(names), colors=colors, baseline='zero')\n",
    "plt.legend(ncols=1, bbox_to_anchor=(1.2, 1.0))\n",
    "plt.savefig(f\"{RESULTS_DIR}/weights.png\")"
   ]
  },
  {
   "cell_type": "code",
   "execution_count": null,
   "id": "48245dac-b57f-4372-bae3-dde1a745d65a",
   "metadata": {},
   "outputs": [],
   "source": [
    "pyfolio.plotting.show_perf_stats(strat_returns, baseline_returns)"
   ]
  },
  {
   "cell_type": "code",
   "execution_count": null,
   "id": "b830a2ea-e28d-48c7-aca0-0ff02e3fc71c",
   "metadata": {},
   "outputs": [],
   "source": [
    "drawdown_df = pyfolio.timeseries.gen_drawdown_table(strat_returns, top=5)"
   ]
  },
  {
   "cell_type": "code",
   "execution_count": null,
   "id": "c761e6a7-78b4-4c39-989b-3de960504b76",
   "metadata": {},
   "outputs": [],
   "source": []
  },
  {
   "cell_type": "code",
   "execution_count": null,
   "id": "5ead6f64-0bc0-4190-9607-f258e79b7f45",
   "metadata": {},
   "outputs": [],
   "source": [
    "pyfolio.plotting.show_worst_drawdown_periods(strat_returns)"
   ]
  },
  {
   "cell_type": "code",
   "execution_count": null,
   "id": "d58f564d-531e-4408-9ff6-30099b67d1e2",
   "metadata": {},
   "outputs": [],
   "source": [
    "pyfolio.tears.create_interesting_times_tear_sheet(strat_returns, benchmark_rets=baseline_returns, set_context=False)"
   ]
  },
  {
   "cell_type": "code",
   "execution_count": null,
   "id": "58838510-4d5e-48f7-b4ef-d9138661fb78",
   "metadata": {},
   "outputs": [],
   "source": [
    "fig, ax = plt.subplots(1, figsize=(15,5))\n",
    "pyfolio.plotting.plot_drawdown_periods(strat_returns, top=5, ax=ax)\n",
    "plt.savefig(f\"{RESULTS_DIR}/stats_drawdown_periods.png\")"
   ]
  },
  {
   "cell_type": "code",
   "execution_count": null,
   "id": "2811f99e-e2cd-4f4f-8cf2-16ce81da6eca",
   "metadata": {},
   "outputs": [],
   "source": [
    "fig, ax = plt.subplots(1, figsize=(15,5))\n",
    "ax = pyfolio.plotting.plot_drawdown_underwater(returns=strat_returns, ax=ax)\n",
    "plt.savefig(f\"{RESULTS_DIR}/stats_underwater.png\")"
   ]
  },
  {
   "cell_type": "code",
   "execution_count": null,
   "id": "c9939043-f87b-4fc7-abfd-145fef465b33",
   "metadata": {},
   "outputs": [],
   "source": [
    "fig, ax = plt.subplots(1, figsize=(5,5))\n",
    "ax = pyfolio.plotting.plot_monthly_returns_heatmap(strat_returns, ax=ax)"
   ]
  },
  {
   "cell_type": "code",
   "execution_count": null,
   "id": "f1fcefde-ae37-46c1-81dd-8740bddac9d3",
   "metadata": {},
   "outputs": [],
   "source": [
    "backtest_plot_crypto(strat_returns, baseline_returns)"
   ]
  },
  {
   "cell_type": "code",
   "execution_count": null,
   "id": "d34e38b6-0b39-4c16-aa16-0b4f89e8633b",
   "metadata": {},
   "outputs": [],
   "source": [
    "def get_immediate_subdirectories(a_dir):\n",
    "    return [name for name in os.listdir(a_dir)\n",
    "            if os.path.isdir(os.path.join(a_dir, name))]"
   ]
  },
  {
   "cell_type": "code",
   "execution_count": null,
   "id": "c5f7dbc3-256b-4d3c-8725-9e71c3b772cc",
   "metadata": {},
   "outputs": [],
   "source": [
    "\n"
   ]
  },
  {
   "cell_type": "code",
   "execution_count": null,
   "id": "a93e8b48-b49a-4a03-b290-034203b23aa9",
   "metadata": {},
   "outputs": [],
   "source": [
    "runs = get_immediate_subdirectories('../results/ce')\n",
    "\n",
    "model = \"ensemble\"\n",
    "STRAT_NAME = \"ce\"\n",
    "FILE_PREFIX = \"all\"\n",
    "RESULTS_DIR = f\"../results/{STRAT_NAME}\"\n",
    "\n",
    "for run in runs:\n",
    "    print(f\"{model} - {run}\")\n",
    "    RESULTS_FILE_PREFIX = f\"{RESULTS_DIR}/{run}/{FILE_PREFIX}\"  \n",
    "    filename = f\"{RESULTS_FILE_PREFIX}_state.csv\"\n",
    "    # print(filename)\n",
    "    results_account_value = pd.read_csv(filename)\n",
    "    stats, strat_returns, parsed_stats = generate_backtest_results_crypto(results_account_value, STRAT_NAME, model, run, printstats=False)\n",
    "    append_stats(parsed_stats, f'{RESULTS_DIR}/strategy_performance.csv')"
   ]
  },
  {
   "cell_type": "code",
   "execution_count": null,
   "id": "da84ead0-4486-4dba-a88c-26daa1d8e9e5",
   "metadata": {},
   "outputs": [],
   "source": []
  },
  {
   "cell_type": "code",
   "execution_count": null,
   "id": "0218a5b3-55fe-4d1d-93d1-1ed2eb76039b",
   "metadata": {},
   "outputs": [],
   "source": [
    "stats, strat_returns, parsed_stats = generate_backtest_results_crypto(results_account_value, STRAT_NAME, model, run)\n",
    "append_stats(parsed_stats, f'{RESULTS_DIR}/strategy_performance.csv')"
   ]
  }
 ],
 "metadata": {
  "kernelspec": {
   "display_name": "Python 3 (ipykernel)",
   "language": "python",
   "name": "python3"
  },
  "language_info": {
   "codemirror_mode": {
    "name": "ipython",
    "version": 3
   },
   "file_extension": ".py",
   "mimetype": "text/x-python",
   "name": "python",
   "nbconvert_exporter": "python",
   "pygments_lexer": "ipython3",
   "version": "3.8.15"
  }
 },
 "nbformat": 4,
 "nbformat_minor": 5
}
