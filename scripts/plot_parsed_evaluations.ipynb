{
 "cells": [
  {
   "cell_type": "code",
   "execution_count": null,
   "id": "5ab087e0-4541-4396-8248-939d309b0457",
   "metadata": {},
   "outputs": [],
   "source": [
    "import pandas as pd\n",
    "import numpy as np\n",
    "import matplotlib.pyplot as mpl\n",
    "import matplotlib.ticker as ticker\n",
    "from pylab import rcParams\n",
    "rcParams['figure.figsize'] = 15, 10\n",
    "\n",
    "import plotly.graph_objects as go\n",
    "from plotly.subplots import make_subplots"
   ]
  },
  {
   "cell_type": "code",
   "execution_count": null,
   "id": "5964d116-d48d-4834-8372-d0f597b5d4b0",
   "metadata": {},
   "outputs": [],
   "source": [
    "base_path = '../logs_parsed'\n",
    "plot_path = '../plots'"
   ]
  },
  {
   "cell_type": "code",
   "execution_count": null,
   "id": "533bc246-bb48-41e9-8d94-5df8dbb03159",
   "metadata": {},
   "outputs": [],
   "source": []
  },
  {
   "cell_type": "code",
   "execution_count": null,
   "id": "33608dcc-807a-4e77-bc32-f77563da207d",
   "metadata": {},
   "outputs": [],
   "source": [
    "def plot_single_stat(dfs, cfgs, plot_x, plot_y, alpha=0.9, use_rolling_window=False, window_size=10, \n",
    "                     show_legend=True, show_title=True, title=None, show_grid=True, filename=None, \n",
    "                     x_label=None, y_label=None):\n",
    "    fig = mpl.figure(figsize=(12, 3))\n",
    "    for cfg in cfgs:\n",
    "        y_data = dfs[cfg][plot_y]\n",
    "        if use_rolling_window:\n",
    "            y_data = y_data.rolling(window_size).mean()\n",
    "        mpl.plot(dfs[cfg][plot_x], y_data, label=cfg, alpha=alpha)\n",
    "    if show_legend:\n",
    "        mpl.legend(ncols=10)\n",
    "    if show_grid:\n",
    "        mpl.grid(visible=True, which='both', axis='both')\n",
    "    if show_title:\n",
    "        title = plot_y if not title else title\n",
    "        mpl.title(title, fontdict=None, loc='center', pad=None)\n",
    "    if x_label:\n",
    "        mpl.xlabel(x_label)\n",
    "    if y_label:\n",
    "        mpl.ylabel(y_label)\n",
    "    fig.axes[0].xaxis.set_major_formatter(ticker.EngFormatter())\n",
    "    mpl.show()    \n",
    "    if filename:\n",
    "        fig.savefig(filename)\n",
    "        \n",
    "def plot_multiple_vertically(data, cfgs, rows, plot_x, alpha=0.9, use_rolling_window=False, window_size=10, \n",
    "                         show_legend=True, title=None, show_grid=True, filename=None, x_label=None):\n",
    "    fig, axis = mpl.subplots(len(rows), figsize=(12, 3*len(rows)), layout=\"constrained\", sharex=True)\n",
    "    \n",
    "    for idx, row in enumerate(rows):\n",
    "        ax = axis[idx]\n",
    "        ax.set_title(row, loc='left')\n",
    "        for cfg in cfgs:\n",
    "            y_data = data[cfg][row]\n",
    "            x_data = data[cfg][plot_x]\n",
    "            if use_rolling_window:\n",
    "                y_data = y_data.rolling(window_size).mean()\n",
    "            ax.plot(x_data, y_data, label=cfg, alpha=alpha)\n",
    "        if show_grid:\n",
    "            ax.grid(visible=True, which='both', axis='both')\n",
    "        \n",
    "    if show_legend:\n",
    "        ax.legend(ncols=10) # calling only once for last subplot\n",
    "    if title:\n",
    "        fig.suptitle(title)\n",
    "    if x_label:\n",
    "        mpl.xlabel(x_label)\n",
    "        # fig.set_title(title, fontdict=None, loc='center', pad=None)\n",
    "    ax.xaxis.set_major_formatter(ticker.EngFormatter())\n",
    "    mpl.show()\n",
    "    if filename:\n",
    "        fig.savefig(filename)"
   ]
  },
  {
   "cell_type": "code",
   "execution_count": null,
   "id": "22fff043-e63a-4a77-bd76-3a6e0e3ab33b",
   "metadata": {},
   "outputs": [],
   "source": []
  },
  {
   "cell_type": "markdown",
   "id": "aef39509-47da-4d7c-81ff-44b85f8b2a6c",
   "metadata": {},
   "source": [
    "# A2C"
   ]
  },
  {
   "cell_type": "code",
   "execution_count": null,
   "id": "87a50b42-37a3-421e-b3f7-ca437256a8e6",
   "metadata": {},
   "outputs": [],
   "source": [
    "model_name = 'A2C'\n",
    "configurations = ['V212', 'V213', 'V218', 'V219', 'V220', 'V221']\n",
    "# configurations = ['V219', 'V220', 'V221']\n",
    "# configurations = [f\"V2{x:02.0f}\" for x in range(1,22)]\n",
    "\n",
    "plot_cfgs = configurations\n",
    "\n",
    "data = {}\n",
    "for config in configurations:\n",
    "    data[config] = pd.read_csv(f\"{base_path}/{model_name}_{config}.csv\", index_col=0)"
   ]
  },
  {
   "cell_type": "code",
   "execution_count": null,
   "id": "a9514590-7e97-4ec9-af26-2a551e349d3b",
   "metadata": {},
   "outputs": [],
   "source": [
    "plot_single_stat(data, plot_cfgs, 'episode', 'eval_sharpe', use_rolling_window=True, window_size=25, alpha=0.8,\n",
    "                 title=f\"{model_name}: Sharpe Ratio on Validation Dataset\", x_label='trained episodes', y_label='sharpe ratio', \n",
    "                 filename=f\"{plot_path}/{model_name}_sharpe.png\")"
   ]
  },
  {
   "cell_type": "code",
   "execution_count": null,
   "id": "e0a731f1-bbd3-4e28-a43b-4fe5e0a20c6e",
   "metadata": {},
   "outputs": [],
   "source": []
  },
  {
   "cell_type": "code",
   "execution_count": null,
   "id": "33c001ca-7ae4-4032-b19d-4c7300e732f6",
   "metadata": {},
   "outputs": [],
   "source": [
    "info_rows = ['eval_sharpe', 'eval_episode_rewards', 'eval_trades']  # , 'eval_missed_trades'\n",
    "\n",
    "plot_multiple_vertically(data, plot_cfgs, info_rows, 'episode', use_rolling_window=True, window_size=25,\n",
    "                         x_label=\"trained episodes\", title=f\"{model_name}: Performance of Test Dataset\",\n",
    "                        filename=f\"{plot_path}/{model_name}_performance_test.png\")"
   ]
  },
  {
   "cell_type": "code",
   "execution_count": null,
   "id": "76d76ba2-2f13-40f6-a9ed-186d8622c1f0",
   "metadata": {},
   "outputs": [],
   "source": [
    "info_rows = ['sharpe', 'episode-reward', 'trades']  # , 'eval_missed_trades'\n",
    "plot_multiple_vertically(data, plot_cfgs, info_rows, 'episode', use_rolling_window=True, window_size=25,\n",
    "                         x_label=\"trained episodes\", title=f\"{model_name}: Performance of Training Dataset\",\n",
    "                         filename=f\"{plot_path}/{model_name}_performance_train.png\")"
   ]
  },
  {
   "cell_type": "code",
   "execution_count": null,
   "id": "1ed83992-09a0-4d7b-837c-72e291c44408",
   "metadata": {},
   "outputs": [],
   "source": []
  },
  {
   "cell_type": "markdown",
   "id": "59fa14a4-ade7-4367-87e8-885680767930",
   "metadata": {},
   "source": [
    "# PPO"
   ]
  },
  {
   "cell_type": "code",
   "execution_count": null,
   "id": "7e9a309f-2b48-40a5-aedf-ef519cefe322",
   "metadata": {},
   "outputs": [],
   "source": [
    "model_name = 'PPO'\n",
    "configurations = ['V201', 'V202', 'V203', 'V204', 'V205', 'V206', 'V207', 'V208']\n",
    "plot_cfgs = configurations\n",
    "\n",
    "data = {}\n",
    "for config in configurations:\n",
    "    data[config] = pd.read_csv(f\"{base_path}/{model_name}_{config}.csv\", index_col=0)"
   ]
  },
  {
   "cell_type": "code",
   "execution_count": null,
   "id": "5cd2ef96-5c39-406c-9c7a-09e1120e82ae",
   "metadata": {},
   "outputs": [],
   "source": [
    "plot_single_stat(data, plot_cfgs, 'episode', 'eval_sharpe', use_rolling_window=True, window_size=5, alpha=0.8,\n",
    "                 title=f\"{model_name}: Sharpe Ratio on Validation Dataset\", x_label='trained episodes', y_label='sharpe ratio', \n",
    "                 filename=f\"{plot_path}/{model_name}_sharpe.png\")"
   ]
  },
  {
   "cell_type": "code",
   "execution_count": null,
   "id": "6e04260d-aa27-4f9f-9716-dc4aa132b166",
   "metadata": {},
   "outputs": [],
   "source": [
    "info_rows = ['eval_sharpe', 'eval_episode_rewards', 'eval_trades']  # , 'eval_missed_trades'\n",
    "\n",
    "plot_multiple_vertically(data, plot_cfgs, info_rows, 'episode', use_rolling_window=True, window_size=5,\n",
    "                         x_label=\"trained episodes\", title=f\"{model_name}: Performance of Test Dataset\",\n",
    "                        filename=f\"{plot_path}/{model_name}_performance_test.png\")"
   ]
  },
  {
   "cell_type": "code",
   "execution_count": null,
   "id": "c205bb08-4341-4a44-89cc-c689b647a5e6",
   "metadata": {},
   "outputs": [],
   "source": [
    "info_rows = ['sharpe', 'episode-reward', 'trades']  # , 'eval_missed_trades'\n",
    "plot_multiple_vertically(data, plot_cfgs, info_rows, 'episode', use_rolling_window=True, window_size=5,\n",
    "                         x_label=\"trained episodes\", title=f\"{model_name}: Performance of Training Dataset\",\n",
    "                         filename=f\"{plot_path}/{model_name}_performance_train.png\")"
   ]
  },
  {
   "cell_type": "code",
   "execution_count": null,
   "id": "cd2ae474-47a6-4395-8151-d285c3faf4be",
   "metadata": {},
   "outputs": [],
   "source": []
  }
 ],
 "metadata": {
  "kernelspec": {
   "display_name": "Python 3 (ipykernel)",
   "language": "python",
   "name": "python3"
  },
  "language_info": {
   "codemirror_mode": {
    "name": "ipython",
    "version": 3
   },
   "file_extension": ".py",
   "mimetype": "text/x-python",
   "name": "python",
   "nbconvert_exporter": "python",
   "pygments_lexer": "ipython3",
   "version": "3.8.15"
  }
 },
 "nbformat": 4,
 "nbformat_minor": 5
}
