{
 "cells": [
  {
   "cell_type": "code",
   "execution_count": null,
   "id": "5ab087e0-4541-4396-8248-939d309b0457",
   "metadata": {},
   "outputs": [],
   "source": [
    "import pandas as pd\n",
    "import numpy as np\n",
    "import matplotlib.pyplot as mpl\n",
    "import matplotlib.ticker as ticker\n",
    "from pylab import rcParams\n",
    "rcParams['figure.figsize'] = 15, 10\n",
    "\n",
    "import plotly.graph_objects as go\n",
    "from plotly.subplots import make_subplots"
   ]
  },
  {
   "cell_type": "code",
   "execution_count": null,
   "id": "5964d116-d48d-4834-8372-d0f597b5d4b0",
   "metadata": {},
   "outputs": [],
   "source": [
    "base_path = '../logs_parsed'\n",
    "plot_path = '../plots'"
   ]
  },
  {
   "cell_type": "code",
   "execution_count": null,
   "id": "533bc246-bb48-41e9-8d94-5df8dbb03159",
   "metadata": {},
   "outputs": [],
   "source": []
  },
  {
   "cell_type": "code",
   "execution_count": null,
   "id": "33608dcc-807a-4e77-bc32-f77563da207d",
   "metadata": {},
   "outputs": [],
   "source": [
    "def plot_single_stat(dfs, cfgs, plot_x, plot_y, alpha=0.9, use_rolling_window=False, window_size=10, \n",
    "                     show_legend=True, show_title=True, title=None, show_grid=True, filename=None, \n",
    "                     x_label=None, y_label=None):\n",
    "    fig = mpl.figure(figsize=(12, 3))\n",
    "    for cfg in cfgs:\n",
    "        y_data = dfs[cfg][plot_y]\n",
    "        if use_rolling_window:\n",
    "            y_data = y_data.rolling(window_size).mean()\n",
    "        mpl.plot(dfs[cfg][plot_x], y_data, label=cfg, alpha=alpha)\n",
    "    if show_legend:\n",
    "        mpl.legend(ncols=10)\n",
    "    if show_grid:\n",
    "        mpl.grid(visible=True, which='both', axis='both')\n",
    "    if show_title:\n",
    "        title = plot_y if not title else title\n",
    "        mpl.title(title, fontdict=None, loc='center', pad=None)\n",
    "    if x_label:\n",
    "        mpl.xlabel(x_label)\n",
    "    if y_label:\n",
    "        mpl.ylabel(y_label)\n",
    "    fig.axes[0].xaxis.set_major_formatter(ticker.EngFormatter())\n",
    "    mpl.show()    \n",
    "    if filename:\n",
    "        fig.savefig(filename)\n",
    "        \n",
    "def plot_multiple_vertically(data, cfgs, rows, plot_x, alpha=0.9, use_rolling_window=False, window_size=10, \n",
    "                         show_legend=True, title=None, show_grid=True, filename=None, x_label=None):\n",
    "    fig, axis = mpl.subplots(len(rows), figsize=(12, 3*len(rows)), layout=\"constrained\", sharex=True)\n",
    "    \n",
    "    for idx, row in enumerate(rows):\n",
    "        ax = axis[idx]\n",
    "        ax.set_title(row, loc='left')\n",
    "        for cfg in cfgs:\n",
    "            y_data = data[cfg][row]\n",
    "            x_data = data[cfg][plot_x]\n",
    "            if use_rolling_window:\n",
    "                y_data = y_data.rolling(window_size).mean()\n",
    "            ax.plot(x_data, y_data, label=cfg, alpha=alpha)\n",
    "        if show_grid:\n",
    "            ax.grid(visible=True, which='both', axis='both')\n",
    "        \n",
    "    if show_legend:\n",
    "        ax.legend(ncols=10) # calling only once for last subplot\n",
    "    if title:\n",
    "        fig.suptitle(title)\n",
    "    if x_label:\n",
    "        mpl.xlabel(x_label)\n",
    "        # fig.set_title(title, fontdict=None, loc='center', pad=None)\n",
    "    ax.xaxis.set_major_formatter(ticker.EngFormatter())\n",
    "    mpl.show()\n",
    "    if filename:\n",
    "        fig.savefig(filename)"
   ]
  },
  {
   "cell_type": "code",
   "execution_count": null,
   "id": "22fff043-e63a-4a77-bd76-3a6e0e3ab33b",
   "metadata": {},
   "outputs": [],
   "source": []
  },
  {
   "cell_type": "markdown",
   "id": "aef39509-47da-4d7c-81ff-44b85f8b2a6c",
   "metadata": {},
   "source": [
    "# A2C"
   ]
  },
  {
   "cell_type": "code",
   "execution_count": null,
   "id": "87a50b42-37a3-421e-b3f7-ca437256a8e6",
   "metadata": {},
   "outputs": [],
   "source": [
    "model_name = 'A2C'\n",
    "configurations = ['V213', 'V219', 'V221']\n",
    "# configurations = ['V219', 'V220', 'V221']\n",
    "# configurations = [f\"V2{x:02.0f}\" for x in range(1,22)]\n",
    "\n",
    "plot_cfgs = configurations\n",
    "\n",
    "data = {}\n",
    "for config in configurations:\n",
    "    data[config] = pd.read_csv(f\"{base_path}/{model_name}_{config}.csv\", index_col=0)"
   ]
  },
  {
   "cell_type": "code",
   "execution_count": null,
   "id": "5aaefb8d-5827-49c5-969e-429569a3e364",
   "metadata": {},
   "outputs": [],
   "source": [
    "data[configurations[0]].columns"
   ]
  },
  {
   "cell_type": "code",
   "execution_count": null,
   "id": "a9514590-7e97-4ec9-af26-2a551e349d3b",
   "metadata": {},
   "outputs": [],
   "source": [
    "plot_single_stat(data, plot_cfgs, 'episode', 'eval_sharpe', use_rolling_window=True, window_size=25, alpha=0.8,\n",
    "                 title=f\"{model_name}: Sharpe Ratio on Validation Dataset\", x_label='trained episodes', y_label='sharpe ratio', \n",
    "                 filename=f\"{plot_path}/1D/{model_name}_sharpe.png\")"
   ]
  },
  {
   "cell_type": "code",
   "execution_count": null,
   "id": "0babf4e3-536d-439d-94d1-54300b514707",
   "metadata": {},
   "outputs": [],
   "source": [
    "'''\n",
    "Columns: ['step', 'episode', 'episode-reward', 'missed_trades', 'sharpe',\n",
    "       'sortino', 'trades', 'fps', 'entropy_loss', 'explained_variance',\n",
    "       'learning_rate', 'policy_loss', 'reward', 'std', 'value_loss',\n",
    "       'wall_time', 'eval_episode_rewards', 'eval_missed_trades',\n",
    "       'eval_sharpe', 'eval_sortino', 'eval_trades', 'date']\n",
    "'''"
   ]
  },
  {
   "cell_type": "code",
   "execution_count": null,
   "id": "33c001ca-7ae4-4032-b19d-4c7300e732f6",
   "metadata": {},
   "outputs": [],
   "source": [
    "info_rows = ['eval_sharpe', 'eval_episode_rewards', 'eval_trades']  # , 'eval_missed_trades'\n",
    "\n",
    "plot_multiple_vertically(data, plot_cfgs, info_rows, 'episode', use_rolling_window=True, window_size=25,\n",
    "                         x_label=\"trained episodes\", title=f\"{model_name}: Performance of Test Dataset\",\n",
    "                        filename=f\"{plot_path}/1D/{model_name}_performance_test.png\")"
   ]
  },
  {
   "cell_type": "code",
   "execution_count": null,
   "id": "0a4ba393-5591-45dc-97c8-415b548202df",
   "metadata": {},
   "outputs": [],
   "source": [
    "info_rows = ['entropy_loss', 'explained_variance', 'policy_loss', 'reward', 'std', 'value_loss']  # , 'eval_missed_trades'\n",
    "\n",
    "plot_multiple_vertically(data, plot_cfgs, info_rows, 'episode', use_rolling_window=True, window_size=25,\n",
    "                         x_label=\"trained episodes\", title=f\"{model_name}: Training Metrics\",\n",
    "                        filename=f\"{plot_path}/1D/{model_name}_training_metrics.png\")"
   ]
  },
  {
   "cell_type": "code",
   "execution_count": null,
   "id": "76d76ba2-2f13-40f6-a9ed-186d8622c1f0",
   "metadata": {},
   "outputs": [],
   "source": [
    "info_rows = ['sharpe', 'episode-reward', 'trades']  # , 'eval_missed_trades'\n",
    "plot_multiple_vertically(data, plot_cfgs, info_rows, 'episode', use_rolling_window=True, window_size=25,\n",
    "                         x_label=\"trained episodes\", title=f\"{model_name}: Performance of Training Dataset\",\n",
    "                         filename=f\"{plot_path}/1D/{model_name}_performance_train.png\")"
   ]
  },
  {
   "cell_type": "code",
   "execution_count": null,
   "id": "1ed83992-09a0-4d7b-837c-72e291c44408",
   "metadata": {},
   "outputs": [],
   "source": []
  },
  {
   "cell_type": "markdown",
   "id": "59fa14a4-ade7-4367-87e8-885680767930",
   "metadata": {
    "tags": []
   },
   "source": [
    "# PPO"
   ]
  },
  {
   "cell_type": "code",
   "execution_count": null,
   "id": "7e9a309f-2b48-40a5-aedf-ef519cefe322",
   "metadata": {},
   "outputs": [],
   "source": [
    "model_name = 'PPO'\n",
    "# configurations = ['V201', 'V202', 'V203', 'V204', 'V205', 'V206', 'V207', 'V208']\n",
    "configurations = ['V205',  'V207', 'V208']\n",
    "plot_cfgs = configurations\n",
    "\n",
    "data = {}\n",
    "for config in configurations:\n",
    "    data[config] = pd.read_csv(f\"{base_path}/{model_name}_{config}.csv\", index_col=0)"
   ]
  },
  {
   "cell_type": "code",
   "execution_count": null,
   "id": "d82ed228-4890-496d-b4ce-fdf30926a53c",
   "metadata": {},
   "outputs": [],
   "source": [
    "data[configurations[0]].columns"
   ]
  },
  {
   "cell_type": "code",
   "execution_count": null,
   "id": "5cd2ef96-5c39-406c-9c7a-09e1120e82ae",
   "metadata": {},
   "outputs": [],
   "source": [
    "plot_single_stat(data, plot_cfgs, 'episode', 'eval_sharpe', use_rolling_window=True, window_size=5, alpha=0.8,\n",
    "                 title=f\"{model_name}: Sharpe Ratio on Validation Dataset\", x_label='trained episodes', y_label='sharpe ratio', \n",
    "                 filename=f\"{plot_path}/1D/{model_name}_sharpe.png\")"
   ]
  },
  {
   "cell_type": "code",
   "execution_count": null,
   "id": "6e04260d-aa27-4f9f-9716-dc4aa132b166",
   "metadata": {},
   "outputs": [],
   "source": [
    "info_rows = ['eval_sharpe', 'eval_episode_rewards', 'eval_trades']  # , 'eval_missed_trades'\n",
    "\n",
    "plot_multiple_vertically(data, plot_cfgs, info_rows, 'episode', use_rolling_window=True, window_size=5,\n",
    "                         x_label=\"trained episodes\", title=f\"{model_name}: Performance of Test Dataset\",\n",
    "                        filename=f\"{plot_path}/1D/{model_name}_performance_test.png\")"
   ]
  },
  {
   "cell_type": "code",
   "execution_count": null,
   "id": "5734d166-9c48-4816-97da-178fd9938a8c",
   "metadata": {},
   "outputs": [],
   "source": [
    "info_rows = ['approx_kl', 'clip_fraction', 'clip_range', 'entropy_loss', 'explained_variance', 'loss', 'policy_gradient_loss', 'reward', 'std', 'value_loss']\n",
    "\n",
    "plot_multiple_vertically(data, plot_cfgs, info_rows, 'episode', use_rolling_window=True, window_size=10,\n",
    "                         x_label=\"trained episodes\", title=f\"{model_name}: Training Metrics\",\n",
    "                        filename=f\"{plot_path}/1D/{model_name}_training_metrics.png\")"
   ]
  },
  {
   "cell_type": "code",
   "execution_count": null,
   "id": "c205bb08-4341-4a44-89cc-c689b647a5e6",
   "metadata": {},
   "outputs": [],
   "source": [
    "info_rows = ['sharpe', 'episode-reward', 'trades']  # , 'eval_missed_trades'\n",
    "plot_multiple_vertically(data, plot_cfgs, info_rows, 'episode', use_rolling_window=True, window_size=5,\n",
    "                         x_label=\"trained episodes\", title=f\"{model_name}: Performance of Training Dataset\",\n",
    "                         filename=f\"{plot_path}/1D/{model_name}_performance_train.png\")"
   ]
  },
  {
   "cell_type": "code",
   "execution_count": null,
   "id": "cd2ae474-47a6-4395-8151-d285c3faf4be",
   "metadata": {},
   "outputs": [],
   "source": []
  },
  {
   "cell_type": "markdown",
   "id": "9f780113-729f-4ab8-ac5d-8e20b2bb27ad",
   "metadata": {
    "jp-MarkdownHeadingCollapsed": true,
    "tags": []
   },
   "source": [
    "# TD3"
   ]
  },
  {
   "cell_type": "code",
   "execution_count": null,
   "id": "d386cd81-f11e-4000-85ed-f53383b90014",
   "metadata": {},
   "outputs": [],
   "source": [
    "model_name = 'TD3'\n",
    "# configurations = ['V201', 'V202', 'V203', 'V204', 'V205', 'V206', 'V207', 'V208', 'V209', 'V210', 'V211', 'V212', 'V213', 'V214', 'V215', 'V216', 'V217']\n",
    "configurations = ['V203', 'V206', 'V213', 'V214']\n",
    "plot_cfgs = configurations\n",
    "\n",
    "data = {}\n",
    "for config in configurations:\n",
    "    data[config] = pd.read_csv(f\"{base_path}/{model_name}_{config}.csv\", index_col=0)"
   ]
  },
  {
   "cell_type": "code",
   "execution_count": null,
   "id": "e3051f16-4ca7-48f3-bf02-7594ca586780",
   "metadata": {},
   "outputs": [],
   "source": [
    "data[configurations[0]].columns"
   ]
  },
  {
   "cell_type": "code",
   "execution_count": null,
   "id": "be27b716-fd86-44d6-a7c1-933c700a66df",
   "metadata": {
    "tags": []
   },
   "outputs": [],
   "source": [
    "plot_single_stat(data, plot_cfgs, 'episode', 'eval_sharpe', use_rolling_window=True, window_size=5, alpha=0.8,\n",
    "                 title=f\"{model_name}: Sharpe Ratio on Validation Dataset\", x_label='trained episodes', y_label='sharpe ratio', \n",
    "                 filename=f\"{plot_path}/1D/{model_name}_sharpe.png\")"
   ]
  },
  {
   "cell_type": "code",
   "execution_count": null,
   "id": "6a7e4e15-d026-4602-addc-ba4ed2186a41",
   "metadata": {
    "tags": []
   },
   "outputs": [],
   "source": [
    "info_rows = ['eval_sharpe', 'eval_episode_rewards', 'eval_trades']  # , 'eval_missed_trades'\n",
    "\n",
    "plot_multiple_vertically(data, plot_cfgs, info_rows, 'episode', use_rolling_window=True, window_size=5,\n",
    "                         x_label=\"trained episodes\", title=f\"{model_name}: Performance of Test Dataset\",\n",
    "                        filename=f\"{plot_path}/1D/{model_name}_performance_test.png\")"
   ]
  },
  {
   "cell_type": "code",
   "execution_count": null,
   "id": "65cac7ad-782f-440d-a9be-b319acc0ec47",
   "metadata": {},
   "outputs": [],
   "source": [
    "info_rows = ['actor_loss', 'critic_loss', 'reward']\n",
    "\n",
    "plot_multiple_vertically(data, plot_cfgs, info_rows, 'episode', use_rolling_window=True, window_size=5,\n",
    "                         x_label=\"trained episodes\", title=f\"{model_name}: Training Metrics\",\n",
    "                        filename=f\"{plot_path}/1D/{model_name}_training_metrics.png\")"
   ]
  },
  {
   "cell_type": "code",
   "execution_count": null,
   "id": "ad5901f0-774d-471f-8a99-dd65e7479958",
   "metadata": {},
   "outputs": [],
   "source": [
    "info_rows = ['sharpe', 'episode-reward', 'trades']  # , 'eval_missed_trades'\n",
    "plot_multiple_vertically(data, plot_cfgs, info_rows, 'episode', use_rolling_window=True, window_size=5,\n",
    "                         x_label=\"trained episodes\", title=f\"{model_name}: Performance of Training Dataset\",\n",
    "                         filename=f\"{plot_path}/1D/{model_name}_performance_train.png\")"
   ]
  },
  {
   "cell_type": "code",
   "execution_count": null,
   "id": "37aa418b-0d83-4458-9e3c-8e397f96db19",
   "metadata": {},
   "outputs": [],
   "source": []
  },
  {
   "cell_type": "code",
   "execution_count": null,
   "id": "46e676f5-7fb7-4f34-9918-ce9ebeb1c25a",
   "metadata": {},
   "outputs": [],
   "source": []
  },
  {
   "cell_type": "code",
   "execution_count": null,
   "id": "14b6e7cb-3348-4a74-9571-34b951b3a62c",
   "metadata": {},
   "outputs": [],
   "source": []
  },
  {
   "cell_type": "code",
   "execution_count": null,
   "id": "a6a5d7cd-ec98-47b5-9faf-cf6baf90e6ba",
   "metadata": {},
   "outputs": [],
   "source": []
  },
  {
   "cell_type": "markdown",
   "id": "6736d076-cf3f-45bf-97db-f9b066da2ff8",
   "metadata": {
    "jp-MarkdownHeadingCollapsed": true,
    "tags": []
   },
   "source": [
    "# TD3 Best Model - Different Timeframes"
   ]
  },
  {
   "cell_type": "code",
   "execution_count": null,
   "id": "c819ba13-875d-46e1-b7d4-58f14ac4d328",
   "metadata": {},
   "outputs": [],
   "source": [
    "model_name = 'TD3'\n",
    "# configurations = ['V201', 'V202', 'V203', 'V204', 'V205', 'V206', 'V207', 'V208', 'V209', 'V210', 'V211', 'V212', 'V213', 'V214', 'V215', 'V216', 'V217']\n",
    "configurations = ['V214_1D','V214_12H','V214_6H','V214_1H']\n",
    "plot_cfgs = configurations\n",
    "\n",
    "data = {}\n",
    "for config in configurations:\n",
    "    data[config] = pd.read_csv(f\"{base_path}/{model_name}_{config}.csv\", index_col=0)"
   ]
  },
  {
   "cell_type": "code",
   "execution_count": null,
   "id": "b5d8abd3-fe7e-47c7-9842-85fe35e84e49",
   "metadata": {},
   "outputs": [],
   "source": [
    "plot_single_stat(data, plot_cfgs, 'episode', 'eval_sharpe', use_rolling_window=True, window_size=5, alpha=0.8,\n",
    "                 title=f\"{model_name}: Sharpe Ratio on Validation Dataset\", x_label='trained episodes', y_label='sharpe ratio', \n",
    "                 filename=f\"{plot_path}/TD3/{model_name}_sharpe.png\")"
   ]
  },
  {
   "cell_type": "code",
   "execution_count": null,
   "id": "4a92d621-4b4e-4c17-8c57-7179f1bf02ac",
   "metadata": {},
   "outputs": [],
   "source": [
    "info_rows = ['eval_sharpe', 'eval_episode_rewards', 'eval_trades']  # , 'eval_missed_trades'\n",
    "\n",
    "plot_multiple_vertically(data, plot_cfgs, info_rows, 'episode', use_rolling_window=True, window_size=5,\n",
    "                         x_label=\"trained episodes\", title=f\"{model_name}: Performance of Test Dataset\",\n",
    "                        filename=f\"{plot_path}/TD3/{model_name}_performance_test.png\")"
   ]
  },
  {
   "cell_type": "code",
   "execution_count": null,
   "id": "acaf6035-2312-4c80-a4f6-a143125b0054",
   "metadata": {},
   "outputs": [],
   "source": [
    "info_rows = ['actor_loss', 'critic_loss', 'reward']\n",
    "\n",
    "plot_multiple_vertically(data, plot_cfgs, info_rows, 'episode', use_rolling_window=True, window_size=5,\n",
    "                         x_label=\"trained episodes\", title=f\"{model_name}: Training Metrics\",\n",
    "                        filename=f\"{plot_path}/TD3/{model_name}_training_metrics.png\")"
   ]
  },
  {
   "cell_type": "code",
   "execution_count": null,
   "id": "b5c0ed64-953a-41cd-bb26-9e049a8e455c",
   "metadata": {},
   "outputs": [],
   "source": [
    "info_rows = ['sharpe', 'episode-reward', 'trades']  # , 'eval_missed_trades'\n",
    "plot_multiple_vertically(data, plot_cfgs, info_rows, 'episode', use_rolling_window=True, window_size=5,\n",
    "                         x_label=\"trained episodes\", title=f\"{model_name}: Performance of Training Dataset\",\n",
    "                         filename=f\"{plot_path}/TD3/{model_name}_performance_train.png\")"
   ]
  },
  {
   "cell_type": "code",
   "execution_count": null,
   "id": "8c0255b3-9550-49c9-bdb8-14890cb4b432",
   "metadata": {},
   "outputs": [],
   "source": []
  },
  {
   "cell_type": "markdown",
   "id": "cd85b593-bcb6-4410-a2fc-555711960e46",
   "metadata": {
    "tags": []
   },
   "source": [
    "# A2C Best Model - Different Timeframes"
   ]
  },
  {
   "cell_type": "code",
   "execution_count": null,
   "id": "f520a2c7-035f-4a54-b5a5-b466a9543802",
   "metadata": {},
   "outputs": [],
   "source": [
    "model_name = 'A2C'\n",
    "# configurations = ['V201', 'V202', 'V203', 'V204', 'V205', 'V206', 'V207', 'V208', 'V209', 'V210', 'V211', 'V212', 'V213', 'V214', 'V215', 'V216', 'V217']\n",
    "configurations = ['V221_1D','V221_12H','V221_6H','V221_1H']\n",
    "plot_cfgs = configurations\n",
    "\n",
    "data = {}\n",
    "for config in configurations:\n",
    "    data[config] = pd.read_csv(f\"{base_path}/{model_name}_{config}.csv\", index_col=0)"
   ]
  },
  {
   "cell_type": "code",
   "execution_count": null,
   "id": "053d469b-50f2-4479-b81c-2a1acc1b6753",
   "metadata": {},
   "outputs": [],
   "source": [
    "plot_single_stat(data, plot_cfgs, 'episode', 'eval_sharpe', use_rolling_window=True, window_size=5, alpha=0.8,\n",
    "                 title=f\"{model_name}: Sharpe Ratio on Validation Dataset\", x_label='trained episodes', y_label='sharpe ratio', \n",
    "                 filename=f\"{plot_path}/A2C/{model_name}_sharpe.png\")"
   ]
  },
  {
   "cell_type": "code",
   "execution_count": null,
   "id": "a2a0564f-ba84-4a1e-b1d6-fa8cf6e4b952",
   "metadata": {},
   "outputs": [],
   "source": [
    "info_rows = ['eval_sharpe', 'eval_episode_rewards', 'eval_trades']  # , 'eval_missed_trades'\n",
    "\n",
    "plot_multiple_vertically(data, plot_cfgs, info_rows, 'episode', use_rolling_window=True, window_size=5,\n",
    "                         x_label=\"trained episodes\", title=f\"{model_name}: Performance of Test Dataset\",\n",
    "                        filename=f\"{plot_path}/A2C/{model_name}_performance_test.png\")"
   ]
  },
  {
   "cell_type": "code",
   "execution_count": null,
   "id": "099ff8d6-39eb-4c79-9f8a-ebb43b32f55b",
   "metadata": {},
   "outputs": [],
   "source": [
    "info_rows = ['entropy_loss', 'explained_variance', 'policy_loss', 'reward', 'std', 'value_loss']\n",
    "\n",
    "plot_multiple_vertically(data, plot_cfgs, info_rows, 'episode', use_rolling_window=True, window_size=5,\n",
    "                         x_label=\"trained episodes\", title=f\"{model_name}: Training Metrics\",\n",
    "                        filename=f\"{plot_path}/A2C/{model_name}_training_metrics.png\")"
   ]
  },
  {
   "cell_type": "code",
   "execution_count": null,
   "id": "7b2317df-83dc-47b7-9d16-fe92f7fd25e8",
   "metadata": {},
   "outputs": [],
   "source": [
    "info_rows = ['sharpe', 'episode-reward', 'trades']  # , 'eval_missed_trades'\n",
    "plot_multiple_vertically(data, plot_cfgs, info_rows, 'episode', use_rolling_window=True, window_size=5,\n",
    "                         x_label=\"trained episodes\", title=f\"{model_name}: Performance of Training Dataset\",\n",
    "                         filename=f\"{plot_path}/A2C/{model_name}_performance_train.png\")"
   ]
  },
  {
   "cell_type": "code",
   "execution_count": null,
   "id": "b4ee5d03-1ba0-48c2-b294-34d115c83d5a",
   "metadata": {},
   "outputs": [],
   "source": []
  },
  {
   "cell_type": "markdown",
   "id": "0e5836a4-94e0-439b-81f7-24a34d3db5b2",
   "metadata": {
    "tags": []
   },
   "source": [
    "# PPO Best Model - Different Timeframes"
   ]
  },
  {
   "cell_type": "code",
   "execution_count": null,
   "id": "1306679d-0a48-4787-8d92-564c9c7c8872",
   "metadata": {},
   "outputs": [],
   "source": [
    "model_name = 'PPO'\n",
    "# configurations = ['V201', 'V202', 'V203', 'V204', 'V205', 'V206', 'V207', 'V208', 'V209', 'V210', 'V211', 'V212', 'V213', 'V214', 'V215', 'V216', 'V217']\n",
    "configurations = ['V208_1D','V208_12H','V208_6H','V208_1H']\n",
    "plot_cfgs = configurations\n",
    "\n",
    "data = {}\n",
    "for config in configurations:\n",
    "    data[config] = pd.read_csv(f\"{base_path}/{model_name}_{config}.csv\", index_col=0)"
   ]
  },
  {
   "cell_type": "code",
   "execution_count": null,
   "id": "e2d2c3cd-f7ed-4f8d-a75f-52084bf0cb11",
   "metadata": {},
   "outputs": [],
   "source": [
    "plot_single_stat(data, plot_cfgs, 'episode', 'eval_sharpe', use_rolling_window=True, window_size=5, alpha=0.8,\n",
    "                 title=f\"{model_name}: Sharpe Ratio on Validation Dataset\", x_label='trained episodes', y_label='sharpe ratio', \n",
    "                 filename=f\"{plot_path}/PPO/{model_name}_sharpe.png\")"
   ]
  },
  {
   "cell_type": "code",
   "execution_count": null,
   "id": "305ff438-d1e8-43de-a191-3e76dee4594a",
   "metadata": {},
   "outputs": [],
   "source": [
    "info_rows = ['eval_sharpe', 'eval_episode_rewards', 'eval_trades']  # , 'eval_missed_trades'\n",
    "\n",
    "plot_multiple_vertically(data, plot_cfgs, info_rows, 'episode', use_rolling_window=True, window_size=5,\n",
    "                         x_label=\"trained episodes\", title=f\"{model_name}: Performance of Test Dataset\",\n",
    "                        filename=f\"{plot_path}/PPO/{model_name}_performance_test.png\")"
   ]
  },
  {
   "cell_type": "code",
   "execution_count": null,
   "id": "b4d97517-be16-4f24-b420-0bed8fba9f56",
   "metadata": {},
   "outputs": [],
   "source": [
    "info_rows = ['approx_kl', 'clip_fraction', 'clip_range', 'entropy_loss', 'explained_variance', 'loss', 'policy_gradient_loss', 'reward', 'std', 'value_loss']\n",
    "\n",
    "plot_multiple_vertically(data, plot_cfgs, info_rows, 'episode', use_rolling_window=True, window_size=5,\n",
    "                         x_label=\"trained episodes\", title=f\"{model_name}: Training Metrics\",\n",
    "                        filename=f\"{plot_path}/PPO/{model_name}_training_metrics.png\")"
   ]
  },
  {
   "cell_type": "code",
   "execution_count": null,
   "id": "b8b62926-6c37-414c-924c-765890d49363",
   "metadata": {},
   "outputs": [],
   "source": [
    "info_rows = ['sharpe', 'episode-reward', 'trades']  # , 'eval_missed_trades'\n",
    "plot_multiple_vertically(data, plot_cfgs, info_rows, 'episode', use_rolling_window=True, window_size=5,\n",
    "                         x_label=\"trained episodes\", title=f\"{model_name}: Performance of Training Dataset\",\n",
    "                         filename=f\"{plot_path}/PPO/{model_name}_performance_train.png\")"
   ]
  },
  {
   "cell_type": "code",
   "execution_count": null,
   "id": "fbc7e20d-47d8-41c0-bc87-bc2677bb9ecc",
   "metadata": {},
   "outputs": [],
   "source": []
  }
 ],
 "metadata": {
  "kernelspec": {
   "display_name": "Python 3 (ipykernel)",
   "language": "python",
   "name": "python3"
  },
  "language_info": {
   "codemirror_mode": {
    "name": "ipython",
    "version": 3
   },
   "file_extension": ".py",
   "mimetype": "text/x-python",
   "name": "python",
   "nbconvert_exporter": "python",
   "pygments_lexer": "ipython3",
   "version": "3.8.15"
  }
 },
 "nbformat": 4,
 "nbformat_minor": 5
}
