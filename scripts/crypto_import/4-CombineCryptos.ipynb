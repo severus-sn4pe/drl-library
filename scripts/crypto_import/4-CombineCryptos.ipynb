{
 "cells": [
  {
   "cell_type": "code",
   "execution_count": null,
   "id": "112b1df4-81cf-4d0c-9ff8-bfcd473f1f3f",
   "metadata": {},
   "outputs": [],
   "source": [
    "import pandas as pd\n",
    "import time\n",
    "import numpy as np\n",
    "# base_path = '../../datasets/crypto'"
   ]
  },
  {
   "cell_type": "code",
   "execution_count": null,
   "id": "b47e9d4e-943e-403f-8e10-633e29422f52",
   "metadata": {},
   "outputs": [],
   "source": [
    "def load_files(symbols, resolution='1h') -> pd.DataFrame: \n",
    "    max_date = None\n",
    "    dfs = []    \n",
    "    for symbol in symbols:\n",
    "        full_filename = f\"data/thesis-step3/{symbol}_{resolution}.csv\"\n",
    "        # print(f\"reading file {full_filename}\")\n",
    "        df = pd.read_csv(full_filename, names=['date', 'tic', 'open', 'high', 'low', 'close', 'volume', 'day'], header=0)\n",
    "        first_date = df.iloc[0].date        \n",
    "        if max_date is None or first_date > max_date:\n",
    "            max_date = first_date\n",
    "        print(f\"{symbol} first: {first_date} {first_date > max_date}\")\n",
    "        dfs.append(df)        \n",
    "    print(f\"max date is {max_date}\")\n",
    "    return pd.concat(dfs).reset_index(drop=True), max_date\n",
    "        \n",
    "def get_time():\n",
    "    now = datetime.now()\n",
    "    return now.strftime(\"%d.%m.%Y %H:%M:%S\")\n",
    "    \n",
    "def get_duration(duration):\n",
    "    m, s = divmod(duration, 60)\n",
    "    h, m = divmod(m, 60)\n",
    "    return f'{h:02.0f}:{m:02.0f}:{s:02.0f}'"
   ]
  },
  {
   "cell_type": "code",
   "execution_count": null,
   "id": "e3180786-0ce1-4a02-8ec4-a5ec3bb9ecb3",
   "metadata": {},
   "outputs": [],
   "source": [
    "# SYMBOLS = ['BTCUSDT', 'ETHUSDT', 'LTCUSDT', 'AVAXUSDT', 'LINKUSDT', 'UNIUSDT', 'DOGEUSDT', 'SHIBUSDT', 'TLMUSDT', 'AXSUSDT']\n",
    "SYMBOLS = ['BTCUSDT', 'ETHUSDT', 'LTCUSDT', 'AVAXUSDT', 'LINKUSDT', 'UNIUSDT', 'TLMUSDT', 'AXSUSDT', 'DOGEUSDT', 'SHIBUSDT']"
   ]
  },
  {
   "cell_type": "markdown",
   "id": "3eb2bf84-ad89-407b-a60c-fce33e77f515",
   "metadata": {},
   "source": [
    "run for each resolution: `1min, 5min, 30min, 1h, 1d`"
   ]
  },
  {
   "cell_type": "code",
   "execution_count": null,
   "id": "9331c342-0a49-449d-98b5-79fecf5dcdfb",
   "metadata": {},
   "outputs": [],
   "source": [
    "start = time.time()\n",
    "resolution = '1d'\n",
    "name = 'all'\n",
    "df, max_date = load_files(SYMBOLS, resolution)\n",
    "print(get_duration(time.time()-start))"
   ]
  },
  {
   "cell_type": "markdown",
   "id": "ad11172d-d188-47ca-b89b-6b985b8e55e2",
   "metadata": {},
   "source": [
    "use fixed `max_date = 2021-05-11 00:00:00` for thesis"
   ]
  },
  {
   "cell_type": "code",
   "execution_count": null,
   "id": "8172171b-2bf0-484d-a6d6-21eca7aada56",
   "metadata": {},
   "outputs": [],
   "source": [
    "max_date = '2021-05-11' # 00:00:00'\n",
    "print(df.shape)\n",
    "df = df[df.date >= max_date].reset_index(drop=True)\n",
    "print(df.shape)\n",
    "df = df[df.date < '2022-11-02'].reset_index(drop=True)\n",
    "print(df.shape)\n",
    "df = df.sort_values(['date', 'tic'], ignore_index=True)\n",
    "df.to_csv(f\"data/thesis-data/{name}_{resolution}.csv\")\n",
    "print(get_duration(time.time()-start))"
   ]
  }
 ],
 "metadata": {
  "kernelspec": {
   "display_name": "Python 3 (ipykernel)",
   "language": "python",
   "name": "python3"
  },
  "language_info": {
   "codemirror_mode": {
    "name": "ipython",
    "version": 3
   },
   "file_extension": ".py",
   "mimetype": "text/x-python",
   "name": "python",
   "nbconvert_exporter": "python",
   "pygments_lexer": "ipython3",
   "version": "3.7.13"
  }
 },
 "nbformat": 4,
 "nbformat_minor": 5
}
