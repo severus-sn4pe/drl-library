{
 "cells": [
  {
   "cell_type": "code",
   "execution_count": 1,
   "id": "784f7de7-1494-48af-b5cf-cc3fab6e2929",
   "metadata": {},
   "outputs": [],
   "source": [
    "import pandas as pd\n",
    "import numpy as np"
   ]
  },
  {
   "cell_type": "code",
   "execution_count": 2,
   "id": "cf08f942-1822-465a-818d-a239fc5d0e83",
   "metadata": {},
   "outputs": [],
   "source": [
    "base_path = 'data\\\\'"
   ]
  },
  {
   "cell_type": "code",
   "execution_count": 3,
   "id": "d237f255-5c36-4f03-bc8d-e18aaed99924",
   "metadata": {},
   "outputs": [],
   "source": [
    "def load_multiple_files(filenames, resolution_minutes=1, mindate=None, maxdate=None) -> pd.DataFrame:    \n",
    "    dfs = []    \n",
    "    for filename in filenames:\n",
    "        full_filename = f\"{base_path}\\\\{filename}\"\n",
    "        print(f\"reading file {full_filename}\")\n",
    "        df = pd.read_csv(full_filename, names=['ts', 'open', 'high', 'low', 'close', 'volume'])\n",
    "        df['date'] = pd.to_datetime(df['ts'], unit='s')\n",
    "        df.index = df['date']\n",
    "\n",
    "        if mindate is not None and maxdate is not None:\n",
    "            print(f\"Filtering by date range {mindate} - {maxdate}\")\n",
    "            df = df.loc[mindate:maxdate]\n",
    "            print(f\"{len(df)} rows in filtered df\")\n",
    "        \n",
    "        resolution_seconds = resolution_minutes * 60\n",
    "        df['tsgroup'] = pd.DataFrame(df['ts'].div(resolution_seconds), dtype=int).multiply(resolution_seconds)\n",
    "\n",
    "        agg_list = {'open': lambda x: x.iloc[0], 'high': np.max, 'low': np.min, 'close': lambda x: x.iloc[-1],\n",
    "                    'volume': np.sum, 'ts': lambda x: x.iloc[0]}\n",
    "        groupped = df.groupby('tsgroup').agg(agg_list)\n",
    "        groupped['date'] = pd.to_datetime(groupped['ts'], unit='s')\n",
    "        groupped.index = groupped['date']\n",
    "        groupped = groupped[['ts', 'open', 'high', 'low', 'close','volume']]\n",
    "        dfs.append(groupped)\n",
    "    return dfs\n",
    "\n",
    "def concat_dfs(dfs):\n",
    "    return pd.concat(dfs)\n",
    "\n",
    "def save_file(df, target_filename):\n",
    "    full_filename = f\"{base_path}\\\\{target_filename}\"\n",
    "    df = df.reset_index()\n",
    "    del df['date']\n",
    "    df.to_csv(full_filename, index=False, header=False)\n",
    "    \n",
    "def get_source_filenames(prefix_name, start_year, end_year):\n",
    "    filenames = []\n",
    "    for x in range(start_year, end_year + 1):\n",
    "        filenames.append(f\"{prefix_name}{x}.csv\")\n",
    "    return filenames\n",
    "\n",
    "def combine_files(prefix_name, start_year, end_year, resolution, target_filename):\n",
    "    names = get_source_filenames(prefix_name, start_year, end_year)\n",
    "    dfs = load_multiple_files(names, resolution_minutes=resolution)\n",
    "    df = concat_dfs(dfs)\n",
    "    save_file(df, target_filename)"
   ]
  },
  {
   "cell_type": "code",
   "execution_count": 4,
   "id": "b26ed865-6e5a-477e-b68b-b1e404d286e1",
   "metadata": {},
   "outputs": [],
   "source": [
    "SYMBOLS = ['BTCUSDT', 'ETHUSDT', 'ADAUSDT', 'BNBUSDT', 'XRPUSDT', 'SOLUSDT', 'DOTUSDT', 'DOGEUSDT', 'AVAXUSDT', 'UNIUSDT']\n",
    "START_YEAR = [2017, 2017, 2018, 2017, 2018, 2020, 2020, 2019, 2020, 2020]"
   ]
  },
  {
   "cell_type": "code",
   "execution_count": 12,
   "id": "3c325c55-a626-4539-adb6-0cf595b9e4b2",
   "metadata": {},
   "outputs": [
    {
     "name": "stdout",
     "output_type": "stream",
     "text": [
      "reading file data\\\\binance_BTCUSDT_2017.csv\n",
      "reading file data\\\\binance_BTCUSDT_2018.csv\n",
      "reading file data\\\\binance_BTCUSDT_2019.csv\n",
      "reading file data\\\\binance_BTCUSDT_2020.csv\n",
      "reading file data\\\\binance_BTCUSDT_2021.csv\n",
      "reading file data\\\\binance_BTCUSDT_2022.csv\n",
      "reading file data\\\\binance_ETHUSDT_2017.csv\n",
      "reading file data\\\\binance_ETHUSDT_2018.csv\n",
      "reading file data\\\\binance_ETHUSDT_2019.csv\n",
      "reading file data\\\\binance_ETHUSDT_2020.csv\n",
      "reading file data\\\\binance_ETHUSDT_2021.csv\n",
      "reading file data\\\\binance_ETHUSDT_2022.csv\n",
      "reading file data\\\\binance_ADAUSDT_2018.csv\n",
      "reading file data\\\\binance_ADAUSDT_2019.csv\n",
      "reading file data\\\\binance_ADAUSDT_2020.csv\n",
      "reading file data\\\\binance_ADAUSDT_2021.csv\n",
      "reading file data\\\\binance_ADAUSDT_2022.csv\n",
      "reading file data\\\\binance_BNBUSDT_2017.csv\n",
      "reading file data\\\\binance_BNBUSDT_2018.csv\n",
      "reading file data\\\\binance_BNBUSDT_2019.csv\n",
      "reading file data\\\\binance_BNBUSDT_2020.csv\n",
      "reading file data\\\\binance_BNBUSDT_2021.csv\n",
      "reading file data\\\\binance_BNBUSDT_2022.csv\n",
      "reading file data\\\\binance_XRPUSDT_2018.csv\n",
      "reading file data\\\\binance_XRPUSDT_2019.csv\n",
      "reading file data\\\\binance_XRPUSDT_2020.csv\n",
      "reading file data\\\\binance_XRPUSDT_2021.csv\n",
      "reading file data\\\\binance_XRPUSDT_2022.csv\n",
      "reading file data\\\\binance_SOLUSDT_2020.csv\n",
      "reading file data\\\\binance_SOLUSDT_2021.csv\n",
      "reading file data\\\\binance_SOLUSDT_2022.csv\n",
      "reading file data\\\\binance_DOTUSDT_2020.csv\n",
      "reading file data\\\\binance_DOTUSDT_2021.csv\n",
      "reading file data\\\\binance_DOTUSDT_2022.csv\n",
      "reading file data\\\\binance_DOGEUSDT_2019.csv\n",
      "reading file data\\\\binance_DOGEUSDT_2020.csv\n",
      "reading file data\\\\binance_DOGEUSDT_2021.csv\n",
      "reading file data\\\\binance_DOGEUSDT_2022.csv\n",
      "reading file data\\\\binance_AVAXUSDT_2020.csv\n",
      "reading file data\\\\binance_AVAXUSDT_2021.csv\n",
      "reading file data\\\\binance_AVAXUSDT_2022.csv\n",
      "reading file data\\\\binance_UNIUSDT_2020.csv\n",
      "reading file data\\\\binance_UNIUSDT_2021.csv\n",
      "reading file data\\\\binance_UNIUSDT_2022.csv\n"
     ]
    }
   ],
   "source": [
    "for idx in range(len(SYMBOLS)):\n",
    "    symbol = SYMBOLS[idx]\n",
    "    start = START_YEAR[idx]\n",
    "    end = 2022\n",
    "    combine_files(f\"binance_{symbol}_\", start, end, 1, f\"raw_{symbol}_1min.csv\")"
   ]
  },
  {
   "cell_type": "code",
   "execution_count": null,
   "id": "6ae58c18-d652-4e70-9de2-e71dbdd6d1cc",
   "metadata": {},
   "outputs": [],
   "source": [
    "combine_files('binance_BTCUSDT_', 2017, 2022, 15, 'binance_BTCUSDT_ALL_15min.csv')\n",
    "combine_files('binance_DOGEUSDT_', 2019, 2022, 15, 'binance_DOGEUSDT_ALL_15min.csv')\n",
    "combine_files('binance_FUNUSDT_', 2019, 2022, 15, 'binance_FUNUSDT_ALL_15min.csv')\n",
    "combine_files('binance_FUNBTC_', 2017, 2022, 15, 'binance_FUNBTC_ALL_15min.csv')"
   ]
  }
 ],
 "metadata": {
  "kernelspec": {
   "display_name": "Python 3 (ipykernel)",
   "language": "python",
   "name": "python3"
  },
  "language_info": {
   "codemirror_mode": {
    "name": "ipython",
    "version": 3
   },
   "file_extension": ".py",
   "mimetype": "text/x-python",
   "name": "python",
   "nbconvert_exporter": "python",
   "pygments_lexer": "ipython3",
   "version": "3.7.13"
  }
 },
 "nbformat": 4,
 "nbformat_minor": 5
}
