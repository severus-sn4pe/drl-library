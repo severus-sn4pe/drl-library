{
 "cells": [
  {
   "cell_type": "code",
   "execution_count": null,
   "id": "23e41a75-3f95-4efc-8d65-a0ecbcaa9f02",
   "metadata": {},
   "outputs": [],
   "source": [
    "import pandas as pd\n",
    "import time\n",
    "import numpy as np\n",
    "SOURCE_PATH = 'data/thesis-step3'\n",
    "TARGET_PATH = 'data/thesis-data'"
   ]
  },
  {
   "cell_type": "code",
   "execution_count": null,
   "id": "b2de901a-3dec-4eb2-9a8f-39aa8268ca8e",
   "metadata": {},
   "outputs": [],
   "source": [
    "SYMBOLS = ['BTCUSDT', 'ETHUSDT', 'LTCUSDT', 'AVAXUSDT', 'LINKUSDT', 'UNIUSDT', 'TLMUSDT', 'AXSUSDT', 'DOGEUSDT', 'SHIBUSDT']\n",
    "RES = ['1min', '5min', '30min', '1h', '1d']"
   ]
  },
  {
   "cell_type": "code",
   "execution_count": null,
   "id": "d5d827fd-e563-4b25-bcf1-c7343f34ba23",
   "metadata": {},
   "outputs": [],
   "source": [
    "def limit_data(symbol, ts, START_DATE = '2021-05-11 00:00:00', END_DATE = '2022-11-01 23:59:59'):\n",
    "    filename = f\"{symbol}_{ts}.csv\"\n",
    "    df = pd.read_csv(f\"{SOURCE_PATH}/{filename}\", names=['date', 'tic', 'open', 'high', 'low', 'close', 'volume', 'day'], header=0)\n",
    "    start_items = df.shape[0]\n",
    "    df['date'] = pd.to_datetime(df['date'])\n",
    "    df = df[df['date'] >= START_DATE]\n",
    "    df = df[df['date'] < END_DATE]\n",
    "    df = df.reset_index(drop=True)\n",
    "    end_items = df.shape[0]\n",
    "    print(f\"Reduced {filename} from {start_items} to {end_items} ({start_items - end_items} removed)\")\n",
    "    \n",
    "    df.to_csv(f\"{TARGET_PATH}/{filename}\")\n",
    "    return df"
   ]
  },
  {
   "cell_type": "code",
   "execution_count": null,
   "id": "1c3ef007-fa02-4566-a755-ac0fb3e288e9",
   "metadata": {},
   "outputs": [],
   "source": [
    "for symbol in SYMBOLS:\n",
    "    for res in RES:\n",
    "        df = limit_data(symbol, res)"
   ]
  },
  {
   "cell_type": "code",
   "execution_count": null,
   "id": "efe8d9bb-9a0d-44b1-a113-931588b06f89",
   "metadata": {},
   "outputs": [],
   "source": [
    "SYMBOLS = ['SHIBUSDT']\n",
    "RES = ['1min']\n",
    "for symbol in SYMBOLS:\n",
    "    for res in RES:\n",
    "        df = limit_data(symbol, res)"
   ]
  },
  {
   "cell_type": "code",
   "execution_count": null,
   "id": "382b723c-04cd-4804-ba58-435f15e9b6db",
   "metadata": {},
   "outputs": [],
   "source": []
  },
  {
   "cell_type": "code",
   "execution_count": null,
   "id": "05bab945-e680-4969-8561-bde2e93ce213",
   "metadata": {},
   "outputs": [],
   "source": []
  },
  {
   "cell_type": "code",
   "execution_count": null,
   "id": "051853f4-4c38-4b64-9dd6-82f16d854282",
   "metadata": {},
   "outputs": [],
   "source": []
  }
 ],
 "metadata": {
  "kernelspec": {
   "display_name": "Python 3 (ipykernel)",
   "language": "python",
   "name": "python3"
  },
  "language_info": {
   "codemirror_mode": {
    "name": "ipython",
    "version": 3
   },
   "file_extension": ".py",
   "mimetype": "text/x-python",
   "name": "python",
   "nbconvert_exporter": "python",
   "pygments_lexer": "ipython3",
   "version": "3.7.13"
  }
 },
 "nbformat": 4,
 "nbformat_minor": 5
}
