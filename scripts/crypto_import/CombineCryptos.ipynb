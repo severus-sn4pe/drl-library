{
 "cells": [
  {
   "cell_type": "code",
   "execution_count": 24,
   "id": "112b1df4-81cf-4d0c-9ff8-bfcd473f1f3f",
   "metadata": {},
   "outputs": [
    {
     "ename": "SyntaxError",
     "evalue": "invalid syntax (3674966559.py, line 4)",
     "output_type": "error",
     "traceback": [
      "\u001b[1;36m  File \u001b[1;32m\"C:\\Users\\Crabs\\AppData\\Local\\Temp\\ipykernel_3272\\3674966559.py\"\u001b[1;36m, line \u001b[1;32m4\u001b[0m\n\u001b[1;33m    from ../lib.support import get_time, get_duration\u001b[0m\n\u001b[1;37m           ^\u001b[0m\n\u001b[1;31mSyntaxError\u001b[0m\u001b[1;31m:\u001b[0m invalid syntax\n"
     ]
    }
   ],
   "source": [
    "import pandas as pd\n",
    "import time\n",
    "import numpy as np\n",
    "base_path = '../../datasets/crypto'"
   ]
  },
  {
   "cell_type": "code",
   "execution_count": 25,
   "id": "b47e9d4e-943e-403f-8e10-633e29422f52",
   "metadata": {},
   "outputs": [],
   "source": [
    "def load_files(symbols, resolution='1h') -> pd.DataFrame: \n",
    "    max_date = None\n",
    "    dfs = []    \n",
    "    for symbol in symbols:\n",
    "        full_filename = f\"{base_path}/{symbol}_{resolution}.csv\"\n",
    "        # print(f\"reading file {full_filename}\")\n",
    "        df = pd.read_csv(full_filename, names=['date', 'tic', 'open', 'high', 'low', 'close', 'volume', 'day'], header=0)\n",
    "        first_date = df.iloc[0].date        \n",
    "        if max_date is None or first_date > max_date:\n",
    "            max_date = first_date\n",
    "        print(f\"{symbol} first: {first_date} {first_date > max_date}\")\n",
    "        dfs.append(df)        \n",
    "    print(f\"max date is {max_date}\")\n",
    "    return pd.concat(dfs).reset_index(drop=True), max_date\n",
    "        \n",
    "def get_time():\n",
    "    now = datetime.now()\n",
    "    return now.strftime(\"%d.%m.%Y %H:%M:%S\")\n",
    "    \n",
    "def get_duration(duration):\n",
    "    m, s = divmod(duration, 60)\n",
    "    h, m = divmod(m, 60)\n",
    "    return f'{h:02.0f}:{m:02.0f}:{s:02.0f}'"
   ]
  },
  {
   "cell_type": "code",
   "execution_count": 19,
   "id": "e3180786-0ce1-4a02-8ec4-a5ec3bb9ecb3",
   "metadata": {},
   "outputs": [],
   "source": [
    "SYMBOLS = ['ADAUSDT', 'ALGOUSDT', 'ATOMUSDT', 'BNBUSDT', 'BTCUSDT', 'DOGEUSDT', 'EOSUSDT', 'ETCUSDT', 'ETHUSDT', 'FTMUSDT', \n",
    "           'IOTAUSDT', 'LINKUSDT', 'LTCUSDT', 'MATICUSDT', 'NEOUSDT', 'TRXUSDT', 'WAVESUSDT', 'XLMUSDT', 'XMRUSDT', 'XRPUSDT']\n",
    "# SYMBOLS = ['ADAUSDT', 'BNBUSDT', 'BTCUSDT', 'DOGEUSDT', 'ETHUSDT', 'LINKUSDT', 'LTCUSDT', 'NEOUSDT', 'XMRUSDT', 'XRPUSDT']"
   ]
  },
  {
   "cell_type": "code",
   "execution_count": 20,
   "id": "9331c342-0a49-449d-98b5-79fecf5dcdfb",
   "metadata": {},
   "outputs": [
    {
     "name": "stdout",
     "output_type": "stream",
     "text": [
      "ADAUSDT first: 2018-04-18 00:00:00 False\n",
      "ALGOUSDT first: 2019-06-22 00:00:00 False\n",
      "ATOMUSDT first: 2019-04-30 00:00:00 False\n",
      "BNBUSDT first: 2017-11-07 00:00:00 False\n",
      "BTCUSDT first: 2017-08-18 00:00:00 False\n",
      "DOGEUSDT first: 2019-07-06 00:00:00 False\n",
      "EOSUSDT first: 2018-05-29 00:00:00 False\n",
      "ETCUSDT first: 2018-06-13 00:00:00 False\n",
      "ETHUSDT first: 2017-08-18 00:00:00 False\n",
      "FTMUSDT first: 2019-06-12 00:00:00 False\n",
      "IOTAUSDT first: 2018-06-01 00:00:00 False\n",
      "LINKUSDT first: 2019-01-17 00:00:00 False\n",
      "LTCUSDT first: 2017-12-14 00:00:00 False\n",
      "MATICUSDT first: 2019-04-27 00:00:00 False\n",
      "NEOUSDT first: 2017-11-21 00:00:00 False\n",
      "TRXUSDT first: 2018-06-12 00:00:00 False\n",
      "WAVESUSDT first: 2019-01-19 00:00:00 False\n",
      "XLMUSDT first: 2018-06-01 00:00:00 False\n",
      "XMRUSDT first: 2019-03-16 00:00:00 False\n",
      "XRPUSDT first: 2018-05-05 00:00:00 False\n",
      "max date is 2019-07-06 00:00:00\n",
      "00:00:42\n"
     ]
    }
   ],
   "source": [
    "start = time.time()\n",
    "resolution = '1min'\n",
    "name = 'crypto20'\n",
    "df, max_date = load_files(SYMBOLS, resolution)\n",
    "print(get_duration(time.time()-start))"
   ]
  },
  {
   "cell_type": "code",
   "execution_count": 21,
   "id": "4e3509df-860d-458f-97b0-3a8c7b42f4ff",
   "metadata": {},
   "outputs": [
    {
     "name": "stdout",
     "output_type": "stream",
     "text": [
      "(41122080, 8) 2019-07-06 00:00:00\n"
     ]
    }
   ],
   "source": [
    "print(df.shape, max_date)"
   ]
  },
  {
   "cell_type": "code",
   "execution_count": 22,
   "id": "8172171b-2bf0-484d-a6d6-21eca7aada56",
   "metadata": {},
   "outputs": [
    {
     "name": "stdout",
     "output_type": "stream",
     "text": [
      "(41122080, 8)\n",
      "(31593600, 8)\n",
      "(31420800, 8)\n",
      "00:03:43\n"
     ]
    }
   ],
   "source": [
    "print(df.shape)\n",
    "df = df[df.date >= max_date].reset_index(drop=True)\n",
    "print(df.shape)\n",
    "df = df[df.date < '2022-07-01'].reset_index(drop=True)\n",
    "print(df.shape)\n",
    "df = df.sort_values(['date', 'tic'], ignore_index=True)\n",
    "df.to_csv(f\"{base_path}/{name}_{resolution}.csv\")\n",
    "print(get_duration(time.time()-start))"
   ]
  },
  {
   "cell_type": "code",
   "execution_count": null,
   "id": "b41db285-39b9-415d-bb86-cac990564973",
   "metadata": {},
   "outputs": [],
   "source": [
    "(21940, 8)"
   ]
  },
  {
   "cell_type": "code",
   "execution_count": 64,
   "id": "8dc05e4c-7e4c-4145-8d9b-2cc8c912cb81",
   "metadata": {},
   "outputs": [
    {
     "name": "stdout",
     "output_type": "stream",
     "text": [
      "(31593580, 8) 2019-07-06 00:00:00\n"
     ]
    }
   ],
   "source": [
    "print(df.shape, max_date)"
   ]
  }
 ],
 "metadata": {
  "kernelspec": {
   "display_name": "Python 3 (ipykernel)",
   "language": "python",
   "name": "python3"
  },
  "language_info": {
   "codemirror_mode": {
    "name": "ipython",
    "version": 3
   },
   "file_extension": ".py",
   "mimetype": "text/x-python",
   "name": "python",
   "nbconvert_exporter": "python",
   "pygments_lexer": "ipython3",
   "version": "3.7.13"
  }
 },
 "nbformat": 4,
 "nbformat_minor": 5
}
