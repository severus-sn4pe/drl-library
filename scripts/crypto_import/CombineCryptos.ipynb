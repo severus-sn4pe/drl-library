{
 "cells": [
  {
   "cell_type": "code",
   "execution_count": 1,
   "id": "112b1df4-81cf-4d0c-9ff8-bfcd473f1f3f",
   "metadata": {},
   "outputs": [],
   "source": [
    "import pandas as pd\n",
    "import numpy as np\n",
    "base_path = 'data\\\\'"
   ]
  },
  {
   "cell_type": "code",
   "execution_count": 52,
   "id": "b47e9d4e-943e-403f-8e10-633e29422f52",
   "metadata": {},
   "outputs": [],
   "source": [
    "def load_files(symbols, resolution='1h') -> pd.DataFrame: \n",
    "    max_date = None\n",
    "    dfs = []    \n",
    "    for symbol in symbols:\n",
    "        full_filename = f\"{base_path}\\\\{symbol}_{resolution}.csv\"\n",
    "        # print(f\"reading file {full_filename}\")\n",
    "        df = pd.read_csv(full_filename, names=['date', 'open', 'high', 'low', 'close', 'volume', 'tic', 'day'], header=0)\n",
    "        first_date = df.iloc[0].date        \n",
    "        if max_date is None or first_date > max_date:\n",
    "            max_date = first_date\n",
    "        print(f\"{symbol} first: {first_date} {first_date > max_date}\")\n",
    "        dfs.append(df)        \n",
    "    print(f\"max date is {max_date}\")\n",
    "    return pd.concat(dfs).reset_index(drop=True), max_date"
   ]
  },
  {
   "cell_type": "code",
   "execution_count": 3,
   "id": "e3180786-0ce1-4a02-8ec4-a5ec3bb9ecb3",
   "metadata": {},
   "outputs": [],
   "source": [
    "SYMBOLS = ['BTCUSDT', 'ETHUSDT', 'ADAUSDT', 'BNBUSDT', 'XRPUSDT', 'SOLUSDT', 'DOTUSDT', 'DOGEUSDT', 'AVAXUSDT', 'UNIUSDT']"
   ]
  },
  {
   "cell_type": "code",
   "execution_count": 67,
   "id": "9331c342-0a49-449d-98b5-79fecf5dcdfb",
   "metadata": {},
   "outputs": [
    {
     "name": "stdout",
     "output_type": "stream",
     "text": [
      "BTCUSDT first: 2017-08-17 04:00:00 False\n",
      "ETHUSDT first: 2017-08-17 04:00:00 False\n",
      "ADAUSDT first: 2018-04-17 04:02:00 False\n",
      "BNBUSDT first: 2017-11-06 03:54:00 False\n",
      "XRPUSDT first: 2018-05-04 08:11:00 False\n",
      "SOLUSDT first: 2020-08-11 06:00:00 False\n",
      "DOTUSDT first: 2020-08-18 23:00:00 False\n",
      "DOGEUSDT first: 2019-07-05 12:00:00 False\n",
      "AVAXUSDT first: 2020-09-22 06:30:00 False\n",
      "UNIUSDT first: 2020-09-17 03:00:00 False\n",
      "max date is 2020-09-22 06:30:00\n"
     ]
    }
   ],
   "source": [
    "resolution = '1h'\n",
    "df, max_date = load_files(SYMBOLS, resolution)"
   ]
  },
  {
   "cell_type": "code",
   "execution_count": 68,
   "id": "4e3509df-860d-458f-97b0-3a8c7b42f4ff",
   "metadata": {},
   "outputs": [
    {
     "name": "stdout",
     "output_type": "stream",
     "text": [
      "(293822, 8) 2020-09-22 06:30:00\n"
     ]
    }
   ],
   "source": [
    "print(df.shape, max_date)"
   ]
  },
  {
   "cell_type": "code",
   "execution_count": 69,
   "id": "8172171b-2bf0-484d-a6d6-21eca7aada56",
   "metadata": {},
   "outputs": [],
   "source": [
    "df = df[df.date > max_date].reset_index(drop=True)\n",
    "df = df.sort_values(['date', 'tic'], ignore_index=True)\n",
    "df.to_csv(f\"{base_path}crypto_{resolution}.csv\")"
   ]
  },
  {
   "cell_type": "code",
   "execution_count": 70,
   "id": "2e7def70-9bda-4cda-a0d4-05168f5c7e70",
   "metadata": {},
   "outputs": [
    {
     "data": {
      "text/plain": [
       "(159830, 8)"
      ]
     },
     "execution_count": 70,
     "metadata": {},
     "output_type": "execute_result"
    }
   ],
   "source": [
    "df.shape"
   ]
  }
 ],
 "metadata": {
  "kernelspec": {
   "display_name": "Python 3 (ipykernel)",
   "language": "python",
   "name": "python3"
  },
  "language_info": {
   "codemirror_mode": {
    "name": "ipython",
    "version": 3
   },
   "file_extension": ".py",
   "mimetype": "text/x-python",
   "name": "python",
   "nbconvert_exporter": "python",
   "pygments_lexer": "ipython3",
   "version": "3.7.13"
  }
 },
 "nbformat": 4,
 "nbformat_minor": 5
}
