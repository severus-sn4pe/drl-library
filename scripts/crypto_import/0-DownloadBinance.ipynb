{
 "cells": [
  {
   "cell_type": "code",
   "execution_count": null,
   "id": "08c9640e-5206-4f20-87f2-0780e075a846",
   "metadata": {
    "pycharm": {
     "name": "#%%\n"
    }
   },
   "outputs": [],
   "source": [
    "import numpy as np\n",
    "import pandas as pd\n",
    "import requests\n",
    "import datetime\n",
    "import time\n",
    "REQUEST_LIMIT_1MIN = 1200"
   ]
  },
  {
   "cell_type": "code",
   "execution_count": null,
   "id": "4af14fc8-395e-43cb-9a7a-27b4c706157c",
   "metadata": {
    "pycharm": {
     "name": "#%%\n"
    }
   },
   "outputs": [],
   "source": [
    "def find_first_candlestick(symbol):\n",
    "    \n",
    "    info_url = f'https://api.binance.com/api/v3/klines?symbol={symbol}&interval=1m&limit=1&startTime=1'\n",
    "    info_r = requests.get(info_url)\n",
    "    info = info_r.json()\n",
    "    df = pd.DataFrame(info)\n",
    "    if not df.empty:\n",
    "        df.columns =['timestamp', 'open', 'high', 'low', 'close', 'vol', 'ct', 'qat', 'not', 'basevol', 'quotevol', 'ignore']\n",
    "        df = df.drop(columns=['ct', 'qat', 'not', 'basevol', 'quotevol', 'ignore'])\n",
    "        ts = int(df.iloc[0].timestamp/1000)\n",
    "        print(f\"First Timestamp of {symbol} is at {datetime.datetime.fromtimestamp(ts)}\")\n",
    "        return ts\n",
    "    return 0\n",
    "\n",
    "def get_unix_ts(year, month, day, hour, minute):\n",
    "    dt = datetime.datetime(year, month, day, hour, minute, tzinfo=datetime.timezone.utc)\n",
    "    return int(datetime.datetime.timestamp(dt))\n",
    "\n",
    "def get_binance_ohlc(symbol, start, limit=1000):\n",
    "    start_ms = start * 1000\n",
    "    info_url = f'https://api.binance.com/api/v3/klines?symbol={symbol}&interval=1m&limit={limit}&startTime={start_ms}'\n",
    "    info_r = requests.get(info_url)\n",
    "    info = info_r.json()\n",
    "    current_limit = info_r.headers['x-mbx-used-weight-1m']\n",
    "    \n",
    "    \n",
    "    data = pd.DataFrame(info)\n",
    "    if not data.empty:\n",
    "        data.columns =['timestamp', 'open', 'high', 'low', 'close', 'volume', 'ct', 'qat', 'not', 'basevol', 'quotevol', 'ignore']\n",
    "        data = data.drop(columns=['ct', 'qat', 'not', 'basevol', 'quotevol', 'ignore'])    \n",
    "        if len(data) > 0:\n",
    "            data.timestamp = data.timestamp / 1000\n",
    "            data['timestamp'] = data['timestamp'].astype(int)\n",
    "            data['volume'] = data['volume'].astype(np.double)\n",
    "            data['open'] = data['open'].astype(np.double)\n",
    "            data['high'] = data['high'].astype(np.double)\n",
    "            data['low'] = data['low'].astype(np.double)\n",
    "            data['close'] = data['close'].astype(np.double)\n",
    "            data = data.set_index('timestamp')\n",
    "            return data, current_limit\n",
    "    return pd.DataFrame(), current_limit\n",
    "\n",
    "def append_data_to_file(file, df):\n",
    "    df.to_csv(f\"data/thesis-step0/{file}\", mode='a', header=False)\n",
    "    \n",
    "def load_year(symbol, year):\n",
    "    print(f\"{symbol} - {y}\")\n",
    "    start_time = get_unix_ts(year, 1, 1, 0, 0)\n",
    "    if year == 2022:\n",
    "        end_time = get_unix_ts(year,12,2,5,59)\n",
    "    else:\n",
    "        end_time = get_unix_ts(year,12,31,23,59)\n",
    "    filename = f\"binance_{symbol}_{year}.csv\"\n",
    "    load(symbol, start_time, end_time, filename)\n",
    "    \n",
    "    \n",
    "# load specific dates\n",
    "# load('btcusd', get_unix_ts(2011, 8, 10, 0, 0), get_unix_ts(2011,12,31,23,59), 'bitstamp_btcusd.csv')\n",
    "def load(symbol, start, end, filename):\n",
    "    current_start = start\n",
    "    counter = 0\n",
    "    skipped = 0\n",
    "    added = 0\n",
    "    last_time = time.time()\n",
    "    total_start = time.time()\n",
    "    while True:\n",
    "        if current_start < end:\n",
    "            new_data, current_limit = get_binance_ohlc(symbol, current_start)\n",
    "            if new_data.empty:\n",
    "                skipped += 1000\n",
    "                current_start = current_start + (60*1000)\n",
    "            else:                \n",
    "                new_data = new_data[new_data.index <= end]\n",
    "                last_timestamp = new_data.last_valid_index()\n",
    "                if last_timestamp:\n",
    "                    current_start = last_timestamp + 60                          \n",
    "                    append_data_to_file(filename, new_data)\n",
    "                    added += len(new_data)\n",
    "                else:\n",
    "                    skipped += 1000\n",
    "                    current_start = current_start + (60*1000)\n",
    "            counter += 1\n",
    "            if counter % 43 == 0:\n",
    "                current_time = time.time()\n",
    "                time_diff = int(current_time - last_time)\n",
    "                req_per_sec = int((43 / time_diff) * 10)/10\n",
    "                limit_remaining = REQUEST_LIMIT_1MIN - int(current_limit)\n",
    "                print(f\"  iteration {counter:03} completed in {time_diff}s, avg {req_per_sec} r/sec, next={datetime.datetime.fromtimestamp(current_start)}, rate-limit={limit_remaining}\")\n",
    "                if limit_remaining < 50:\n",
    "                    print(\"rate limit protection - sleep 30s\")\n",
    "                    time.sleep(30)\n",
    "                last_time = current_time\n",
    "        else:            \n",
    "            break\n",
    "    total_time = int(time.time() - total_start)\n",
    "    print(f\"{counter:03} iterations done in {total_time}s, skipped {skipped}, added {added}\\n\")"
   ]
  },
  {
   "cell_type": "code",
   "execution_count": null,
   "id": "0c20d7b2-0402-420a-8bea-798394e2fd12",
   "metadata": {},
   "outputs": [],
   "source": [
    "SYMBOLS = ['BTCUSDT', 'ETHUSDT', 'LTCUSDT', 'AVAXUSDT', 'LINKUSDT', 'UNIUSDT', 'TLMUSDT', 'AXSUSDT', 'DOGEUSDT', 'SHIBUSDT']\n",
    "for symbol in SYMBOLS:\n",
    "    first_year = datetime.datetime.fromtimestamp(find_first_candlestick(symbol)).year\n",
    "    # print(f\"Starting {symbol} in {first_year}\")"
   ]
  },
  {
   "cell_type": "code",
   "execution_count": null,
   "id": "b714e552-d13e-4b90-9294-87c52319d483",
   "metadata": {},
   "outputs": [],
   "source": [
    "SYMBOLS = ['BTCUSDT', 'ETHUSDT', 'LTCUSDT', 'AVAXUSDT', 'LINKUSDT', 'UNIUSDT', 'TLMUSDT', 'AXSUSDT', 'DOGEUSDT', 'SHIBUSDT']\n",
    "# SYMBOLS = ['LTCUSDT', 'AVAXUSDT', 'LINKUSDT', 'UNIUSDT']\n",
    "y = 2022\n",
    "for symbol in SYMBOLS:\n",
    "    load_year(symbol, y)"
   ]
  },
  {
   "cell_type": "code",
   "execution_count": null,
   "id": "8550fcd1-8804-4627-999e-aa71609f4633",
   "metadata": {},
   "outputs": [],
   "source": [
    "SYMBOLS = ['AVAXUSDT', 'LINKUSDT', 'UNIUSDT', 'TLMUSDT', 'AXSUSDT', 'DOGEUSDT', 'SHIBUSDT']\n",
    "y = 2021\n",
    "for symbol in SYMBOLS:\n",
    "    load_year(symbol, y)"
   ]
  },
  {
   "cell_type": "code",
   "execution_count": null,
   "id": "47a19d1e-501d-4fc3-8e43-709d0bb83564",
   "metadata": {
    "pycharm": {
     "name": "#%%\n"
    },
    "tags": []
   },
   "outputs": [],
   "source": [
    "SYMBOLS = ['BTCUSDT', 'ETHUSDT', 'LTCUSDT', 'AVAXUSDT', 'LINKUSDT', 'UNIUSDT', 'TLMUSDT', 'AXSUSDT', 'DOGEUSDT', 'SHIBUSDT']\n",
    "\n",
    "startYear = 2021\n",
    "\n",
    "for symbol in SYMBOLS:\n",
    "    if startYear:\n",
    "        first_year = startYear\n",
    "    else:\n",
    "        first_year = datetime.datetime.fromtimestamp(find_first_candlestick(symbol)).year\n",
    "    print(f\"Starting {symbol} in {first_year}\")\n",
    "    for y in range(first_year, 2023):\n",
    "        load_year(symbol, y)\n",
    "        # pass"
   ]
  },
  {
   "cell_type": "code",
   "execution_count": null,
   "id": "f39aff46-e353-48d3-9585-bfb66570ab2b",
   "metadata": {},
   "outputs": [],
   "source": [
    "SYMBOLS = ['BTCUSDT', 'ETHUSDT', 'ADAUSDT', 'BNBUSDT', 'XRPUSDT', 'SOLUSDT', 'DOTUSDT', 'DOGEUSDT', 'AVAXUSDT', 'UNIUSDT']\n",
    "# SYMBOLS = ['BTCUSDT']\n",
    "for symbol in SYMBOLS:\n",
    "    # first_year = datetime.datetime.fromtimestamp(find_first_candlestick(symbol)).year\n",
    "    for y in range(2022, 2023):\n",
    "        load_year(symbol, y)"
   ]
  },
  {
   "cell_type": "code",
   "execution_count": null,
   "id": "72626735-af59-4300-8e87-610b6f201b20",
   "metadata": {},
   "outputs": [],
   "source": [
    "SYMBOLS = ['NEOUSDT', 'LTCUSDT', 'EOSUSDT', 'XLMUSDT', 'SHIBUSDT', 'IOTAUSDT', 'TRXUSDT', 'ETCUSDT', 'LINKUSDT', 'XMRUSDT', 'MATICUSDT', 'ALGOUSDT', 'MANAUSDT']"
   ]
  },
  {
   "cell_type": "code",
   "execution_count": null,
   "id": "c6792e6d-7d4e-4c69-b1bb-44d52cb03a38",
   "metadata": {
    "pycharm": {
     "name": "#%%\n"
    },
    "tags": []
   },
   "outputs": [],
   "source": [
    "# SYMBOLS = ['BTCUSDT', 'ETHUSDT', 'ADAUSDT', 'BNBUSDT', 'XRPUSDT', 'SOLUSDT', 'DOTUSDT', 'DOGEUSDT', 'AVAXUSDT', 'UNIUSDT']\n",
    "SYMBOLS = ['TLMUSDT', 'AXSUSDT']\n",
    "# SYMBOLS = ['BTCUSDT']\n",
    "for symbol in SYMBOLS:\n",
    "    first_year = datetime.datetime.fromtimestamp(find_first_candlestick(symbol)).year\n",
    "    for y in range(first_year, 2023):\n",
    "        load_year(symbol, y)"
   ]
  }
 ],
 "metadata": {
  "kernelspec": {
   "display_name": "Python 3 (ipykernel)",
   "language": "python",
   "name": "python3"
  },
  "language_info": {
   "codemirror_mode": {
    "name": "ipython",
    "version": 3
   },
   "file_extension": ".py",
   "mimetype": "text/x-python",
   "name": "python",
   "nbconvert_exporter": "python",
   "pygments_lexer": "ipython3",
   "version": "3.7.13"
  }
 },
 "nbformat": 4,
 "nbformat_minor": 5
}
