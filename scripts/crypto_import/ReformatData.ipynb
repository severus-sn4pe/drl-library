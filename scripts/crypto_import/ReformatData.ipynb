{
 "cells": [
  {
   "cell_type": "code",
   "execution_count": 1,
   "id": "116664b5-7f15-4812-9674-1bdda0e3f6af",
   "metadata": {},
   "outputs": [],
   "source": [
    "import pandas as pd\n",
    "import numpy as np\n",
    "base_path = 'data'"
   ]
  },
  {
   "cell_type": "code",
   "execution_count": 5,
   "id": "f4a7ae79-570e-4ac2-8d0d-9c21b2dc919a",
   "metadata": {},
   "outputs": [],
   "source": [
    "def convert(df, symbol):\n",
    "    \"\"\"\n",
    "    Adds required columns to DataFrame\n",
    "    \"\"\"\n",
    "    df['date'] = pd.to_datetime(df['ts'], unit='s')\n",
    "    df.insert(0, 'date', df.pop('date'))\n",
    "    df['tic'] = symbol\n",
    "    df['day'] = df.date.dt.day_of_week\n",
    "    df = df.drop('ts', axis=1)\n",
    "    return df\n",
    "\n",
    "def load(symbol):\n",
    "    df = pd.read_csv(f\"{base_path}/raw_{symbol}_1min.csv\", names=['ts', 'open', 'high', 'low', 'close', 'volume'], header=None)    \n",
    "    return df\n",
    "\n",
    "def save(df, symbol, resolution):\n",
    "    res_name = \"\"\n",
    "    if resolution < 60:\n",
    "        res_name = f\"{resolution}min\"\n",
    "    elif resolution < 1440:\n",
    "        res_name = f\"{int(resolution/60)}h\"\n",
    "    else:\n",
    "        res_name = f\"{int(resolution/1440)}d\"\n",
    "    filename = f\"{base_path}/{symbol}_{res_name}.csv\"\n",
    "    df.to_csv(filename)\n",
    "    print(f\"{filename} written\")\n",
    "\n",
    "def aggregate(df, resolution_minutes=1) -> pd.DataFrame:\n",
    "    \"\"\"\n",
    "    Aggregates minute data into longer durations    \n",
    "    \"\"\"\n",
    "    resolution_seconds = resolution_minutes * 60\n",
    "    df['tsgroup'] = pd.DataFrame(df['ts'].div(resolution_seconds), dtype=int).multiply(resolution_seconds)\n",
    "    agg_list = {'open': lambda x: x.iloc[0], 'high': np.max, 'low': np.min, 'close': lambda x: x.iloc[-1],\n",
    "                'volume': np.sum, 'ts': lambda x: x.iloc[0]}\n",
    "    groupped = df.groupby('tsgroup').agg(agg_list)\n",
    "    # groupped['date'] = pd.to_datetime(groupped['ts'], unit='s')\n",
    "    # groupped.index = groupped['date']\n",
    "    df = groupped[['ts', 'open', 'high', 'low', 'close','volume']]    \n",
    "    df = df.reset_index(drop=True)\n",
    "    return df\n",
    "\n",
    "def reformat_symbol(symbol, resolution):\n",
    "    df = load(symbol)\n",
    "    df = aggregate(df, resolution)\n",
    "    df = convert(df, symbol)\n",
    "    save(df, symbol, resolution)\n",
    "    return df    "
   ]
  },
  {
   "cell_type": "code",
   "execution_count": 3,
   "id": "f7553e5e-8165-4909-a721-af5f0f4f34f5",
   "metadata": {},
   "outputs": [
    {
     "name": "stdout",
     "output_type": "stream",
     "text": [
      "BTCUSDT\n",
      "data/BTCUSDT_5min.csv written\n",
      "data/BTCUSDT_1h.csv written\n",
      "data/BTCUSDT_1d.csv written\n",
      "ETHUSDT\n",
      "data/ETHUSDT_5min.csv written\n",
      "data/ETHUSDT_1h.csv written\n",
      "data/ETHUSDT_1d.csv written\n",
      "ADAUSDT\n",
      "data/ADAUSDT_5min.csv written\n",
      "data/ADAUSDT_1h.csv written\n",
      "data/ADAUSDT_1d.csv written\n",
      "BNBUSDT\n",
      "data/BNBUSDT_5min.csv written\n",
      "data/BNBUSDT_1h.csv written\n",
      "data/BNBUSDT_1d.csv written\n",
      "XRPUSDT\n",
      "data/XRPUSDT_5min.csv written\n",
      "data/XRPUSDT_1h.csv written\n",
      "data/XRPUSDT_1d.csv written\n",
      "SOLUSDT\n",
      "data/SOLUSDT_5min.csv written\n",
      "data/SOLUSDT_1h.csv written\n",
      "data/SOLUSDT_1d.csv written\n",
      "DOTUSDT\n",
      "data/DOTUSDT_5min.csv written\n",
      "data/DOTUSDT_1h.csv written\n",
      "data/DOTUSDT_1d.csv written\n",
      "DOGEUSDT\n",
      "data/DOGEUSDT_5min.csv written\n",
      "data/DOGEUSDT_1h.csv written\n",
      "data/DOGEUSDT_1d.csv written\n",
      "AVAXUSDT\n",
      "data/AVAXUSDT_5min.csv written\n",
      "data/AVAXUSDT_1h.csv written\n",
      "data/AVAXUSDT_1d.csv written\n",
      "UNIUSDT\n",
      "data/UNIUSDT_5min.csv written\n",
      "data/UNIUSDT_1h.csv written\n",
      "data/UNIUSDT_1d.csv written\n"
     ]
    }
   ],
   "source": [
    "SYMBOLS = ['BTCUSDT', 'ETHUSDT', 'ADAUSDT', 'BNBUSDT', 'XRPUSDT', 'SOLUSDT', 'DOTUSDT', 'DOGEUSDT', 'AVAXUSDT', 'UNIUSDT']\n",
    "RESOLUTIONS = [1, 5, 60, 1440]\n",
    "for symbol in SYMBOLS:\n",
    "    print(symbol)\n",
    "    for resolution in RESOLUTIONS:\n",
    "        reformat_symbol(symbol, resolution)"
   ]
  },
  {
   "cell_type": "code",
   "execution_count": null,
   "id": "f578f194-9229-4dc5-97d7-19b5c1d9d41c",
   "metadata": {},
   "outputs": [],
   "source": []
  },
  {
   "cell_type": "code",
   "execution_count": null,
   "id": "b16f65d4-71d2-47d6-8e24-f996bbf8ab4b",
   "metadata": {},
   "outputs": [],
   "source": []
  },
  {
   "cell_type": "code",
   "execution_count": null,
   "id": "9f6bf761-3d62-49cd-b406-0dc13cad5416",
   "metadata": {},
   "outputs": [],
   "source": []
  }
 ],
 "metadata": {
  "kernelspec": {
   "display_name": "Python 3 (ipykernel)",
   "language": "python",
   "name": "python3"
  },
  "language_info": {
   "codemirror_mode": {
    "name": "ipython",
    "version": 3
   },
   "file_extension": ".py",
   "mimetype": "text/x-python",
   "name": "python",
   "nbconvert_exporter": "python",
   "pygments_lexer": "ipython3",
   "version": "3.7.13"
  }
 },
 "nbformat": 4,
 "nbformat_minor": 5
}
