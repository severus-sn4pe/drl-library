{
 "cells": [
  {
   "cell_type": "code",
   "execution_count": null,
   "id": "be12b07e-00c7-43a7-98d3-3a89c63eff08",
   "metadata": {},
   "outputs": [],
   "source": [
    "import pandas as pd\n",
    "import numpy as np\n",
    "import itertools\n",
    "base_path = 'data'"
   ]
  },
  {
   "cell_type": "code",
   "execution_count": null,
   "id": "26784e51-8e00-458c-a891-502064b8b71e",
   "metadata": {},
   "outputs": [],
   "source": [
    "# SYMBOLS = ['BTCUSDT', 'ETHUSDT', 'ADAUSDT', 'BNBUSDT', 'XRPUSDT', 'SOLUSDT', 'DOTUSDT', 'DOGEUSDT', 'AVAXUSDT', 'UNIUSDT']\n",
    "SYMBOLS = ['BTCUSDT', 'ETHUSDT', 'LTCUSDT', 'AVAXUSDT', 'LINKUSDT', 'UNIUSDT', 'TLMUSDT', 'AXSUSDT', 'DOGEUSDT', 'SHIBUSDT']\n",
    "RES_LIST = ['1min', '5min', '30min', '1h', '6h', '12h', '1d']"
   ]
  },
  {
   "cell_type": "code",
   "execution_count": null,
   "id": "21a29afb-6883-41f8-b091-ced6aea8126a",
   "metadata": {},
   "outputs": [],
   "source": [
    "def preprocess_crypto(sym, res):\n",
    "    filename = f\"{sym}_{res}.csv\"\n",
    "    print(f\"Handling {filename}\")\n",
    "    df = pd.read_csv(f\"{base_path}/thesis-step2/{sym}_{res}.csv\", index_col=0)\n",
    "    countBefore = df.shape[0]\n",
    "    # round down to nearest minute (ignore seconds)\n",
    "    df['date'] = df['date'].values.astype('<M8[m]')\n",
    "    df['date'] = df['date'].astype(str)\n",
    "    df = df.sort_values(['date', 'tic']).reset_index(drop=True)\n",
    "\n",
    "    # insert missing rows from date_range\n",
    "    if res == '1d':\n",
    "        df['date'] = pd.to_datetime(df['date']).dt.date.astype('str')   \n",
    "    list_date = list(pd.date_range(df['date'].min(), df['date'].max(), freq=res).astype(str))\n",
    "    countExpected = len(list_date)    \n",
    "    list_ticker = df[\"tic\"].unique().tolist()\n",
    "    combination = list(itertools.product(list_date, list_ticker))\n",
    "    combination_df =  pd.DataFrame(combination, columns=[\"date\", \"tic\"])\n",
    "    processed_full = combination_df.merge(df, on=[\"date\", \"tic\"], how=\"left\")\n",
    "\n",
    "    # forward-filling close price to OHLC, set Vol to 0\n",
    "    processed_full[['close']] = processed_full[['close']].fillna(method='ffill')\n",
    "    processed_full.volume.fillna(0, inplace=True) # [['volume']] = processed_full[['volume']].fillna(0)\n",
    "    processed_full.open.fillna(processed_full.close, inplace=True)\n",
    "    processed_full.high.fillna(processed_full.close, inplace=True)\n",
    "    processed_full.low.fillna(processed_full.close, inplace=True)\n",
    "    processed_full['datex'] = pd.to_datetime(processed_full['date'])\n",
    "    processed_full['day'] = processed_full.datex.dt.day_of_week\n",
    "    processed_full = processed_full.drop('datex', axis=1)\n",
    "    processed_full = processed_full.reset_index(drop=True)\n",
    "    countNew = processed_full.shape[0]\n",
    "    # processed_full.open.fillna(processed_full.close, inplace=True)\n",
    "    print(f\"Start: {countBefore} Expected: {countExpected} New: {countNew} Diff.: {countNew-countExpected}\")\n",
    "    print(f\"Added: {countNew-countBefore}\")\n",
    "    print(\"----------------------------------------------------------\")\n",
    "\n",
    "    processed_full.to_csv(f\"{base_path}/thesis-step3/{sym}_{res}.csv\")\n",
    "    return processed_full\n",
    "    "
   ]
  },
  {
   "cell_type": "code",
   "execution_count": null,
   "id": "4a9d1fc7-f97a-4f15-ba6f-8f7911f79b68",
   "metadata": {},
   "outputs": [],
   "source": [
    "# res = '1d'\n",
    "# sym = 'BTCUSDT'\n",
    "# df = preprocess_crypto(sym, res)"
   ]
  },
  {
   "cell_type": "code",
   "execution_count": null,
   "id": "71f743a5-5fe3-4d70-bd9e-47f29657c9d5",
   "metadata": {
    "tags": []
   },
   "outputs": [],
   "source": [
    "for sym in SYMBOLS:\n",
    "    for res in RES_LIST:\n",
    "        df = preprocess_crypto(sym, res)"
   ]
  }
 ],
 "metadata": {
  "kernelspec": {
   "display_name": "Python 3 (ipykernel)",
   "language": "python",
   "name": "python3"
  },
  "language_info": {
   "codemirror_mode": {
    "name": "ipython",
    "version": 3
   },
   "file_extension": ".py",
   "mimetype": "text/x-python",
   "name": "python",
   "nbconvert_exporter": "python",
   "pygments_lexer": "ipython3",
   "version": "3.7.15"
  }
 },
 "nbformat": 4,
 "nbformat_minor": 5
}
