{
 "cells": [
  {
   "cell_type": "code",
   "execution_count": null,
   "id": "116664b5-7f15-4812-9674-1bdda0e3f6af",
   "metadata": {},
   "outputs": [],
   "source": [
    "import pandas as pd\n",
    "import numpy as np\n",
    "base_path = 'data'"
   ]
  },
  {
   "cell_type": "code",
   "execution_count": null,
   "id": "f4a7ae79-570e-4ac2-8d0d-9c21b2dc919a",
   "metadata": {},
   "outputs": [],
   "source": [
    "def convert(df, symbol):\n",
    "    \"\"\"\n",
    "    Adds required columns to DataFrame\n",
    "    \"\"\"\n",
    "    df['date'] = pd.to_datetime(df['ts'], unit='s')\n",
    "    df.insert(0, 'date', df.pop('date'))\n",
    "    df['tic'] = symbol\n",
    "    df['day'] = df.date.dt.day_of_week\n",
    "    df = df.drop('ts', axis=1)\n",
    "    return df\n",
    "\n",
    "def load(symbol):\n",
    "    df = pd.read_csv(f\"{base_path}/thesis-step1/raw_{symbol}_1min.csv\", names=['ts', 'open', 'high', 'low', 'close', 'volume'], header=None)    \n",
    "    return df\n",
    "\n",
    "def save(df, symbol, resolution):\n",
    "    res_name = \"\"\n",
    "    if resolution < 60:\n",
    "        res_name = f\"{resolution}min\"\n",
    "    elif resolution < 1440:\n",
    "        res_name = f\"{int(resolution/60)}h\"\n",
    "    else:\n",
    "        res_name = f\"{int(resolution/1440)}d\"\n",
    "    filename = f\"{base_path}/thesis-step2/{symbol}_{res_name}.csv\"\n",
    "    df.to_csv(filename)\n",
    "    print(f\"{filename} written\")\n",
    "\n",
    "def aggregate(df, resolution_minutes=1) -> pd.DataFrame:\n",
    "    \"\"\"\n",
    "    Aggregates minute data into longer durations    \n",
    "    \"\"\"\n",
    "    resolution_seconds = resolution_minutes * 60\n",
    "    df['tsgroup'] = pd.DataFrame(df['ts'].div(resolution_seconds), dtype=int).multiply(resolution_seconds)\n",
    "    agg_list = {'open': lambda x: x.iloc[0], 'high': np.max, 'low': np.min, 'close': lambda x: x.iloc[-1],\n",
    "                'volume': np.sum, 'ts': lambda x: x.iloc[0]}\n",
    "    groupped = df.groupby('tsgroup').agg(agg_list)\n",
    "    # groupped['date'] = pd.to_datetime(groupped['ts'], unit='s')\n",
    "    # groupped.index = groupped['date']\n",
    "    df = groupped[['ts', 'open', 'high', 'low', 'close','volume']]    \n",
    "    df = df.reset_index(drop=True)\n",
    "    return df\n",
    "\n",
    "def reformat_symbol(symbol, resolution):\n",
    "    df = load(symbol)\n",
    "    df = aggregate(df, resolution)\n",
    "    df = convert(df, symbol)\n",
    "    save(df, symbol, resolution)\n",
    "    return df    "
   ]
  },
  {
   "cell_type": "code",
   "execution_count": null,
   "id": "f7553e5e-8165-4909-a721-af5f0f4f34f5",
   "metadata": {},
   "outputs": [],
   "source": [
    "SYMBOLS = ['BTCUSDT', 'ETHUSDT', 'LTCUSDT', 'AVAXUSDT', 'LINKUSDT', 'UNIUSDT', 'TLMUSDT', 'AXSUSDT', 'DOGEUSDT', 'SHIBUSDT']\n",
    "RESOLUTIONS = [1,5,30,60,1440]\n",
    "for symbol in SYMBOLS:\n",
    "    print(symbol)\n",
    "    for resolution in RESOLUTIONS:\n",
    "        reformat_symbol(symbol, resolution)"
   ]
  },
  {
   "cell_type": "code",
   "execution_count": null,
   "id": "b16f65d4-71d2-47d6-8e24-f996bbf8ab4b",
   "metadata": {},
   "outputs": [],
   "source": []
  },
  {
   "cell_type": "code",
   "execution_count": null,
   "id": "9f6bf761-3d62-49cd-b406-0dc13cad5416",
   "metadata": {},
   "outputs": [],
   "source": []
  }
 ],
 "metadata": {
  "kernelspec": {
   "display_name": "Python 3 (ipykernel)",
   "language": "python",
   "name": "python3"
  },
  "language_info": {
   "codemirror_mode": {
    "name": "ipython",
    "version": 3
   },
   "file_extension": ".py",
   "mimetype": "text/x-python",
   "name": "python",
   "nbconvert_exporter": "python",
   "pygments_lexer": "ipython3",
   "version": "3.7.13"
  }
 },
 "nbformat": 4,
 "nbformat_minor": 5
}
