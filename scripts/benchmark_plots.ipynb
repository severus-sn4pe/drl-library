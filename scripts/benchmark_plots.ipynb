{
 "cells": [
  {
   "cell_type": "code",
   "execution_count": null,
   "id": "11c87b76-a642-4848-af6a-14bda9e8567d",
   "metadata": {},
   "outputs": [],
   "source": [
    "import pandas as pd\n",
    "import numpy as np\n",
    "import time\n",
    "import matplotlib.pyplot as mpl\n",
    "from datetime import timedelta\n",
    "\n",
    "from pylab import rcParams\n",
    "rcParams['figure.figsize'] = 15, 10\n",
    "\n",
    "import plotly.graph_objects as go\n",
    "from plotly.subplots import make_subplots\n",
    "from generate_results_utils import *\n",
    "\n",
    "colors = [\"#FF0000\", \"#18E3FF\", \"#FFA90C\", \"#D9E501\", \"#0A2DC2\", \"#05A41B\", \"#878787\", \"#935948\", \"#b372fa\", \"#FC12DD\"]\n",
    "bench_colors = [\"#000000\", \"#18E3FF\", \"#FFA90C\", \"#05A41B\"]\n",
    "bench_colors = [\"#ff0000\", \"#000\", \"#3333ff\"]\n"
   ]
  },
  {
   "cell_type": "code",
   "execution_count": null,
   "id": "75cc6c33-a48d-4047-acdf-5b7a0eb21f1b",
   "metadata": {},
   "outputs": [],
   "source": [
    "start = pd.Timestamp('2022-06-22 00:00:00')\n",
    "end = pd.Timestamp('2022-12-01 23:00:00')\n",
    "portfolio_prefix = f'../results/benchmark/benchmark'\n",
    "res = '1d'\n",
    "df_benchmark = get_benchmark(start, end, res)\n",
    "df_benchmark = get_cumulative_returns(df_benchmark)\n",
    "df_prices = get_prices(start, end, res)"
   ]
  },
  {
   "cell_type": "code",
   "execution_count": null,
   "id": "0f2e0dd8-88c1-4991-a2b1-d37d1a4efe1d",
   "metadata": {},
   "outputs": [],
   "source": [
    "fig = make_subplots(specs=[[{\"secondary_y\": True}]])\n",
    "    \n",
    "for idx, name in enumerate(df_benchmark.columns):\n",
    "    fig.add_trace(go.Scatter(x=df_benchmark.index,y=df_benchmark[name],name=name, marker_color=bench_colors[idx]),secondary_y=False)\n",
    "    fig.update_traces(connectgaps=True)\n",
    "\n",
    "fig.update_layout(title_text='Benchmark Performances', height=600, template='plotly_white')\n",
    "fig.show()\n",
    "filename_prefix = f\"{portfolio_prefix}_performance\"\n",
    "fig.write_html(f\"{filename_prefix}.html\")\n",
    "fig.write_image(f\"{filename_prefix}.png\", width=1200, scale=2)"
   ]
  },
  {
   "cell_type": "code",
   "execution_count": null,
   "id": "2ae8b790-0204-4384-8716-4ec88793181a",
   "metadata": {},
   "outputs": [],
   "source": [
    "fig = make_subplots(specs=[[{\"secondary_y\": True}]])\n",
    "\n",
    "for idx, name in enumerate(df_prices.columns):\n",
    "    if idx == 0:\n",
    "        name_label = 'assets'\n",
    "        showlegend = True\n",
    "    else:\n",
    "        name_label=name\n",
    "        showlegend=False\n",
    "    \n",
    "    fig.add_trace(go.Scatter(x=df_prices.index,y=df_prices[name],name=name_label, marker_color=\"#e0e0e0\", showlegend=showlegend, opacity=0.8),secondary_y=False) \n",
    "    \n",
    "for idx, name in enumerate(df_benchmark.columns):\n",
    "    fig.add_trace(go.Scatter(x=df_benchmark.index,y=df_benchmark[name],name=name, marker_color=bench_colors[idx]),secondary_y=False)\n",
    "    fig.update_traces(connectgaps=True)\n",
    "\n",
    "# ylimit_upper = df_benchmark.max().max() + 0.05\n",
    "# ylimit_lower = df_benchmark.min().min() - 0.01\n",
    "# fig.update_layout(yaxis_range=[ylimit_lower, ylimit_upper])\n",
    "fig.update_layout(title_text='Benchmark Performances', height=600, template='plotly_white')\n",
    "fig.show()\n",
    "filename_prefix = f\"{portfolio_prefix}_performance_with_assets\"\n",
    "fig.write_html(f\"{filename_prefix}.html\")\n",
    "fig.write_image(f\"{filename_prefix}.png\", width=1200, scale=2)"
   ]
  },
  {
   "cell_type": "code",
   "execution_count": null,
   "id": "86cfdd34-aed4-444f-9283-457e20bd8c52",
   "metadata": {},
   "outputs": [],
   "source": []
  },
  {
   "cell_type": "code",
   "execution_count": null,
   "id": "0cd88a69-6efa-44dc-848b-a89751795a0d",
   "metadata": {},
   "outputs": [],
   "source": []
  },
  {
   "cell_type": "code",
   "execution_count": null,
   "id": "4122be8d-e237-4810-9442-cfed1a0481c9",
   "metadata": {},
   "outputs": [],
   "source": []
  },
  {
   "cell_type": "code",
   "execution_count": null,
   "id": "50f3ad57-906c-46fd-b3b2-95dff50d481b",
   "metadata": {},
   "outputs": [],
   "source": []
  }
 ],
 "metadata": {
  "kernelspec": {
   "display_name": "Python 3 (ipykernel)",
   "language": "python",
   "name": "python3"
  },
  "language_info": {
   "codemirror_mode": {
    "name": "ipython",
    "version": 3
   },
   "file_extension": ".py",
   "mimetype": "text/x-python",
   "name": "python",
   "nbconvert_exporter": "python",
   "pygments_lexer": "ipython3",
   "version": "3.8.15"
  }
 },
 "nbformat": 4,
 "nbformat_minor": 5
}
