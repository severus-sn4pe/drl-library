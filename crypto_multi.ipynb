{
 "cells": [
  {
   "cell_type": "code",
   "execution_count": null,
   "id": "004da848-8fe1-4637-baf1-beb95945da16",
   "metadata": {},
   "outputs": [],
   "source": [
    "import numpy as np\n",
    "import pandas as pd\n",
    "import math\n",
    "\n",
    "import itertools\n",
    "from datetime import datetime\n",
    "import time\n",
    "\n",
    "from finrl.meta.env_cryptocurrency_trading.env_multiple_crypto import CryptoEnv\n",
    "\n",
    "from finrl.agents.stablebaselines3.drl_agent import DRLAgent\n",
    "from finrl.meta.data_processor import DataProcessor\n",
    "\n",
    "from lib.drl import load_dataset, data_split\n",
    "from config import general as config\n",
    "from config import crypto\n",
    "# Plotting\n",
    "import matplotlib.pyplot as plt\n",
    "import matplotlib.ticker as ticker\n",
    "import matplotlib.dates as mdates"
   ]
  },
  {
   "cell_type": "code",
   "execution_count": null,
   "id": "21fe7678-59cd-4c36-9e4a-5196eb0abc5a",
   "metadata": {},
   "outputs": [],
   "source": [
    "def train(start_date, end_date, ticker_list, data_source, time_interval, technical_indicator_list, env, model_name, if_vix=True, **kwargs):\n",
    "    # process data using unified data processor\n",
    "    # dp = DataProcessor(\"file\", filename=\"datasets/crypto/crypto_1h.csv\", **kwargs)\n",
    "    # dp.download_data(ticket_list, start_date, end_date, '1h')\n",
    "    # price_array, tech_array, turbulence_array = DP.run(ticker_list, technical_indicator_list, if_vix, cache=True)\n",
    "\n",
    "    data_config = {'price_array': price_array, 'tech_array': tech_array, 'turbulence_array': turbulence_array}\n",
    "\n",
    "    # build environment using processed data\n",
    "    env_instance = env(config=data_config)\n",
    "\n",
    "    # read parameters and load agents\n",
    "    current_working_dir = kwargs.get('current_working_dir', './' + str(model_name))\n",
    "\n",
    "    total_timesteps = kwargs.get('total_timesteps', 1e6)\n",
    "    agent_params = kwargs.get('agent_params')\n",
    "\n",
    "    agent = DRLAgent(env=env_instance)\n",
    "\n",
    "    model = agent.get_model(model_name, model_kwargs=agent_params)\n",
    "    trained_model = agent.train_model(model=model, tb_log_name=model_name, total_timesteps=total_timesteps)\n",
    "    \n",
    "    print('Training finished!')\n",
    "    trained_model.save(current_working_dir)\n",
    "    print('Trained model saved in ' + str(current_working_dir))"
   ]
  },
  {
   "cell_type": "code",
   "execution_count": null,
   "id": "6525c64b-f2ef-4c85-8654-e430f8b77e8e",
   "metadata": {},
   "outputs": [],
   "source": [
    "def test(start_date, end_date, ticker_list, data_source, time_interval, technical_indicator_list, drl_lib, env, model_name, if_vix=True, **kwargs):\n",
    "    # process data using unified data processor\n",
    "    # dp = DataProcessor(data_source, start_date, end_date, time_interval, **kwargs)\n",
    "    # price_array, tech_array, turbulence_array = dp.run(ticker_list, technical_indicator_list, if_vix, cache=True)\n",
    "\n",
    "    np.save('./price_array.npy', price_array)\n",
    "    data_config = {'price_array': price_array, 'tech_array': tech_array, 'turbulence_array': turbulence_array}\n",
    "    # build environment using processed data\n",
    "    env_instance = env(config=data_config)\n",
    "\n",
    "    env_config = { \"price_array\": price_array, \"tech_array\": tech_array, \"turbulence_array\": turbulence_array, \"if_train\": False }\n",
    "    env_instance = env(config=env_config)\n",
    "\n",
    "    # load elegantrl needs state dim, action dim and net dim\n",
    "    net_dimension = kwargs.get(\"net_dimension\", 2 ** 7)\n",
    "    current_working_dir = kwargs.get(\"current_working_dir\", \"./\" + str(model_name))\n",
    "    print(\"price_array: \", len(price_array))\n",
    "\n",
    "    episode_total_assets = DRLAgent.DRL_prediction_load_from_file(model_name=model_name, environment=env_instance, cwd=current_working_dir)\n",
    "    return episode_total_assets\n",
    "\n",
    "def get_time():\n",
    "    now = datetime.now()\n",
    "    return now.strftime(\"%d.%m.%Y %H:%M:%S\")\n",
    "    \n",
    "def get_duration(duration):\n",
    "    m, s = divmod(duration, 60)\n",
    "    h, m = divmod(m, 60)\n",
    "    return f'{h:02.0f}:{m:02.0f}:{s:02.0f}'"
   ]
  },
  {
   "cell_type": "code",
   "execution_count": null,
   "id": "d902d711-b671-431a-990d-fa59e49d674f",
   "metadata": {},
   "outputs": [],
   "source": [
    "TICKER_LIST = ['BTCUSDT', 'ETHUSDT', 'ADAUSDT', 'BNBUSDT', 'XRPUSDT', 'SOLUSDT', 'DOTUSDT', 'DOGEUSDT', 'AVAXUSDT', 'UNIUSDT']\n",
    "# INDICATORS = ['macd', 'rsi_30', 'cci_30', 'dx_30']\n",
    "# TRAIN_START_DATE = '2020-10-01'\n",
    "# TRAIN_END_DATE = '2022-01-01'\n",
    "# TEST_START_DATE = '2022-01-01'\n",
    "# TEST_END_DATE = '2022-07-01'"
   ]
  },
  {
   "cell_type": "code",
   "execution_count": null,
   "id": "c6845b4f-03b0-4434-95fb-b95ccd78c452",
   "metadata": {},
   "outputs": [],
   "source": [
    "# df = load_dataset(\"datasets/crypto/crypto_1d.csv\", INDICATORS, True, False, '1d')\n",
    "df = pd.read_csv(f\"{config.DATA_SAVE_DIR}/crypto/crypto_1h_parsed.csv\", index_col=0)\n",
    "df_train = data_split(df, crypto.TRAIN_START_DATE, crypto.TRAIN_END_DATE)\n",
    "df_test = data_split(df, crypto.TEST_START_DATE, crypto.TEST_END_DATE)\n",
    "print(f\"train {df_train.shape}\")\n",
    "print(f\"test  {df_test.shape}\")\n",
    "# df.to_csv('crypto_1d_parsed.csv')"
   ]
  },
  {
   "cell_type": "code",
   "execution_count": null,
   "id": "5dd1bc53-031b-4303-a0d5-d0abbcdd0ea5",
   "metadata": {},
   "outputs": [],
   "source": [
    "env = CryptoEnv"
   ]
  },
  {
   "cell_type": "code",
   "execution_count": null,
   "id": "0d3f0ecd-c6f3-454e-aaaf-0f98773afaeb",
   "metadata": {},
   "outputs": [],
   "source": [
    "start = time.time()\n",
    "dur = '1min'\n",
    "df = load_dataset(f\"datasets/crypto/crypto_{dur}.csv\", crypto.INDICATORS, True, False, dur)\n",
    "print(f\"{get_time()} : Loading done after {get_duration(time.time()-start)}\")\n",
    "df.to_csv(f\"datasets/crypto/crypto_{dur}_parsed.csv\")\n",
    "print(f\"{get_time()} : Saved after {get_duration(time.time()-start)}\")"
   ]
  },
  {
   "cell_type": "code",
   "execution_count": null,
   "id": "4b3e2a8b-42ea-4674-8f0d-801ad838ad5e",
   "metadata": {},
   "outputs": [],
   "source": [
    "duration = time.time() - start\n",
    "m, s = divmod(duration, 60)\n",
    "h, m = divmod(m, 60)\n"
   ]
  },
  {
   "cell_type": "code",
   "execution_count": null,
   "id": "c9f63520-24cc-45ed-bca6-0efc0b06d3e5",
   "metadata": {},
   "outputs": [],
   "source": [
    "s = 5"
   ]
  },
  {
   "cell_type": "code",
   "execution_count": null,
   "id": "a4ab6ae2-709a-4996-a635-9774fd9c4901",
   "metadata": {},
   "outputs": [],
   "source": []
  },
  {
   "cell_type": "code",
   "execution_count": null,
   "id": "68d083e9-f452-4d5c-9b60-ecfe54050ee6",
   "metadata": {},
   "outputs": [],
   "source": [
    "# Training\n",
    "train(start_date=TRAIN_START_DATE, end_date=TRAIN_END_DATE, ticker_list=TICKER_LIST,\n",
    "      data_source='binance', time_interval='5m', technical_indicator_list=INDICATORS,\n",
    "      env=env, model_name='ppo', current_working_dir='./test_ppo', erl_params=ERL_PARAMS,\n",
    "      break_step=5e4, if_vix=False)"
   ]
  },
  {
   "cell_type": "code",
   "execution_count": null,
   "id": "7276460d-b272-4850-957c-41bc1d176626",
   "metadata": {},
   "outputs": [],
   "source": []
  },
  {
   "cell_type": "code",
   "execution_count": null,
   "id": "05793792-e5d5-4452-bd04-02923e43c452",
   "metadata": {},
   "outputs": [],
   "source": []
  },
  {
   "cell_type": "code",
   "execution_count": null,
   "id": "2d63b301-21ee-4bf7-b1d8-e370fed04315",
   "metadata": {},
   "outputs": [],
   "source": []
  },
  {
   "cell_type": "code",
   "execution_count": null,
   "id": "9b0f6c26-4940-4e7f-93b7-50ff0c0b5a9c",
   "metadata": {},
   "outputs": [],
   "source": []
  },
  {
   "cell_type": "code",
   "execution_count": null,
   "id": "a6dae017-d95e-43a6-b7fa-d18206c380fd",
   "metadata": {},
   "outputs": [],
   "source": []
  },
  {
   "cell_type": "code",
   "execution_count": null,
   "id": "fa90a44f-b4be-49d8-b477-a0766d357d61",
   "metadata": {},
   "outputs": [],
   "source": []
  },
  {
   "cell_type": "code",
   "execution_count": null,
   "id": "ac0a66e1-aad7-4987-9a10-e58bef3629e3",
   "metadata": {},
   "outputs": [],
   "source": []
  },
  {
   "cell_type": "code",
   "execution_count": null,
   "id": "72256637-6262-40ad-b4dc-7548c892292b",
   "metadata": {},
   "outputs": [],
   "source": []
  },
  {
   "cell_type": "code",
   "execution_count": null,
   "id": "2b7b8e12-9411-42f2-92ae-213913dfb9cf",
   "metadata": {},
   "outputs": [],
   "source": []
  },
  {
   "cell_type": "code",
   "execution_count": null,
   "id": "db80fbf8-72f6-4109-804d-074e2ed225eb",
   "metadata": {},
   "outputs": [],
   "source": []
  },
  {
   "cell_type": "code",
   "execution_count": null,
   "id": "6f513ab8-ceb9-45ae-93bd-b1c1a9fd95d6",
   "metadata": {},
   "outputs": [],
   "source": []
  },
  {
   "cell_type": "code",
   "execution_count": null,
   "id": "f674142e-186a-4d93-a3bb-bf2da1f6ec8b",
   "metadata": {},
   "outputs": [],
   "source": []
  },
  {
   "cell_type": "code",
   "execution_count": null,
   "id": "64aaf7dc-c4a8-4857-94e5-b777f58344bf",
   "metadata": {},
   "outputs": [],
   "source": []
  },
  {
   "cell_type": "code",
   "execution_count": null,
   "id": "425eb783-358d-4101-8184-a943bd7a0341",
   "metadata": {},
   "outputs": [],
   "source": []
  },
  {
   "cell_type": "code",
   "execution_count": null,
   "id": "5d623dd8-d231-4bc1-82b6-80a14106bbb1",
   "metadata": {},
   "outputs": [],
   "source": []
  },
  {
   "cell_type": "code",
   "execution_count": null,
   "id": "df1028c5-adde-4dad-95f6-45bffdcca56b",
   "metadata": {},
   "outputs": [],
   "source": []
  },
  {
   "cell_type": "code",
   "execution_count": null,
   "id": "31aa9eb1-bcd1-4830-a722-6b60a87b9fb1",
   "metadata": {},
   "outputs": [],
   "source": [
    "\n",
    "\n"
   ]
  },
  {
   "cell_type": "code",
   "execution_count": null,
   "id": "79c74e2e-ef0c-4d58-b7e2-4d4fb3b6e06d",
   "metadata": {},
   "outputs": [],
   "source": [
    "# Testing\n",
    "account_value = test(start_date=TEST_START_DATE, end_date=TEST_END_DATE, ticker_list=TICKER_LIST,\n",
    "                     data_source='binance', time_interval='5m', technical_indicator_list=INDICATORS,\n",
    "                     drl_lib='elegantrl', env=env, model_name='ppo', current_working_dir='./test_ppo',\n",
    "                     net_dimension=2 ** 9, if_vix=False)"
   ]
  },
  {
   "cell_type": "code",
   "execution_count": null,
   "id": "e93397b5-16a0-42db-9f0f-11186e0ad085",
   "metadata": {},
   "outputs": [],
   "source": [
    "# calculate agent returns\n",
    "account_value = np.array(account_value)\n",
    "agent_returns = account_value / account_value[0]\n",
    "\n",
    "# calculate buy-and-hold btc returns\n",
    "price_array = np.load('./price_array.npy')\n",
    "btc_prices = price_array[:, 0]\n",
    "buy_hold_btc_returns = btc_prices / btc_prices[0]\n",
    "\n",
    "# calculate equal weight portfolio returns\n",
    "price_array = np.load('./price_array.npy')\n",
    "initial_prices = price_array[0, :]\n",
    "equal_weight = np.array([1e5 / initial_prices[i] for i in range(len(TICKER_LIST))])\n",
    "equal_weight_values = []\n",
    "for i in range(0, price_array.shape[0]):\n",
    "    equal_weight_values.append(np.sum(equal_weight * price_array[i]))\n",
    "equal_weight_values = np.array(equal_weight_values)\n",
    "equal_returns = equal_weight_values / equal_weight_values[0]"
   ]
  },
  {
   "cell_type": "code",
   "execution_count": null,
   "id": "387448a2-b8f0-44cf-9255-ed70f61139e6",
   "metadata": {},
   "outputs": [],
   "source": [
    "# plot\n",
    "plt.figure(dpi=200)\n",
    "plt.grid()\n",
    "plt.grid(which='minor', axis='y')\n",
    "plt.title('Cryptocurrency Trading ', fontsize=20)\n",
    "plt.plot(agent_returns, label='StableBaselines Agent', color='red')\n",
    "plt.plot(buy_hold_btc_returns, label='Buy-and-Hold BTC', color='blue')\n",
    "plt.plot(equal_returns, label='Equal Weight Portfolio', color='green')\n",
    "plt.ylabel('Return', fontsize=16)\n",
    "plt.xlabel('Times (5min)', fontsize=16)\n",
    "plt.xticks(size=14)\n",
    "plt.yticks(size=14)\n",
    "\n",
    "'''ax = plt.gca()\n",
    "ax.xaxis.set_major_locator(ticker.MultipleLocator(210))\n",
    "ax.xaxis.set_minor_locator(ticker.MultipleLocator(21))\n",
    "ax.yaxis.set_minor_locator(ticker.MultipleLocator(0.005))\n",
    "ax.yaxis.set_major_formatter(ticker.PercentFormatter(xmax=1, decimals=2))\n",
    "ax.xaxis.set_major_formatter(ticker.FixedFormatter([]))'''\n",
    "\n",
    "plt.legend(fontsize=10.5)"
   ]
  },
  {
   "cell_type": "code",
   "execution_count": null,
   "id": "d3935834-3d39-408e-bfee-2a476ce8112a",
   "metadata": {},
   "outputs": [],
   "source": []
  },
  {
   "cell_type": "code",
   "execution_count": null,
   "id": "d7208240-9115-46df-b18a-3d902537efb5",
   "metadata": {},
   "outputs": [],
   "source": []
  },
  {
   "cell_type": "code",
   "execution_count": null,
   "id": "19b8cc62-f1cb-4d65-9922-1ddf48822796",
   "metadata": {},
   "outputs": [],
   "source": []
  },
  {
   "cell_type": "code",
   "execution_count": null,
   "id": "41a9877e-84a9-4e87-a026-3012bfd73505",
   "metadata": {},
   "outputs": [],
   "source": []
  },
  {
   "cell_type": "code",
   "execution_count": null,
   "id": "ac4839bb-df40-4804-abce-d502e338acf6",
   "metadata": {},
   "outputs": [],
   "source": []
  },
  {
   "cell_type": "code",
   "execution_count": null,
   "id": "41c9ceef-d731-4f6d-bc5e-84197119c803",
   "metadata": {},
   "outputs": [],
   "source": []
  },
  {
   "cell_type": "code",
   "execution_count": null,
   "id": "733ea805-acd0-4960-af85-c52e552cb14e",
   "metadata": {},
   "outputs": [],
   "source": []
  },
  {
   "cell_type": "code",
   "execution_count": null,
   "id": "c408c510-8ca6-47b9-adaf-2650069fa5ef",
   "metadata": {},
   "outputs": [],
   "source": []
  },
  {
   "cell_type": "code",
   "execution_count": null,
   "id": "437a12c4-6d18-4ab3-834d-8944a38d995b",
   "metadata": {},
   "outputs": [],
   "source": []
  },
  {
   "cell_type": "code",
   "execution_count": null,
   "id": "9a13b847-4cb2-4c9b-953f-da295219d9df",
   "metadata": {},
   "outputs": [],
   "source": []
  },
  {
   "cell_type": "code",
   "execution_count": null,
   "id": "f03c5780-e041-4864-8989-867ad06d4835",
   "metadata": {},
   "outputs": [],
   "source": []
  },
  {
   "cell_type": "code",
   "execution_count": null,
   "id": "a7c0182d-7ecf-4c56-8887-620f44057845",
   "metadata": {},
   "outputs": [],
   "source": []
  },
  {
   "cell_type": "code",
   "execution_count": null,
   "id": "b3a19b01-08d6-463b-b080-0dc6c00612e9",
   "metadata": {},
   "outputs": [],
   "source": []
  },
  {
   "cell_type": "code",
   "execution_count": null,
   "id": "b8c54e51-da99-43ff-b133-275023c08e73",
   "metadata": {},
   "outputs": [],
   "source": []
  },
  {
   "cell_type": "code",
   "execution_count": null,
   "id": "c2a6c953-572a-45b6-9ab7-e45c4497fdb7",
   "metadata": {},
   "outputs": [],
   "source": []
  },
  {
   "cell_type": "code",
   "execution_count": null,
   "id": "14b68822-8098-44c8-9f49-150f30e05834",
   "metadata": {},
   "outputs": [],
   "source": []
  },
  {
   "cell_type": "code",
   "execution_count": null,
   "id": "1bc9bb58-3732-45af-9ec9-5c6605ca9317",
   "metadata": {},
   "outputs": [],
   "source": []
  },
  {
   "cell_type": "code",
   "execution_count": null,
   "id": "7a91ee69-1dec-47d4-b095-19f874de9755",
   "metadata": {},
   "outputs": [],
   "source": []
  },
  {
   "cell_type": "code",
   "execution_count": null,
   "id": "e7e93dfa-1aa6-49ce-813d-b094628b8d77",
   "metadata": {},
   "outputs": [],
   "source": []
  },
  {
   "cell_type": "code",
   "execution_count": null,
   "id": "3f090f67-eac1-4580-91e1-61f791394d66",
   "metadata": {},
   "outputs": [],
   "source": []
  },
  {
   "cell_type": "code",
   "execution_count": null,
   "id": "c718bc1e-0b80-4733-b11c-6ffa6b476ffb",
   "metadata": {},
   "outputs": [],
   "source": []
  },
  {
   "cell_type": "code",
   "execution_count": null,
   "id": "6cb34bf4-7fab-4c41-97c5-861eaa237bde",
   "metadata": {},
   "outputs": [],
   "source": []
  },
  {
   "cell_type": "code",
   "execution_count": null,
   "id": "8a05ccfe-c451-418d-ba03-e972f2758e2f",
   "metadata": {},
   "outputs": [],
   "source": []
  },
  {
   "cell_type": "code",
   "execution_count": null,
   "id": "db53cca6-57c5-4007-90f1-0b09281e42bb",
   "metadata": {},
   "outputs": [],
   "source": []
  },
  {
   "cell_type": "code",
   "execution_count": null,
   "id": "632bb805-85c8-412d-b9c0-262661803388",
   "metadata": {},
   "outputs": [],
   "source": []
  },
  {
   "cell_type": "code",
   "execution_count": null,
   "id": "7a38e208-53c6-4f28-b620-0dc537638f2e",
   "metadata": {},
   "outputs": [],
   "source": []
  },
  {
   "cell_type": "code",
   "execution_count": null,
   "id": "2e26dad6-855f-48dc-bfc8-cac425306b81",
   "metadata": {},
   "outputs": [],
   "source": []
  },
  {
   "cell_type": "code",
   "execution_count": null,
   "id": "ca0b02da-ba15-4470-9895-e61b7ba9c0b0",
   "metadata": {},
   "outputs": [],
   "source": []
  },
  {
   "cell_type": "code",
   "execution_count": null,
   "id": "061073f3-122d-4384-bf3f-422879ed4a6f",
   "metadata": {},
   "outputs": [],
   "source": []
  },
  {
   "cell_type": "code",
   "execution_count": null,
   "id": "53de1c35-3ecf-4800-b3f7-29bfec595a10",
   "metadata": {},
   "outputs": [],
   "source": []
  }
 ],
 "metadata": {
  "kernelspec": {
   "display_name": "Python 3 (ipykernel)",
   "language": "python",
   "name": "python3"
  },
  "language_info": {
   "codemirror_mode": {
    "name": "ipython",
    "version": 3
   },
   "file_extension": ".py",
   "mimetype": "text/x-python",
   "name": "python",
   "nbconvert_exporter": "python",
   "pygments_lexer": "ipython3",
   "version": "3.7.13"
  }
 },
 "nbformat": 4,
 "nbformat_minor": 5
}
