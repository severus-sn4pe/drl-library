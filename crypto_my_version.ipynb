{
 "cells": [
  {
   "cell_type": "code",
   "execution_count": null,
   "id": "8aa8e6bd-610a-45f1-ae52-8521bf57f771",
   "metadata": {},
   "outputs": [],
   "source": [
    "import pandas as pd\n",
    "\n",
    "from config import crypto\n",
    "from config import general as config\n",
    "from lib.drl import data_split, train, test, get_model_params\n",
    "from lib.support import check_run_directory_structure, get_run_timestamp"
   ]
  },
  {
   "cell_type": "code",
   "execution_count": null,
   "id": "74f291a1-5b5c-4587-b2dc-498d54ebb020",
   "metadata": {},
   "outputs": [],
   "source": [
    "# global settings\n",
    "ROOT_DIR = '.'\n",
    "# check_directory_structure(ROOT_DIR)\n",
    "STRATEGY_NAME = \"cs\"\n",
    "MODEL_DIR = f\"{ROOT_DIR}/{config.TRAINED_MODEL_DIR}/{STRATEGY_NAME}\"\n",
    "TENSORBOARD_DIR = f\"./tensorboard_log/{STRATEGY_NAME}\""
   ]
  },
  {
   "cell_type": "code",
   "execution_count": null,
   "id": "c1bace3d-9199-4b9f-8e5d-6dfe23d92b76",
   "metadata": {},
   "outputs": [],
   "source": [
    "# loading dataset\n",
    "df = pd.read_csv(f\"{config.DATA_SAVE_DIR}/thesis/crypto_1d_parsed.csv\", index_col=0)\n",
    "train_df = data_split(df, crypto.TRAIN_START_DATE, crypto.TRAIN_END_DATE)\n",
    "test_df = data_split(df, crypto.TEST_START_DATE, crypto.TEST_END_DATE)\n",
    "print(f\"train {train_df.shape} start: {crypto.TRAIN_START_DATE} end: {crypto.TRAIN_END_DATE}\")\n",
    "print(f\"test  {test_df.shape} start: {crypto.TEST_START_DATE} end: {crypto.TEST_END_DATE}\")\n",
    "\n",
    "stock_dimension = len(train_df.tic.unique())\n",
    "state_space = 1 + 2 * stock_dimension + len(crypto.INDICATORS) * stock_dimension\n",
    "print(f\"Stock Dimension: {stock_dimension}, State Space: {state_space}\")\n",
    "\n",
    "buy_cost_list = sell_cost_list = [0.001] * stock_dimension\n",
    "num_stock_shares = [0] * stock_dimension\n",
    "\n",
    "ENV_KWARGS = {\n",
    "    \"hmax\": 10_000,\n",
    "    \"initial_amount\": 1_000_000,\n",
    "    \"num_stock_shares\": num_stock_shares,\n",
    "    \"buy_cost_pct\": buy_cost_list,\n",
    "    \"sell_cost_pct\": sell_cost_list,\n",
    "    \"state_space\": state_space,\n",
    "    \"stock_dim\": stock_dimension,\n",
    "    \"tech_indicator_list\": crypto.INDICATORS,\n",
    "    \"action_space\": stock_dimension,\n",
    "    \"reward_scaling\": 1e-4,\n",
    "    \"make_plots\": True,\n",
    "    \"mode\": \"train\",\n",
    "    \"strategy_name\": STRATEGY_NAME,\n",
    "    \"run_name\": \"PLACEHOLDER\",\n",
    "    \"model_name\": \"PLACEHOLDER\"\n",
    "}"
   ]
  },
  {
   "cell_type": "code",
   "execution_count": null,
   "id": "91138751-8728-4402-974d-988d4248c42a",
   "metadata": {},
   "outputs": [],
   "source": []
  },
  {
   "cell_type": "markdown",
   "id": "505ce759-f1c6-44ca-9f89-f6eca73c177d",
   "metadata": {},
   "source": [
    "# Config 1"
   ]
  },
  {
   "cell_type": "code",
   "execution_count": null,
   "id": "9c1aaeb9-69a3-4d37-9abf-db75d47af477",
   "metadata": {},
   "outputs": [],
   "source": [
    "MODEL_NAME = \"A2C\"\n",
    "model_params = get_model_params(MODEL_NAME)\n",
    "model_params['learning_rate'] = 0.000025\n",
    "model_params['batch_size'] = 1024\n",
    "model_params['n_steps'] = 2048\n",
    "model_params['ent_coef'] = 0.001\n",
    "RUN_NAME = get_run_timestamp() + \"_test100k\"\n",
    "\n",
    "print(f\"Using Model {MODEL_NAME} as {RUN_NAME} with params={model_params}\")\n",
    "check_run_directory_structure(ROOT_DIR, config.RESULTS_DIR, STRATEGY_NAME, MODEL_NAME, RUN_NAME)\n",
    "\n",
    "results_file_prefix = f\"{ROOT_DIR}/{config.RESULTS_DIR}/{STRATEGY_NAME}/{MODEL_NAME}/{MODEL_NAME}_{RUN_NAME}\"\n",
    "model_filename = f\"{MODEL_DIR}/{STRATEGY_NAME}_{MODEL_NAME}_{RUN_NAME}\"\n",
    "\n",
    "retrain_existing_model = True\n",
    "previous_model_name = f\"./trained_models/cs/modelname\"\n",
    "\n",
    "ENV_KWARGS['run_name'] = RUN_NAME\n",
    "ENV_KWARGS['model_name'] = MODEL_NAME\n",
    "ENV_KWARGS['reward_scaling'] = 1e-4\n",
    "timesteps = 100_000\n",
    "\n",
    "settings = {\n",
    "    \"total_timesteps\": timesteps,\n",
    "    \"retrain_existing_model\": retrain_existing_model,\n",
    "    \"previous_model_name\": previous_model_name,\n",
    "    \"tensorboard_log\": TENSORBOARD_DIR,\n",
    "    \"env_kwargs\": ENV_KWARGS,\n",
    "    \"model_params\": model_params,\n",
    "    \"save_model\": True,\n",
    "    \"target_model_filename\": model_filename,\n",
    "    \"file_prefix\": results_file_prefix\n",
    "}"
   ]
  },
  {
   "cell_type": "code",
   "execution_count": null,
   "id": "b03f5977-22a7-4925-b76a-12a31b4fd472",
   "metadata": {
    "tags": []
   },
   "outputs": [],
   "source": [
    "trained = train(train_df, ENV_KWARGS, settings)"
   ]
  },
  {
   "cell_type": "code",
   "execution_count": null,
   "id": "6ac5211c-5a85-4dff-87e7-763c3621a035",
   "metadata": {},
   "outputs": [],
   "source": [
    "test(test_df, ENV_KWARGS, settings)"
   ]
  },
  {
   "cell_type": "code",
   "execution_count": null,
   "id": "aa02cfe8-de7f-4d24-ba1f-e52143de0c72",
   "metadata": {},
   "outputs": [],
   "source": []
  }
 ],
 "metadata": {
  "kernelspec": {
   "display_name": "Python 3 (ipykernel)",
   "language": "python",
   "name": "python3"
  },
  "language_info": {
   "codemirror_mode": {
    "name": "ipython",
    "version": 3
   },
   "file_extension": ".py",
   "mimetype": "text/x-python",
   "name": "python",
   "nbconvert_exporter": "python",
   "pygments_lexer": "ipython3",
   "version": "3.7.15"
  }
 },
 "nbformat": 4,
 "nbformat_minor": 5
}
