{
 "cells": [
  {
   "cell_type": "code",
   "execution_count": null,
   "id": "8aa8e6bd-610a-45f1-ae52-8521bf57f771",
   "metadata": {},
   "outputs": [],
   "source": [
    "from config import crypto\n",
    "from config import general as config\n",
    "from finrl.meta.env_cryptocurrency_trading.env_multiple_crypto import CryptoEnv\n",
    "from finrl.meta.env_custom.env_custom import CustomTradingEnv\n",
    "from lib.drl import load_dataset, data_split\n",
    "from lib.stocks_strategy import StocksStrategy\n",
    "from lib.support import check_directory_structure, get_time, get_duration, log_duration\n",
    "# from finrl.agents.elegantrl.elegantrl_models import DRLAgent as DRLAgent_erl\n",
    "from stable_baselines3 import A2C\n",
    "from stable_baselines3 import DDPG\n",
    "from stable_baselines3 import PPO\n",
    "from stable_baselines3 import SAC\n",
    "from stable_baselines3 import TD3\n",
    "\n",
    "import numpy as np\n",
    "import pandas as pd\n",
    "import time\n",
    "import os\n",
    "\n",
    "from finrl.agents.stablebaselines3.drl_agent import DRLAgent\n",
    "from finrl.meta.data_processor import DataProcessor\n",
    "\n",
    "ROOT_DIR = '.'\n",
    "# check_directory_structure(ROOT_DIR)\n",
    "\n",
    "FILE_PREFIX = \"crypto_single\"\n",
    "file_start = time.time()\n",
    "file_total_timesteps = 500\n",
    "MODELS = {\"A2C\": A2C, \"DDPG\": DDPG, \"TD3\": TD3, \"SAC\": SAC, \"PPO\": PPO}\n",
    "\n",
    "if not os.path.exists(f\"{ROOT_DIR}/{config.RESULTS_DIR}/{FILE_PREFIX}\"):\n",
    "    os.mkdir(f\"{ROOT_DIR}/{config.RESULTS_DIR}/{FILE_PREFIX}\")"
   ]
  },
  {
   "cell_type": "code",
   "execution_count": null,
   "id": "ab3d121a-9dd2-4443-a87e-596a4bb95a82",
   "metadata": {},
   "outputs": [],
   "source": [
    "def get_model(model_name):\n",
    "    model = None\n",
    "    if model_name not in MODELS:\n",
    "        raise NotImplementedError(\"NotImplementedError\")\n",
    "    if model_name == \"A2C\":\n",
    "        model = agent.get_model(\"A2C\")\n",
    "    if model_name == \"DDPG\":\n",
    "        model = agent.get_model(\"DDPG\")\n",
    "    if model_name == \"PPO\":\n",
    "        ppo_params = {\"n_steps\": 2048, \"ent_coef\": 0.01, \"learning_rate\": 0.00025, \"batch_size\": 128}\n",
    "        model = agent.get_model(\"PPO\", model_kwargs=ppo_params)\n",
    "    if model_name == \"TD3\":\n",
    "        td3_params = {\"batch_size\": 100, \"buffer_size\": 1000000, \"learning_rate\": 0.001}\n",
    "        model = agent.get_model(\"TD3\", model_kwargs=td3_params)\n",
    "    if model_name == \"SAC\":\n",
    "        sac_params = {\"batch_size\": 128, \"buffer_size\": 1000000, \"learning_rate\": 0.0001, \"learning_starts\": 100, \"ent_coef\": \"auto_0.1\"}\n",
    "        model = agent.get_model(\"SAC\", model_kwargs=sac_params)\n",
    "    return model\n",
    "\n",
    "def get_train_env(df):\n",
    "    kwargs = ENV_KWARGS.copy()\n",
    "    e_train_gym = CustomTradingEnv(df=train_df, **kwargs)\n",
    "    env_train, _ = e_train_gym.get_sb_env()\n",
    "    return env_train\n",
    "    \n",
    "def get_test_env(df, turb_thres=None):\n",
    "    kwargs = ENV_KWARGS.copy()\n",
    "    kwargs['mode'] = 'test'\n",
    "    e_trade_gym = CustomTradingEnv(df=df, turbulence_threshold=turb_thres, **kwargs)\n",
    "    return e_trade_gym\n",
    "\n",
    "def get_filenames(model_name):\n",
    "    res_file_prefix = f\"{root_dir}/{results_dir}/{FILE_PREFIX}/{FILE_PREFIX}_{model_name}\"\n",
    "    model_filename = f\"{root_dir}/{trained_model_dir}/{FILE_PREFIX}/{FILE_PREFIX}_{model_name}_MODEL\"\n",
    "    return res_file_prefix, model_filename\n",
    "\n",
    "def load_model_from_file(model_name, model_filename):\n",
    "    model_file_exists = os.path.isfile(f\"{model_filename}.zip\")\n",
    "    if not model_file_exists:\n",
    "        raise ValueError(\"NoModelFileAvailableError\")\n",
    "    \n",
    "    model_type = MODELS[model_name]\n",
    "    loaded_model = model_type.load(f\"{model_filename}.zip\")\n",
    "    print(f\"loaded model from {model_filename}\")\n",
    "    return loaded_model"
   ]
  },
  {
   "cell_type": "code",
   "execution_count": null,
   "id": "c1bace3d-9199-4b9f-8e5d-6dfe23d92b76",
   "metadata": {},
   "outputs": [],
   "source": [
    "df = pd.read_csv(f\"{config.DATA_SAVE_DIR}/thesis/crypto_1h_parsed.csv\", index_col=0)\n",
    "train_df = data_split(df, crypto.TRAIN_START_DATE, crypto.TRAIN_END_DATE)\n",
    "test_df = data_split(df, crypto.TEST_START_DATE, crypto.TEST_END_DATE)\n",
    "print(f\"train {train_df.shape} start: {crypto.TRAIN_START_DATE} end: {crypto.TRAIN_END_DATE}\")\n",
    "print(f\"test  {test_df.shape} start: {crypto.TEST_START_DATE} end: {crypto.TEST_END_DATE}\")"
   ]
  },
  {
   "cell_type": "code",
   "execution_count": null,
   "id": "91138751-8728-4402-974d-988d4248c42a",
   "metadata": {},
   "outputs": [],
   "source": [
    "stock_dimension = len(train_df.tic.unique())\n",
    "state_space = 1 + 2 * stock_dimension + len(crypto.INDICATORS) * stock_dimension\n",
    "print(f\"Stock Dimension: {stock_dimension}, State Space: {state_space}\")\n",
    "\n",
    "buy_cost_list = sell_cost_list = [0.001] * stock_dimension # cost per stock, we use the same for all, but could be varying\n",
    "num_stock_shares = [0] * stock_dimension # how many stocks are in portfolio at the begin of the training, we initialize all with 0 for an empty portfolio\n",
    "\n",
    "ENV_KWARGS = {\n",
    "    \"hmax\": 10000,\n",
    "    \"initial_amount\": 1000000,\n",
    "    \"num_stock_shares\": num_stock_shares,\n",
    "    \"buy_cost_pct\": buy_cost_list,\n",
    "    \"sell_cost_pct\": sell_cost_list,\n",
    "    \"state_space\": state_space,\n",
    "    \"stock_dim\": stock_dimension,\n",
    "    \"tech_indicator_list\": crypto.INDICATORS,\n",
    "    \"action_space\": stock_dimension,\n",
    "    \"reward_scaling\": 1e-4,\n",
    "    \"make_plots\": True,\n",
    "    \"mode\": \"train\"\n",
    "}\n",
    "\n",
    "root_dir=ROOT_DIR\n",
    "results_dir=config.RESULTS_DIR\n",
    "trained_model_dir=config.TRAINED_MODEL_DIR\n",
    "\n",
    "run_name = \"crypto_single\""
   ]
  },
  {
   "cell_type": "code",
   "execution_count": null,
   "id": "880dc54b-b75a-4eee-b6c9-a20b2324eb97",
   "metadata": {},
   "outputs": [],
   "source": []
  },
  {
   "cell_type": "markdown",
   "id": "93f7c072-fc68-45a7-9205-ab2507795cc0",
   "metadata": {},
   "source": [
    "# A2C"
   ]
  },
  {
   "cell_type": "code",
   "execution_count": null,
   "id": "28f23623-7459-4989-8a93-cf904f2bbc46",
   "metadata": {},
   "outputs": [],
   "source": [
    "model_name=\"A2C\"\n",
    "results_file_prefix, model_filename = get_filenames(model_name)"
   ]
  },
  {
   "cell_type": "code",
   "execution_count": null,
   "id": "31a193b1-3ce5-4a38-acb9-e74bbc9c6576",
   "metadata": {
    "tags": []
   },
   "outputs": [],
   "source": [
    "env_train = get_train_env(train_df)\n",
    "\n",
    "# # TRAIN\n",
    "total_timesteps = file_total_timesteps\n",
    "agent = DRLAgent(env=env_train)\n",
    "\n",
    "model = get_model(model_name)\n",
    "    \n",
    "start = time.time()\n",
    "trained_model = agent.train_model(model=model, tb_log_name=model_name, total_timesteps=total_timesteps)\n",
    "log_duration(start)\n",
    "\n",
    "trained_model.save(model_filename)"
   ]
  },
  {
   "cell_type": "code",
   "execution_count": null,
   "id": "08d23e5f-b84f-47b6-8055-10dc00b130f6",
   "metadata": {},
   "outputs": [],
   "source": [
    "# e_train_gym = CustomTradingEnv(df=train_df, **env_kwargs)\n",
    "# env_train, _ = e_train_gym.get_sb_env()\n",
    "env_test = get_test_env(test_df)\n",
    "loaded_model = load_model_from_file(model_name, model_filename)\n",
    "\n",
    "start = time.time()\n",
    "df_account_value, df_actions = DRLAgent.DRL_prediction(model=loaded_model, environment=env_test)\n",
    "log_duration(start)\n",
    "\n",
    "df_account_value.to_csv(f\"{results_file_prefix}_portfolio_value.csv\")\n",
    "df_actions.to_csv(f\"{results_file_prefix}_portfolio_actions.csv\")"
   ]
  },
  {
   "cell_type": "markdown",
   "id": "c566df3c-ea21-4fd2-9198-dc3217071600",
   "metadata": {},
   "source": [
    "# DDPG"
   ]
  },
  {
   "cell_type": "code",
   "execution_count": null,
   "id": "0ab5d719-119b-4e30-8c29-fb6b983e06d8",
   "metadata": {},
   "outputs": [],
   "source": [
    "model_name=\"DDPG\"\n",
    "results_file_prefix, model_filename = get_filenames(model_name)"
   ]
  },
  {
   "cell_type": "code",
   "execution_count": null,
   "id": "90c17334-df89-4ae7-8d5e-f0cbdd4218a0",
   "metadata": {
    "tags": []
   },
   "outputs": [],
   "source": [
    "env_train = get_train_env(train_df)\n",
    "   \n",
    "# # TRAIN\n",
    "total_timesteps = file_total_timesteps\n",
    "agent = DRLAgent(env=env_train)\n",
    "\n",
    "model = get_model(model_name)\n",
    "\n",
    "start = time.time()\n",
    "trained_model = agent.train_model(model=model, tb_log_name=model_name, total_timesteps=total_timesteps)\n",
    "log_duration(start)\n",
    "\n",
    "trained_model.save(model_filename)"
   ]
  },
  {
   "cell_type": "code",
   "execution_count": null,
   "id": "eb29ee50-39cb-4087-a4ae-3ccdaf3a5f48",
   "metadata": {},
   "outputs": [],
   "source": [
    "env_test = get_test_env(test_df)\n",
    "loaded_model = load_model_from_file(model_name, model_filename)\n",
    "\n",
    "start = time.time()\n",
    "df_account_value, df_actions = DRLAgent.DRL_prediction(model=loaded_model, environment=env_test)\n",
    "log_duration(start)\n",
    "\n",
    "df_account_value.to_csv(f\"{results_file_prefix}_portfolio_value.csv\")\n",
    "df_actions.to_csv(f\"{results_file_prefix}_portfolio_actions.csv\")"
   ]
  },
  {
   "cell_type": "markdown",
   "id": "0bb2ec10-284a-4fd3-9558-e7a4ef563e6d",
   "metadata": {},
   "source": [
    "# PPO"
   ]
  },
  {
   "cell_type": "code",
   "execution_count": null,
   "id": "0f09c31e-f552-48ca-b4e7-e826e9e9b429",
   "metadata": {},
   "outputs": [],
   "source": [
    "model_name=\"PPO\"\n",
    "results_file_prefix, model_filename = get_filenames(model_name)"
   ]
  },
  {
   "cell_type": "code",
   "execution_count": null,
   "id": "4d71551f-e199-45f6-b590-553353557398",
   "metadata": {},
   "outputs": [],
   "source": [
    "env_train = get_train_env(train_df)\n",
    "\n",
    "# # TRAIN\n",
    "total_timesteps = file_total_timesteps\n",
    "agent = DRLAgent(env=env_train)\n",
    "\n",
    "model = get_model(model_name)\n",
    "    \n",
    "start = time.time()\n",
    "trained_model = agent.train_model(model=model, tb_log_name=model_name, total_timesteps=total_timesteps)\n",
    "log_duration(start)\n",
    "\n",
    "trained_model.save(model_filename)"
   ]
  },
  {
   "cell_type": "code",
   "execution_count": null,
   "id": "6708b97c-5acf-40a3-b6c1-e045edce1d82",
   "metadata": {},
   "outputs": [],
   "source": [
    "env_test = get_test_env(test_df)\n",
    "loaded_model = load_model_from_file(model_name, model_filename)\n",
    "\n",
    "start = time.time()\n",
    "df_account_value, df_actions = DRLAgent.DRL_prediction(model=loaded_model, environment=env_test)\n",
    "log_duration(start)\n",
    "\n",
    "df_account_value.to_csv(f\"{results_file_prefix}_portfolio_value.csv\")\n",
    "df_actions.to_csv(f\"{results_file_prefix}_portfolio_actions.csv\")"
   ]
  },
  {
   "cell_type": "markdown",
   "id": "116c17cb-1ca8-4c49-b13e-705cbdbb7f75",
   "metadata": {},
   "source": [
    "# TD3"
   ]
  },
  {
   "cell_type": "code",
   "execution_count": null,
   "id": "4f1ca70c-a42b-49b9-93f6-e9bcddae5c7f",
   "metadata": {},
   "outputs": [],
   "source": [
    "model_name=\"TD3\"\n",
    "results_file_prefix, model_filename = get_filenames(model_name)"
   ]
  },
  {
   "cell_type": "code",
   "execution_count": null,
   "id": "a0babcc5-107b-43a8-abea-f9aaa83a265a",
   "metadata": {},
   "outputs": [],
   "source": [
    "env_train = get_train_env(train_df)\n",
    "\n",
    "# # TRAIN\n",
    "total_timesteps = file_total_timesteps\n",
    "agent = DRLAgent(env=env_train)\n",
    "\n",
    "model = get_model(model_name)\n",
    "\n",
    "start = time.time()\n",
    "trained_model = agent.train_model(model=model, tb_log_name=model_name, total_timesteps=total_timesteps)\n",
    "log_duration(start)\n",
    "\n",
    "trained_model.save(model_filename)"
   ]
  },
  {
   "cell_type": "code",
   "execution_count": null,
   "id": "7069a159-f88d-4f9f-8bbd-d79b5ae6dd54",
   "metadata": {},
   "outputs": [],
   "source": [
    "env_test = get_test_env(test_df)\n",
    "loaded_model = load_model_from_file(model_name, model_filename)\n",
    "\n",
    "start = time.time()\n",
    "df_account_value, df_actions = DRLAgent.DRL_prediction(model=loaded_model, environment=env_test)\n",
    "log_duration(start)\n",
    "\n",
    "df_account_value.to_csv(f\"{results_file_prefix}_portfolio_value.csv\")\n",
    "df_actions.to_csv(f\"{results_file_prefix}_portfolio_actions.csv\")"
   ]
  },
  {
   "cell_type": "markdown",
   "id": "de393b7e-848c-4c12-a644-49b4b2f7e4e9",
   "metadata": {},
   "source": [
    "# SAC"
   ]
  },
  {
   "cell_type": "code",
   "execution_count": null,
   "id": "f4f91ca3-834d-4239-a97f-221d7e45f1b1",
   "metadata": {},
   "outputs": [],
   "source": [
    "model_name=\"SAC\"\n",
    "results_file_prefix, model_filename = get_filenames(model_name)"
   ]
  },
  {
   "cell_type": "code",
   "execution_count": null,
   "id": "df68bb35-f199-4b1d-8868-c04e5b058257",
   "metadata": {},
   "outputs": [],
   "source": [
    "env_train = get_train_env(train_df)\n",
    "    \n",
    "# # TRAIN\n",
    "total_timesteps = file_total_timesteps\n",
    "agent = DRLAgent(env=env_train)\n",
    "\n",
    "model = get_model(model_name)\n",
    "    \n",
    "start = time.time()\n",
    "trained_model = agent.train_model(model=model, tb_log_name=model_name, total_timesteps=total_timesteps)\n",
    "log_duration(start)\n",
    "\n",
    "trained_model.save(model_filename)"
   ]
  },
  {
   "cell_type": "code",
   "execution_count": null,
   "id": "bd92c7e0-2230-4ac4-a94f-5eb03e42ae42",
   "metadata": {},
   "outputs": [],
   "source": [
    "env_test = get_test_env(test_df)\n",
    "loaded_model = load_model_from_file(model_name, model_filename)\n",
    "\n",
    "start = time.time()\n",
    "df_account_value, df_actions = DRLAgent.DRL_prediction(model=loaded_model, environment=env_test)\n",
    "log_duration(start)\n",
    "\n",
    "df_account_value.to_csv(f\"{results_file_prefix}_portfolio_value.csv\")\n",
    "df_actions.to_csv(f\"{results_file_prefix}_portfolio_actions.csv\")"
   ]
  },
  {
   "cell_type": "code",
   "execution_count": null,
   "id": "77c68fc1-56b2-4e3e-b536-a5f071b5af03",
   "metadata": {},
   "outputs": [],
   "source": []
  },
  {
   "cell_type": "code",
   "execution_count": null,
   "id": "9740f4e5-3698-4f6c-81bd-12120b82e3a4",
   "metadata": {},
   "outputs": [],
   "source": [
    "print(\"done\")\n",
    "log_duration(file_start)"
   ]
  },
  {
   "cell_type": "code",
   "execution_count": null,
   "id": "d5c7d3b1-508c-47f7-9b1a-2e02b8e40d99",
   "metadata": {},
   "outputs": [],
   "source": []
  }
 ],
 "metadata": {
  "kernelspec": {
   "display_name": "Python 3 (ipykernel)",
   "language": "python",
   "name": "python3"
  },
  "language_info": {
   "codemirror_mode": {
    "name": "ipython",
    "version": 3
   },
   "file_extension": ".py",
   "mimetype": "text/x-python",
   "name": "python",
   "nbconvert_exporter": "python",
   "pygments_lexer": "ipython3",
   "version": "3.7.13"
  }
 },
 "nbformat": 4,
 "nbformat_minor": 5
}
