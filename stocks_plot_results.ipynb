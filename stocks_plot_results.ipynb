{
 "cells": [
  {
   "cell_type": "markdown",
   "id": "7221cdd9-7804-4fa7-90f4-bd71d5907745",
   "metadata": {
    "pycharm": {
     "name": "#%% md\n"
    }
   },
   "source": [
    "# Plotting Results of Multi Stocks Strategy\n"
   ]
  },
  {
   "cell_type": "code",
   "execution_count": null,
   "id": "17d95839-fa51-42ed-9de8-f725f3230540",
   "metadata": {
    "pycharm": {
     "name": "#%%\n"
    }
   },
   "outputs": [],
   "source": [
    "from config import general as config\n",
    "\n",
    "# matplotlib.use('Agg')\n",
    "%matplotlib inline\n",
    "\n",
    "from lib.stocks_strategy import StocksStrategy"
   ]
  },
  {
   "cell_type": "code",
   "execution_count": null,
   "id": "a54b2350-e24c-4b09-89fd-7df434ffd1cb",
   "metadata": {
    "pycharm": {
     "name": "#%%\n"
    }
   },
   "outputs": [],
   "source": [
    "FILE_PREFIX = \"stocks-50k\"\n",
    "ROOT_DIR = '.'\n",
    "model_name = \"SAC\"\n",
    "\n",
    "stockStrategy = StocksStrategy(model_name=model_name, root_dir=ROOT_DIR,\n",
    "                               results_dir=config.RESULTS_DIR,\n",
    "                               trained_model_dir=config.TRAINED_MODEL_DIR, prefix=FILE_PREFIX)"
   ]
  },
  {
   "cell_type": "code",
   "execution_count": null,
   "id": "d0329f35-34eb-4360-8011-5a14974c3143",
   "metadata": {
    "pycharm": {
     "name": "#%%\n"
    }
   },
   "outputs": [],
   "source": [
    "stockStrategy.generate_backtest_results()"
   ]
  },
  {
   "cell_type": "code",
   "execution_count": null,
   "id": "460a3490-cc67-4832-b133-641a4bde579a",
   "metadata": {
    "pycharm": {
     "name": "#%%\n"
    }
   },
   "outputs": [],
   "source": [
    "stockStrategy.generate_baseline_stats()"
   ]
  },
  {
   "cell_type": "code",
   "execution_count": null,
   "id": "a050956f-cbfc-48c3-81ee-8833a2a94425",
   "metadata": {
    "pycharm": {
     "name": "#%%\n"
    }
   },
   "outputs": [],
   "source": [
    "stockStrategy.backtest_plot()"
   ]
  }
 ],
 "metadata": {
  "kernelspec": {
   "display_name": "Python 3 (ipykernel)",
   "language": "python",
   "name": "python3"
  },
  "language_info": {
   "codemirror_mode": {
    "name": "ipython",
    "version": 3
   },
   "file_extension": ".py",
   "mimetype": "text/x-python",
   "name": "python",
   "nbconvert_exporter": "python",
   "pygments_lexer": "ipython3",
   "version": "3.7.13"
  }
 },
 "nbformat": 4,
 "nbformat_minor": 5
}
